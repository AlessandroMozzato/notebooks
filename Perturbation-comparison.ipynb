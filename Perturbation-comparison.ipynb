{
 "cells": [
  {
   "cell_type": "code",
   "execution_count": 5,
   "metadata": {
    "collapsed": false
   },
   "outputs": [
    {
     "name": "stderr",
     "output_type": "stream",
     "text": [
      "Vendor:  Continuum Analytics, Inc.\n",
      "Package: mkl\n",
      "Message: trial mode expires in 30 days\n",
      ":0: FutureWarning: IPython widgets are experimental and may change in the future.\n"
     ]
    }
   ],
   "source": [
    "from scipy.io import netcdf\n",
    "import numpy as np\n",
    "from pylab import clf, plot, show, floor, ceil, imshow\n",
    "import matplotlib\n",
    "import matplotlib.pyplot as plt \n",
    "%matplotlib inline\n",
    "#xlabel, ylabel, legend, savefig, colorbar, title, clim, pcolor, cm, contourf\n",
    "import os\n",
    "import csv\n",
    "import sys\n",
    "import glob\n",
    "from netCDF4 import Dataset\n",
    "\n",
    "from IPython.display import display, Math, Latex, Image\n",
    "from mpl_toolkits.basemap import Basemap\n",
    "import mpl_toolkits\n",
    "from mpl_toolkits.axes_grid1 import make_axes_locatable\n",
    "\n",
    "sys.path.append('/noc/users/am8e13/PyNGL-1.4.0/lib/python2.7/site-packages/PyNGL/')\n",
    "import Ngl\n",
    "sys.path.append('/noc/users/am8e13/Python/')\n",
    "import komod\n",
    "sys.path.append('/noc/users/am8e13/Python/PyNIO-1.4.0/')\n",
    "import Nio\n",
    "\n",
    "sys.path.append('/noc/users/am8e13/Python/')\n",
    "from python_functions import *\n",
    "import cmocean\n",
    "import random\n",
    "import calendar\n",
    "\n",
    "from IPython.html.widgets import interact, interactive\n",
    "from IPython.display import clear_output, display, HTML"
   ]
  },
  {
   "cell_type": "code",
   "execution_count": 6,
   "metadata": {
    "collapsed": false
   },
   "outputs": [
    {
     "name": "stderr",
     "output_type": "stream",
     "text": [
      "/noc/users/am8e13/anaconda/lib/python2.7/site-packages/scipy/io/netcdf.py:287: RuntimeWarning: Cannot close a netcdf_file opened with mmap=True, when netcdf_variables or arrays referring to its data still exist. All data arrays obtained from such files refer directly to data on disk, and must be copied before the file can be cleanly closed. (See netcdf_file docstring for more information on mmap.)\n",
      "  ), category=RuntimeWarning)\n",
      "/noc/users/am8e13/anaconda/lib/python2.7/site-packages/numpy/lib/nanfunctions.py:598: RuntimeWarning: Mean of empty slice\n",
      "  warnings.warn(\"Mean of empty slice\", RuntimeWarning)\n"
     ]
    }
   ],
   "source": [
    "woa = Woa()\n",
    "#grid = grid_read(36)\n",
    "grid = grid_read(18)"
   ]
  },
  {
   "cell_type": "code",
   "execution_count": 7,
   "metadata": {
    "collapsed": false
   },
   "outputs": [
    {
     "name": "stdout",
     "output_type": "stream",
     "text": [
      "Data read from /hpcdata/scratch/am8e13/arctic420x384/experiments/exp_bench/results/\n",
      "Read Monitor\n",
      "Read Seaice Monitor\n",
      "Read StDyn data\n",
      "Read seaice"
     ]
    },
    {
     "name": "stderr",
     "output_type": "stream",
     "text": [
      "/noc/users/am8e13/anaconda/lib/python2.7/site-packages/numpy/lib/nanfunctions.py:319: RuntimeWarning: All-NaN slice encountered\n",
      "  warnings.warn(\"All-NaN slice encountered\", RuntimeWarning)\n",
      "/noc/users/am8e13/anaconda/lib/python2.7/site-packages/numpy/lib/nanfunctions.py:220: RuntimeWarning: All-NaN axis encountered\n",
      "  warnings.warn(\"All-NaN axis encountered\", RuntimeWarning)\n"
     ]
    },
    {
     "name": "stdout",
     "output_type": "stream",
     "text": [
      "\n",
      "Read Mxldepth\n"
     ]
    }
   ],
   "source": [
    "times = range(0,60,1)+range(61,61+60,1)\n",
    "pert_bench_18 = RunRead()\n",
    "pert_bench_18.getPath('/hpcdata/scratch/am8e13/arctic420x384/experiments/exp_bench/results/')\n",
    "pert_bench_18.title('No restoring','blue')\n",
    "pert_bench_18.readStateData(times)\n",
    "pert_bench_18.readMonitorData([6220800,6480000])\n",
    "pert_bench_18.readMonitorSeaiceData([6220800,6480000])\n",
    "pert_bench_18.readDynStData(11,[6220800,6480000])\n",
    "#pert_bench_18.readTracers(range(0,75,12))\n",
    "#pert_bench_18.readLayers(range(0,75,12))\n",
    "pert_bench_18.seaiceread(range(0,75,1))\n",
    "pert_bench_18.mxldepthread(range(0,120*3,1))\n",
    "pert_bench_18.fluxCalc()\n",
    "pert_bench_18.baroCalc()\n",
    "pert_bench_18.saveflux('exp_benchmark')\n",
    "pert_bench_18.savepsi('exp_benchmark')\n",
    "#pert_bench.read_flux('exp_benchmark')\n",
    "#pert_bench.read_psi('exp_benchmark')\n",
    "#pert_bench.readDynStDiagLayers([6220800,6480000])\n",
    "#pert_bench.readDynStDiagPtracers([6220800,6480000])"
   ]
  },
  {
   "cell_type": "code",
   "execution_count": 8,
   "metadata": {
    "collapsed": false
   },
   "outputs": [
    {
     "name": "stdout",
     "output_type": "stream",
     "text": [
      "Data read from /hpcdata/scratch/am8e13/arctic420x384/experiments/exp_const/results/\n",
      "Read Monitor\n",
      "Read Seaice Monitor\n",
      "Read StDyn data\n",
      "Read seaice\n",
      "Read Mxldepth\n"
     ]
    }
   ],
   "source": [
    "times = range(0,60,1)+range(61,61+60,1)\n",
    "pert_const_18 = RunRead()\n",
    "pert_const_18.getPath('/hpcdata/scratch/am8e13/arctic420x384/experiments/exp_const/results/')\n",
    "pert_const_18.readStateData(times)\n",
    "pert_const_18.title('Const restoring','red')\n",
    "pert_const_18.readMonitorData([6220800,6480000])\n",
    "pert_const_18.readMonitorSeaiceData([6220800,6480000])\n",
    "pert_const_18.readDynStData(11,[6220800,6480000])\n",
    "#pert_const_18.readTracers(range(0,75,12))\n",
    "#pert_const_18.readLayers(range(0,75,12))\n",
    "pert_const_18.seaiceread(range(0,75,1))\n",
    "pert_const_18.mxldepthread(range(0,120*3,1))\n",
    "pert_const_18.fluxCalc()\n",
    "pert_const_18.baroCalc()\n",
    "pert_const_18.saveflux('exp_contsalt')\n",
    "pert_const_18.savepsi('exp_contsalt')\n",
    "#pert_const.read_flux('exp_contsalt')\n",
    "#pert_const.read_psi('exp_contsalt')\n",
    "#pert_const.readDynStDiagLayers([6220800,6480000])\n",
    "#pert_const.readDynStDiagPtracers([6220800,6480000])"
   ]
  },
  {
   "cell_type": "code",
   "execution_count": 9,
   "metadata": {
    "collapsed": false
   },
   "outputs": [
    {
     "ename": "IndexError",
     "evalue": "index 62 is out of bounds for axis 0 with size 62",
     "output_type": "error",
     "traceback": [
      "\u001b[1;31m---------------------------------------------------------------------------\u001b[0m",
      "\u001b[1;31mIndexError\u001b[0m                                Traceback (most recent call last)",
      "\u001b[1;32m<ipython-input-9-ed3f8d1339b8>\u001b[0m in \u001b[0;36m<module>\u001b[1;34m()\u001b[0m\n\u001b[0;32m      2\u001b[0m \u001b[0mpert_1y_18\u001b[0m \u001b[1;33m=\u001b[0m \u001b[0mRunRead\u001b[0m\u001b[1;33m(\u001b[0m\u001b[1;33m)\u001b[0m\u001b[1;33m\u001b[0m\u001b[0m\n\u001b[0;32m      3\u001b[0m \u001b[0mpert_1y_18\u001b[0m\u001b[1;33m.\u001b[0m\u001b[0mgetPath\u001b[0m\u001b[1;33m(\u001b[0m\u001b[1;34m'/hpcdata/scratch/am8e13/arctic420x384/experiments/exp_1y/results/'\u001b[0m\u001b[1;33m)\u001b[0m\u001b[1;33m\u001b[0m\u001b[0m\n\u001b[1;32m----> 4\u001b[1;33m \u001b[0mpert_1y_18\u001b[0m\u001b[1;33m.\u001b[0m\u001b[0mreadStateData\u001b[0m\u001b[1;33m(\u001b[0m\u001b[0mtimes\u001b[0m\u001b[1;33m)\u001b[0m\u001b[1;33m\u001b[0m\u001b[0m\n\u001b[0m\u001b[0;32m      5\u001b[0m \u001b[0mpert_1y_18\u001b[0m\u001b[1;33m.\u001b[0m\u001b[0mtitle\u001b[0m\u001b[1;33m(\u001b[0m\u001b[1;34m'Const restoring'\u001b[0m\u001b[1;33m,\u001b[0m\u001b[1;34m'red'\u001b[0m\u001b[1;33m)\u001b[0m\u001b[1;33m\u001b[0m\u001b[0m\n\u001b[0;32m      6\u001b[0m \u001b[0mpert_1y_18\u001b[0m\u001b[1;33m.\u001b[0m\u001b[0mreadMonitorData\u001b[0m\u001b[1;33m(\u001b[0m\u001b[1;33m[\u001b[0m\u001b[1;36m6220800\u001b[0m\u001b[1;33m,\u001b[0m\u001b[1;36m6480000\u001b[0m\u001b[1;33m,\u001b[0m\u001b[1;36m6531840\u001b[0m\u001b[1;33m]\u001b[0m\u001b[1;33m)\u001b[0m\u001b[1;33m\u001b[0m\u001b[0m\n",
      "\u001b[1;32m/noc/users/am8e13/Python/python_functions/runclass.pyc\u001b[0m in \u001b[0;36mreadStateData\u001b[1;34m(self, list_var)\u001b[0m\n\u001b[0;32m    139\u001b[0m         \u001b[0mfile2read\u001b[0m \u001b[1;33m=\u001b[0m \u001b[0mnetcdf\u001b[0m\u001b[1;33m.\u001b[0m\u001b[0mNetCDFFile\u001b[0m\u001b[1;33m(\u001b[0m\u001b[0mself\u001b[0m\u001b[1;33m.\u001b[0m\u001b[0mpath\u001b[0m\u001b[1;33m+\u001b[0m\u001b[1;34m'state.nc'\u001b[0m\u001b[1;33m,\u001b[0m\u001b[1;34m'r'\u001b[0m\u001b[1;33m)\u001b[0m\u001b[1;33m\u001b[0m\u001b[0m\n\u001b[0;32m    140\u001b[0m         \u001b[0mTemp\u001b[0m\u001b[1;33m=\u001b[0m\u001b[0mfile2read\u001b[0m\u001b[1;33m.\u001b[0m\u001b[0mvariables\u001b[0m\u001b[1;33m[\u001b[0m\u001b[1;34m'Temp'\u001b[0m\u001b[1;33m]\u001b[0m\u001b[1;33m\u001b[0m\u001b[0m\n\u001b[1;32m--> 141\u001b[1;33m         \u001b[0mself\u001b[0m\u001b[1;33m.\u001b[0m\u001b[0mdata\u001b[0m\u001b[1;33m[\u001b[0m\u001b[1;34m'T'\u001b[0m\u001b[1;33m]\u001b[0m\u001b[1;33m=\u001b[0m\u001b[0mTemp\u001b[0m\u001b[1;33m[\u001b[0m\u001b[0mlist_var\u001b[0m\u001b[1;33m]\u001b[0m\u001b[1;33m*\u001b[0m\u001b[1;36m1\u001b[0m\u001b[1;33m\u001b[0m\u001b[0m\n\u001b[0m\u001b[0;32m    142\u001b[0m         \u001b[0mV\u001b[0m\u001b[1;33m=\u001b[0m\u001b[0mfile2read\u001b[0m\u001b[1;33m.\u001b[0m\u001b[0mvariables\u001b[0m\u001b[1;33m[\u001b[0m\u001b[1;34m'V'\u001b[0m\u001b[1;33m]\u001b[0m\u001b[1;33m\u001b[0m\u001b[0m\n\u001b[0;32m    143\u001b[0m         \u001b[0mself\u001b[0m\u001b[1;33m.\u001b[0m\u001b[0mdata\u001b[0m\u001b[1;33m[\u001b[0m\u001b[1;34m'V'\u001b[0m\u001b[1;33m]\u001b[0m\u001b[1;33m=\u001b[0m\u001b[0mV\u001b[0m\u001b[1;33m[\u001b[0m\u001b[0mlist_var\u001b[0m\u001b[1;33m]\u001b[0m\u001b[1;33m*\u001b[0m\u001b[1;36m1\u001b[0m\u001b[1;33m\u001b[0m\u001b[0m\n",
      "\u001b[1;32m/noc/users/am8e13/anaconda/lib/python2.7/site-packages/scipy/io/netcdf.pyc\u001b[0m in \u001b[0;36m__getitem__\u001b[1;34m(self, index)\u001b[0m\n\u001b[0;32m    917\u001b[0m \u001b[1;33m\u001b[0m\u001b[0m\n\u001b[0;32m    918\u001b[0m     \u001b[1;32mdef\u001b[0m \u001b[0m__getitem__\u001b[0m\u001b[1;33m(\u001b[0m\u001b[0mself\u001b[0m\u001b[1;33m,\u001b[0m \u001b[0mindex\u001b[0m\u001b[1;33m)\u001b[0m\u001b[1;33m:\u001b[0m\u001b[1;33m\u001b[0m\u001b[0m\n\u001b[1;32m--> 919\u001b[1;33m         \u001b[1;32mreturn\u001b[0m \u001b[0mself\u001b[0m\u001b[1;33m.\u001b[0m\u001b[0mdata\u001b[0m\u001b[1;33m[\u001b[0m\u001b[0mindex\u001b[0m\u001b[1;33m]\u001b[0m\u001b[1;33m\u001b[0m\u001b[0m\n\u001b[0m\u001b[0;32m    920\u001b[0m \u001b[1;33m\u001b[0m\u001b[0m\n\u001b[0;32m    921\u001b[0m     \u001b[1;32mdef\u001b[0m \u001b[0m__setitem__\u001b[0m\u001b[1;33m(\u001b[0m\u001b[0mself\u001b[0m\u001b[1;33m,\u001b[0m \u001b[0mindex\u001b[0m\u001b[1;33m,\u001b[0m \u001b[0mdata\u001b[0m\u001b[1;33m)\u001b[0m\u001b[1;33m:\u001b[0m\u001b[1;33m\u001b[0m\u001b[0m\n",
      "\u001b[1;31mIndexError\u001b[0m: index 62 is out of bounds for axis 0 with size 62"
     ]
    }
   ],
   "source": [
    "times = range(0,60,1)+range(61,61+12,1)+range(74,74+48,1)\n",
    "pert_1y_18 = RunRead()\n",
    "pert_1y_18.getPath('/hpcdata/scratch/am8e13/arctic420x384/experiments/exp_1y/results/')\n",
    "pert_1y_18.readStateData(times)\n",
    "pert_1y_18.title('Const restoring','red')\n",
    "pert_1y_18.readMonitorData([6220800,6480000,6531840])\n",
    "pert_1y_18.readMonitorSeaiceData([6220800,6480000,6531840])\n",
    "pert_1y_18.readDynStData(11,[6220800,6480000,6531840])\n",
    "#pert_const_18.readTracers(range(0,75,12))\n",
    "#pert_const_18.readLayers(range(0,75,12))\n",
    "pert_1y_18.seaiceread(range(0,75,1))\n",
    "pert_1y_18.mxldepthread(range(0,120*3,1))\n",
    "pert_1y_18.fluxCalc()\n",
    "pert_1y_18.baroCalc()\n",
    "pert_1y_18.saveflux('exp_contsalt')\n",
    "pert_1y_18.savepsi('exp_contsalt')\n",
    "#pert_const.read_flux('exp_contsalt')\n",
    "#pert_const.read_psi('exp_contsalt')\n",
    "#pert_const.readDynStDiagLayers([6220800,6480000])\n",
    "#pert_const.readDynStDiagPtracers([6220800,6480000])"
   ]
  },
  {
   "cell_type": "code",
   "execution_count": null,
   "metadata": {
    "collapsed": false
   },
   "outputs": [],
   "source": [
    "times = range(0,60,1)+range(61,61+60,1)\n",
    "pert_fw_18 = RunRead()\n",
    "pert_fw_18.getPath('/hpcdata/scratch/am8e13/arctic420x384/experiments/exp_fw/results/')\n",
    "pert_fw_18.readStateData(times)\n",
    "pert_fw_18.title('Const restoring','red')\n",
    "pert_fw_18.readMonitorData([6220800,6480000])\n",
    "pert_fw_18.readMonitorSeaiceData([6220800,6480000])\n",
    "pert_fw_18.readDynStData(11,[6220800,6480000])\n",
    "#pert_fw_18.readTracers(range(0,75,12))\n",
    "#pert_fw_18.readLayers(range(0,75,12))\n",
    "pert_fw_18.seaiceread(range(0,75,1))\n",
    "pert_fw_18.mxldepthread(range(0,120*3,1))\n",
    "pert_fw_18.fluxCalc()\n",
    "pert_fw_18.baroCalc()\n",
    "#pert_fw_18.saveflux('exp_contsalt')\n",
    "#pert_fw_18.savepsi('exp_contsalt')\n",
    "#pert_fw.read_flux('exp_contsalt')\n",
    "#pert_fw.read_psi('exp_contsalt')\n",
    "#pert_fw.readDynStDiagLayers([6220800,6480000])\n",
    "#pert_fw.readDynStDiagPtracers([6220800,6480000])"
   ]
  },
  {
   "cell_type": "code",
   "execution_count": null,
   "metadata": {
    "collapsed": false
   },
   "outputs": [],
   "source": [
    "times = range(0,60,1)+range(61,61+60,1)\n",
    "pert_bench_36 = RunRead()\n",
    "pert_bench_36.getPath('/hpcdata/scratch/am8e13/cs_36km_tutorial/experiments/exp_bench/results/')\n",
    "pert_bench_36.title('No restoring','blue')\n",
    "pert_bench_36.readStateData(times)\n",
    "pert_bench_36.readMonitorData([5443200,5572800])\n",
    "pert_bench_36.readMonitorSeaiceData([5443200,5572800])\n",
    "pert_bench_36.readDynStData(11,[5443200,5572800])\n",
    "#pert_bench_36.readTracers(range(0,75,12))\n",
    "#pert_bench_36.readLayers(range(0,75,12))\n",
    "pert_bench_36.seaiceread(range(0,75,1))\n",
    "pert_bench_36.mxldepthread(range(0,120*3,1))\n",
    "pert_bench_36.fluxCalc()\n",
    "pert_bench_36.baroCalc()\n",
    "pert_bench_36.saveflux('exp_benchmark')\n",
    "pert_bench_36.savepsi('exp_benchmark')\n",
    "#pert_bench.read_flux('exp_benchmark')\n",
    "#pert_bench.read_psi('exp_benchmark')\n",
    "#pert_bench.readDynStDiagLayers([6220800,6480000])\n",
    "#pert_bench.readDynStDiagPtracers([6220800,6480000])"
   ]
  },
  {
   "cell_type": "code",
   "execution_count": null,
   "metadata": {
    "collapsed": false
   },
   "outputs": [],
   "source": [
    "times = range(0,60,1)+range(61,61+60,1)\n",
    "pert_const_36 = RunRead()\n",
    "pert_const_36.getPath('/hpcdata/scratch/am8e13/cs_36km_tutorial/experiments/exp_const/results/')\n",
    "pert_const_36.readStateData(times)\n",
    "pert_const_36.title('Const restoring','red')\n",
    "pert_const_36.readMonitorData([5443200,5572800])\n",
    "pert_const_36.readMonitorSeaiceData([5443200,5572800])\n",
    "pert_const_36.readDynStData(11,[5443200,5572800])\n",
    "#pert_const_36.readTracers(range(0,75,12))\n",
    "#pert_const_36.readLayers(range(0,75,12))\n",
    "pert_const_36.seaiceread(range(0,75,1))\n",
    "pert_const_36.mxldepthread(range(0,120*3,1))\n",
    "pert_const_36.fluxCalc()\n",
    "pert_const_36.baroCalc()\n",
    "pert_const_36.saveflux('exp_contsalt')\n",
    "pert_const_36.savepsi('exp_contsalt')\n",
    "#pert_const.read_flux('exp_contsalt')\n",
    "#pert_const.read_psi('exp_contsalt')\n",
    "#pert_const.readDynStDiagLayers([6220800,6480000])\n",
    "#pert_const.readDynStDiagPtracers([6220800,6480000])"
   ]
  },
  {
   "cell_type": "code",
   "execution_count": null,
   "metadata": {
    "collapsed": false
   },
   "outputs": [],
   "source": [
    "# function takes a runclass object and adds heat and freshwater content\n",
    "def freshwater_content(run):\n",
    "    mask1,mask2,mask3,mask4,mask5,mask6,mask7,mask8 = region_mask(run.res)\n",
    "    mask0 = np.ones_like(mask1)\n",
    "    grid = grid_read(run.res)\n",
    "    areamasks = {0:mask0*grid['Area'], 1 : mask1*grid['Area'], 2 : mask2*grid['Area'] ,\\\n",
    "                 3 : mask3*grid['Area'], 4 : mask4*grid['Area'], 5 : mask5*grid['Area'],\\\n",
    "                 6 : mask6*grid['Area'], 7: mask7*grid['Area'], 8 : mask8*grid['Area']}\n",
    "    freshwater_levels = np.zeros((len(areamasks),run.data['S'].shape[0],len(run.Z)))\n",
    "    freshwater_total = np.zeros((len(areamasks),run.data['S'].shape[0]))\n",
    "    freshwater_levels1 = np.zeros((len(areamasks),run.data['S'].shape[0],len(run.Z)))\n",
    "    freshwater_total1 = np.zeros((len(areamasks),run.data['S'].shape[0]))\n",
    "    heat_levels = np.zeros((len(areamasks),run.data['S'].shape[0],len(run.Z)))\n",
    "    heat_total = np.zeros((len(areamasks),run.data['S'].shape[0]))\n",
    "    for j in range(len(areamasks)):\n",
    "        maskcalc = np.tile(areamasks[j],(run.data['S'].shape[0],1,1,1))     \n",
    "        datam = (1 - run.data['S']/34.8)*maskcalc \n",
    "        freshwater_levels[j,:,:] = np.nansum(np.nansum(datam,axis=2),axis=2)\n",
    "        freshwater_total[j,:] = np.nansum(np.nansum(np.nansum(datam[:,0:30,:,:],axis=2),axis=2),axis=1)\n",
    "        run.freshwater_levels = freshwater_levels\n",
    "        run.freshwater_total  = freshwater_total\n",
    "        if j == 0:\n",
    "            freshwater_content = np.nansum(datam[:,0:30,:,:],axis=1)\n",
    "            run.freswater_content = freshwater_content\n",
    "            \n",
    "        maskcalc = np.tile(areamasks[j],(run.data['S'].shape[0],1,1,1))     \n",
    "        datam = (1 - run.data['S']/34.8)*(run.data['S']<34.8)*maskcalc \n",
    "        freshwater_levels1[j,:,:] = np.nansum(np.nansum(datam,axis=2),axis=2)\n",
    "        freshwater_total1[j,:] = np.nansum(np.nansum(np.nansum(datam[:,0:30,:,:],axis=2),axis=2),axis=1)\n",
    "        run.freshwater_levels1 = freshwater_levels1\n",
    "        run.freshwater_total1  = freshwater_total1\n",
    "        if j == 0:\n",
    "            freshwater_content1 = np.nansum(datam[:,0:30,:,:],axis=1)\n",
    "            run.freswater_content1 = freshwater_content1\n",
    "        \n",
    "        datam = run.data['T']*maskcalc \n",
    "        heat_levels[j,:,:] = np.nansum(np.nansum(datam,axis=2),axis=2)\n",
    "        heat_total[j,:] = np.nansum(np.nansum(np.nansum(datam,axis=2),axis=2),axis=1)\n",
    "        if j == 0:\n",
    "            heat_content = np.nansum(datam,axis=1)\n",
    "            run.heat_content = heat_content\n",
    "        run.heat_levels = heat_levels\n",
    "        run.heat_total  = heat_total\n",
    "        \n",
    "#freshwater_content(pert_const_18)\n",
    "#freshwater_content(pert_bench_18)\n",
    "#freshwater_content(pert_const_36)\n",
    "#freshwater_content(pert_bench_36)\n",
    "freshwater_content(pert_fw_18)"
   ]
  },
  {
   "cell_type": "code",
   "execution_count": null,
   "metadata": {
    "collapsed": true
   },
   "outputs": [],
   "source": [
    "# dpi resolution\n",
    "dpires = 300"
   ]
  },
  {
   "cell_type": "markdown",
   "metadata": {},
   "source": [
    "# The perturbation\n",
    "\n",
    "We first plot the salinity anomaly difference between the perturbation experimet nad the control run"
   ]
  },
  {
   "cell_type": "code",
   "execution_count": null,
   "metadata": {
    "collapsed": true
   },
   "outputs": [],
   "source": [
    "times = [1+12*5, 3+12*5, 6+12*5, 9+12*5,18+12*5,36+12*5]"
   ]
  },
  {
   "cell_type": "markdown",
   "metadata": {},
   "source": [
    "#Barotropic Streamfunction\n",
    "\n",
    "Perturbation generates strong currents particularly in the nordic seas spreading into the Arctic, we check barotropic streamfunction to study magnitude and features of the generated currents."
   ]
  },
  {
   "cell_type": "code",
   "execution_count": null,
   "metadata": {
    "collapsed": true
   },
   "outputs": [],
   "source": [
    "def reg_titles():\n",
    "    region_titles = {0 : 'Global' , 1 : 'Arctic' , 2 : 'Nord Seas' , 3 : 'North Atl', 4: 'Norwegian' ,\\\n",
    "                     5: 'Greenland' , 6 : 'Lofoten' , 7 : 'Iceland Sea' , 8 : 'Labrador'}\n",
    "    return region_titles"
   ]
  },
  {
   "cell_type": "code",
   "execution_count": null,
   "metadata": {
    "collapsed": true
   },
   "outputs": [],
   "source": [
    "pert_dic = {\"pert_18\" : {\"const\" : pert_const_18, \"bench\" : pert_bench_18} ,\\\n",
    "            \"pert_36\" : {\"const\" : pert_const_36, \"bench\" : pert_bench_36},}\\\n",
    "            #\"pert_fw_18\" : {\"const\" : pert_fw_18, \"bench\" : pert_bench_18} }"
   ]
  },
  {
   "cell_type": "code",
   "execution_count": null,
   "metadata": {
    "collapsed": false
   },
   "outputs": [],
   "source": [
    "# Plot sea surface elevation per regions\n",
    "def plot_dynStLayers(dic,row=4,col=2):\n",
    "    # this function is meant to plot monitor variables\n",
    "    fig, axes = plt.subplots(row,col,sharex=True,sharey=True)\n",
    "    for el in dic:\n",
    "        data_pert = dic[el][\"const\"] ; data_diff = dic[el][\"bench\"] \n",
    "        grid = grid_read(data_pert.res)\n",
    "        mask1,mask2,mask3,mask4,mask5,mask6,mask7,mask8 = region_mask(data_pert.res)\n",
    "        mask0 = np.ones_like(mask1)\n",
    "        areamasks = {0:mask0 , 1 : mask1 , 2 : mask2 , 3 : mask3, \\\n",
    "                    4 : mask4, 5 : mask5, 6 : mask6, 7: mask7, 8 : mask8}\n",
    "        region_titles = reg_titles()\n",
    "        ax_ind = 0\n",
    "        alphavar = {'mean':1,'max':0.6,'min':0.6}\n",
    "        colvar = {'mean':'black','max':'red','min':'blue'}\n",
    "        ls_dic = { 36 : '-' , 18 : '--' , 9 : '..' }\n",
    "        for reg in [0,4,1,5,2,6,3,7]:\n",
    "            maskcalc = np.tile(areamasks[reg][0,:,:],(data_pert.data['Eta'].shape[0],1,1))\n",
    "            data = np.array(data_pert.psi[:,:,0:data_pert.psi.shape[2]-1])\n",
    "            data1 = np.array(data_diff.psi)[0:data.shape[0],:,0:data_pert.psi.shape[2]-1]\n",
    "            datam = (data - data1)*maskcalc            \n",
    "            datadic = {'mean' : np.nanmean(np.nanmean(datam[:,:,:],axis=2),axis=1) ,\n",
    "                       'max'  : np.nanmax(np.nanmax(datam[:,:,:],axis=2),axis=1) ,\n",
    "                       'min'  : np.nanmin(np.nanmin(datam[:,:,:],axis=2),axis=1) }                \n",
    "            for var in ['mean','max','min']:\n",
    "                axes.flat[ax_ind].plot(data_pert.years[:]-5,datadic[var][:],color=colvar[var],\n",
    "                                      alpha=alphavar[var],linestyle=ls_dic[data_pert.res])\n",
    "                axes.flat[ax_ind].set_title('Barotropic streamfunction '+region_titles[reg],fontsize=16)\n",
    "                axes.flat[ax_ind].tick_params(axis='both', which='major', labelsize=14)\n",
    "                if (ax_ind)%2 == 0:\n",
    "                    axes.flat[ax_ind].set_ylabel('Sv',fontsize=14)\n",
    "                axes.flat[6].set_xlabel('Years',fontsize=14)\n",
    "                axes.flat[7].set_xlabel('Years',fontsize=14)\n",
    "            ax_ind += 1\n",
    "    fig.subplots_adjust(right=1.6,top=1.6)\n",
    "    \n",
    "    fig.savefig('/noc/users/am8e13/Figures/multipert_psi_reg',dpi=dpires, bbox_inches='tight')\n",
    "\n",
    "plot_dynStLayers(pert_dic)"
   ]
  },
  {
   "cell_type": "markdown",
   "metadata": {},
   "source": [
    "# Steric response "
   ]
  },
  {
   "cell_type": "code",
   "execution_count": null,
   "metadata": {
    "collapsed": false
   },
   "outputs": [],
   "source": [
    "# Plot sea surface elevation per regions\n",
    "def plot_dynStLayers(dic,row=4,col=2):\n",
    "    # this function is meant to plot monitor variables   \n",
    "    fig, axes = plt.subplots(row,col,sharex=True,sharey=True)    \n",
    "    region_titles = reg_titles()\n",
    "    var_s = ['eta_mean','eta_min','eta_max']\n",
    "    vartitles = {'eta_mean' : 'Eta Mean','eta_max' : 'Eta Max','eta_min' : 'Eta Min'}\n",
    "    alphavar = {'eta_mean':1,'eta_max':0.6,'eta_min':0.6}\n",
    "    ls_dic = { 36 : '-' , 18 : '--' , 9 : '..' }\n",
    "    colvar = {'eta_mean':'black','eta_max':'red','eta_min':'blue'}\n",
    "    for el in dic:\n",
    "        data_pert = dic[el][\"const\"] ; data_diff = dic[el][\"bench\"] \n",
    "        ax_ind = 0\n",
    "        for reg in [0,4,1,5,2,6,3,7]:\n",
    "            for var in ['eta_mean','eta_max','eta_min']:\n",
    "                data = data_pert.dataDyn[var][1:,reg,0] - data_diff.dataDyn[var][1:,reg,0]\n",
    "                axes.flat[ax_ind].plot(data_pert.dataDyn['time_lv_years'][:]-5,data[:],color=colvar[var],\n",
    "                                      alpha=alphavar[var],linestyle=ls_dic[data_pert.res])\n",
    "                axes.flat[ax_ind].set_title('Sea surface elevation '+region_titles[reg],fontsize=16)\n",
    "                if (ax_ind)%2 == 0:\n",
    "                    axes.flat[ax_ind].set_ylabel('m',fontsize=14)\n",
    "                axes.flat[6].set_xlabel('Years',fontsize=14)\n",
    "                axes.flat[7].set_xlabel('Years',fontsize=14)\n",
    "                axes.flat[ax_ind].tick_params(axis='both', which='major', labelsize=14)\n",
    "\n",
    "            ax_ind += 1\n",
    "        fig.subplots_adjust(right=1.6,top=1.6)\n",
    "    fig.savefig('/noc/users/am8e13/Figures/multipert_ssh_regions',dpi=dpires, bbox_inches='tight')\n",
    "\n",
    "plot_dynStLayers(pert_dic)"
   ]
  },
  {
   "cell_type": "markdown",
   "metadata": {},
   "source": [
    "# Fluxes\n",
    "\n",
    "Most of the flux seems to go through Fram strait, very little through Barents strait or Denmark strait, we check fluxes to confirm this"
   ]
  },
  {
   "cell_type": "markdown",
   "metadata": {},
   "source": [
    "Fluxes are positives for fluxes into the Arctic"
   ]
  },
  {
   "cell_type": "code",
   "execution_count": null,
   "metadata": {
    "collapsed": false
   },
   "outputs": [],
   "source": [
    "def plot_flux_total_diff(dic):\n",
    "    # this function is meant to plot monitor variables   \n",
    "    fluxes = ['FluxSum','FluxSumFW','FluxSumFW1','FluxSumT']#\n",
    "    variables = ['Fram','Denmark','Barents','Norwice','Davis','Bering']\n",
    "    #variables = ['Fram','Denmark']\n",
    "    flux_titles = {'FluxSumFW' : 'FW','FluxSumFW1' : 'FW1','FluxSumS' : 'S', 'FluxSumT':'Heat', \\\n",
    "                   'FluxInSum' : 'Inflow','FluxOutSum' : 'Outflow' , 'FluxSum' : 'Net flow'}\n",
    "    var_titles = {'Fram' : 'Fram' , 'Fram1' : 'Fram' , 'Fram2' : 'Fram' , \n",
    "                  'Davis': 'Davis' , 'Davis1': 'Davis' , 'Davis2': 'Davis',\n",
    "                 'Denmark' : 'Denmark' , 'Bering' : 'Bering' , 'Norwice' : 'Norwice' ,'Norwice2' : 'Norwice2' ,\n",
    "                 'Barents' : 'Barents' , 'Barents1' : 'Barents' , 'Barents2' : 'Barents'}\n",
    "    \n",
    "    iniz = 40\n",
    "    fig, axes = plt.subplots(len(fluxes),len(variables),sharex=True,sharey='row')\n",
    "    for el in dic:\n",
    "        data_pert = dic[el][\"const\"] ; data_diff = dic[el][\"bench\"]\n",
    "        ax_ind = 0\n",
    "        for flux in fluxes:\n",
    "            for var in variables:  \n",
    "                data = data_pert.fluxes[var][flux]-data_diff.fluxes[var][flux]\n",
    "                axes.flat[ax_ind].plot(data_pert.years[iniz:-12]-5,data[iniz:-12],alpha=0.2)\n",
    "                axes.flat[ax_ind].plot(data_pert.years[iniz:-2]-5,runningMeanFast(data,12)[iniz:-2])\n",
    "                axes.flat[ax_ind].set_title(var + flux ,fontsize=16)\n",
    "                if ax_ind%len(variables)==0:\n",
    "                    axes.flat[ax_ind].set_ylabel('Sv',fontsize=16)\n",
    "                if ax_ind/len(variables)==2:\n",
    "                    axes.flat[ax_ind].set_xlabel('Years',fontsize=16)\n",
    "                axes.flat[ax_ind].set_title(var_titles[var]+' '+flux_titles[flux],fontsize=16)\n",
    "                axes.flat[ax_ind].tick_params(axis='both', which='major', labelsize=14)            \n",
    "                ax_ind += 1\n",
    "        plt.legend(bbox_to_anchor=(1.05, 1), loc=6, borderaxespad=0.)\n",
    "    fig.subplots_adjust(right=2.,top=2.)\n",
    "    fig.suptitle(\"Fluxes difference, all gateways\",x=1.1,y=2.2,fontsize=18)  \n",
    "    fig.savefig('/noc/users/am8e13/Figures/mixpert_flows_allgate',dpi=dpires, bbox_inches='tight')\n",
    "\n",
    "plot_flux_total_diff(pert_dic)"
   ]
  },
  {
   "cell_type": "code",
   "execution_count": null,
   "metadata": {
    "collapsed": false
   },
   "outputs": [],
   "source": [
    "def plot_flux_total_diff(dic):\n",
    "    # this function is meant to plot monitor variables   \n",
    "    fluxes = ['FluxSum','FluxSumFW','FluxSumFW1','FluxSumT']#\n",
    "    variables = ['Fram','Denmark','Barents','Davis','Bering']\n",
    "    #variables = ['Fram','Denmark']\n",
    "    flux_titles = {'FluxSumFW' : 'FW','FluxSumFW1' : 'FW1','FluxSumS' : 'S', 'FluxSumT':'Heat', \\\n",
    "                   'FluxInSum' : 'Inflow','FluxOutSum' : 'Outflow' , 'FluxSum' : 'Net flow'}\n",
    "    var_titles = {'Fram' : 'Fram' , 'Fram1' : 'Fram' , 'Fram2' : 'Fram' , \n",
    "                  'Davis': 'Davis' , 'Davis1': 'Davis' , 'Davis2': 'Davis',\n",
    "                 'Denmark' : 'Denmark' , 'Bering' : 'Bering' , 'Norwice' : 'Norwice' ,'Norwice2' : 'Norwice2' ,\n",
    "                 'Barents' : 'Barents' , 'Barents1' : 'Barents' , 'Barents2' : 'Barents'}\n",
    "    \n",
    "    iniz = 40\n",
    "    col_dic = {36 : 'blue' , 18 : 'orange' , 9 : 'green'}\n",
    "    fig, axes = plt.subplots(len(fluxes),len(variables),sharex=True,sharey='row')\n",
    "    for el in dic:\n",
    "        data_pert = dic[el][\"const\"] ; data_diff = dic[el][\"bench\"]\n",
    "        ax_ind = 0\n",
    "        for flux in fluxes:\n",
    "            for var in variables:  \n",
    "                data = data_pert.fluxes[var][flux]-data_diff.fluxes[var][flux]\n",
    "                #axes.flat[ax_ind].plot(data_pert.years[iniz:-12]-5,data[iniz:-12],alpha=0.2)\n",
    "                axes.flat[ax_ind].plot(data_pert.years[iniz:-2]-5,runningMeanFast(data,12)[iniz:-2],\\\n",
    "                                       color=col_dic[data_pert.res],label=data_pert.res)\n",
    "                axes.flat[ax_ind].set_title(var + flux ,fontsize=16)\n",
    "                if ax_ind%len(variables)==0:\n",
    "                    axes.flat[ax_ind].set_ylabel('Sv',fontsize=16)\n",
    "                #if ax_ind/len(variables)==2:\n",
    "                    #axes.flat[ax_ind].set_xlabel('Years',fontsize=16)\n",
    "                axes.flat[ax_ind].set_title(var_titles[var]+' '+flux_titles[flux],fontsize=16)\n",
    "                axes.flat[ax_ind].tick_params(axis='both', which='major', labelsize=14)            \n",
    "                ax_ind += 1\n",
    "        plt.legend(bbox_to_anchor=(1.05, 1), loc=6, borderaxespad=0.)\n",
    "    fig.subplots_adjust(right=2.,top=2.)\n",
    "    fig.suptitle(\"Fluxes difference, all gateways\",x=1.1,y=2.2,fontsize=18)  \n",
    "    fig.savefig('/noc/users/am8e13/Figures/mixpert_flows_allgate',dpi=dpires, bbox_inches='tight')\n",
    "\n",
    "plot_flux_total_diff(pert_dic)"
   ]
  },
  {
   "cell_type": "code",
   "execution_count": null,
   "metadata": {
    "collapsed": false
   },
   "outputs": [],
   "source": [
    "# plot layers\n",
    "def plot_total_flux(dic,cum=True,row=2,col=2):\n",
    "    # this function is meant to plot monitor variables   \n",
    "    \n",
    "    fluxes = ['Flux','FluxFW','FluxFW1','FluxT']\n",
    "    #variables = ['Fram','Barents','Davis','Denmark']\n",
    "    variables = ['Fram','Denmark']\n",
    "    flux_titles = {'FluxFW' : 'FW','FluxFW1' : 'FW<35','FluxS' : 'S', 'FluxT':'Heat', \\\n",
    "                   'FluxIn' : 'Inflow','FluxOut' : 'Outflow' , 'Flux' : 'Net flow'}\n",
    "    var_titles = {'Fram' : 'Fram' , 'Fram1' : 'Fram' , 'Fram2' : 'Fram' , \n",
    "                  'Davis': 'Davis' , 'Davis1': 'Davis' , 'Davis2': 'Davis',\n",
    "                 'Denmark' : 'Denmark' , 'Bering' : 'Bering' , 'Norwice' : 'Norwice' ,\n",
    "                 'Barents' : 'Barents' , 'Barents1' : 'Barents' , 'Barents2' : 'Barents'}\n",
    "    col_dic = {36 : 'blue' , 18 : 'orange' , 9 : 'green'}\n",
    "    iniz = 0\n",
    "    fig, axes = plt.subplots(len(fluxes),len(variables),sharex=True,sharey='row')\n",
    "    for el in dic:\n",
    "        ax_ind = 0\n",
    "        data_pert = dic[el][\"const\"] ; data_diff = dic[el][\"bench\"] ;  \n",
    "        for flux in fluxes:\n",
    "            for var in variables:\n",
    "                data = data_pert.fluxes[var][flux]-data_diff.fluxes[var][flux]\n",
    "                axes.flat[ax_ind].plot(data_pert.years[iniz:-1]-5,runningMeanFast(np.nansum(np.nansum((\n",
    "                           data)[:,:,:],axis=2),axis=1),12)\n",
    "                           [iniz:-1],color=col_dic[data_pert.res],label=data_pert.res)\n",
    "                axes.flat[ax_ind].set_title(var + flux ,fontsize=16)\n",
    "                if ax_ind%len(variables)==0:\n",
    "                    axes.flat[ax_ind].set_ylabel('Sv',fontsize=16)\n",
    "                #if ax_ind/len(variables)==2:\n",
    "                #    axes.flat[ax_ind].set_xlabel('Years',fontsize=16)\n",
    "                axes.flat[ax_ind].set_title(var_titles[var]+' '+flux_titles[flux],fontsize=16)\n",
    "                axes.flat[ax_ind].tick_params(axis='both', which='major', labelsize=14)            \n",
    "                ax_ind += 1\n",
    "    plt.legend(bbox_to_anchor=(1.05, 1), loc=6, borderaxespad=0.)\n",
    "    fig.subplots_adjust(right=2.,top=2.)\n",
    "    fig.suptitle(\"Fluxes difference\",x=1.1,y=2.2,fontsize=18)  \n",
    "    #fig.savefig('/noc/users/am8e13/Figures/perturbation_davisfram_fluxes'+cumtitle,dpi=dpires, bbox_inches='tight')\n",
    "\n",
    "plot_total_flux(pert_dic)"
   ]
  },
  {
   "cell_type": "code",
   "execution_count": null,
   "metadata": {
    "collapsed": false,
    "scrolled": false
   },
   "outputs": [],
   "source": [
    "times = [1+12*5, 3+12*5, 6+12*5, 9+12*5,18+12*5,36+12*5]\n",
    "def strait_flux_fram(data_pert,data_diff,times,diff=True):\n",
    "    ind = 0\n",
    "    variables = ['S','T','V',]\n",
    "    vartitle = {'S':'psu' , 'T' : r'$^{\\circ}$C' , 'V': 'm/s'}\n",
    "    grid = grid_read(data_pert.res)\n",
    "    if diff:\n",
    "        cmaps = {'S' : cmocean.cm.vort, 'T' : cmocean.cm.vel , 'V' : cmocean.cm.freesurface}    \n",
    "        vmins = {'S' : -2, 'T' :-4 , 'V' : -0.3 }\n",
    "        vmaxs = {'S' : 2, 'T' : 4, 'V' : 0.3}\n",
    "        difftitle = 'diff'\n",
    "    else:\n",
    "        cmaps = {'S' : cmocean.cm.salinity, 'T' : cmocean.cm.temperature , 'V' : matplotlib.cm.seismic}\n",
    "        vmins = {'S' : 32, 'T' :-2 , 'V' : -0.5 }\n",
    "        vmaxs = {'S' : 37, 'T' : 8, 'V' : 0.5}\n",
    "        difftitle = ''\n",
    "\n",
    "    kres = {36:1,18:2,9:4}\n",
    "    k = kres[data_pert.res]\n",
    "    fig, axes = plt.subplots(len(variables)+1,len(times))#,sharex=True, sharey=True)     \n",
    "    for var in variables:\n",
    "        for t in times:\n",
    "            cmap = cmaps[var]\n",
    "            cmap.set_bad('grey',1.) \n",
    "            if diff:\n",
    "                toplot = data_pert.data[var][t,0:45,58*k:80*k,76*k] - data_diff.data[var][t,0:45,58*k:80*k,76*k]\n",
    "            else:\n",
    "                toplot = data_pert.data[var][t,0:45,58*k:80*k,76*k]\n",
    "            imdata = np.ma.masked_invalid(toplot)\n",
    "            CS = axes.flat[ind].pcolormesh(grid['XC'][58*k:80*k,76*k],data_pert.Z[0:45],imdata,\n",
    "                    vmin=vmins[var],vmax=vmaxs[var],cmap = cmap)       \n",
    "            axes.flat[ind].set_title(var+' at '+str(round(data_pert.years[t],2) - 5)+' yrs',fontsize=16)\n",
    "            axes.flat[ind].title.set_fontsize('14')\n",
    "            axes.flat[ind].tick_params(axis='both', which='major', labelsize=14)            \n",
    "            axes.flat[ind].set_xticks([-20,-10,0,10,20])\n",
    "            if ind%len(times)==0:\n",
    "                axes.flat[ind].set_ylabel('Depth (m)',fontsize=16)\n",
    "            else: \n",
    "                axes.flat[ind].get_yaxis().set_visible(False)\n",
    "            if ind/len(times)==2:\n",
    "                axes.flat[ind].set_xlabel(r'Lon ($^{\\circ}$)',fontsize=16)\n",
    "            else:\n",
    "                axes.flat[ind].get_xaxis().set_visible(False)\n",
    "            ind += 1\n",
    "        div = make_axes_locatable(axes.flat[ind-1])\n",
    "        cax = div.append_axes(\"right\", size=\"10%\", pad=0.05)\n",
    "        cbar = plt.colorbar(CS, cax=cax, format=\"%.2g\")\n",
    "        cbar.set_label(vartitle[var], size=16)\n",
    "        cbar.ax.tick_params(labelsize=14)\n",
    "        \n",
    "    lat_ts=90.0 ; lat_0=80.0 ; lon_0=0.0 ;sgn=1\n",
    "    width=1500000. ; height=1500000.0\n",
    "    \n",
    "    vimin = -100 ; vimax = 100\n",
    "    kres = {36:1,18:2,9:9}\n",
    "    kk = kres[data_pert.res]\n",
    "    cmap=matplotlib.cm.seismic\n",
    "    \n",
    "\n",
    "    for t in times:\n",
    "        m = Basemap(ax=axes.flat[ind],width=width,height=height,resolution='l',\\\n",
    "                    projection='stere',lat_ts=lat_ts,lat_0=lat_0,lon_0=lon_0)\n",
    "        # the continents will be drawn on top.\n",
    "        m.drawmapboundary(fill_color='black')\n",
    "        # fill continents, set lake color same as ocean color.\n",
    "        m.fillcontinents(color='grey',lake_color='black')\n",
    "        x,y=m(data_pert.lon,data_pert.lat)\n",
    "        if diff:\n",
    "            datam = data_pert.psi[t,0*kk:192*kk,0*kk:210*kk]-data_diff.psi[t,0*kk:192*kk,0*kk:210*kk]\n",
    "        else:\n",
    "            datam = data_pert.psi[t,0*kk:192*kk,0*kk:210*kk]\n",
    "        sitm = np.ma.masked_where(np.isnan(datam),datam)\n",
    "        CS=m.pcolormesh(x,y,sitm,cmap=cmap,vmin=vimin,vmax=vimax)\n",
    "        m.drawparallels(np.arange(-80.,81.,15.))\n",
    "        m.drawmeridians(np.arange(-180.,181.,30.))\n",
    "        axes.flat[ind].set_title('Pert at '+str(round(data_pert.years[t]-5,2))+'yrs',fontsize=16)\n",
    "        ind += 1\n",
    "    div = make_axes_locatable(axes.flat[ind-1])\n",
    "    cax = div.append_axes(\"right\", size=\"5%\", pad=0.05)\n",
    "    cbar = plt.colorbar(CS, cax=cax,)\n",
    "    cbar.set_label('Sv', size=16)\n",
    "    cbar.ax.tick_params(labelsize=14)\n",
    "\n",
    "    fig.suptitle(\"Fram strait\"+difftitle+\" transect (Gr <---> Sv)\",x=1.,y=3.2,fontsize=18)      \n",
    "    fig.subplots_adjust(right=2.1,top=3.)\n",
    "    #fig.savefig('/noc/users/am8e13/Figures/perturbation_fram'+difftitle,dpi=dpires, bbox_inches='tight')\n",
    "\n",
    "strait_flux_fram(pert_const_36,pert_bench_36,times)\n",
    "strait_flux_fram(pert_const_36,pert_bench_36,times,diff=False)"
   ]
  },
  {
   "cell_type": "markdown",
   "metadata": {},
   "source": [
    "# Temperature and salinity evolution"
   ]
  },
  {
   "cell_type": "code",
   "execution_count": null,
   "metadata": {
    "collapsed": true
   },
   "outputs": [],
   "source": []
  },
  {
   "cell_type": "code",
   "execution_count": null,
   "metadata": {
    "collapsed": false
   },
   "outputs": [],
   "source": [
    "def plot_dynStLayers(dic,row=2,col=4):\n",
    "    # this function is meant to plot monitor variables  \n",
    "    col_dic = {36 : 'blue' , 18 : 'orange' , 9 : 'green'}\n",
    "    region_titles = reg_titles()\n",
    "    fig, axes = plt.subplots(row,col,sharex=True,sharey='row')\n",
    "    ax_ind = 0\n",
    "    var_s = ['theta_mean','salt_mean']\n",
    "    vartitles = {'theta_mean' : 'Temp', 'salt_mean' : 'Salt'}\n",
    "    for el in dic:\n",
    "        ax_ind = 0\n",
    "        data_pert = dic[el][\"const\"] ; data_diff = dic[el][\"bench\"] ;     \n",
    "        for var in var_s:\n",
    "            for reg in range(4):\n",
    "                data = data_pert.dataDyn[var][1:,reg,0] - data_diff.dataDyn[var][1:,reg,0]\n",
    "                axes.flat[ax_ind].plot(data_pert.dataDyn['time_lv_years'][0:-12*3]-5,\\\n",
    "                                   runningMeanFast(data,12*3)[0:-12*3],color=col_dic[data_pert.res],\\\n",
    "                                       label=data_pert.res)\n",
    "                axes.flat[ax_ind].set_title(vartitles[var]+' '+region_titles[reg])\n",
    "                axes.flat[0].set_ylabel('C')\n",
    "                axes.flat[4].set_ylabel('psu')\n",
    "                axes.flat[4].set_xlabel('Years')\n",
    "                axes.flat[5].set_xlabel('Years')\n",
    "                axes.flat[6].set_xlabel('Years')\n",
    "                axes.flat[7].set_xlabel('Years')\n",
    "                ax_ind += 1\n",
    "    plt.legend(bbox_to_anchor=(1.05, 1), loc=6, borderaxespad=0.)\n",
    "    fig.subplots_adjust(right=1.6,top=1.6)\n",
    "plot_dynStLayers(pert_dic)"
   ]
  },
  {
   "cell_type": "markdown",
   "metadata": {},
   "source": [
    "#Freshwater content in Arctic and Nordic Seas\n",
    "\n",
    "Now we want to study more in the details the changes in freshwater content cause by the perturbation.\n",
    "\n",
    "Here we consider the freshwater content in the first 1000m of the water column."
   ]
  },
  {
   "cell_type": "code",
   "execution_count": null,
   "metadata": {
    "collapsed": false
   },
   "outputs": [],
   "source": [
    "def plot_freshwater_content(dic):\n",
    "    titles = reg_titles()\n",
    "    col_dic = {36 : 'blue' , 18 : 'orange' , 9 : 'green'}\n",
    "    fig , axes = plt.subplots(2,4,sharex=True,sharey='row')\n",
    "\n",
    "    for el in dic:\n",
    "        j = 0\n",
    "        data_pert = dic[el][\"const\"] ; data_diff = dic[el][\"bench\"] ;   \n",
    "        for j in range(4):        \n",
    "            nt = len(data_pert.freshwater_levels[j,:])\n",
    "            colormap = matplotlib.cm.jet \n",
    "            colors = [colormap(i) for i in np.linspace(0, 1,30)]\n",
    "            iniz = 36\n",
    "\n",
    "            datam = np.nansum(data_pert.heat_levels[j,:,0:] - data_diff.heat_levels[j,:nt,0:],axis=1)                \n",
    "            axes.flat[j].plot(data_pert.years[iniz:-12]-5,runningMeanFast(datam[iniz:],12)[0:-12]/10**9,\n",
    "                            color=col_dic[data_pert.res],label=data_pert.res)  \n",
    "\n",
    "            datam = np.nansum(data_pert.freshwater_levels[j,:,0:30] - data_diff.freshwater_levels[j,:nt,0:30],axis=1)                \n",
    "            axes.flat[j+4].plot(data_pert.years[iniz:-12]-5,runningMeanFast(datam[iniz:],12)[0:-12]/10**9,\n",
    "                            color=col_dic[data_pert.res],label=data_pert.res)  \n",
    "            axes.flat[j].set_title(titles[j],fontsize=16)\n",
    "\n",
    "            axes.flat[0].set_ylabel(r'$km^3$ / heat content',fontsize=16)\n",
    "            axes.flat[4].set_ylabel(r'$km^3$ / fw content',fontsize=16)\n",
    "            axes.flat[j+4].set_xlabel('Years',fontsize=16)\n",
    "            axes.flat[j].tick_params(axis='both', which='major', labelsize=14)\n",
    "            axes.flat[j+4].tick_params(axis='both', which='major', labelsize=14)\n",
    "    plt.legend(bbox_to_anchor=(1.05, 1), loc=6, borderaxespad=0.,fontsize=14)\n",
    "    fig.suptitle(\"Heat and Freshwater content \",x=1.,y=2.,fontsize=18)      \n",
    "    fig.subplots_adjust(right=1.8,top=1.8)\n",
    "    fig.savefig('/noc/users/am8e13/Figures/mixed_hcfw',dpi=dpires, bbox_inches='tight')\n",
    "\n",
    "plot_freshwater_content(pert_dic)"
   ]
  },
  {
   "cell_type": "markdown",
   "metadata": {},
   "source": [
    "# Mixed layer depth"
   ]
  },
  {
   "cell_type": "code",
   "execution_count": null,
   "metadata": {
    "collapsed": false
   },
   "outputs": [],
   "source": [
    "def plot_mxldepth(dic):\n",
    "    reg_title = reg_titles()\n",
    "    fig , axes = plt.subplots(3,3,sharey=False,sharex=True)\n",
    "    col_dic = {36 : 'blue' , 18 : 'orange' , 9 : 'green'}\n",
    "    for el in dic:\n",
    "        data_pert = dic[el][\"const\"] ; data_diff = dic[el][\"bench\"] ; \n",
    "        for j in range(len(reg_title)):\n",
    "            data = data_pert.mxldepth_mean[j] #- data_diff.mxldepth_mean[j]\n",
    "            axes.flat[j].plot(data_pert.mxldepth_years-5,-data,alpha=0.2,color=col_dic[data_pert.res])\n",
    "            axes.flat[j].plot(data_pert.mxldepth_years[0:-12*3]-5,-runningMeanFast(data,12*3)[0:-12*3],\\\n",
    "                              color=col_dic[data_pert.res],label=data_pert.res)\n",
    "            axes.flat[j].set_title(reg_title[j],fontsize=16)   \n",
    "        axes.flat[6].set_xlabel('Years',fontsize=16)\n",
    "        axes.flat[7].set_xlabel('Years',fontsize=16)\n",
    "        axes.flat[8].set_xlabel('Years',fontsize=16)\n",
    "        axes.flat[0].set_ylabel('m',fontsize=16)\n",
    "        axes.flat[3].set_ylabel('m',fontsize=16)\n",
    "        axes.flat[6].set_ylabel('m',fontsize=16)\n",
    "    plt.legend(bbox_to_anchor=(1.05, 1), loc=6, borderaxespad=0.,fontsize=14)\n",
    "    fig.subplots_adjust(right=2.2,top=2.)\n",
    "    fig.suptitle(\"Mixed layer depth\",x=1.15,y=2.2,fontsize=20)\n",
    "    fig.savefig('/noc/users/am8e13/Figures/mixed_mxldepth_diag',dpi=dpires, bbox_inches='tight')\n",
    "\n",
    "plot_mxldepth(pert_dic)"
   ]
  },
  {
   "cell_type": "markdown",
   "metadata": {},
   "source": [
    "# Seaice\n",
    "\n",
    "We look at the seaice to see if the excess in freshwater could be caused by a decrease in seaice"
   ]
  },
  {
   "cell_type": "code",
   "execution_count": null,
   "metadata": {
    "collapsed": false,
    "scrolled": false
   },
   "outputs": [],
   "source": [
    "def plot_seaice(dic):\n",
    "    variables = ['seaice_area_mean' , 'seaice_heff_mean','seaice_hsnow_mean','seaice_hsalt_mean']\n",
    "    titles = {'seaice_area_mean' : 'Seaice Fraction Covered', 'seaice_heff_mean' : 'Seaice Ice Tickness',\n",
    "              'seaice_hsnow_mean' : 'Seaice Snow Tickness', 'seaice_hsalt_mean' : 'Seaice Salt Content'}\n",
    "    fig , axes = plt.subplots(2,2)\n",
    "    col_dic = {36 : 'blue' , 18 : 'orange' , 9 : 'green'}\n",
    "    for el in dic:\n",
    "        data_pert = dic[el][\"const\"] ; data_diff = dic[el][\"bench\"] ;     \n",
    "        nt = len(data_diff.data['time_years_ice'])\n",
    "        for j in range(4):  \n",
    "            data = data_pert.data[variables[j]][0:nt] #- data_diff.data[variables[j]][0:nt]        \n",
    "            axes.flat[j].plot(data_diff.data['time_years_ice']-5,data,alpha=0.2,\\\n",
    "                              color=col_dic[data_pert.res])\n",
    "            axes.flat[j].plot(data_diff.data['time_years_ice'][0:-360]-5,runningMeanFast(data,360)[0:-360],\\\n",
    "                             color=col_dic[data_pert.res],label=data_pert.res)\n",
    "            axes.flat[j].set_title(titles[variables[j]]+' diff')  \n",
    "    plt.legend(bbox_to_anchor=(1.05, 1), loc=6, borderaxespad=0.,fontsize=14)\n",
    "    fig.suptitle('Seaice',x=1.1,y=2.2,fontsize=22)\n",
    "    fig.subplots_adjust(right=2.2,top=2.)\n",
    "    fig.savefig('/noc/users/am8e13/Figures/mixed_seiace_diag',dpi=dpires, bbox_inches='tight')\n",
    "plot_seaice(pert_dic)"
   ]
  },
  {
   "cell_type": "code",
   "execution_count": null,
   "metadata": {
    "collapsed": true
   },
   "outputs": [],
   "source": []
  }
 ],
 "metadata": {
  "kernelspec": {
   "display_name": "Python 2",
   "language": "python",
   "name": "python2"
  },
  "language_info": {
   "codemirror_mode": {
    "name": "ipython",
    "version": 2
   },
   "file_extension": ".py",
   "mimetype": "text/x-python",
   "name": "python",
   "nbconvert_exporter": "python",
   "pygments_lexer": "ipython2",
   "version": "2.7.11"
  }
 },
 "nbformat": 4,
 "nbformat_minor": 0
}
