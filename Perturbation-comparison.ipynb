{
 "cells": [
  {
   "cell_type": "code",
   "execution_count": 1,
   "metadata": {
    "collapsed": false
   },
   "outputs": [
    {
     "name": "stderr",
     "output_type": "stream",
     "text": [
      "Vendor:  Continuum Analytics, Inc.\n",
      "Package: mkl\n",
      "Message: trial mode expires in 30 days\n",
      ":0: FutureWarning: IPython widgets are experimental and may change in the future.\n"
     ]
    }
   ],
   "source": [
    "from scipy.io import netcdf\n",
    "import numpy as np\n",
    "from pylab import clf, plot, show, floor, ceil, imshow\n",
    "import matplotlib\n",
    "import matplotlib.pyplot as plt \n",
    "%matplotlib inline\n",
    "#xlabel, ylabel, legend, savefig, colorbar, title, clim, pcolor, cm, contourf\n",
    "import os\n",
    "import csv\n",
    "import sys\n",
    "import glob\n",
    "from netCDF4 import Dataset\n",
    "\n",
    "from IPython.display import display, Math, Latex, Image\n",
    "from mpl_toolkits.basemap import Basemap\n",
    "import mpl_toolkits\n",
    "from mpl_toolkits.axes_grid1 import make_axes_locatable\n",
    "\n",
    "sys.path.append('/noc/users/am8e13/PyNGL-1.4.0/lib/python2.7/site-packages/PyNGL/')\n",
    "import Ngl\n",
    "sys.path.append('/noc/users/am8e13/Python/')\n",
    "import komod\n",
    "sys.path.append('/noc/users/am8e13/Python/PyNIO-1.4.0/')\n",
    "import Nio\n",
    "\n",
    "sys.path.append('/noc/users/am8e13/Python/')\n",
    "from python_functions import *\n",
    "import cmocean\n",
    "import random\n",
    "import calendar\n",
    "import pickle\n",
    "\n",
    "from IPython.html.widgets import interact, interactive\n",
    "from IPython.display import clear_output, display, HTML"
   ]
  },
  {
   "cell_type": "code",
   "execution_count": 2,
   "metadata": {
    "collapsed": false
   },
   "outputs": [
    {
     "name": "stderr",
     "output_type": "stream",
     "text": [
      "/noc/users/am8e13/anaconda/lib/python2.7/site-packages/scipy/io/netcdf.py:287: RuntimeWarning: Cannot close a netcdf_file opened with mmap=True, when netcdf_variables or arrays referring to its data still exist. All data arrays obtained from such files refer directly to data on disk, and must be copied before the file can be cleanly closed. (See netcdf_file docstring for more information on mmap.)\n",
      "  ), category=RuntimeWarning)\n",
      "/noc/users/am8e13/anaconda/lib/python2.7/site-packages/numpy/lib/nanfunctions.py:598: RuntimeWarning: Mean of empty slice\n",
      "  warnings.warn(\"Mean of empty slice\", RuntimeWarning)\n"
     ]
    }
   ],
   "source": [
    "woa = Woa()\n",
    "#grid = grid_read(36)\n",
    "grid = grid_read(18)"
   ]
  },
  {
   "cell_type": "code",
   "execution_count": 3,
   "metadata": {
    "collapsed": true
   },
   "outputs": [],
   "source": [
    "#clear_memory(run)\n",
    "def clear_memory(run):\n",
    "    del run.data['S'] ,run.data['T'], run.data['V'] , run.data['U'] , run.data['rhop']\n",
    "    del run.data['rho_jmd'] #run.data['rho'] ,\n",
    "    del run.freswater_content, run.freswater_content1, run.heat_content\n",
    "    del run.S, run.T, run.V, run.U\n",
    "    del run.psi, run.mxldepth\n",
    "    del run.hfacs, run.hfacw, run.hfacc\n",
    "    del run.rho, run.rhop, run.rho_jmd\n",
    "    print 'Memory cleared'"
   ]
  },
  {
   "cell_type": "code",
   "execution_count": 4,
   "metadata": {
    "collapsed": true
   },
   "outputs": [],
   "source": [
    "def fluxesCalculation2(run):\n",
    "    kdic = {36:1,18:2,9:4}\n",
    "    kk = kdic[run.res]\n",
    "\n",
    "    file2read = netcdf.NetCDFFile('/scratch/general/am8e13/results'+str(run.res)+'km/grid.nc','r')\n",
    "    hfacc = file2read.variables['HFacC']\n",
    "    hfacc = hfacc[:]*1\n",
    "    drf = file2read.variables['drF']\n",
    "    drf = drf[:]*1\n",
    "    rA = file2read.variables['rA']\n",
    "    rA = rA[:]*1\n",
    "    dyF = file2read.variables['dyF']\n",
    "    dyF = dyF[:]*1\n",
    "    dxF = file2read.variables['dxF']\n",
    "    dxF = dxF[:]*1\n",
    "    dydx = np.zeros_like(hfacc)\n",
    "    for k in range(len(drf)):\n",
    "        dydx[k,:,:] = drf[k]*rA*hfacc[k,:,:]\n",
    "    Area_x = dydx/dxF\n",
    "    Area_y = dydx/dyF\n",
    "    Area_x[hfacc==0]=np.nan\n",
    "    Area_y[hfacc==0]=np.nan\n",
    "    \n",
    "    coords = {}\n",
    "    coords = {'Fram': [58,80,76,76], 'Fram1' : [55,85,78,78] , 'Fram2' : [60,83,72,72] , 'Denmark': [100,100,37,48] , \\\n",
    "             'Bering' : [80,89,178,178] , 'Davis' : [113,135,75,75] , 'Davis1' : [135,135,52,73] , 'Davis2' : [113,135,75,75]}\n",
    "    ax_d = {'Fram': 3, 'Fram1' : 3 , 'Fram2' : 3 , 'Denmark': 2 , 'Bering' : 3 , 'Davis' : 3 , 'Davis1' : 2 , 'Davis2' : 3}\n",
    "    vel = {'Fram': 'U', 'Fram1' : 'V' , 'Fram2' : 'V' , 'Denmark': 'U' , \\\n",
    "             'Bering' : 'V' , 'Davis' : 'U' , 'Davis1' : 'U' , 'Davis2' : 'U' }\n",
    "    \n",
    "    def coord_calc(coord):\n",
    "        if coord[0] == coord[1]:\n",
    "            coord[0] = coord[0]*kk\n",
    "            coord[1] = coord[0]+1\n",
    "            coord[2] = coord[2]*kk\n",
    "            coord[3] = coord[3]*kk\n",
    "        elif coord[2] == coord[3]:\n",
    "            coord[0] = coord[0]*kk\n",
    "            coord[1] = coord[1]*kk\n",
    "            coord[2] = coord[2]*kk\n",
    "            coord[3] = coord[2]+1\n",
    "        return coord\n",
    "\n",
    "    run.fluxes2 = {}\n",
    "    for var in ['Fram','Fram1','Fram2','Denmark','Bering','Davis','Davis1','Davis2']:\n",
    "        coord = coords[var]\n",
    "        coord = coord_calc(coord)\n",
    "        run.fluxes2[var] = {'Flux' : np.zeros_like(run.data[vel[var]][:,:,coord[0]:coord[1],coord[2]:coord[3]]),\\\n",
    "                            'FluxSum' : np.zeros_like(run.data[vel[var]][:,0,0,0]),\\\n",
    "                            'FluxInSum' : np.zeros_like(run.data[vel[var]][:,0,0,0]),\\\n",
    "                            'FluxOutSum' : np.zeros_like(run.data[vel[var]][:,0,0,0]),\\\n",
    "                            'FluxS' : np.zeros_like(run.data['S'][:,:,coord[0]:coord[1],coord[2]:coord[3]]),\\\n",
    "                            'FluxSumS' : np.zeros_like(run.data['S'][:,0,0,0]),\\\n",
    "                            'FluxT' : np.zeros_like(run.data['T'][:,:,coord[0]:coord[1],coord[2]:coord[3]]),\\\n",
    "                            'FluxSumT' : np.zeros_like(run.data['T'][:,0,0,0]),\\\n",
    "                            'FluxFW' : np.zeros_like(run.data['T'][:,:,coord[0]:coord[1],coord[2]:coord[3]]),\\\n",
    "                            'FluxSumFW' : np.zeros_like(run.data['T'][:,0,0,0]),\\\n",
    "                            'FluxFW1' : np.zeros_like(run.data['T'][:,:,coord[0]:coord[1],coord[2]:coord[3]]),\\\n",
    "                            'FluxSumFW1' : np.zeros_like(run.data['T'][:,0,0,0]),\\\n",
    "                            'FluxOverFlow' : np.zeros_like(run.data['T'][:,:,coord[0]:coord[1],coord[2]:coord[3]]),\\\n",
    "                            'FluxSumOverFlow' : np.zeros_like(run.data['T'][:,0,0,0]),\\\n",
    "                            'FluxTop' : [], 'FluxMid' : [] , 'FluxBot' : [], \\\n",
    "                            'FluxTopS' : [], 'FluxMidS' : [] , 'FluxBotS' : [], \\\n",
    "                            'FluxTopT' : [], 'FluxMidT' : [] , 'FluxBotT' : []}\n",
    "        \n",
    "    S0 = 34.8 # reference salinity\n",
    "    rho0 = 1027.8\n",
    "    # this is to calculate the FW flux correctly\n",
    "    tmp = np.ones_like(run.data['S'])\n",
    "    tmp[:,31:,:,:] = 0\n",
    "    tmpof = np.zeros_like(run.data['S'])\n",
    "    tmpof[run.data['rhop']>rho0] = 1\n",
    "\n",
    "    # this is to calculate the FW flux correctly\n",
    "    tmp1 = np.ones_like(run.data['S'])\n",
    "    tmp1[run.data['S']>S0] = 0\n",
    "    for var in ['Fram','Fram1','Fram2','Denmark','Bering','Davis','Davis1','Davis2']:\n",
    "        coord = coords[var]\n",
    "        coord = coord_calc(coord)\n",
    "        for t in range(run.data['V'].shape[0]):    \n",
    "            # Fram fillign\n",
    "            run.fluxes2[var]['Flux'][t,:,:] = run.data[vel[var]][t,:,coord[0]:coord[1],coord[2]:coord[3]]*\\\n",
    "                    Area_y[:,coord[0]:coord[1],coord[2]:coord[3]]/10**6\n",
    "            run.fluxes2[var]['FluxSum'][t] = np.nansum(np.nansum(run.fluxes2[var]['Flux'][t,:,:]))\n",
    "            run.fluxes2[var]['FluxInSum'][t] = np.nansum(np.nansum(run.fluxes2[var]['Flux'][t,run.fluxes2[var]['Flux'][t,:,:]>0]))\n",
    "            run.fluxes2[var]['FluxOutSum'][t] = np.nansum(np.nansum(run.fluxes2[var]['Flux'][t,run.fluxes2[var]['Flux'][t,:,:]<0]))\n",
    "            run.fluxes2[var]['FluxT'][t,:,:] = run.fluxes2[var]['Flux'][t,:,:]*\\\n",
    "                                                run.data['T'][t,:,coord[0]:coord[1],coord[2]:coord[3]]\n",
    "            run.fluxes2[var]['FluxSumT'][t] = np.nansum(np.nansum(run.fluxes2[var]['FluxT'][t,:,:]))\n",
    "            run.fluxes2[var]['FluxS'][t,:,:] = run.fluxes2[var]['Flux'][t,:,:]*\\\n",
    "                                                run.data['S'][t,:,coord[0]:coord[1],coord[2]:coord[3]]\n",
    "            run.fluxes2[var]['FluxSumS'][t] = np.nansum(np.nansum(run.fluxes2[var]['FluxS'][t,:,:])) \n",
    "            run.fluxes2[var]['FluxFW'][t,:,:] = run.fluxes2[var]['Flux'][t,:,:]*\\\n",
    "                    (1 - run.data['S'][t,:,coord[0]:coord[1],coord[2]:coord[3]]/S0)*tmp[t,:,coord[0]:coord[1],coord[2]:coord[3]]\n",
    "            run.fluxes2[var]['FluxSumFW'][t] = np.nansum(np.nansum(run.fluxes2[var]['FluxFW'][t,:,:]))                 \n",
    "            run.fluxes2[var]['FluxFW1'][t,:,:] = run.fluxes2[var]['Flux'][t,:,:]*\\\n",
    "                    (1 - run.data['S'][t,:,coord[0]:coord[1],coord[2]:coord[3]]/S0)*tmp1[t,:,coord[0]:coord[1],coord[2]:coord[3]]\n",
    "            run.fluxes2[var]['FluxSumFW1'][t] = np.nansum(np.nansum(run.fluxes2[var]['FluxFW1'][t,:,:]))   \n",
    "            run.fluxes2[var]['FluxOverFlow'][t,:,:] = run.fluxes2[var]['Flux'][t,:,:]*tmpof[t,:,coord[0]:coord[1],coord[2]:coord[3]]\n",
    "            run.fluxes2[var]['FluxSumOverFlow'][t] = np.nansum(np.nansum(run.fluxes2[var]['FluxOverFlow'][t,:,:]))  \n",
    "            \n",
    "        for flux in ['Flux','FluxT','FluxS','FluxFW','FluxFW1','FluxOverFlow']:\n",
    "            run.fluxes2[var][flux] = np.squeeze(run.fluxes2[var][flux],axis=ax_d[var])"
   ]
  },
  {
   "cell_type": "code",
   "execution_count": 5,
   "metadata": {
    "collapsed": false,
    "scrolled": false
   },
   "outputs": [
    {
     "name": "stdout",
     "output_type": "stream",
     "text": [
      "Data read from /hpcdata/scratch/am8e13/arctic420x384/experiments/exp_bench/results/\n",
      "Read Monitor\n",
      "Read Seaice Monitor\n",
      "Read StDyn data"
     ]
    },
    {
     "name": "stderr",
     "output_type": "stream",
     "text": [
      "/noc/users/am8e13/anaconda/lib/python2.7/site-packages/numpy/lib/nanfunctions.py:319: RuntimeWarning: All-NaN slice encountered\n",
      "  warnings.warn(\"All-NaN slice encountered\", RuntimeWarning)\n",
      "/noc/users/am8e13/anaconda/lib/python2.7/site-packages/numpy/lib/nanfunctions.py:220: RuntimeWarning: All-NaN axis encountered\n",
      "  warnings.warn(\"All-NaN axis encountered\", RuntimeWarning)\n"
     ]
    },
    {
     "name": "stdout",
     "output_type": "stream",
     "text": [
      "\n",
      "Read Mxldepth\n",
      "Memory cleared\n"
     ]
    }
   ],
   "source": [
    "times = range(0,60,1)+range(61,61+60,1)\n",
    "pert_bench_18 = RunRead()\n",
    "pert_bench_18.getPath('/hpcdata/scratch/am8e13/arctic420x384/experiments/exp_bench/results/')\n",
    "pert_bench_18.title('No restoring','blue')\n",
    "pert_bench_18.readStateData(times)\n",
    "pert_bench_18.readMonitorData([6220800,6480000])\n",
    "pert_bench_18.readMonitorSeaiceData([6220800,6480000])\n",
    "pert_bench_18.readDynStData(11,[6220800,6480000])\n",
    "pert_bench_18.mxldepthread(range(0,120*3,1))\n",
    "pert_bench_18.fluxCalc()\n",
    "pert_bench_18.baroCalc()\n",
    "\n",
    "freshwater_content(pert_bench_18)\n",
    "density_calc(pert_bench_18)\n",
    "fluxesCalculation2(pert_bench_18)\n",
    "clear_memory(pert_bench_18)"
   ]
  },
  {
   "cell_type": "code",
   "execution_count": 6,
   "metadata": {
    "collapsed": false
   },
   "outputs": [
    {
     "name": "stdout",
     "output_type": "stream",
     "text": [
      "Data read from /hpcdata/scratch/am8e13/arctic420x384/experiments/exp_const/results/\n",
      "Read Monitor\n",
      "Read Seaice Monitor\n",
      "Read StDyn data\n",
      "Read seaice\n",
      "Read Mxldepth\n",
      "Memory cleared\n"
     ]
    }
   ],
   "source": [
    "times = range(0,60,1)+range(61,61+60,1)\n",
    "pert_const_18 = RunRead()\n",
    "pert_const_18.getPath('/hpcdata/scratch/am8e13/arctic420x384/experiments/exp_const/results/')\n",
    "pert_const_18.readStateData(times)\n",
    "pert_const_18.title('Const restoring','red')\n",
    "pert_const_18.readMonitorData([6220800,6480000])\n",
    "pert_const_18.readMonitorSeaiceData([6220800,6480000])\n",
    "pert_const_18.readDynStData(11,[6220800,6480000])\n",
    "pert_const_18.seaiceread(range(0,75,1))\n",
    "pert_const_18.mxldepthread(range(0,120*3,1))\n",
    "pert_const_18.fluxCalc()\n",
    "pert_const_18.baroCalc()\n",
    "\n",
    "freshwater_content(pert_const_18)\n",
    "density_calc(pert_const_18)\n",
    "fluxesCalculation2(pert_const_18)\n",
    "clear_memory(pert_const_18)"
   ]
  },
  {
   "cell_type": "code",
   "execution_count": 7,
   "metadata": {
    "collapsed": false
   },
   "outputs": [
    {
     "name": "stdout",
     "output_type": "stream",
     "text": [
      "Data read from /hpcdata/scratch/am8e13/arctic420x384/experiments/exp_1y/results/\n",
      "Read Monitor\n",
      "Read Seaice Monitor\n",
      "Read StDyn data\n",
      "Read seaice\n",
      "Read Mxldepth\n",
      "Memory cleared\n"
     ]
    }
   ],
   "source": [
    "times = range(0,60,1)+range(61,61+12,1)+range(74,74+48,1)\n",
    "pert_1y_18 = RunRead()\n",
    "pert_1y_18.getPath('/hpcdata/scratch/am8e13/arctic420x384/experiments/exp_1y/results/')\n",
    "pert_1y_18.readStateData(times)\n",
    "pert_1y_18.title('Const restoring','red')\n",
    "pert_1y_18.readMonitorData([6220800,6480000,6531840])\n",
    "pert_1y_18.readMonitorSeaiceData([6220800,6480000,6531840])\n",
    "pert_1y_18.readDynStData(11,[6220800,6480000,6531840])\n",
    "pert_1y_18.seaiceread(range(0,75,1))\n",
    "pert_1y_18.mxldepthread(range(0,120*3,1))\n",
    "pert_1y_18.fluxCalc()\n",
    "pert_1y_18.baroCalc()\n",
    "\n",
    "freshwater_content(pert_1y_18)\n",
    "density_calc(pert_1y_18)\n",
    "fluxesCalculation2(pert_1y_18)\n",
    "clear_memory(pert_1y_18)"
   ]
  },
  {
   "cell_type": "code",
   "execution_count": 8,
   "metadata": {
    "collapsed": false
   },
   "outputs": [
    {
     "name": "stdout",
     "output_type": "stream",
     "text": [
      "Data read from /hpcdata/scratch/am8e13/arctic420x384/experiments/exp_1y_rest/results/\n",
      "Read Monitor\n",
      "Read Seaice Monitor\n",
      "Read StDyn data\n",
      "Read seaice\n",
      "Read Mxldepth\n",
      "Memory cleared\n"
     ]
    }
   ],
   "source": [
    "times = range(0,60,1)+range(61,61+12,1)+range(74,74+48,1)\n",
    "pert_1y_rest_18 = RunRead()\n",
    "pert_1y_rest_18.getPath('/hpcdata/scratch/am8e13/arctic420x384/experiments/exp_1y_rest/results/')\n",
    "pert_1y_rest_18.readStateData(times)\n",
    "pert_1y_rest_18.title('Const restoring','red')\n",
    "pert_1y_rest_18.readMonitorData([6220800,6480000,6531840])\n",
    "pert_1y_rest_18.readMonitorSeaiceData([6220800,6480000,6531840])\n",
    "pert_1y_rest_18.readDynStData(11,[6220800,6480000,6531840])\n",
    "pert_1y_rest_18.seaiceread(range(0,75,1))\n",
    "pert_1y_rest_18.mxldepthread(range(0,120*3,1))\n",
    "pert_1y_rest_18.fluxCalc()\n",
    "pert_1y_rest_18.baroCalc()\n",
    "\n",
    "freshwater_content(pert_1y_rest_18)\n",
    "density_calc(pert_1y_rest_18)\n",
    "fluxesCalculation2(pert_1y_rest_18)\n",
    "clear_memory(pert_1y_rest_18)"
   ]
  },
  {
   "cell_type": "code",
   "execution_count": 9,
   "metadata": {
    "collapsed": false
   },
   "outputs": [
    {
     "name": "stdout",
     "output_type": "stream",
     "text": [
      "Data read from /hpcdata/scratch/am8e13/arctic420x384/experiments/exp_40_const/results/\n",
      "Read Monitor\n",
      "Read Seaice Monitor\n",
      "Read StDyn data\n",
      "Read seaice\n",
      "Read Mxldepth\n",
      "Memory cleared\n"
     ]
    }
   ],
   "source": [
    "times = range(0,60,1)+range(61,61+60,1)\n",
    "pert_40_18 = RunRead()\n",
    "pert_40_18.getPath('/hpcdata/scratch/am8e13/arctic420x384/experiments/exp_40_const/results/')\n",
    "pert_40_18.readStateData(times)\n",
    "pert_40_18.title('Const restoring','red')\n",
    "pert_40_18.readMonitorData([6220800,6480000])\n",
    "pert_40_18.readMonitorSeaiceData([6220800,6480000])\n",
    "pert_40_18.readDynStData(11,[6220800,6480000])\n",
    "pert_40_18.seaiceread(range(0,75,1))\n",
    "pert_40_18.mxldepthread(range(0,120*3,1))\n",
    "pert_40_18.fluxCalc()\n",
    "pert_40_18.baroCalc()\n",
    "\n",
    "freshwater_content(pert_40_18)\n",
    "density_calc(pert_40_18)\n",
    "fluxesCalculation2(pert_40_18)\n",
    "clear_memory(pert_40_18)"
   ]
  },
  {
   "cell_type": "code",
   "execution_count": 10,
   "metadata": {
    "collapsed": false
   },
   "outputs": [
    {
     "name": "stdout",
     "output_type": "stream",
     "text": [
      "Data read from /hpcdata/scratch/am8e13/arctic420x384/experiments/exp_50_const/results/\n",
      "Read Monitor\n",
      "Read Seaice Monitor\n",
      "Read StDyn data\n",
      "Read seaice\n",
      "Read Mxldepth\n",
      "Memory cleared\n"
     ]
    }
   ],
   "source": [
    "times = range(0,60,1)+range(61,61+60,1)\n",
    "pert_50_18 = RunRead()\n",
    "pert_50_18.getPath('/hpcdata/scratch/am8e13/arctic420x384/experiments/exp_50_const/results/')\n",
    "pert_50_18.readStateData(times)\n",
    "pert_50_18.title('Const restoring','red')\n",
    "pert_50_18.readMonitorData([6220800,6480000])\n",
    "pert_50_18.readMonitorSeaiceData([6220800,6480000])\n",
    "pert_50_18.readDynStData(11,[6220800,6480000])\n",
    "pert_50_18.seaiceread(range(0,75,1))\n",
    "pert_50_18.mxldepthread(range(0,120*3,1))\n",
    "pert_50_18.fluxCalc()\n",
    "pert_50_18.baroCalc()\n",
    "\n",
    "freshwater_content(pert_50_18)\n",
    "density_calc(pert_50_18)\n",
    "fluxesCalculation2(pert_50_18)\n",
    "clear_memory(pert_50_18)"
   ]
  },
  {
   "cell_type": "code",
   "execution_count": 11,
   "metadata": {
    "collapsed": false
   },
   "outputs": [
    {
     "name": "stdout",
     "output_type": "stream",
     "text": [
      "Data read from /hpcdata/scratch/am8e13/arctic420x384/experiments/exp_70_const/results/\n",
      "Read Monitor\n",
      "Read Seaice Monitor\n",
      "Read StDyn data\n",
      "Read seaice\n",
      "Read Mxldepth\n",
      "Memory cleared\n"
     ]
    }
   ],
   "source": [
    "times = range(0,60,1)+range(61,61+60,1)\n",
    "pert_70_18 = RunRead()\n",
    "pert_70_18.getPath('/hpcdata/scratch/am8e13/arctic420x384/experiments/exp_70_const/results/')\n",
    "pert_70_18.readStateData(times)\n",
    "pert_70_18.title('Const restoring','red')\n",
    "pert_70_18.readMonitorData([6220800,6480000])\n",
    "pert_70_18.readMonitorSeaiceData([6220800,6480000])\n",
    "pert_70_18.readDynStData(11,[6220800,6480000])\n",
    "pert_70_18.seaiceread(range(0,75,1))\n",
    "pert_70_18.mxldepthread(range(0,120*3,1))\n",
    "pert_70_18.fluxCalc()\n",
    "pert_70_18.baroCalc()\n",
    "\n",
    "freshwater_content(pert_70_18)\n",
    "density_calc(pert_70_18)\n",
    "fluxesCalculation2(pert_70_18)\n",
    "clear_memory(pert_70_18)"
   ]
  },
  {
   "cell_type": "code",
   "execution_count": 12,
   "metadata": {
    "collapsed": false
   },
   "outputs": [
    {
     "name": "stdout",
     "output_type": "stream",
     "text": [
      "Data read from /hpcdata/scratch/am8e13/arctic420x384/experiments/exp_120_const/results/\n",
      "Read Monitor\n",
      "Read Seaice Monitor\n",
      "Read StDyn data\n",
      "Read seaice\n",
      "Read Mxldepth\n",
      "Memory cleared\n"
     ]
    }
   ],
   "source": [
    "times = range(0,60,1)+range(61,61+36,1)+range(98,98 + 24,1)\n",
    "pert_120_18 = RunRead()\n",
    "pert_120_18.getPath('/hpcdata/scratch/am8e13/arctic420x384/experiments/exp_120_const/results/')\n",
    "pert_120_18.readStateData(times)\n",
    "pert_120_18.title('Const restoring','red')\n",
    "pert_120_18.readMonitorData([6220800,6531840,6842880])\n",
    "pert_120_18.readMonitorSeaiceData([6220800,6531840,6842880])\n",
    "pert_120_18.readDynStData(11,[6220800,6531840,6842880])\n",
    "pert_120_18.seaiceread(range(0,75,1))\n",
    "pert_120_18.mxldepthread(range(0,120*3,1))\n",
    "pert_120_18.fluxCalc()\n",
    "pert_120_18.baroCalc()\n",
    "\n",
    "freshwater_content(pert_120_18)\n",
    "density_calc(pert_120_18)\n",
    "fluxesCalculation2(pert_120_18)\n",
    "clear_memory(pert_120_18)"
   ]
  },
  {
   "cell_type": "code",
   "execution_count": 13,
   "metadata": {
    "collapsed": false
   },
   "outputs": [
    {
     "name": "stdout",
     "output_type": "stream",
     "text": [
      "Data read from /hpcdata/scratch/am8e13/arctic420x384/experiments/exp_small/results/\n",
      "Read Monitor\n",
      "Read Seaice Monitor\n",
      "Read StDyn data\n",
      "Read seaice\n",
      "Read Mxldepth\n",
      "Memory cleared\n"
     ]
    }
   ],
   "source": [
    "times = range(0,60,1)+range(61,61+60,1)\n",
    "pert_small_18 = RunRead()\n",
    "pert_small_18.getPath('/hpcdata/scratch/am8e13/arctic420x384/experiments/exp_small/results/')\n",
    "pert_small_18.readStateData(times)\n",
    "pert_small_18.title('Const restoring','red')\n",
    "pert_small_18.readMonitorData([6220800,6480000])\n",
    "pert_small_18.readMonitorSeaiceData([6220800,6480000])\n",
    "pert_small_18.readDynStData(11,[6220800,6480000])\n",
    "pert_small_18.seaiceread(range(0,75,1))\n",
    "pert_small_18.mxldepthread(range(0,120*3,1))\n",
    "pert_small_18.fluxCalc()\n",
    "pert_small_18.baroCalc()\n",
    "\n",
    "freshwater_content(pert_small_18)\n",
    "density_calc(pert_small_18)\n",
    "fluxesCalculation2(pert_small_18)\n",
    "clear_memory(pert_small_18)"
   ]
  },
  {
   "cell_type": "code",
   "execution_count": 14,
   "metadata": {
    "collapsed": false
   },
   "outputs": [
    {
     "name": "stdout",
     "output_type": "stream",
     "text": [
      "Data read from /hpcdata/scratch/am8e13/arctic420x384/experiments/exp_big/results/\n",
      "Read Monitor\n",
      "Read Seaice Monitor\n",
      "Read StDyn data\n",
      "Read seaice\n",
      "Read Mxldepth\n",
      "Memory cleared\n"
     ]
    }
   ],
   "source": [
    "times = range(0,60,1)+range(61,61+36,1)+range(98,98+24,1)\n",
    "pert_big_18 = RunRead()\n",
    "pert_big_18.getPath('/hpcdata/scratch/am8e13/arctic420x384/experiments/exp_big/results/')\n",
    "pert_big_18.readStateData(times)\n",
    "pert_big_18.title('Const restoring','red')\n",
    "pert_big_18.readMonitorData([6220800,6531840,6842880])\n",
    "pert_big_18.readMonitorSeaiceData([6220800,6531840,6842880])\n",
    "pert_big_18.readDynStData(11,[6220800,6531840,6842880])\n",
    "pert_big_18.seaiceread(range(0,75,1))\n",
    "pert_big_18.mxldepthread(range(0,120*3,1))\n",
    "pert_big_18.fluxCalc()\n",
    "pert_big_18.baroCalc()\n",
    "\n",
    "freshwater_content(pert_big_18)\n",
    "density_calc(pert_big_18)\n",
    "fluxesCalculation2(pert_big_18)\n",
    "clear_memory(pert_big_18)"
   ]
  },
  {
   "cell_type": "code",
   "execution_count": 15,
   "metadata": {
    "collapsed": false
   },
   "outputs": [
    {
     "name": "stdout",
     "output_type": "stream",
     "text": [
      "Data read from /hpcdata/scratch/am8e13/arctic420x384/experiments/exp_short/results/\n",
      "Read Monitor\n",
      "Read Seaice Monitor\n",
      "Read StDyn data\n",
      "Read seaice\n",
      "Read Mxldepth\n",
      "Memory cleared\n"
     ]
    }
   ],
   "source": [
    "times = range(0,60,1)+range(61,61+24,1)+range(86,86+24,1)+range(110,110+12,1)\n",
    "pert_short_18 = RunRead()\n",
    "pert_short_18.getPath('/hpcdata/scratch/am8e13/arctic420x384/experiments/exp_short/results/')\n",
    "pert_short_18.readStateData(times)\n",
    "pert_short_18.title('Const restoring','red')\n",
    "pert_short_18.readMonitorData([6220800,6480000,6583680,6687360])\n",
    "pert_short_18.readMonitorSeaiceData([6220800,6480000,6583680,6687360])\n",
    "pert_short_18.readDynStData(11,[6220800,6480000,6583680,6687360])\n",
    "pert_short_18.seaiceread(range(0,75,1))\n",
    "pert_short_18.mxldepthread(range(0,120*3,1))\n",
    "pert_short_18.fluxCalc()\n",
    "pert_short_18.baroCalc()\n",
    "\n",
    "freshwater_content(pert_short_18)\n",
    "density_calc(pert_short_18)\n",
    "fluxesCalculation2(pert_short_18)\n",
    "clear_memory(pert_short_18)"
   ]
  },
  {
   "cell_type": "code",
   "execution_count": 16,
   "metadata": {
    "collapsed": false
   },
   "outputs": [
    {
     "name": "stdout",
     "output_type": "stream",
     "text": [
      "Data read from /hpcdata/scratch/am8e13/arctic420x384/experiments/exp_tall/results/\n",
      "Read Monitor\n",
      "Read Seaice Monitor\n",
      "Read StDyn data\n",
      "Read seaice\n",
      "Read Mxldepth\n",
      "Memory cleared\n"
     ]
    }
   ],
   "source": [
    "times = range(0,60,1)+range(61,61+12,1)+range(74,74+12,1)+range(87,87+12,1)+range(100,100+12,1)+range(113,113+12,1)\n",
    "pert_tall_18 = RunRead()\n",
    "pert_tall_18.getPath('/hpcdata/scratch/am8e13/arctic420x384/experiments/exp_tall/results/')\n",
    "pert_tall_18.readStateData(times)\n",
    "pert_tall_18.title('Const restoring','red')\n",
    "pert_tall_18.readMonitorData([6220800,6531840,6635520,6739200,6842880,6946560])\n",
    "pert_tall_18.readMonitorSeaiceData([6220800,6531840,6635520,6739200,6842880,6946560])\n",
    "pert_tall_18.readDynStData(11,[6220800,6531840,6635520,6739200,6842880,6946560])\n",
    "pert_tall_18.seaiceread(range(0,75,1))\n",
    "pert_tall_18.mxldepthread(range(0,120*3,1))\n",
    "pert_tall_18.fluxCalc()\n",
    "pert_tall_18.baroCalc()\n",
    "\n",
    "freshwater_content(pert_tall_18)\n",
    "density_calc(pert_tall_18)\n",
    "fluxesCalculation2(pert_tall_18)\n",
    "clear_memory(pert_tall_18)"
   ]
  },
  {
   "cell_type": "code",
   "execution_count": 17,
   "metadata": {
    "collapsed": false
   },
   "outputs": [
    {
     "name": "stdout",
     "output_type": "stream",
     "text": [
      "Data read from /hpcdata/scratch/am8e13/arctic420x384/experiments/exp_hinlop/results/\n",
      "Read Monitor\n",
      "Read Seaice Monitor\n",
      "Read StDyn data\n",
      "Read seaice\n",
      "Read Mxldepth\n",
      "Memory cleared\n"
     ]
    }
   ],
   "source": [
    "times = range(0,60,1)+range(61,61+12,1)+range(74,74+12,1)+range(87,87+12,1)+range(100,100+12,1)+range(113,113+12,1)\n",
    "pert_hinlop_18 = RunRead()\n",
    "pert_hinlop_18.getPath('/hpcdata/scratch/am8e13/arctic420x384/experiments/exp_hinlop/results/')\n",
    "pert_hinlop_18.readStateData(times)\n",
    "pert_hinlop_18.title('Const restoring','red')\n",
    "pert_hinlop_18.readMonitorData([6220800,6531840,6635520,6739200,6842880,6946560])\n",
    "pert_hinlop_18.readMonitorSeaiceData([6220800,6531840,6635520,6739200,6842880,6946560])\n",
    "pert_hinlop_18.readDynStData(11,[6220800,6531840,6635520,6739200,6842880,6946560])\n",
    "pert_hinlop_18.seaiceread(range(0,75,1))\n",
    "pert_hinlop_18.mxldepthread(range(0,120*3,1))\n",
    "pert_hinlop_18.fluxCalc()\n",
    "pert_hinlop_18.baroCalc()\n",
    "\n",
    "freshwater_content(pert_hinlop_18)\n",
    "density_calc(pert_hinlop_18)\n",
    "fluxesCalculation2(pert_hinlop_18)\n",
    "clear_memory(pert_hinlop_18)"
   ]
  },
  {
   "cell_type": "code",
   "execution_count": 18,
   "metadata": {
    "collapsed": false
   },
   "outputs": [
    {
     "name": "stdout",
     "output_type": "stream",
     "text": [
      "Data read from /hpcdata/scratch/am8e13/cs_36km_tutorial/experiments/exp_bench/results/\n",
      "Read Monitor\n",
      "Read Seaice Monitor\n",
      "Read StDyn data\n",
      "Read seaice\n",
      "Read Mxldepth\n",
      "Memory cleared\n"
     ]
    }
   ],
   "source": [
    "times = range(0,60,1)+range(61,61+60,1)\n",
    "pert_bench_36 = RunRead()\n",
    "pert_bench_36.getPath('/hpcdata/scratch/am8e13/cs_36km_tutorial/experiments/exp_bench/results/')\n",
    "pert_bench_36.title('No restoring','blue')\n",
    "pert_bench_36.readStateData(times)\n",
    "pert_bench_36.readMonitorData([5443200,5572800])\n",
    "pert_bench_36.readMonitorSeaiceData([5443200,5572800])\n",
    "pert_bench_36.readDynStData(11,[5443200,5572800])\n",
    "pert_bench_36.seaiceread(range(0,75,1))\n",
    "pert_bench_36.mxldepthread(range(0,120*3,1))\n",
    "pert_bench_36.fluxCalc()\n",
    "pert_bench_36.baroCalc()\n",
    "\n",
    "freshwater_content(pert_bench_36)\n",
    "density_calc(pert_bench_36)\n",
    "fluxesCalculation2(pert_bench_36)\n",
    "clear_memory(pert_bench_36)"
   ]
  },
  {
   "cell_type": "code",
   "execution_count": 19,
   "metadata": {
    "collapsed": false
   },
   "outputs": [
    {
     "name": "stdout",
     "output_type": "stream",
     "text": [
      "Data read from /hpcdata/scratch/am8e13/cs_36km_tutorial/experiments/exp_const/results/\n",
      "Read Monitor\n",
      "Read Seaice Monitor\n",
      "Read StDyn data\n",
      "Read seaice\n",
      "Read Mxldepth\n",
      "Memory cleared\n"
     ]
    }
   ],
   "source": [
    "times = range(0,60,1)+range(61,61+60,1)\n",
    "pert_const_36 = RunRead()\n",
    "pert_const_36.getPath('/hpcdata/scratch/am8e13/cs_36km_tutorial/experiments/exp_const/results/')\n",
    "pert_const_36.readStateData(times)\n",
    "pert_const_36.title('Const restoring','red')\n",
    "pert_const_36.readMonitorData([5443200,5572800])\n",
    "pert_const_36.readMonitorSeaiceData([5443200,5572800])\n",
    "pert_const_36.readDynStData(11,[5443200,5572800])\n",
    "pert_const_36.seaiceread(range(0,75,1))\n",
    "pert_const_36.mxldepthread(range(0,120*3,1))\n",
    "pert_const_36.fluxCalc()\n",
    "pert_const_36.baroCalc()\n",
    "\n",
    "freshwater_content(pert_const_36)\n",
    "density_calc(pert_const_36)\n",
    "fluxesCalculation2(pert_const_36)\n",
    "clear_memory(pert_const_36)"
   ]
  },
  {
   "cell_type": "code",
   "execution_count": 20,
   "metadata": {
    "collapsed": false
   },
   "outputs": [
    {
     "name": "stdout",
     "output_type": "stream",
     "text": [
      "pert_const_18\n",
      "pert_bench_18\n",
      "pert_const_36\n",
      "pert_bench_36\n",
      "pert_1y_18\n",
      "pert_1y_rest_18\n",
      "pert_40_18\n",
      "pert_50_18\n",
      "pert_70_18\n",
      "pert_120_18\n",
      "pert_small_18\n",
      "pert_big_18\n",
      "pert_tall_18\n",
      "pert_hinlop_18\n",
      "pert_short_18\n"
     ]
    }
   ],
   "source": [
    "all_perts = [pert_const_18,pert_bench_18,pert_const_36,pert_bench_36,\n",
    "            pert_1y_18,pert_1y_rest_18,\n",
    "            pert_40_18,pert_50_18,pert_70_18,pert_120_18,\n",
    "            pert_small_18,pert_big_18,pert_tall_18,pert_hinlop_18,pert_short_18]\n",
    "all_pert_str = ['pert_const_18','pert_bench_18','pert_const_36','pert_bench_36',\n",
    "            'pert_1y_18','pert_1y_rest_18',\n",
    "            'pert_40_18','pert_50_18','pert_70_18','pert_120_18',\n",
    "            'pert_small_18','pert_big_18','pert_tall_18','pert_hinlop_18','pert_short_18']\n",
    "\n",
    "pert_dicc = dict(zip(all_perts,all_pert_str))\n",
    "\n",
    "for pert in all_perts:\n",
    "    print pert_dicc[pert]\n",
    "    f = open('/scratch/general/am8e13/pert_pickles/'+pert_dicc[pert], 'w')\n",
    "    pickle.dump(pert,f)\n",
    "    f.close()"
   ]
  },
  {
   "cell_type": "code",
   "execution_count": 21,
   "metadata": {
    "collapsed": false
   },
   "outputs": [
    {
     "ename": "NameError",
     "evalue": "name 'aaaa' is not defined",
     "output_type": "error",
     "traceback": [
      "\u001b[1;31m---------------------------------------------------------------------------\u001b[0m",
      "\u001b[1;31mNameError\u001b[0m                                 Traceback (most recent call last)",
      "\u001b[1;32m<ipython-input-21-e5828c564f71>\u001b[0m in \u001b[0;36m<module>\u001b[1;34m()\u001b[0m\n\u001b[1;32m----> 1\u001b[1;33m \u001b[0maaaa\u001b[0m\u001b[1;33m\u001b[0m\u001b[0m\n\u001b[0m",
      "\u001b[1;31mNameError\u001b[0m: name 'aaaa' is not defined"
     ]
    }
   ],
   "source": [
    "aaaa"
   ]
  },
  {
   "cell_type": "code",
   "execution_count": null,
   "metadata": {
    "collapsed": false,
    "scrolled": false
   },
   "outputs": [],
   "source": [
    "times = range(0,6,1)+range(7,7+6,1)+range(14,14+6,1)+range(21,21+6,1)+range(28,28+6,1)+range(35,35+6,1)+ \\\n",
    "        range(42,42+6,1)+range(49,49+6,1)+range(56,56+6,1)+range(63,63+6,1)+range(70,70+6,1)+range(77,77+6,1)+\\\n",
    "        range(84,84+6,1)+range(91,91+6,1)+range(98,98+6,1)+range(105,105+6,1)+range(112,112+6,1)+range(119,119+6,1)+\\\n",
    "        range(126,126+4,1)+range(131,131+4,1)+range(136,136+4,1)\n",
    "        \n",
    "pert_bench_9 = RunRead()\n",
    "pert_bench_9.getPath('/hpcdata/scratch/am8e13/run_template_9km/experiments/exp_bench/results/')\n",
    "pert_bench_9.title('No restoring','blue')\n",
    "pert_bench_9.readStateData(times)\n",
    "#\n",
    "pert_bench_9.readMonitorData([5253120,5304960,5356800,5408640,5460480,5512320,5564160,5616000,5667840,5719680,\\\n",
    "                              5771520,5823360,5875200,5927040,5978880,6030720,6082560,6134400,6186240,6220800,6255360])\n",
    "pert_bench_9.readMonitorSeaiceData([5253120,5304960,5356800,5408640,5460480,5512320,5564160,5616000,5667840,5719680,\\\n",
    "                              5771520,5823360,5875200,5927040,5978880,6030720,6082560,6134400,6186240,6220800,6255360])\n",
    "pert_bench_9.readDynStData(11,[5253120,5304960,5356800,5408640,5460480,5512320,5564160,5616000,5667840,5719680,\\\n",
    "                              5771520,5823360,5875200,5927040,5978880,6030720,6082560,6134400,6186240,6220800,6255360])\n",
    "#pert_bench_9.seaiceread(range(0,75,1))\n",
    "pert_bench_9.mxldepthread(range(0,120*3,1))\n",
    "pert_bench_9.fluxCalc()\n",
    "pert_bench_9.baroCalc()\n",
    "\n",
    "freshwater_content(pert_bench_9)\n",
    "density_calc(pert_bench_9)\n",
    "fluxesCalculation2(pert_bench_9)\n",
    "clear_memory(pert_bench_9)"
   ]
  },
  {
   "cell_type": "code",
   "execution_count": null,
   "metadata": {
    "collapsed": false
   },
   "outputs": [],
   "source": [
    "all_perts = [pert_bench_9]\n",
    "all_pert_str = ['pert_bench_9']\n",
    "\n",
    "pert_dicc = dict(zip(all_perts,all_pert_str))\n",
    "\n",
    "for pert in all_perts:\n",
    "    print pert_dicc[pert]\n",
    "    f = open('/scratch/general/am8e13/pert_pickles/'+pert_dicc[pert], 'w')\n",
    "    pickle.dump(pert,f)\n",
    "    f.close()"
   ]
  },
  {
   "cell_type": "code",
   "execution_count": null,
   "metadata": {
    "collapsed": false
   },
   "outputs": [],
   "source": [
    "lisfiles = glob.glob('/hpcdata/scratch/am8e13/run_template_9km/experiments/exp_const_150/filesout/trace*/monitor.*')\n",
    "\n",
    "def extract(files):\n",
    "    iters = []\n",
    "    for j in files:\n",
    "        iters.append(int(j.split('/')[-1].split('.')[1]))\n",
    "    iters.sort()\n",
    "    return iters\n",
    "\n",
    "iters_post = extract(lisfiles)\n",
    "iters_pre = [5253120,5304960,5356800,5408640,5460480,5512320,5564160,5616000,5667840,5719680]\n",
    "iters = iters_pre + iters_post\n",
    "\n",
    "times_pre = range(0,6,1)+range(7,7+6,1)+range(14,14+6,1)+range(21,21+6,1)+range(28,28+6,1)+range(35,35+6,1)+ \\\n",
    "        range(42,42+6,1)+range(49,49+6,1)+range(56,56+6,1)+range(63,63+6,1)\n",
    "start = 70\n",
    "times = [range(0 + start,2 + start,1 )] + [range(j + start, j + 2 + start, 1) for j in range(3,3*len(iters_post),3)]\n",
    "timest_9const = times_pre + [item for sublist in times for item in sublist] "
   ]
  },
  {
   "cell_type": "code",
   "execution_count": null,
   "metadata": {
    "collapsed": false,
    "scrolled": false
   },
   "outputs": [],
   "source": [
    "pert_const_9 = RunRead()\n",
    "pert_const_9.getPath('/hpcdata/scratch/am8e13/run_template_9km/experiments/exp_const_150/results/')\n",
    "pert_const_9.title('No restoring','blue')\n",
    "pert_const_9.readStateData(timest_9const)\n",
    "pert_const_9.readMonitorData(iters)\n",
    "pert_const_9.readMonitorSeaiceData(iters)\n",
    "pert_const_9.readDynStData(11,iters)\n",
    "#pert_const_9.seaiceread(range(0,75,1))\n",
    "pert_const_9.mxldepthread(range(0,120*3,1))\n",
    "pert_const_9.fluxCalc()\n",
    "pert_const_9.baroCalc()\n",
    "\n",
    "freshwater_content(pert_const_9)\n",
    "density_calc(pert_const_9)\n",
    "fluxesCalculation2(pert_const_9)\n",
    "clear_memory(pert_const_9)"
   ]
  },
  {
   "cell_type": "code",
   "execution_count": null,
   "metadata": {
    "collapsed": false
   },
   "outputs": [],
   "source": [
    "all_perts = [pert_const_9]\n",
    "all_pert_str = ['pert_const_9',]\n",
    "\n",
    "pert_dicc = dict(zip(all_perts,all_pert_str))\n",
    "\n",
    "for pert in all_perts:\n",
    "    print pert_dicc[pert]\n",
    "    f = open('/scratch/general/am8e13/pert_pickles/'+pert_dicc[pert], 'w')\n",
    "    pickle.dump(pert,f)\n",
    "    f.close()"
   ]
  },
  {
   "cell_type": "code",
   "execution_count": null,
   "metadata": {
    "collapsed": true
   },
   "outputs": [],
   "source": [
    "all_perts = [pert_const_18,pert_bench_18,pert_const_36,pert_bench_36,\n",
    "            pert_1y_18,pert_1y_rest_18,pert_9_bench,pert_9_const,\n",
    "            pert_40_18,pert_50_18,pert_70_18,pert_120_18,\n",
    "            pert_small_18,pert_big_18,pert_tall_18,pert_hinlop_18,pert_short_18]\n",
    "all_pert_str = ['pert_const_18','pert_bench_18','pert_const_36','pert_bench_36',\n",
    "            'pert_1y_18','pert_1y_rest_18','pert_9_bench','pert_9_const',\n",
    "            'pert_40_18','pert_50_18','pert_70_18','pert_120_18',\n",
    "            'pert_small_18','pert_big_18','pert_tall_18','pert_hinlop_18','pert_short_18']\n",
    "\n",
    "pert_dicc = dict(zip(all_perts,all_pert_str))\n",
    "\n",
    "for pert in all_perts:\n",
    "    print pert_dicc[pert]\n",
    "    f = open('/scratch/general/am8e13/pert_pickles/'+pert_dicc[pert], 'w')\n",
    "    pickle.dump(pert,f)\n",
    "    f.close()"
   ]
  },
  {
   "cell_type": "markdown",
   "metadata": {},
   "source": [
    "# The perturbation\n",
    "\n",
    "We first plot the salinity anomaly difference between the perturbation experimet nad the control run"
   ]
  },
  {
   "cell_type": "code",
   "execution_count": null,
   "metadata": {
    "collapsed": true
   },
   "outputs": [],
   "source": [
    "times = [1+12*5, 3+12*5, 6+12*5, 9+12*5,18+12*5,36+12*5]"
   ]
  },
  {
   "cell_type": "code",
   "execution_count": null,
   "metadata": {
    "collapsed": true
   },
   "outputs": [],
   "source": [
    "def read_snap(run,time):\n",
    "    run.snap = []\n",
    "    file2read = netcdf.NetCDFFile(run.path+'state.nc','r')\n",
    "    Temp=file2read.variables['S']    \n",
    "    run.snap=Temp[time]*1\n",
    "    print 'read snap for '+run.title"
   ]
  },
  {
   "cell_type": "code",
   "execution_count": null,
   "metadata": {
    "collapsed": false
   },
   "outputs": [],
   "source": [
    "pert_conc = {\"05 psu\" : {\"const\" : pert_40_18, \"bench\" : pert_bench_18},\\\n",
    "            \"15 psu\" : {\"const\" : pert_50_18, \"bench\" : pert_bench_18},\\\n",
    "            \"35 psu\" : {\"const\" : pert_70_18, \"bench\" : pert_bench_18},\\\n",
    "            \"65 psu\" : {\"const\" : pert_const_18, \"bench\" : pert_bench_18} ,\\\n",
    "            \"85 psu\" : {\"const\" : pert_120_18, \"bench\" : pert_bench_18},}\n",
    "\n",
    "for el in pert_conc:\n",
    "    run_snap(pert_conc[el]['const'][12+12*5])\n",
    "    \n",
    "pert_conc['15 psu']['bench'].readStateData([12+12*5])\n",
    "\n",
    "pert_conc = {\"05 psu\" : {\"const\" : pert_40_18, \"bench\" : pert_bench_18},\\\n",
    "            \"15 psu\" : {\"const\" : pert_50_18, \"bench\" : pert_bench_18},\\\n",
    "            \"35 psu\" : {\"const\" : pert_70_18, \"bench\" : pert_bench_18},\\\n",
    "            \"65 psu\" : {\"const\" : pert_const_18, \"bench\" : pert_bench_18} ,\\\n",
    "            \"85 psu\" : {\"const\" : pert_120_18, \"bench\" : pert_bench_18},}\n"
   ]
  },
  {
   "cell_type": "code",
   "execution_count": null,
   "metadata": {
    "collapsed": false
   },
   "outputs": [],
   "source": [
    "def basemap_perturbation_mpert(data_dic):\n",
    "    lat_ts=90.0 ; lat_0=90.0 ; lon_0=-45.0 ;sgn=1\n",
    "    width=7000000. ; height=7000000.0\n",
    "    ind = 0\n",
    "    vimin = 0 ; vimax = 40\n",
    "    fig, axes = plt.subplots(2,3)\n",
    "            \n",
    "    for el in ['05 psu','15 psu','35 psu','65 psu','85 psu']:\n",
    "        data_pert = data_dic[el]['const']\n",
    "        data_diff = data_dic[el]['bench']\n",
    "        grid = grid_read(data_pert.res)\n",
    "        \n",
    "        depth = np.tile([grid['Zp']],(len(data_pert.X),len(data_pert.Y),1))\n",
    "        depth = np.swapaxes(depth,0,2) \n",
    "        \n",
    "        m = Basemap(ax=axes.flat[ind],width=width,height=height,resolution='l',\\\n",
    "                    projection='stere',lat_ts=lat_ts,lat_0=lat_0,lon_0=lon_0)\n",
    "        # the continents will be drawn on top.\n",
    "        m.drawmapboundary(fill_color='black')\n",
    "        # fill continents, set lake color same as ocean color.\n",
    "        m.fillcontinents(color='grey',lake_color='black')\n",
    "        x,y=m(data_pert.lon,data_pert.lat)\n",
    "        \n",
    "        data = np.array(data_pert.data['S'][0,:,:,:])\n",
    "        data1 = np.array(data_diff.data['S'][0,:,:,:])    \n",
    "        datam = np.nansum(data*depth,axis=0)/np.abs(data_pert.Z[49]) - \\\n",
    "                np.nansum(data1*depth,axis=0)/np.abs(data_pert.Z[49])\n",
    "        \n",
    "        sitm = np.ma.masked_where(np.isnan(datam),datam)\n",
    "        CS=m.pcolormesh(x,y,sitm,cmap=matplotlib.cm.hot,vmin=vimin,vmax=vimax,\\\n",
    "                        norm=matplotlib.colors.PowerNorm(gamma=1./3.))\n",
    "        m.drawparallels(np.arange(-80.,81.,15.))\n",
    "        m.drawmeridians(np.arange(-180.,181.,30.))\n",
    "        axes.flat[ind].set_title(el,fontsize=16)\n",
    "        ind += 1\n",
    "    fig.suptitle(\"Concentration experiments perturbation spreading\",x=1.,y=2.,fontsize=18)\n",
    "    cbar_ax = fig.add_axes([1.9, 0.4, 0.045, 1.4])\n",
    "    cbar = plt.colorbar(CS, cax=cbar_ax,)\n",
    "    cbar.ax.set_ylabel(r'psu',fontsize=14)\n",
    "    cbar.ax.tick_params(labelsize=14)\n",
    "    cbar.ax.set_xticklabels([0,1,2,5,10,20,40])\n",
    "    fig.subplots_adjust(right=1.7,top=1.8)    \n",
    "    #fig.savefig('/noc/users/am8e13/Figures/mpert_conc_map',dpi=dpires, bbox_inches='tight')\n",
    "    \n",
    "basemap_perturbation_mpert(pert_conc)"
   ]
  },
  {
   "cell_type": "markdown",
   "metadata": {},
   "source": [
    "#Barotropic Streamfunction\n",
    "\n",
    "Perturbation generates strong currents particularly in the nordic seas spreading into the Arctic, we check barotropic streamfunction to study magnitude and features of the generated currents."
   ]
  },
  {
   "cell_type": "code",
   "execution_count": null,
   "metadata": {
    "collapsed": true
   },
   "outputs": [],
   "source": [
    "def reg_titles():\n",
    "    region_titles = {0 : 'Global' , 1 : 'Arctic' , 2 : 'Nord Seas' , 3 : 'North Atl', 4: 'Norwegian' ,\\\n",
    "                     5: 'Greenland' , 6 : 'Lofoten' , 7 : 'Iceland Sea' , 8 : 'Labrador'}\n",
    "    return region_titles"
   ]
  },
  {
   "cell_type": "code",
   "execution_count": null,
   "metadata": {
    "collapsed": false
   },
   "outputs": [],
   "source": [
    "pert_dic = {\"pert_18\" : {\"const\" : pert_const_18, \"bench\" : pert_bench_18} ,\\\n",
    "            \"pert_36\" : {\"const\" : pert_const_36, \"bench\" : pert_bench_36}, \\\n",
    "            \"pert_1y_18\" : {\"const\" : pert_1y_18, \"bench\" : pert_bench_18},\\\n",
    "            \"pert_40_18\" : {\"const\" : pert_40_18, \"bench\" : pert_bench_18},\\\n",
    "            \"pert_50_18\" : {\"const\" : pert_50_18, \"bench\" : pert_bench_18},\\\n",
    "            \"pert_70_18\" : {\"const\" : pert_70_18, \"bench\" : pert_bench_18},\\\n",
    "            \"pert_120_18\" : {\"const\" : pert_120_18, \"bench\" : pert_bench_18},\\\n",
    "            \"pert_small_18\" : {\"const\" : pert_small_18, \"bench\" : pert_bench_18},\\\n",
    "            \"pert_big_18\" : {\"const\" : pert_big_18, \"bench\" : pert_bench_18}}\n",
    "\n",
    "pert_col = {\"pert_18\" : 'blue' , 'pert_36' : 'red', 'pert_1y_18' : 'green',\"pert_40_18\" : 'orange' ,\\\n",
    "            \"pert_50_18\" : 'orange' , \"pert_70_18\" : 'grey' , \"pert_120_18\" : 'black', \\\n",
    "            \"pert_small_18\" : 'violet','pert_big_18':'brown'}"
   ]
  },
  {
   "cell_type": "code",
   "execution_count": null,
   "metadata": {
    "collapsed": false
   },
   "outputs": [],
   "source": [
    "pert_conc = {\"05 psu\" : {\"const\" : pert_40_18, \"bench\" : pert_bench_18},\\\n",
    "            \"15 psu\" : {\"const\" : pert_50_18, \"bench\" : pert_bench_18},\\\n",
    "            \"35 psu\" : {\"const\" : pert_70_18, \"bench\" : pert_bench_18},\\\n",
    "            \"65 psu\" : {\"const\" : pert_const_18, \"bench\" : pert_bench_18} ,\\\n",
    "            \"85 psu\" : {\"const\" : pert_120_18, \"bench\" : pert_bench_18},}\n",
    "pert_conc_col = {\"05 psu\" : 'cyan',\"15 psu\" : 'orange',\"35 psu\" : 'red',\"65 psu\" : 'violet',\"85 psu\" : 'green'}"
   ]
  },
  {
   "cell_type": "code",
   "execution_count": null,
   "metadata": {
    "collapsed": true
   },
   "outputs": [],
   "source": [
    "pert_time = {\"5 years\" : {\"const\" : pert_const_18, \"bench\" : pert_bench_18} ,\\\n",
    "           \"1 year\" : {\"const\" : pert_1y_18, \"bench\" : pert_bench_18},\\\n",
    "           \"1y rest\" : {\"const\" : pert_1y_rest_18, \"bench\" : pert_bench_18}}\n",
    "pert_time_col = { \"5 years\" : 'orange', \"1 year\" : 'green' , \"1y rest\" : 'red'}"
   ]
  },
  {
   "cell_type": "code",
   "execution_count": null,
   "metadata": {
    "collapsed": true
   },
   "outputs": [],
   "source": [
    "pert_size = {\"big\" : {\"const\" : pert_big_18, \"bench\" : pert_bench_18} ,\\\n",
    "           \"normal\" : {\"const\" : pert_const_18, \"bench\" : pert_bench_18},\\\n",
    "           \"small\" : {\"const\" : pert_small_18, \"bench\" : pert_bench_18},\n",
    "            \"short\" : {\"const\" : pert_short_18, \"bench\" : pert_bench_18},\n",
    "            \"tall\" : {\"const\" : pert_tall_18, \"bench\" : pert_bench_18},\n",
    "            \"hinlop\" : {\"const\" : pert_hinlop_18, \"bench\" : pert_bench_18},}\n",
    "pert_size_col = { \"big\" : 'violet', \"normal\" : 'red' , \"small\" : 'blue','short':'orange' , 'hinlop' : 'brown' , \\\n",
    "                 'tall' : 'cyan'}"
   ]
  },
  {
   "cell_type": "code",
   "execution_count": null,
   "metadata": {
    "collapsed": true
   },
   "outputs": [],
   "source": [
    "pert_res = {\"36 km\" : {\"const\" : pert_const_36, \"bench\" : pert_bench_36} ,\\\n",
    "            \"09 km\" : {\"const\" : pert_const_9, \"bench\" : pert_bench_9},\\\n",
    "           \"18 km\" : {\"const\" : pert_const_18, \"bench\" : pert_bench_18},}\n",
    "pert_res_col = { \"36 km\" : 'blue', \"18 km\" : 'red' , \"09 km\" : 'black'}"
   ]
  },
  {
   "cell_type": "code",
   "execution_count": null,
   "metadata": {
    "collapsed": false,
    "scrolled": false
   },
   "outputs": [],
   "source": [
    "# Plot sea surface elevation per regions\n",
    "def plot_dynStLayers(dic,col_dic,name,row=4,col=2):\n",
    "    # this function is meant to plot monitor variables\n",
    "    fig, axes = plt.subplots(row,col,sharex=True,sharey=True)\n",
    "    handles = []    \n",
    "    labels = []\n",
    "    for el in dic:\n",
    "        data_pert = dic[el][\"const\"] ; data_diff = dic[el][\"bench\"] \n",
    "        grid = grid_read(data_pert.res)\n",
    "        mask1,mask2,mask3,mask4,mask5,mask6,mask7,mask8 = region_mask(data_pert.res)\n",
    "        mask0 = np.ones_like(mask1)\n",
    "        areamasks = {0:mask0 , 1 : mask1 , 2 : mask2 , 3 : mask3, \\\n",
    "                    4 : mask4, 5 : mask5, 6 : mask6, 7: mask7, 8 : mask8}\n",
    "        region_titles = reg_titles()\n",
    "        ax_ind = 0\n",
    "        alphavar = {'mean':1,'max':0.9,'min':0.9}\n",
    "\n",
    "        for reg in [0,4,1,5,2,6,3,7]:\n",
    "            maskcalc = np.tile(areamasks[reg][0,:,:],(data_pert.psi.shape[0],1,1))\n",
    "            data = np.array(data_pert.psi[:,:,0:data_pert.psi.shape[2]-1])\n",
    "            data1 = np.array(data_diff.psi)[0:data.shape[0],:,0:data_pert.psi.shape[2]-1]\n",
    "            datam = (data - data1)*maskcalc            \n",
    "            datadic = {'mean' : np.nanmean(np.nanmean(datam[:,:,:],axis=2),axis=1) ,\n",
    "                       'max'  : np.nanmax(np.nanmax(datam[:,:,:],axis=2),axis=1) ,\n",
    "                       'min'  : np.nanmin(np.nanmin(datam[:,:,:],axis=2),axis=1) }                \n",
    "            for var in ['mean','max','min']:\n",
    "                if var == 'mean':\n",
    "                    h = axes.flat[ax_ind].plot(data_diff.years[:]-5,datadic[var][:],color=col_dic[el],\n",
    "                                      alpha=alphavar[var],label=el)\n",
    "                    if el not in labels:\n",
    "                        handles.append(h[0])\n",
    "                        labels.append(el)\n",
    "                else:\n",
    "                    axes.flat[ax_ind].plot(data_diff.years[:]-5,datadic[var][:],color=col_dic[el],\n",
    "                                      alpha=alphavar[var])\n",
    "                axes.flat[ax_ind].set_title('Barotropic streamfunction '+region_titles[reg],fontsize=16)\n",
    "                axes.flat[ax_ind].tick_params(axis='both', which='major', labelsize=14)\n",
    "                if (ax_ind)%2 == 0:\n",
    "                    axes.flat[ax_ind].set_ylabel('Sv',fontsize=14)\n",
    "                axes.flat[6].set_xlabel('Years',fontsize=14)\n",
    "                axes.flat[7].set_xlabel('Years',fontsize=14)\n",
    "            ax_ind += 1\n",
    "    labels, handles = zip(*sorted(zip(labels, handles)))\n",
    "    print labels\n",
    "    plt.legend(handles=handles,labels=labels,bbox_to_anchor=(1.05, 1), loc=6, borderaxespad=0.,)\n",
    "    fig.subplots_adjust(right=1.6,top=1.6)   \n",
    "    #fig.savefig('/noc/users/am8e13/Figures/mpert_psi_'+name,dpi=dpires, bbox_inches='tight')\n",
    "    return labels,handles\n",
    "#plot_dynStLayers(pert_dic,pert_col)\n",
    "#labels,handles = plot_dynStLayers(pert_conc,pert_conc_col,'conc')\n",
    "#handles = plot_dynStLayers(pert_size,pert_size_col,'size')\n",
    "#plot_dynStLayers(pert_time,pert_time_col,'time')\n",
    "plot_dynStLayers(pert_res,pert_res_col,'res')"
   ]
  },
  {
   "cell_type": "markdown",
   "metadata": {},
   "source": [
    "# Steric response "
   ]
  },
  {
   "cell_type": "code",
   "execution_count": null,
   "metadata": {
    "collapsed": false,
    "scrolled": false
   },
   "outputs": [],
   "source": [
    "# Plot sea surface elevation per regions\n",
    "def plot_dynStLayers(dic,col_dic,name,row=4,col=2):\n",
    "    # this function is meant to plot monitor variables   \n",
    "    fig, axes = plt.subplots(row,col,sharex=True,sharey=True)    \n",
    "    region_titles = reg_titles()\n",
    "    var_s = ['eta_mean','eta_min','eta_max']\n",
    "    vartitles = {'eta_mean' : 'Eta Mean','eta_max' : 'Eta Max','eta_min' : 'Eta Min'}\n",
    "    alphavar = {'eta_mean':1,'eta_max':0.9,'eta_min':0.9}\n",
    "    ls_dic = { 36 : '-' , 18 : '--' , 9 : '..' }\n",
    "    colvar = {'eta_mean':'black','eta_max':'red','eta_min':'blue'}\n",
    "    for el in dic:\n",
    "        data_pert = dic[el][\"const\"] ; data_diff = dic[el][\"bench\"] \n",
    "        ax_ind = 0\n",
    "        for reg in [0,4,1,5,2,6,3,7]:\n",
    "            for var in ['eta_mean','eta_max','eta_min']:                    \n",
    "                nt1 = data_pert.dataDyn[var][:,reg,0].shape[0]\n",
    "                nt2 = data_diff.dataDyn[var][:,reg,0].shape[0]\n",
    "                nt = min(nt1,nt2)\n",
    "                data = data_pert.dataDyn[var][1:nt,reg,0] - data_diff.dataDyn[var][1:nt,reg,0]\n",
    "                if data_pert.res == 9:\n",
    "                    beg = 1\n",
    "                    yer = 5\n",
    "                else:\n",
    "                    beg = 0\n",
    "                    yer = 5\n",
    "                if var == 'eta_mean':\n",
    "                    axes.flat[ax_ind].plot(data_diff.dataDyn['time_lv_years'][beg:nt]-yer,data[:],\n",
    "                                    color=col_dic[el],alpha=alphavar[var],label=el)\n",
    "                else:\n",
    "                    axes.flat[ax_ind].plot(data_diff.dataDyn['time_lv_years'][beg:nt]-yer,data[:],\n",
    "                                    color=col_dic[el],alpha=alphavar[var])\n",
    "                axes.flat[ax_ind].set_title('Sea surface elevation '+region_titles[reg],fontsize=16)\n",
    "                if (ax_ind)%2 == 0:\n",
    "                    axes.flat[ax_ind].set_ylabel('m',fontsize=14)\n",
    "                axes.flat[6].set_xlabel('Years',fontsize=14)\n",
    "                axes.flat[7].set_xlabel('Years',fontsize=14)\n",
    "                axes.flat[ax_ind].tick_params(axis='both', which='major', labelsize=14)\n",
    "\n",
    "            ax_ind += 1\n",
    "        plt.legend(bbox_to_anchor=(1.05, 1), loc=6, borderaxespad=0.)\n",
    "        fig.subplots_adjust(right=1.6,top=1.6)\n",
    "    fig.savefig('/noc/users/am8e13/Figures/mpert_ssh_'+name,dpi=dpires, bbox_inches='tight')\n",
    "\n",
    "#plot_dynStLayers(pert_dic,pert_col)\n",
    "#plot_dynStLayers(pert_conc,pert_conc_col,'conc')\n",
    "plot_dynStLayers(pert_size,pert_size_col,'size')\n",
    "#plot_dynStLayers(pert_time,pert_time_col,'time')\n",
    "plot_dynStLayers(pert_res,pert_res_col,'res')"
   ]
  },
  {
   "cell_type": "markdown",
   "metadata": {},
   "source": [
    "# Fluxes\n",
    "\n",
    "Most of the flux seems to go through Fram strait, very little through Barents strait or Denmark strait, we check fluxes to confirm this"
   ]
  },
  {
   "cell_type": "markdown",
   "metadata": {},
   "source": [
    "Fluxes are positives for fluxes into the Arctic"
   ]
  },
  {
   "cell_type": "code",
   "execution_count": null,
   "metadata": {
    "collapsed": false
   },
   "outputs": [],
   "source": [
    "def plot_flux_total_diff(dic,col_dic,name):\n",
    "    # this function is meant to plot monitor variables   \n",
    "    fluxes = ['FluxSum','FluxSumFW','FluxSumFW1','FluxSumT']#\n",
    "    variables = ['Fram','Denmark','Barents','Norwice','Davis','Bering']\n",
    "    #variables = ['Fram','Denmark']\n",
    "    flux_titles = {'FluxSumFW' : 'FW','FluxSumFW1' : 'FW1','FluxSumS' : 'S', 'FluxSumT':'Heat', \\\n",
    "                   'FluxInSum' : 'Inflow','FluxOutSum' : 'Outflow' , 'FluxSum' : 'Net flow'}\n",
    "    var_titles = {'Fram' : 'Fram' , 'Fram1' : 'Fram' , 'Fram2' : 'Fram' , \n",
    "                  'Davis': 'Davis' , 'Davis1': 'Davis' , 'Davis2': 'Davis',\n",
    "                 'Denmark' : 'Denmark' , 'Bering' : 'Bering' , 'Norwice' : 'Norwice' ,'Norwice2' : 'Norwice2' ,\n",
    "                 'Barents' : 'Barents' , 'Barents1' : 'Barents' , 'Barents2' : 'Barents'}\n",
    "    \n",
    "    iniz = 40\n",
    "    fig, axes = plt.subplots(len(fluxes),len(variables),sharex=True,sharey='row')\n",
    "    for el in dic:\n",
    "        data_pert = dic[el][\"const\"] ; data_diff = dic[el][\"bench\"]\n",
    "        ax_ind = 0\n",
    "        for flux in fluxes:\n",
    "            for var in variables:  \n",
    "                data = data_pert.fluxes[var][flux]-data_diff.fluxes[var][flux]\n",
    "                axes.flat[ax_ind].plot(data_diff.years[iniz:-12]-5,data[iniz:-12],alpha=0.2)\n",
    "                axes.flat[ax_ind].plot(data_diff.years[iniz:-2]-5,runningMeanFast(data,12)[iniz:-2],\\\n",
    "                                       color=col_dic[el],label=el)\n",
    "                axes.flat[ax_ind].set_title(var + flux ,fontsize=16)\n",
    "                if ax_ind%len(variables)==0:\n",
    "                    axes.flat[ax_ind].set_ylabel('Sv',fontsize=16)\n",
    "                if ax_ind/len(variables)==2:\n",
    "                    axes.flat[ax_ind].set_xlabel('Years',fontsize=16)\n",
    "                axes.flat[ax_ind].set_title(var_titles[var]+' '+flux_titles[flux],fontsize=16)\n",
    "                axes.flat[ax_ind].tick_params(axis='both', which='major', labelsize=14)            \n",
    "                ax_ind += 1\n",
    "        plt.legend(bbox_to_anchor=(1.05, 1), loc=6, borderaxespad=0.)\n",
    "    fig.subplots_adjust(right=2.,top=2.)\n",
    "    fig.suptitle(\"Fluxes difference, all gateways\",x=1.1,y=2.2,fontsize=18)  \n",
    "    fig.savefig('/noc/users/am8e13/Figures/mpert_flows_'+name,dpi=dpires, bbox_inches='tight')\n",
    "\n",
    "#plot_flux_total_diff(pert_dic,pert_col)\n",
    "#plot_flux_total_diff(pert_conc,pert_conc_col,'conc')\n",
    "plot_flux_total_diff(pert_size,pert_size_col,'size')\n",
    "#plot_flux_total_diff(pert_time,pert_time_col,'time')\n",
    "plot_flux_total_diff(pert_res,pert_res_col,'res')"
   ]
  },
  {
   "cell_type": "code",
   "execution_count": null,
   "metadata": {
    "collapsed": false
   },
   "outputs": [],
   "source": [
    "def plot_flux_total_diff(dic,col_dic,name):\n",
    "    # this function is meant to plot monitor variables   \n",
    "    fluxes = ['FluxSum','FluxSumFW','FluxSumT']#\n",
    "    variables = ['Fram','Denmark','Barents','Davis','Bering']\n",
    "    #variables = ['Fram','Denmark']\n",
    "    flux_titles = {'FluxSumFW' : 'FW','FluxSumFW1' : 'FW1','FluxSumS' : 'S', 'FluxSumT':'Heat', \\\n",
    "                   'FluxInSum' : 'Inflow','FluxOutSum' : 'Outflow' , 'FluxSum' : 'Net flow'}\n",
    "    var_titles = {'Fram' : 'Fram' , 'Fram1' : 'Fram' , 'Fram2' : 'Fram' , \n",
    "                  'Davis': 'Davis' , 'Davis1': 'Davis' , 'Davis2': 'Davis',\n",
    "                 'Denmark' : 'Denmark' , 'Bering' : 'Bering' , 'Norwice' : 'Norwice' ,'Norwice2' : 'Norwice2' ,\n",
    "                 'Barents' : 'Barents' , 'Barents1' : 'Barents' , 'Barents2' : 'Barents'}\n",
    "    \n",
    "    iniz = 40\n",
    "    fig, axes = plt.subplots(len(fluxes),len(variables),sharex=True,sharey='row')\n",
    "    for el in dic:\n",
    "        data_pert = dic[el][\"const\"] ; data_diff = dic[el][\"bench\"]\n",
    "        ax_ind = 0\n",
    "        for flux in fluxes:\n",
    "            for var in variables:  \n",
    "                data = data_pert.fluxes[var][flux]-data_diff.fluxes[var][flux]\n",
    "                axes.flat[ax_ind].plot(data_diff.years[iniz:-2]-5,runningMeanFast(data,12)[iniz:-2],\\\n",
    "                                       color=col_dic[el],label=el)\n",
    "                axes.flat[ax_ind].set_title(var + flux ,fontsize=16)\n",
    "                if ax_ind%len(variables)==0:\n",
    "                    axes.flat[ax_ind].set_ylabel('Sv',fontsize=16)\n",
    "                axes.flat[ax_ind].set_title(var_titles[var]+' '+flux_titles[flux],fontsize=16)\n",
    "                axes.flat[ax_ind].tick_params(axis='both', which='major', labelsize=14)            \n",
    "                ax_ind += 1\n",
    "        plt.legend(bbox_to_anchor=(1.05, 1), loc=6, borderaxespad=0.)\n",
    "    fig.subplots_adjust(right=2.,top=2.)\n",
    "    fig.suptitle(\"Fluxes difference, all gateways\",x=1.1,y=2.2,fontsize=18)  \n",
    "    fig.savefig('/noc/users/am8e13/Figures/mpert_flows_'+name,dpi=dpires, bbox_inches='tight')\n",
    "\n",
    "#plot_flux_total_diff(pert_dic,pert_col)\n",
    "#plot_flux_total_diff(pert_conc,pert_conc_col,'conc')\n",
    "plot_flux_total_diff(pert_size,pert_size_col,'size')\n",
    "#plot_flux_total_diff(pert_time,pert_time_col,'time')\n",
    "plot_flux_total_diff(pert_res,pert_res_col,'res')"
   ]
  },
  {
   "cell_type": "code",
   "execution_count": null,
   "metadata": {
    "collapsed": false,
    "scrolled": false
   },
   "outputs": [],
   "source": [
    "# plot layers\n",
    "def plot_total_flux(dic,col_dic,name,cum=True,row=2,col=2):\n",
    "    # this function is meant to plot monitor variables   \n",
    "    \n",
    "    fluxes = ['Flux','FluxFW','FluxT']#,'FluxFW1'\n",
    "    #variables = ['Fram','Barents','Davis','Denmark']\n",
    "    variables = ['Fram','Denmark']\n",
    "    flux_titles = {'FluxFW' : 'FW','FluxFW1' : 'FW<35','FluxS' : 'S', 'FluxT':'Heat', \\\n",
    "                   'FluxIn' : 'Inflow','FluxOut' : 'Outflow' , 'Flux' : 'Net flow'}\n",
    "    var_titles = {'Fram' : 'Fram' , 'Fram1' : 'Fram' , 'Fram2' : 'Fram' , \n",
    "                  'Davis': 'Davis' , 'Davis1': 'Davis' , 'Davis2': 'Davis',\n",
    "                 'Denmark' : 'Denmark' , 'Bering' : 'Bering' , 'Norwice' : 'Norwice' ,\n",
    "                 'Barents' : 'Barents' , 'Barents1' : 'Barents' , 'Barents2' : 'Barents'}\n",
    "    #col_dic = {36 : 'blue' , 18 : 'orange' , 9 : 'green'}\n",
    "    iniz = 24\n",
    "    fig, axes = plt.subplots(len(fluxes),len(variables),sharex=True,sharey='row')\n",
    "    for el in dic:\n",
    "        ax_ind = 0\n",
    "        data_pert = dic[el][\"const\"] ; data_diff = dic[el][\"bench\"] ;  \n",
    "        for flux in fluxes:\n",
    "            for var in variables:\n",
    "                data = data_pert.fluxes2[var][flux]-data_diff.fluxes2[var][flux]\n",
    "                axes.flat[ax_ind].plot(data_diff.years[iniz:-1]-4,runningMeanFast(np.nansum(np.nansum((\n",
    "                           data)[:,:,:],axis=2),axis=1),12)[iniz:-1],color=col_dic[el],label=el)\n",
    "                axes.flat[ax_ind].set_title(var + flux ,fontsize=16)\n",
    "                if ax_ind%len(variables)==0:\n",
    "                    axes.flat[ax_ind].set_ylabel('Sv',fontsize=16)\n",
    "                if ax_ind/len(variables)==2:\n",
    "                    axes.flat[ax_ind].set_xlabel('Years',fontsize=16)\n",
    "                axes.flat[ax_ind].set_title(var_titles[var]+' '+flux_titles[flux],fontsize=16)\n",
    "                axes.flat[ax_ind].tick_params(axis='both', which='major', labelsize=14)            \n",
    "                ax_ind += 1\n",
    "    plt.legend(bbox_to_anchor=(1.05, 1), loc=6, borderaxespad=0.)\n",
    "    fig.subplots_adjust(right=2.,top=2.)\n",
    "    fig.suptitle(\"Fluxes difference\",x=1.1,y=2.2,fontsize=18)  \n",
    "    fig.savefig('/noc/users/am8e13/Figures/mpert_davisfram_fluxes_'+name,dpi=dpires, bbox_inches='tight')\n",
    "\n",
    "#plot_total_flux(pert_dic,pert_col)\n",
    "#plot_total_flux(pert_conc,pert_conc_col,'conc')\n",
    "plot_total_flux(pert_size,pert_size_col,'size')\n",
    "#plot_total_flux(pert_time,pert_time_col,'time')\n",
    "plot_total_flux(pert_res,pert_res_col,'res')"
   ]
  },
  {
   "cell_type": "markdown",
   "metadata": {},
   "source": [
    "# Temperature and salinity evolution"
   ]
  },
  {
   "cell_type": "code",
   "execution_count": null,
   "metadata": {
    "collapsed": false
   },
   "outputs": [],
   "source": [
    "def plot_dynStLayers(dic,col_dic,row=2,col=4):\n",
    "    # this function is meant to plot monitor variables  \n",
    "    #col_dic = {36 : 'blue' , 18 : 'orange' , 9 : 'green'}\n",
    "    region_titles = reg_titles()\n",
    "    fig, axes = plt.subplots(row,col,sharex=True,sharey='row')\n",
    "    ax_ind = 0\n",
    "    var_s = ['theta_mean','salt_mean']\n",
    "    vartitles = {'theta_mean' : 'Temp', 'salt_mean' : 'Salt'}\n",
    "    for el in dic:\n",
    "        ax_ind = 0\n",
    "        data_pert = dic[el][\"const\"] ; data_diff = dic[el][\"bench\"] ;     \n",
    "        for var in var_s:\n",
    "            for reg in range(4):\n",
    "                nt1 = data_pert.dataDyn[var][:,reg,0].shape[0]\n",
    "                nt2 = data_diff.dataDyn[var][:,reg,0].shape[0]\n",
    "                nt = min(nt1,nt2)\n",
    "                data = data_pert.dataDyn[var][1:nt,reg,0] - data_diff.dataDyn[var][1:nt,reg,0]\n",
    "                if data_pert.res == 9:\n",
    "                    beg = 1\n",
    "                    yer = 5\n",
    "                else:\n",
    "                    beg = 0\n",
    "                    yer = 5\n",
    "                #data = data_pert.dataDyn[var][1:12*10*3,reg,0] - data_diff.dataDyn[var][1:12*10*3,reg,0]\n",
    "                #datam = runningMeanFast(data,12*3)[:-12*3]                    \n",
    "                axes.flat[ax_ind].plot(data_diff.dataDyn['time_lv_years'][beg:nt]-yer,data[:],\n",
    "                                    color=col_dic[el],label=el)\n",
    "                axes.flat[ax_ind].set_title(vartitles[var]+' '+region_titles[reg])\n",
    "                axes.flat[0].set_ylabel('C')\n",
    "                axes.flat[4].set_ylabel('psu')\n",
    "                axes.flat[4].set_xlabel('Years')\n",
    "                axes.flat[5].set_xlabel('Years')\n",
    "                axes.flat[6].set_xlabel('Years')\n",
    "                axes.flat[7].set_xlabel('Years')\n",
    "                ax_ind += 1\n",
    "    plt.legend(bbox_to_anchor=(1.05, 1), loc=6, borderaxespad=0.)\n",
    "    fig.subplots_adjust(right=1.6,top=1.6)\n",
    "#plot_dynStLayers(pert_dic,pert_col)\n",
    "#plot_dynStLayers(pert_conc,pert_conc_col)\n",
    "plot_dynStLayers(pert_size,pert_size_col)\n",
    "#plot_dynStLayers(pert_time,pert_time_col)\n",
    "plot_dynStLayers(pert_res,pert_res_col)"
   ]
  },
  {
   "cell_type": "markdown",
   "metadata": {},
   "source": [
    "#Freshwater content in Arctic and Nordic Seas\n",
    "\n",
    "Now we want to study more in the details the changes in freshwater content cause by the perturbation.\n",
    "\n",
    "Here we consider the freshwater content in the first 1000m of the water column."
   ]
  },
  {
   "cell_type": "code",
   "execution_count": null,
   "metadata": {
    "collapsed": false
   },
   "outputs": [],
   "source": [
    "def plot_freshwater_content(dic,col_dic):\n",
    "    titles = reg_titles()\n",
    "    #col_dic = {36 : 'blue' , 18 : 'orange' , 9 : 'green'}\n",
    "    fig , axes = plt.subplots(2,4,sharex=True,sharey='row')\n",
    "\n",
    "    for el in dic:\n",
    "        j = 0\n",
    "        data_pert = dic[el][\"const\"] ; data_diff = dic[el][\"bench\"] ;   \n",
    "        for j in range(4):        \n",
    "            nt = len(data_pert.freshwater_levels[j,:])\n",
    "            colormap = matplotlib.cm.jet \n",
    "            colors = [colormap(i) for i in np.linspace(0, 1,30)]\n",
    "            iniz = 36\n",
    "\n",
    "            datam = np.nansum(data_pert.heat_levels[j,:,0:] - data_diff.heat_levels[j,:nt,0:],axis=1)                \n",
    "            axes.flat[j].plot(data_diff.years[iniz:-12]-5,runningMeanFast(datam[iniz:],12)[0:-12]/10**9,\n",
    "                            color=col_dic[el],label=el)  \n",
    "\n",
    "            datam = np.nansum(data_pert.freshwater_levels[j,:,0:30] - data_diff.freshwater_levels[j,:nt,0:30],axis=1)                \n",
    "            axes.flat[j+4].plot(data_diff.years[iniz:-12]-5,runningMeanFast(datam[iniz:],12)[0:-12]/10**9,\n",
    "                            color=col_dic[el],label=el)  \n",
    "            axes.flat[j].set_title(titles[j],fontsize=16)\n",
    "\n",
    "            axes.flat[0].set_ylabel(r'$km^3$ / heat content',fontsize=16)\n",
    "            axes.flat[4].set_ylabel(r'$km^3$ / fw content',fontsize=16)\n",
    "            axes.flat[j+4].set_xlabel('Years',fontsize=16)\n",
    "            axes.flat[j].tick_params(axis='both', which='major', labelsize=14)\n",
    "            axes.flat[j+4].tick_params(axis='both', which='major', labelsize=14)\n",
    "    plt.legend(bbox_to_anchor=(1.05, 1), loc=6, borderaxespad=0.,fontsize=14)\n",
    "    fig.suptitle(\"Heat and Freshwater content \",x=1.,y=2.,fontsize=18)      \n",
    "    fig.subplots_adjust(right=1.8,top=1.8)\n",
    "    #fig.savefig('/noc/users/am8e13/Figures/mixed_hcfw',dpi=dpires, bbox_inches='tight')\n",
    "\n",
    "#plot_freshwater_content(pert_dic,pert_col)\n",
    "#plot_freshwater_content(pert_conc,pert_conc_col)\n",
    "plot_freshwater_content(pert_size,pert_size_col)\n",
    "#plot_freshwater_content(pert_time,pert_time_col)\n",
    "plot_freshwater_content(pert_res,pert_res_col)\n"
   ]
  },
  {
   "cell_type": "markdown",
   "metadata": {},
   "source": [
    "# Mixed layer depth"
   ]
  },
  {
   "cell_type": "code",
   "execution_count": null,
   "metadata": {
    "collapsed": false,
    "scrolled": false
   },
   "outputs": [],
   "source": [
    "def plot_mxldepth(dic,col_dic,name):\n",
    "    reg_title = reg_titles()\n",
    "    fig , axes = plt.subplots(3,3,sharey=False,sharex=True)\n",
    "    #col_dic = {36 : 'blue' , 18 : 'orange' , 9 : 'green'}\n",
    "    for el in dic:\n",
    "        data_pert = dic[el][\"const\"] ; data_diff = dic[el][\"bench\"] ; \n",
    "        for j in range(len(reg_title)):\n",
    "            #data = data_pert.mxldepth_mean[j] - data_diff.mxldepth_mean[j]\n",
    "            data = data_diff.mxldepth_mean[j] - data_pert.mxldepth_mean[j]\n",
    "            axes.flat[j].plot(data_diff.mxldepth_years[24*3:]-5,-data[24*3:],alpha=0.2,color=col_dic[el])\n",
    "            axes.flat[j].plot(data_diff.mxldepth_years[24*3:-12*3]-5,-runningMeanFast(data,12*3)[24*3:-12*3],\\\n",
    "                              color=col_dic[el],label=el)\n",
    "          \n",
    "            axes.flat[j].set_title(reg_title[j],fontsize=16)   \n",
    "        axes.flat[6].set_xlabel('Years',fontsize=16)\n",
    "        axes.flat[7].set_xlabel('Years',fontsize=16)\n",
    "        axes.flat[8].set_xlabel('Years',fontsize=16)\n",
    "        axes.flat[0].set_ylabel('m',fontsize=16)\n",
    "        axes.flat[3].set_ylabel('m',fontsize=16)\n",
    "        axes.flat[6].set_ylabel('m',fontsize=16)    \n",
    "        \n",
    "    #for j in range(len(reg_title)):       \n",
    "        #axes.flat[j].plot(data_diff.mxldepth_years[24*3:]-5,-data_diff.mxldepth_mean[j][24*3:],\\\n",
    "        #        alpha=0.2,color='black')\n",
    "        #axes.flat[j].plot(data_diff.mxldepth_years[24*3:-12*3]-5,\\\n",
    "        #        -runningMeanFast(data_diff.mxldepth_mean[j],12*3)[24*3:-12*3],color='black',label='Control')\n",
    "    plt.legend(bbox_to_anchor=(1.05, 1), loc=6, borderaxespad=0.,fontsize=14)\n",
    "    fig.subplots_adjust(right=2.2,top=2.)\n",
    "    fig.suptitle(\"Mixed layer depth\",x=1.15,y=2.2,fontsize=20)\n",
    "    fig.savefig('/noc/users/am8e13/Figures/mpert_mxld_'+name,dpi=dpires, bbox_inches='tight')\n",
    "\n",
    "#plot_mxldepth(pert_dic,pert_col)\n",
    "#plot_mxldepth(pert_conc,pert_conc_col,'conc')\n",
    "plot_mxldepth(pert_size,pert_size_col,'size')\n",
    "#plot_mxldepth(pert_time,pert_time_col,'time')\n",
    "plot_mxldepth(pert_res,pert_res_col,'res')"
   ]
  },
  {
   "cell_type": "markdown",
   "metadata": {},
   "source": [
    "# Seaice\n",
    "\n",
    "We look at the seaice to see if the excess in freshwater could be caused by a decrease in seaice"
   ]
  },
  {
   "cell_type": "code",
   "execution_count": null,
   "metadata": {
    "collapsed": false,
    "scrolled": false
   },
   "outputs": [],
   "source": [
    "def plot_seaice(dic,col_dic,name):\n",
    "    variables = ['seaice_area_mean' , 'seaice_heff_mean','seaice_hsnow_mean','seaice_hsalt_mean']\n",
    "    titles = {'seaice_area_mean' : 'Seaice Fraction Covered', 'seaice_heff_mean' : 'Seaice Ice Tickness',\n",
    "              'seaice_hsnow_mean' : 'Seaice Snow Tickness', 'seaice_hsalt_mean' : 'Seaice Salt Content'}\n",
    "    fig , axes = plt.subplots(2,2)\n",
    "    for el in dic:\n",
    "        data_pert = dic[el][\"const\"] ; data_diff = dic[el][\"bench\"] ;     \n",
    "        nt = len(data_diff.data['time_years_ice'])\n",
    "        for j in range(4): \n",
    "            data = data_pert.data[variables[j]][0:nt] #- data_diff.data[variables[j]][0:nt]        \n",
    "            axes.flat[j].plot(data_diff.data['time_years_ice']-5,data,alpha=0.2,\\\n",
    "                              color=col_dic[el])\n",
    "            axes.flat[j].plot(data_diff.data['time_years_ice'][0:-360]-5,runningMeanFast(data,360)[0:-360],\\\n",
    "                             color=col_dic[el],label=el)\n",
    "            axes.flat[j].set_title(titles[variables[j]]+' diff')  \n",
    "    plt.legend(bbox_to_anchor=(1.05, 1), loc=6, borderaxespad=0.,fontsize=14)\n",
    "    fig.suptitle('Seaice',x=1.1,y=2.2,fontsize=22)\n",
    "    fig.subplots_adjust(right=2.2,top=2.)\n",
    "    fig.savefig('/noc/users/am8e13/Figures/mpert_seiace_'+name,dpi=dpires, bbox_inches='tight')\n",
    "#plot_seaice(pert_dic,pert_col)\n",
    "#plot_seaice(pert_conc,pert_conc_col,'conc')\n",
    "#plot_seaice(pert_time,pert_time_col,'time')\n",
    "#plot_seaice(pert_size,pert_size_col,'size')\n",
    "plot_seaice(pert_res,pert_res_col,'res')"
   ]
  },
  {
   "cell_type": "markdown",
   "metadata": {
    "collapsed": true
   },
   "source": [
    "# Overflow calculation"
   ]
  },
  {
   "cell_type": "code",
   "execution_count": null,
   "metadata": {
    "collapsed": false,
    "scrolled": false
   },
   "outputs": [],
   "source": [
    "def plot_overflow(dic,col_dic,name):\n",
    "    rho0 = 1027.8\n",
    "    var = 'Flux' \n",
    "    fig , axes = plt.subplots(1,1,sharey=False,sharex=True)\n",
    "    for el in dic:  \n",
    "        kdic = {36:1,18:2,9:4}\n",
    "        kk = kdic[dic[el]['const'].res]\n",
    "        data_pert = dic[el][\"const\"] ; data_diff = dic[el][\"bench\"] ;  \n",
    "        iniz = 36\n",
    "        plt.plot(data_diff.years[iniz:]-5,data_pert.fluxes2['Denmark']['FluxSumOverFlow'][iniz:] - \n",
    "                 data_diff.fluxes2['Denmark']['FluxSumOverFlow'][iniz:] ,alpha=0.2,color=col_dic[el])\n",
    "        plt.plot(data_diff.years[iniz:-12]-5,runningMeanFast(data_pert.fluxes2['Denmark']['FluxSumOverFlow'] - \n",
    "                                data_diff.fluxes2['Denmark']['FluxSumOverFlow'],12)[iniz:-12],\n",
    "                    alpha=0.9,color=col_dic[el],label=el)                \n",
    "        \n",
    "        #plt.plot(data_diff.years-5,data_pert.fluxes2['Denmark']['FluxSumOverFlow'],alpha=0.2,color=col_dic[el])\n",
    "        #plt.plot(data_diff.years[0:-12]-5,runningMeanFast(data_pert.fluxes2['Denmark']['FluxSumOverFlow'],12)[0:-12],\n",
    "        #            alpha=0.9,color=col_dic[el],label=el)        \n",
    "    plt.title('Overflow Reduction')\n",
    "    plt.legend(bbox_to_anchor=(1.05,0.5), loc=6, borderaxespad=0.,fontsize=14)    \n",
    "    fig.subplots_adjust(right=1.2,top=1.1)\n",
    "    fig.savefig('/noc/users/am8e13/Figures/mpert_overflow_'+name,dpi=dpires, bbox_inches='tight')\n",
    "#plot_overflow(pert_dic)\n",
    "#plot_overflow(pert_conc,pert_conc_col,'conc')\n",
    "#plot_overflow(pert_time,pert_time_col,'time')\n",
    "plot_overflow(pert_size,pert_size_col,'size')\n",
    "plot_overflow(pert_res,pert_res_col,'res')\n",
    "\n"
   ]
  },
  {
   "cell_type": "code",
   "execution_count": null,
   "metadata": {
    "collapsed": false
   },
   "outputs": [],
   "source": [
    "runs = {\"const\" : pert_const_18, \"bench\" : pert_bench_18 , \"pert_36\" : pert_const_36,\\\n",
    "        \"pert_1y_18\" :  pert_1y_18 , \"pert_50_18\" : pert_50_18 , \"pert_70_18\" : pert_70_18, \\\n",
    "        \"pert_120_18\" : pert_120_18, \"pert_small_18\" : pert_small_18 }"
   ]
  },
  {
   "cell_type": "code",
   "execution_count": null,
   "metadata": {
    "collapsed": true
   },
   "outputs": [],
   "source": [
    "conc_comp = {\"const\" : pert_const_18, \"bench\" : pert_bench_18 , \\\n",
    "        \"pert_50_18\" : pert_50_18 , \"pert_70_18\" : pert_70_18, \\\n",
    "        \"pert_120_18\" : pert_120_18, \"pert_40_18\" : pert_40_18 ,}\n",
    "\n",
    "time_comp = {\"const\" : pert_const_18 , \"bench\" : pert_bench_18 , 'pert_1y_rest_18':pert_1y_rest_18 , \\\n",
    "             \"pert_1y_18\":pert_1y_18}\n",
    "\n",
    "res_comp = {\"const\" : pert_const_18 , \"bench\" : pert_bench_18 , 'pert_const_36':pert_const_36 , \\\n",
    "             \"pert_const_9\":pert_const_9}"
   ]
  },
  {
   "cell_type": "code",
   "execution_count": null,
   "metadata": {
    "collapsed": false
   },
   "outputs": [],
   "source": [
    "reg_names\n",
    "\n",
    "['global','arctic','nordseas','norhtatl','norwegian','greenland','lofoten','iceland','labrador']"
   ]
  },
  {
   "cell_type": "code",
   "execution_count": null,
   "metadata": {
    "collapsed": false
   },
   "outputs": [],
   "source": [
    "def compare_data(run):\n",
    "    run.comp_data = {}\n",
    "    run.comp_data = {'eta_min' : np.zeros(11), 'eta_max' : np.zeros(11) , 'eta_mean' : np.zeros(11) ,\\\n",
    "                     'psi_min' : np.zeros(11), 'psi_max' : np.zeros(11) , 'psi_mean' : np.zeros(11) ,\\\n",
    "                     'mxld_min' : np.zeros(11) , 'mxld_max' : np.zeros(11) , 'mxld_mean' : np.zeros(11) ,\\\n",
    "                     'ovfl_min' : np.zeros(11) , 'ovfl_max' : np.zeros(11) ,'ovfl_mean' : np.zeros(11) ,\\\n",
    "                    'Fram_flux_min':np.zeros(1), 'Fram_flux_max':np.zeros(1), 'Fram_flux_mean':np.zeros(1),\\\n",
    "                    'Fram_fwflux_min':np.zeros(1),'Fram_fwflux_max':np.zeros(1),'Fram_fwflux_mean':np.zeros(1),\\\n",
    "                    'Fram_tflux_min':np.zeros(1),'Fram_tflux_max':np.zeros(1),'Fram_tflux_mean':np.zeros(1),\\\n",
    "                'Fram_overflow_min':np.zeros(1),'Fram_overflow_max':np.zeros(1),'Fram_overflow_mean':np.zeros(1),\\\n",
    "                 'Denmark_flux_min':np.zeros(1),'Denmark_flux_max':np.zeros(1),'Denmark_flux_mean':np.zeros(1),\\\n",
    "             'Denmark_fwflux_min':np.zeros(1),'Denmark_fwflux_max':np.zeros(1),'Denmark_fwflux_mean':np.zeros(1),\\\n",
    "            'Denmark_tflux_min':np.zeros(1),'Denmark_tflux_max':np.zeros(1),'Denmark_tflux_mean':np.zeros(1),\\\n",
    "        'Denmark_overflow_min':np.zeros(1),'Denmark_overflow_max':np.zeros(1),'Denmark_overflow_mean':np.zeros(1)}\n",
    "    \n",
    "    grid = grid_read(run.res)\n",
    "    mask1,mask2,mask3,mask4,mask5,mask6,mask7,mask8 = region_mask(run.res)\n",
    "    mask0 = np.ones_like(mask1)\n",
    "    areamasks = {0:mask0 , 1 : mask1 , 2 : mask2 , 3 : mask3, \\\n",
    "                    4 : mask4, 5 : mask5, 6 : mask6, 7: mask7, 8 : mask8}\n",
    "    \n",
    "    init = 5*12 + 2*12 + 5\n",
    "    rnames = ['global','arctic','nordseas','norhtatl','norwegian','greenland','lofoten','iceland','labrador']\n",
    "    for j in range(len(reg_titles())):\n",
    "        reg = rnames[j]\n",
    "        run.comp_data['mxld_mean_'+reg] = -np.nanmean(run.mxldepth_mean[j][init:])\n",
    "        run.comp_data['mxld_max_'+reg] = -np.nanmax(run.mxldepth_mean[j][init:])\n",
    "        run.comp_data['mxld_min_'+reg] = -np.nanmin(run.mxldepth_mean[j][init:])\n",
    "        \n",
    "        run.comp_data['eta_mean_'+reg] = np.nanmean(run.dataDyn['eta_mean'][init*3:,j,0])\n",
    "        run.comp_data['eta_max_'+reg] = np.nanmax(run.dataDyn['eta_max'][init*3:,j,0])\n",
    "        run.comp_data['eta_min_'+reg] = np.nanmin(run.dataDyn['eta_min'][init*3:,j,0])\n",
    "        \n",
    "        maskcalc = np.tile(areamasks[j][0,:,:],(run.psi.shape[0],1,1))\n",
    "        data = np.array(run.psi[:,:,0:run.psi.shape[2]-1])*maskcalc\n",
    "        run.comp_data['psi_mean_'+reg] = np.nanmean(data[init:,:,:])\n",
    "        run.comp_data['psi_max_'+reg] = np.nanmax(data[init:,:,:])\n",
    "        run.comp_data['psi_min_'+reg] = np.nanmin(data[init:,:,:])\n",
    "    \n",
    "    opdic = {'max':np.nanmax,'min':np.nanmin,'mean':np.nanmean}\n",
    "    fldic = {'flux':'FluxSum','tflux':'FluxSumT','fwflux':'FluxSumFW','overflow':'FluxSumOverFlow'}\n",
    "    \n",
    "    for loc in ['Denmark','Fram']:\n",
    "        for fl in ['flux','tflux','fwflux','overflow']:\n",
    "            for op in ['max','min','mean']:\n",
    "                var = loc+'_'+fl+'_'+op\n",
    "                func = opdic[op]\n",
    "                run.comp_data[var][0] = func(run.fluxes2[loc][fldic[fl]][init:])\n",
    "        \n",
    "    \n",
    "    #run.comp_data['psi_max'][0] = np.nanmax(data[60:,:,:])\n",
    "    #run.comp_data['psi_min'][j] = np.nanmin(data[60:,:,:])\n",
    "\n",
    "def create_compare(dic):\n",
    "    for el in dic:\n",
    "        compare_data(dic[el])"
   ]
  },
  {
   "cell_type": "code",
   "execution_count": null,
   "metadata": {
    "collapsed": false
   },
   "outputs": [],
   "source": [
    "# salt added\n",
    "# this function calculates the amount of salt added to the perturbation by in every simulation\n",
    "def salt_q_calc(run,value,mask='',mult=1):\n",
    "    path = '/scratch/general/am8e13/perturbation_fields/'\n",
    "    ydim = len(run.X) ; xdim = len(run.Y) ; zdim = len(run.Z)\n",
    "    mask_read = komod.mitbin(path+'pertSMask_'+mask+str(run.res)+'km',xdim=xdim,ydim=ydim,zdim=zdim,tdim=1,datatype='float32')\n",
    "    mask_read = np.squeeze(mask_read,axis=0)\n",
    "    values_read = komod.mitbin(path+'pertSValue_'+value,xdim=xdim,ydim=ydim,zdim=zdim,tdim=1,datatype='float32')\n",
    "    values_read = np.squeeze(values_read,axis=0)\n",
    "    \n",
    "    grid = grid_read(run.res)\n",
    "    run.salt_amount = np.nansum(mask_read*values_read*grid['Area'])*mult\n",
    "\n",
    "salt_q_calc(pert_120_18,'18km_120')   \n",
    "salt_q_calc(pert_70_18,'18km_70')\n",
    "salt_q_calc(pert_50_18,'18km_50')\n",
    "salt_q_calc(pert_40_18,'18km_40')\n",
    "salt_q_calc(pert_small_18,'small_18km_100','short_') \n",
    "salt_q_calc(pert_big_18,'big_18km_100','big_') \n",
    "salt_q_calc(pert_tall_18,'tall_18km_100','tall_') \n",
    "salt_q_calc(pert_short_18,'short_18km_100','short_') \n",
    "salt_q_calc(pert_const_36,'36km_100') \n",
    "salt_q_calc(pert_1y_18,'18km_100',mult=0.2) \n",
    "salt_q_calc(pert_1y_rest_18,'18km_100',mult=0.2) \n",
    "salt_q_calc(pert_bench_18,'18km_100',mult=0)\n",
    "salt_q_calc(pert_bench_36,'36km_100',mult=0)\n",
    "salt_q_calc(pert_bench_9,'9km_100',mult=0)\n",
    "salt_q_calc(pert_hinlop_18,'hinlop_18km_100',mask='hinlop_',mult=1)"
   ]
  },
  {
   "cell_type": "code",
   "execution_count": null,
   "metadata": {
    "collapsed": true
   },
   "outputs": [],
   "source": [
    "pert_dic = {\"65 psu 18km\" : pert_const_18, \"65 psu 36km\" : pert_const_36,  \"65 psu 9km\" : pert_const_9 ,\n",
    "            \"1y 18km\" : pert_1y_18, \"1y rest 18km\" : pert_1y_rest_18,\n",
    "            \"5 psu 18km\" : pert_40_18, \"15 psu 18km\" : pert_50_18, \"35 psu 18km\": pert_70_18,\\\n",
    "            \"85 psu 18km\" : pert_120_18,\n",
    "            \"small\" : pert_small_18, \"big 18km\" : pert_big_18, 'tall 18km' : pert_tall_18, \n",
    "            \"short\" : pert_short_18 , 'hinlopen' : pert_hinlop_18 ,\n",
    "           'control 36km' : pert_bench_36 ,'control 18km' : pert_bench_18 ,'control 9km' : pert_bench_9 ,\\\n",
    "            }"
   ]
  },
  {
   "cell_type": "code",
   "execution_count": null,
   "metadata": {
    "collapsed": false
   },
   "outputs": [],
   "source": [
    "create_compare(pert_dic)"
   ]
  },
  {
   "cell_type": "code",
   "execution_count": null,
   "metadata": {
    "collapsed": true
   },
   "outputs": [],
   "source": [
    "pert_style = {\"65 psu 18km\" : 'bo', \"65 psu 36km\" : 'ro',  \"65 psu 9km\" : 'ko' ,\n",
    "            \"1y 18km\" : 'gs', \"1y rest 18km\" : 'g^',\n",
    "            \"5 psu 18km\" : 'cs', \"15 psu 18km\" : 'c^', \"35 psu 18km\": 'c<',\\\n",
    "            \"85 psu 18km\" : 'c>',\n",
    "            \"small\" : 'mD', \"big 18km\" : 'mH', 'tall 18km' : 'm*', \n",
    "            \"short\" : 'mh' , 'hinlopen' : 'mv' ,\n",
    "           'control 36km' : 'rd' ,'control 18km' : 'bd','control 9km' : 'kd' ,\\\n",
    "            }"
   ]
  },
  {
   "cell_type": "code",
   "execution_count": null,
   "metadata": {
    "collapsed": false
   },
   "outputs": [],
   "source": [
    "var_titles = {'Fram_flux_mean' : 'Fram flux mean','Fram_fwflux_mean' : 'Fram FW flux mean',\\\n",
    "            'Denmark_flux_mean' : 'Denmark flux mean', 'Denmark_fwflux_mean' : 'Denmark FW flux mean',\\\n",
    "            'Denmark_overflow_mean' : 'Denmark overflow mean','Denmark_overflow_min' : 'Denmark overflow min', \\\n",
    "            'Denmark_overflow_max' : 'Denmark overflow max','mxld_mean': 'Mixed layer depth mean',\\\n",
    "            'psi_mean': 'Barotropic stream mean' }\n",
    "var_unit = {'Fram_flux_mean' : 'Sv','Fram_fwflux_mean' : 'Sv',\\\n",
    "            'Denmark_flux_mean' : 'Sv', 'Denmark_fwflux_mean' : 'Sv',\\\n",
    "            'Denmark_overflow_mean' : 'Sv','Denmark_overflow_min' : 'Sv', \\\n",
    "            'Denmark_overflow_max' : 'Sv','mxld_mean': 'm',\\\n",
    "            'psi_mean': 'Sv' }\n",
    "\n",
    "var_titles = {'mxld_mean_nordseas':'Mixed layer depth Nordic Seas', \\\n",
    "              'psi_mean_nordseas' : 'Barotropic stream Nordi Seas', \\\n",
    "              'eta_mean_nordseas' : 'Sea surface higth Nordic Seas',\\\n",
    "              'Denmark_overflow_mean' : 'Denmark Overflow mean' }\n"
   ]
  },
  {
   "cell_type": "code",
   "execution_count": null,
   "metadata": {
    "collapsed": false
   },
   "outputs": [],
   "source": [
    "def salt_q_plot(dic,variables):\n",
    "    fig , axes = plt.subplots(2,2,sharey=False,sharex=True)  \n",
    "    var_ls_arr = {}\n",
    "    for var in variables:\n",
    "        var_ls_arr[var] = []\n",
    "    for el in [\"65 psu 18km\" , \"65 psu 36km\",  \"65 psu 9km\" ,\"1y 18km\", \"1y rest 18km\" ,\n",
    "            \"5 psu 18km\" , \"15 psu 18km\", \"35 psu 18km\",\"85 psu 18km\",\"small\", \"big 18km\", 'tall 18km', \n",
    "            \"short\", 'hinlopen','control 36km','control 18km','control 9km']:\n",
    "        ax_ind = 0\n",
    "        for var in variables:\n",
    "            axes.flat[ax_ind].plot(dic[el].salt_amount,dic[el].comp_data[var],pert_style[el],label=el)\n",
    "            ax = axes.flat[ax_ind].get_xaxis()\n",
    "            axes.flat[ax_ind].set_title(var_titles[var],fontsize=18)\n",
    "            if var[0:4] == 'mxld':\n",
    "                axes.flat[ax_ind].set_ylabel('m',fontsize=16)\n",
    "            else:\n",
    "                axes.flat[ax_ind].set_ylabel('Sv',fontsize=16)\n",
    "            var_ls_arr[var].append([dic[el].salt_amount,dic[el].comp_data[var]])\n",
    "            plt.xlim(-0.1*1e16,2.5*1e16)\n",
    "            ax_ind += 1\n",
    "    axes.flat[2].set_xlabel('Salt introduced',fontsize=16)\n",
    "    axes.flat[3].set_xlabel('Salt introduced',fontsize=16)\n",
    "    ax_ind = 0\n",
    "    for var in variables:\n",
    "        arr = np.array(var_ls_arr[var])\n",
    "        axes.flat[ax_ind].plot(np.unique(arr[:,0]),np.poly1d(np.polyfit(arr[:,0],arr[:,1],1))(np.unique(arr[:,0])),'k')\n",
    "        ax_ind += 1\n",
    "    \n",
    "    plt.legend(bbox_to_anchor=(1.05,1.1), loc=6, borderaxespad=0.,fontsize=16,numpoints=1)    \n",
    "    fig.subplots_adjust(right=1.5,top=1.4)\n",
    "    fig.savefig('/noc/users/am8e13/Figures/mpert_sensitivity',dpi=dpires, bbox_inches='tight')\n",
    "\n",
    "#var_arr = ['Fram_flux_mean','Fram_fwflux_mean','mxld_mean','Denmark_flux_mean','Denmark_fwflux_mean',\\\n",
    "#          'psi_mean','Denmark_overflow_mean','Denmark_overflow_min','Denmark_overflow_max']\n",
    "var_arr = ['mxld_mean_nordseas','psi_mean_nordseas','eta_mean_nordseas','Denmark_overflow_mean' ]\n",
    "           #'mxld_mean_global','psi_mean_global','eta_mean_global',\\\n",
    "           #'mxld_mean_arctic','psi_mean_arctic','eta_mean_arctic',]\n",
    "#           'Denmark_overflow_mean']\n",
    "salt_q_plot(pert_dic,var_arr)\n"
   ]
  },
  {
   "cell_type": "code",
   "execution_count": null,
   "metadata": {
    "collapsed": false
   },
   "outputs": [],
   "source": [
    "times = [1+12*5, 3+12*5, 6+12*5, 18+12*5,36+12*5,59+12*5]\n",
    "\n",
    "def basemap_perturbation(data_pert,data_diff,times):\n",
    "    lat_ts=90.0 ; lat_0=90.0 ; lon_0=-45.0 ;sgn=1\n",
    "    width=7000000. ; height=7000000.0\n",
    "    ind = 0\n",
    "    vimin = 0 ; vimax = 40\n",
    "    fig, axes = plt.subplots(2,3)\n",
    "            \n",
    "    depth = np.tile([grid['Zp']],(len(data_pert.X),len(data_pert.Y),1))\n",
    "    depth = np.swapaxes(depth,0,2) \n",
    "    for t in times:\n",
    "        m = Basemap(ax=axes.flat[ind],width=width,height=height,resolution='l',\\\n",
    "                    projection='stere',lat_ts=lat_ts,lat_0=lat_0,lon_0=lon_0)\n",
    "        # the continents will be drawn on top.\n",
    "        m.drawmapboundary(fill_color='black')\n",
    "        # fill continents, set lake color same as ocean color.\n",
    "        m.fillcontinents(color='grey',lake_color='black')\n",
    "        x,y=m(data_pert.lon,data_pert.lat)\n",
    "        \n",
    "        data = np.array(data_pert.data['S'][t,:,:,:])\n",
    "        data1 = np.array(data_diff.data['S'][t,:,:,:])    \n",
    "        datam = np.nansum(data*depth,axis=0)/np.abs(data_pert.Z[49]) - \\\n",
    "                np.nansum(data1*depth,axis=0)/np.abs(data_pert.Z[49])\n",
    "        \n",
    "        sitm = np.ma.masked_where(np.isnan(datam),datam)\n",
    "        CS=m.pcolormesh(x,y,sitm,cmap=matplotlib.cm.hot,vmin=vimin,vmax=vimax,\\\n",
    "                        norm=matplotlib.colors.PowerNorm(gamma=1./3.))\n",
    "        m.drawparallels(np.arange(-80.,81.,15.))\n",
    "        m.drawmeridians(np.arange(-180.,181.,30.))\n",
    "        axes.flat[ind].set_title('Pert at '+str(round(data_pert.years[t]-5,2))+'yrs',fontsize=16)\n",
    "        ind += 1\n",
    "    fig.suptitle(\"Salt anomaly during perturbation\",x=1.,y=2.,fontsize=18)\n",
    "    cbar_ax = fig.add_axes([1.9, 0.4, 0.045, 1.4])\n",
    "    cbar = plt.colorbar(CS, cax=cbar_ax,)\n",
    "    cbar.ax.set_ylabel(r'psu',fontsize=14)\n",
    "    cbar.ax.tick_params(labelsize=14)\n",
    "    cbar.ax.set_xticklabels([0,1,2,5,10,20,40])\n",
    "    fig.subplots_adjust(right=1.7,top=1.8)    \n",
    "    #fig.savefig('/noc/users/am8e13/Figures/perturbation_anom',dpi=dpires, bbox_inches='tight')\n",
    "    \n",
    "basemap_perturbation(pert_tall_18,pert_bench_18,times)"
   ]
  },
  {
   "cell_type": "code",
   "execution_count": null,
   "metadata": {
    "collapsed": false
   },
   "outputs": [],
   "source": [
    "basemap_perturbation(pert_hinlop_18,pert_bench_18,times)"
   ]
  },
  {
   "cell_type": "code",
   "execution_count": null,
   "metadata": {
    "collapsed": false
   },
   "outputs": [],
   "source": [
    "basemap_perturbation(pert_tall_18,pert_hinlop_18,times)"
   ]
  },
  {
   "cell_type": "code",
   "execution_count": null,
   "metadata": {
    "collapsed": true
   },
   "outputs": [],
   "source": []
  }
 ],
 "metadata": {
  "kernelspec": {
   "display_name": "Python 2",
   "language": "python",
   "name": "python2"
  },
  "language_info": {
   "codemirror_mode": {
    "name": "ipython",
    "version": 2
   },
   "file_extension": ".py",
   "mimetype": "text/x-python",
   "name": "python",
   "nbconvert_exporter": "python",
   "pygments_lexer": "ipython2",
   "version": "2.7.11"
  }
 },
 "nbformat": 4,
 "nbformat_minor": 0
}
