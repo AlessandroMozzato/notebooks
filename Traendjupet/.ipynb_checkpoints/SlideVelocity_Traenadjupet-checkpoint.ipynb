{
 "metadata": {
  "name": "",
  "signature": "sha256:914fa75b41d2286846b8be574c5654f6c8992ffa54e2cce0602722324421561f"
 },
 "nbformat": 3,
 "nbformat_minor": 0,
 "worksheets": [
  {
   "cells": [
    {
     "cell_type": "code",
     "collapsed": false,
     "input": [
      "%pylab inline"
     ],
     "language": "python",
     "metadata": {},
     "outputs": [
      {
       "output_type": "stream",
       "stream": "stdout",
       "text": [
        "Populating the interactive namespace from numpy and matplotlib\n"
       ]
      }
     ],
     "prompt_number": 10
    },
    {
     "cell_type": "heading",
     "level": 1,
     "metadata": {},
     "source": [
      "A rationale for defining slide velocity and acceleration as a function of slide volume"
     ]
    },
    {
     "cell_type": "heading",
     "level": 2,
     "metadata": {},
     "source": [
      "Maximum slide velocity"
     ]
    },
    {
     "cell_type": "markdown",
     "metadata": {},
     "source": [
      "Harbitz (1992) gives the terminal velocity $U_{term}$ of the slide (ignoring viscous drag along the slide base) as:\n",
      "\n",
      "$$U_{term} = \\sqrt{\\frac{2(\\rho_s-\\rho_w)gh(\\sin\\alpha-\\mu\\cos\\alpha)}{C_D\\rho_w}}$$\n",
      "\n",
      "where $\\rho_s$ is the mean slide density, $\\rho_w$ is the density of the water/current surrounding the slide, $h$ is the average slide thickness, $\\alpha$ is the slope inclination angle, $\\mu$ is the coefficient of friction between the slide and the seafloor, $g$ is gravity and $C_D$ is the drag coefficient along the upper surface of the slide.\n",
      "\n",
      "Harbitz (1992) suggests that for Storrega $\\rho_s \\approx 1700$ kg/m$^3$, $\\rho_w \\approx 1100$ kg/m$^3$, $h \\approx 144$ m and $\\alpha \\approx 0.5^{\\circ}$. A friction coefficient is also defined of $\\mu = 0.005$, but this is highly uncertain. An expression is given for estimating the drag coefficient as a function of slide length. \n",
      "\n",
      "$$C_D = \\left[1.89+1.62\\log\\frac{(L+2S)}{k}\\right]^{-5/2}$$\n",
      "\n",
      "where $L+2S$ is the total slide length (including smoothing length, $S$) and $k$ is a roughness length-scale in the range 0.01-0.1 m.\n",
      "\n",
      "Using these equations, with a smoothing length of $k=0.04$ m, and adopting the Storegga parameters according to Harbitz (1992), we can estimate the terminal velocity of the slide. The answer is $\\sim$60 m/s."
     ]
    },
    {
     "cell_type": "code",
     "collapsed": false,
     "input": [
      "# Define some initial parameters for Storegga (SI units).\n",
      "rho_s = 1700.\n",
      "rho_w = 1100.\n",
      "g = 9.8\n",
      "friction = 0.005\n",
      "alpha = 0.5\n",
      "arads = radians(alpha)\n",
      "block_accel = g*(sin(arads)-friction*cos(arads))\n",
      "k = 0.04\n",
      "L = 150.E3\n",
      "S = 75.E3\n",
      "B = 175.E3\n",
      "h = 144.\n",
      "\n",
      "# Empirical drag equation\n",
      "drag = (1.89 + 1.62*log10((L+2*S)/k))**-2.5\n",
      "print \"Drag coefficient: \", drag\n",
      "\n",
      "# Terminal velocity\n",
      "U_term = sqrt(2./drag*(rho_s-rho_w)/rho_w*h*block_accel)\n",
      "print \"Terminal velocity (m/s): \",U_term"
     ],
     "language": "python",
     "metadata": {},
     "outputs": [
      {
       "output_type": "stream",
       "stream": "stdout",
       "text": [
        "Drag coefficient:  0.00163244675161\n",
        "Terminal velocity (m/s):  59.2833554962\n"
       ]
      }
     ],
     "prompt_number": 11
    },
    {
     "cell_type": "heading",
     "level": 2,
     "metadata": {},
     "source": [
      "Slide acceleration on constant slope"
     ]
    },
    {
     "cell_type": "markdown",
     "metadata": {},
     "source": [
      "Neglecting wave resistance, slide acceleration is defined from the momentum conservation equation given in Harbitz (1992):\n",
      "\n",
      "$$\\frac{dU}{dt}=\\frac{\\rho_s-\\rho_w)}{\\rho_s} g (\\sin\\alpha-\\mu\\cos\\alpha) - \\frac{1}{2} C_D \\frac{\\rho_w}{\\rho_s h} U^2$$\n",
      "\n",
      "Under the assumptions of constant slope angle and slide thickness, this can be solved analytically to give:\n",
      "\n",
      "$$U=U_{term}\\tanh\\left(\\sqrt{\\frac{C_D(\\rho_s-\\rho_w)\\rho_w g(\\sin\\alpha-\\mu\\cos\\alpha)}{2\\rho_s^2 h}}t\\right)$$\n",
      "\n",
      "This allows us to define slide velocity as a function of time as the slide accelerates down the constant slope and tends towards terminal velocity."
     ]
    },
    {
     "cell_type": "code",
     "collapsed": false,
     "input": [
      "# Define time array in seconds\n",
      "t = arange(0.,3.*60.*60,60.)\n",
      "\n",
      "# Velocity assuming constant slope and slide geometry\n",
      "U = U_term*tanh(sqrt(drag*(rho_s-rho_w)*rho_w*block_accel/(2.*rho_s**2*h))*t)\n",
      "\n",
      "plot(t/3600.,U,'k-',label=\"Constant slope approximation\")\n",
      "xlabel(\"Time (hrs)\")\n",
      "ylabel(\"Velocity (m/s)\")\n",
      "legend(loc=0)"
     ],
     "language": "python",
     "metadata": {},
     "outputs": [
      {
       "metadata": {},
       "output_type": "pyout",
       "prompt_number": 12,
       "text": [
        "<matplotlib.legend.Legend at 0x106109190>"
       ]
      },
      {
       "metadata": {},
       "output_type": "display_data",
       "png": "[encoded data removed]",
       "text": [
        "<matplotlib.figure.Figure at 0x106109f10>"
       ]
      }
     ],
     "prompt_number": 12
    },
    {
     "cell_type": "heading",
     "level": 2,
     "metadata": {},
     "source": [
      "Comparison with Storegga simulations"
     ]
    },
    {
     "cell_type": "markdown",
     "metadata": {},
     "source": [
      "Although an acceleration profile and maximum slide speed emerge from the above approach, it is not ideal because (a) the maximum slide velocity is only approached at infinite time; and (b) our (and other) Storegga simulations have adopted different parameters to best match observations.\n",
      "\n",
      "Numerical simulations of the Storrega tsunami propagation (e.g., Harbitz (1992), Bondevik et al., 2005; Hill et al., 2014) suggest a \"best-fit\" maximum slide speed of $U_{max} = 35$ m/s. These simulations also adopt a half-sinusoidal acceleration function, with the period $T$ defined as:\n",
      "\n",
      "$$T = \\frac{\\pi}{2}\\frac{R}{U_{max}}$$\n",
      "\n",
      "where $R$ is the total runout length (assumed to be 150 km for Storrega).\n",
      "\n",
      "Comparing the implied slide speed as a function of time with the solution to the equation of motion from the previous section, we see that $U_{max} \\approx 0.59 U_{term}$. Solving the approximate slide evolution equation for this constraint at $t = T/2$ also allows us to define an acceleration time $T_{acc} = T/2$ and a slide runout length $R$."
     ]
    },
    {
     "cell_type": "code",
     "collapsed": false,
     "input": [
      "# Define U_max as a fraction of U_term\n",
      "U_max = 0.59*U_term\n",
      "\n",
      "# Define time required to reach this speed\n",
      "period = 2./sqrt(drag*(rho_s-rho_w)*rho_w*block_accel/(2.*rho_s**2*h))*arctanh(0.59)\n",
      "R = 2.*period*U_max/pi\n",
      "print \"Acceleration period (s): \", period/2.\n",
      "print \"Maximum slide speed (m/s): \", U_max\n",
      "print \"Runout distance (m): \", R\n",
      "\n",
      "# Compare with velocity according to drag equation\n",
      "U_h = U_max*sin(2.*U_max*t/R)\n",
      "plot(t/3600.,U,'k-',label=\"Constant slope approximation\")\n",
      "plot(t/3600.,U_h,'b-',label=\"Sinusoidal acceleration\")\n",
      "xlabel(\"Time (hrs)\")\n",
      "ylabel(\"Velocity (m/s)\")\n",
      "legend(loc=0)"
     ],
     "language": "python",
     "metadata": {},
     "outputs": [
      {
       "output_type": "stream",
       "stream": "stdout",
       "text": [
        "Acceleration period (s):  3116.68322073\n",
        "Maximum slide speed (m/s):  34.9771797427\n",
        "Runout distance (m):  138799.394107\n"
       ]
      },
      {
       "metadata": {},
       "output_type": "pyout",
       "prompt_number": 13,
       "text": [
        "<matplotlib.legend.Legend at 0x1064fc3d0>"
       ]
      },
      {
       "metadata": {},
       "output_type": "display_data",
       "png": "[encoded data removed]",
       "text": [
        "<matplotlib.figure.Figure at 0x106394c50>"
       ]
      }
     ],
     "prompt_number": 13
    },
    {
     "cell_type": "markdown",
     "metadata": {},
     "source": [
      "These parameters ($T_{acc}, R, U_{max}$) are close to those used in Hill et al. (2014) Storegga simulations."
     ]
    },
    {
     "cell_type": "heading",
     "level": 2,
     "metadata": {},
     "source": [
      "Procedures for scaling slide velocity and acceleration"
     ]
    },
    {
     "cell_type": "markdown",
     "metadata": {},
     "source": [
      "The next part of our study will simulate waves produced by slides of different sizes at different source locations. We require a rationale for defining all required slide-model parameters for each of these scenarios. A compromise must be achieved between the desire to keep as many parameters as possible constant between scenarios (which simplifies analysis and best exposes sensitivity to volume and location) and ensuring that scenarios are realistic, given the geology of the source location and physics of slide motion.\n",
      "\n",
      "The analysis above provides a physical rationale for selecting slide acceleration and maximum speed; however, several variations on this approach are possible, depending on which slide parameters are to be manually defined for each location.\n",
      "\n",
      "The following sections outline three possible options."
     ]
    },
    {
     "cell_type": "heading",
     "level": 3,
     "metadata": {},
     "source": [
      "User-defined slope angle; geometrically similar slides"
     ]
    },
    {
     "cell_type": "markdown",
     "metadata": {},
     "source": [
      "1. If the volume of our slide is $V$, compared with the Storegga slide volume $V_S$, then simply define all linear dimensions ($L, B, S, h, R$) by multiplying the Storegga value by cube-root of $V/V_S$. For example, to scale the slide thickness $h = h_S(V/V_S)^{1/3}$.\n",
      "\n",
      "2. Define drag coefficient using constant roughness scale $k$ and terminal velocity using constants $\\rho_s,\\rho_w,\\mu$. Treat the slope angle as variable selected per location.\n",
      "\n",
      "3. Define maximum slide velocity $U_{max} = 0.59U_{term}$.\n",
      "\n",
      "4. Define slide acceleration time $T_{acc}$ using:\n",
      "$$ T_{acc} = \\tanh^{-1}(0.59) \\left[\\frac{C_D(\\rho_s-\\rho_w)\\rho_w g (\\sin\\alpha-\\mu\\cos\\alpha)}{2\\rho_s^2 h}\\right]^{-0.5}$$\n",
      "\n",
      "5. Define slide runout length as:\n",
      "$$ R = \\frac{4}{\\pi}U_{max}T_{acc}$$\n",
      "\n",
      "This approach has the benefit that, for constant slope angle, slides of the same volume will have the same maximum velocity and runout length. Hence, only the slope angle need be specified at each location. The slide parameters for a slope angle $\\alpha=0.5$ degrees, $k = 0.04$m and $\\mu=0.005$ are given below.\n",
      "\n",
      "\n",
      "|                        |Very large | Large   |  Medium |   Small | \n",
      "|:-----------------------|:---------:|:-------:|:-------:|:-------:|\n",
      "|Slide volume (km$^3$)   |\t3200     |  1000   |    100  |    10   | \n",
      "|Slide breadth (m)       | 175000\t | 118756  | 55122   | 25585   |\n",
      "|Smoothing length (m)    | 75000     | 50895   | 23624   | 10965   |\n",
      "|Slide length (m)        | 150000    | 101791  | 47247   | 21930   |\n",
      "|Slide thickness (m)     | 144       |    98   |     45  |    21   |\n",
      "|Drag coefficient        | 0.00163\t | 0.00172 | 0.00192 | 0.00215 |\n",
      "|Terminal velocity (m/s) | 59.3      |  47.6   |   30.7  |  19.8   |\n",
      "|Max. velocity (m/s)\t |      35.0 |  28.1   |   18.1  |  11.7   |\n",
      "|Acceleration time (s)   |     3117  |  2500   |   1614  |  1039   |\n",
      "|Runout length (m)       |   138799  | 89337   |  37216  | 15428   |"
     ]
    },
    {
     "cell_type": "heading",
     "level": 3,
     "metadata": {},
     "source": [
      "User-defined slide shape and slope angle"
     ]
    },
    {
     "cell_type": "markdown",
     "metadata": {},
     "source": [
      "As above, except that in Step (1) we choose the slide dimensions for each scenario to give the desired volume.\n",
      "\n",
      "If the user-defined slide shapes are not self-similar, this approach will result in different slide velocities and runout lengths even when the slope angle is the same."
     ]
    },
    {
     "cell_type": "heading",
     "level": 3,
     "metadata": {},
     "source": [
      "User-defined runout length"
     ]
    },
    {
     "cell_type": "markdown",
     "metadata": {},
     "source": [
      "If the runout length defined in Step (5) above is shorter than observed, the runout length could be extended by assuming that when the slide reaches $U_{max}$ it continues at that speed for a short time before decelerating. By default, the assumption is that the slide decelerates immediately that $U_{max}$ is reached. In this case, we define the time at constant speed $T_{const}$ such that:\n",
      "\n",
      "$$R = T_{const}U_{max} + \\frac{4}{\\pi}U_{max}T_{acc}$$\n",
      "\n",
      "This approach has the disadvantage of bringing another variable ($R$) into the parameter space."
     ]
    },
    {
     "cell_type": "heading",
     "level": 3,
     "metadata": {},
     "source": [
      "References"
     ]
    },
    {
     "cell_type": "markdown",
     "metadata": {},
     "source": [
      "Bondevik, S. et al. The Storegga Slide tsunami--comparing field observations with numerical simulations. Marine and Petroleum Geology 22, 195\u2013208 (2005).\n",
      "\n",
      "Harbitz, C. B. Model simulations of tsunamis generated by the Storegga Slides. Marine Geology 105, 1\u201321 (1992).\n",
      "\n",
      "Hill, J., Collins, G. S., Avdis, A., Kramer, S. C. & Piggott, M. D. How does multiscale modelling and inclusion of realistic palaeobathymetry affect numerical simulation of the Storegga Slide tsunami? Ocean Modelling 83, 11\u201325 (2014).\n"
     ]
    }
   ],
   "metadata": {}
  }
 ]
}