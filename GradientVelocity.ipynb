{
 "cells": [
  {
   "cell_type": "code",
   "execution_count": 1,
   "metadata": {
    "collapsed": false
   },
   "outputs": [
    {
     "name": "stderr",
     "output_type": "stream",
     "text": [
      "Vendor:  Continuum Analytics, Inc.\n",
      "Package: mkl\n",
      "Message: trial mode expires in 30 days\n",
      ":0: FutureWarning: IPython widgets are experimental and may change in the future.\n"
     ]
    }
   ],
   "source": [
    "from scipy.io import netcdf, loadmat\n",
    "import numpy as np\n",
    "from pylab import clf, plot, show, floor, ceil, imshow\n",
    "import matplotlib\n",
    "import matplotlib.pyplot as plt\n",
    "%matplotlib inline\n",
    "#xlabel, ylabel, legend, savefig, colorbar, title, clim, pcolor, cm, contourf\n",
    "import os\n",
    "import csv\n",
    "import sys\n",
    "import glob\n",
    "from IPython.display import display, Math, Latex\n",
    "from python_functions import *"
   ]
  },
  {
   "cell_type": "code",
   "execution_count": 20,
   "metadata": {
    "collapsed": true
   },
   "outputs": [],
   "source": [
    "def grad_calc(Depth, hfacc, dxF, dyF, X, Y, Z, res): \n",
    "    Sx = np.zeros_like(hfacc[0,:,:])\n",
    "    Sy = np.zeros_like(hfacc[0,:,:])\n",
    "    \n",
    "    for x in range(len(X)-1)[1:]:\n",
    "        for y in range(len(Y)-1)[1:]:\n",
    "            if x == 0 and y == 0:\n",
    "                Sx[y,x] = -(Depth[y,1]-Depth[y,0])/(dxF[y,1]-dxF[y,0])\n",
    "                Sy[y,x] = -(Depth[1,x]-Depth[0,x])/(dyF[1,x]-dyF[1,x])\n",
    "            elif x == 0 and y == (len(Y)-1):\n",
    "                Sx[y,x] = -(Depth[y,x+1]-Depth[y,0])/(dxF[y,1]-dxF[y,0])\n",
    "                Sy[y,x] = -(Depth[(len(Y)-1),x]-Depth[y-1,x])/(dyF[(len(Y)-1),x]-dyF[y-1,x])\n",
    "            elif x == (len(X)-1) and y == 0:\n",
    "                Sx[y,x] = -(Depth[y,(len(X)-1)]-Depth[y,x-1])/(dxF[y,(len(X)-1)]-dxF[y,x-1])\n",
    "                Sy[y,x] = -(Depth[y+1,x]-Depth[0,x])/(dyF[y+1,x]-dyF[0,x])\n",
    "            elif x == (len(X)-1) and y == (len(Y)-1):\n",
    "                Sx[y,x] = -(Depth[y,(len(X)-1)]-Depth[y,x-1])/(dxF[y,(len(X)-1)]-dxF[y,x-1])\n",
    "                Sy[y,x] = -(Depth[y+1,x]-Depth[y-1,x])/(dyF[(len(Y)-1),x]-dyF[y-1,x])\n",
    "            elif x == 0:\n",
    "                Sx[y,x] = -(Depth[y,1]-Depth[y,0])/(dxF[y,1]-dxF[y,0])\n",
    "                Sy[y,x] = -(Depth[y+1,x]-Depth[y-1,x])/(dyF[y+1,x]-dyF[y-1,x])\n",
    "            elif x == (len(X)-1):\n",
    "                Sx[y,x] = -(Depth[y,(len(X)-1)]-Depth[y,x-1])/(dxF[y,(len(X)-1)]-dxF[y,x-1])\n",
    "                Sy[y,x] = -(Depth[y+1,x]-Depth[y-1,x])/(dyF[y+1,x]-dyF[y-1,x])\n",
    "            elif y == 0:\n",
    "                Sx[y,x] = -(Depth[y,x+1]-Depth[y,x-1])/(dxF[y,x+1]-dxF[y,x-1])\n",
    "                Sy[y,x] = -(Depth[1,x]-Depth[0,x])/(dyF[1,x]-dyF[0,x])\n",
    "            elif y == (len(Y)-1):\n",
    "                Sx[y,x] = -(Depth[y,x+1]-Depth[y,x-1])/(dxF[y,x+1]-dxF[y,x-1])\n",
    "                Sy[y,x] = -(Depth[(len(Y)-1),x]-Depth[y-1,x])/(dyF[(len(Y)-1),x]-dyF[y-1,x])\n",
    "            elif res == 36 and y == 69:\n",
    "                Sx[y,x] = -(Depth[y,x+1]-Depth[y,x-1])/(dxF[y,x+1]-dxF[y,x-1])\n",
    "                Sy[y,x] = -(Depth[y+1,x]-Depth[y-1,x])/(dyF[y+2,x]-dyF[y,x])\n",
    "            else:\n",
    "                Sx[y,x] = -(Depth[y,x+1]-Depth[y,x-1])/(dxF[y,x+1]-dxF[y,x-1])\n",
    "                Sy[y,x] = -(Depth[y+1,x]-Depth[y-1,x])/(dyF[y+1,x]-dyF[y-1,x])\n",
    "                \n",
    "    return Sx,Sy\n",
    "\n",
    "def grid(res):\n",
    "    if res == 18:\n",
    "        file2read = netcdf.NetCDFFile(\"/scratch/general/am8e13/results18km/grid.nc\",'r')\n",
    "        nx = 420\n",
    "        ny = 384\n",
    "        k = 2\n",
    "        \n",
    "    elif res == 9:\n",
    "        file2read = netcdf.NetCDFFile(\"/scratch/general/am8e13/results9km/grid.nc\",'r')\n",
    "        nx = 840\n",
    "        ny = 768\n",
    "        k = 4\n",
    "        \n",
    "    elif res == 36:\n",
    "        file2read = netcdf.NetCDFFile(\"/scratch/general/am8e13/results36km/grid.nc\",'r')\n",
    "        nx = 210\n",
    "        ny = 192\n",
    "        k = 1\n",
    "        \n",
    "    Depth = file2read.variables['Depth']\n",
    "    Depth = Depth[:]*1\n",
    "    hfacc=file2read.variables['HFacC']\n",
    "    hfacc=hfacc[:]*1\n",
    "    dxF = file2read.variables['dxF']\n",
    "    dxF = dxF[:]*1\n",
    "    dyF = file2read.variables['dyF']\n",
    "    dyF = dyF[:]*1\n",
    "    X = file2read.variables['X']\n",
    "    X = X[:]*1\n",
    "    Y = file2read.variables['Y']\n",
    "    Y = Y[:]*1\n",
    "    Z = file2read.variables['Z']\n",
    "    Z = Z[:]*1\n",
    "    \n",
    "    return Depth, hfacc, dxF, dyF, X, Y, Z, nx, ny, k\n",
    "    "
   ]
  },
  {
   "cell_type": "code",
   "execution_count": 25,
   "metadata": {
    "collapsed": true
   },
   "outputs": [],
   "source": [
    "def grad_calc_mod(Depth, hfacc, dxF, dyF, X, Y, Z, res): \n",
    "    Sx = np.zeros_like(hfacc[0,:,:])\n",
    "    Sy = np.zeros_like(hfacc[0,:,:])\n",
    "    \n",
    "    dx = res*1000\n",
    "    dy = res*1000\n",
    "    \n",
    "    for x in range(len(X)-1)[1:]:\n",
    "        for y in range(len(Y)-1)[1:]:\n",
    "            if x == 0 and y == 0:\n",
    "                Sx[y,x] = -(Depth[y,1]-Depth[y,0])/(dx)\n",
    "                Sy[y,x] = -(Depth[1,x]-Depth[0,x])/(dy)\n",
    "            elif x == 0 and y == (len(Y)-1):\n",
    "                Sx[y,x] = -(Depth[y,x+1]-Depth[y,0])/(dx)\n",
    "                Sy[y,x] = -(Depth[(len(Y)-1),x]-Depth[y-1,x])/(dy)\n",
    "            elif x == (len(X)-1) and y == 0:\n",
    "                Sx[y,x] = -(Depth[y,(len(X)-1)]-Depth[y,x-1])/(dx)\n",
    "                Sy[y,x] = -(Depth[y+1,x]-Depth[0,x])/(dy)\n",
    "            elif x == (len(X)-1) and y == (len(Y)-1):\n",
    "                Sx[y,x] = -(Depth[y,(len(X)-1)]-Depth[y,x-1])/(dx)\n",
    "                Sy[y,x] = -(Depth[y+1,x]-Depth[y-1,x])/(dy)\n",
    "            elif x == 0:\n",
    "                Sx[y,x] = -(Depth[y,1]-Depth[y,0])/(dx)\n",
    "                Sy[y,x] = -(Depth[y+1,x]-Depth[y-1,x])/(dy)\n",
    "            elif x == (len(X)-1):\n",
    "                Sx[y,x] = -(Depth[y,(len(X)-1)]-Depth[y,x-1])/(dx)\n",
    "                Sy[y,x] = -(Depth[y+1,x]-Depth[y-1,x])/(dy)\n",
    "            elif y == 0:\n",
    "                Sx[y,x] = -(Depth[y,x+1]-Depth[y,x-1])/(dx)\n",
    "                Sy[y,x] = -(Depth[1,x]-Depth[0,x])/(dy)\n",
    "            elif y == (len(Y)-1):\n",
    "                Sx[y,x] = -(Depth[y,x+1]-Depth[y,x-1])/(dx)\n",
    "                Sy[y,x] = -(Depth[(len(Y)-1),x]-Depth[y-1,x])/(dy)\n",
    "            elif res == 36 and y == 69:\n",
    "                Sx[y,x] = -(Depth[y,x+1]-Depth[y,x-1])/(dx)\n",
    "                Sy[y,x] = -(Depth[y+1,x]-Depth[y-1,x])/(dy)\n",
    "            else:\n",
    "                Sx[y,x] = -(Depth[y,x+1]-Depth[y,x-1])/(dx)\n",
    "                Sy[y,x] = -(Depth[y+1,x]-Depth[y-1,x])/(dy)\n",
    "            \n",
    "    return Sx,Sy\n",
    "                "
   ]
  },
  {
   "cell_type": "code",
   "execution_count": 26,
   "metadata": {
    "collapsed": false
   },
   "outputs": [],
   "source": [
    "def equations(res):\n",
    "    \n",
    "    Depth, hfacc, dxF, dyF, X, Y, Z, nx, ny, k = grid(res)\n",
    "    \n",
    "    dt = 0.1 #600\n",
    "    dx = 100\n",
    "    dy = 100\n",
    "    \n",
    "    # Calculating matrix:\n",
    "    #  (-1 1 . . . . . 0 0 0 )\n",
    "    #  (0 -1 1 . . . . . . 0 )\n",
    "    #  (0 0 -1 1 . . . 0 0 0 )\n",
    "    #  .........\n",
    "    #  (0 0 0 0 0 0 0 0 0 0-1 )\n",
    "\n",
    "    id_y = np.zeros((ny,ny))\n",
    "    for i in range(1,ny-1):\n",
    "        id_y[i,i-1] = -dt/(2*dx)\n",
    "        id_y[i,i+1] = dt/(2*dx)\n",
    "\n",
    "    # Calculating matrix:\n",
    "    #  (-1 0 0 . . . . . 0 0 0 )\n",
    "    #  (1 -1 0 0 . . . . . . 0 )\n",
    "    #  (0 1 -1 0 1 . . . 0 0 0 )\n",
    "    #  (0 0  1  .....    1 -1 0 )\n",
    "    #  ( . . . . . . . . . 1 0 )\n",
    "    #  (0 0 1 0 0 0 0 0 0 0 -1 )\n",
    "\n",
    "    id_x = np.zeros((nx,nx))\n",
    "    for i in range(1,nx-1):\n",
    "        id_x[i-1,i] = -dt/(2*dx)\n",
    "        id_x[i+1,i] = dt/(2*dx)\n",
    "\n",
    "    diff_x = np.zeros_like(id_x)\n",
    "    diff_y = np.zeros_like(id_y)\n",
    "    err = 1\n",
    "    for j in range(1,nx-1,1):\n",
    "        diff_x[j+1,j] = dt/(2*dx)*err\n",
    "        diff_x[j-1,j] = dt/(2*dx)*err\n",
    "        diff_x[j,j] = -dt/(dx)*err\n",
    "\n",
    "    for j in range(1,ny-1,1):\n",
    "        diff_y[j+1,j] = dt/(2*dx)*err\n",
    "        diff_y[j-1,j] = dt/(2*dx)*err\n",
    "        diff_y[j,j] = -dt/(dx)*err\n",
    "    \n",
    "    Sx,Sy = grad_calc_mod(Depth1, hfacc, dxF, dyF, X, Y, Z, res)    \n",
    "    Sy[Sy>20]=20\n",
    "    Sy[Sy<-20]=-20\n",
    "    Sx[Sx>20]=20\n",
    "    Sx[Sx<-20]=-20\n",
    "    \n",
    "    S0 = S0 = np.zeros_like(Sx)\n",
    "    S0[70*k:80*k,34*k:42*k] = 10\n",
    "    \n",
    "    U = np.zeros_like(S0)\n",
    "    U[:,:] = 20\n",
    "    V = np.zeros_like(S0)\n",
    "    V[:,:] = 20\n",
    "    \n",
    "    return Sx,Sy,id_x,id_y,diff_x,diff_y,S0,U,V,hfacc\n",
    "Sx,Sy,id_x,id_y,diff_x,diff_y,S0,U,V,hfacc = equations(36)"
   ]
  },
  {
   "cell_type": "code",
   "execution_count": 44,
   "metadata": {
    "collapsed": false
   },
   "outputs": [
    {
     "name": "stdout",
     "output_type": "stream",
     "text": [
      "0.0115555555556\n"
     ]
    },
    {
     "data": {
      "image/png": "[encoded data removed]",
      "text/plain": [
       "<matplotlib.figure.Figure at 0x2b72ac2f1790>"
      ]
     },
     "metadata": {},
     "output_type": "display_data"
    }
   ],
   "source": [
    "Depth, hfacc, dxF, dyF, X, Y, Z, nx, ny, k = grid(36)\n",
    "\n",
    "Depth1 = np.zeros_like(Depth)\n",
    "for xx in range(len(X)):\n",
    "    for yy in range(len(Y)):\n",
    "        Depth1[yy,xx] = (xx - len(X)/2)**2 + (yy - len(Y)/2)**2\n",
    "plt.contourf(Sy)\n",
    "plt.colorbar()\n",
    "print Sx.max()"
   ]
  },
  {
   "cell_type": "code",
   "execution_count": 42,
   "metadata": {
    "collapsed": false
   },
   "outputs": [],
   "source": [
    "S1 = np.array(S0)\n",
    "S2 = np.array(S0)\n",
    "S3 = np.array(S0)\n",
    "for i in range(0,1000):\n",
    "    #print U.shape,V.shape,id_x.shape,id_y.shape\n",
    "    for x in range(S1.shape[0]):\n",
    "        S1[x,:] = S1[x,:] + np.dot(id_x*Sx[x,:]*1000,S1[x,:]) + np.dot(diff_x,S2[x,:]) \n",
    "    for y in range(S1.shape[1]):\n",
    "        S2[:,y] = S2[:,y] + np.dot(id_y*Sy[:,y]*1000,S2[:,y]) + np.dot(diff_y,S2[:,y]) \n",
    "        \n",
    "    for x in range(S1.shape[0]):\n",
    "        S3[x,:] = S3[x,:] + np.dot(id_x*Sx[x,:]*1000,S3[x,:]) + np.dot(diff_x,S3[x,:]) \n",
    "    for y in range(S1.shape[1]):\n",
    "        S3[:,y] = S3[:,y] + np.dot(id_y*Sy[:,y]*1000,S3[:,y]) + np.dot(diff_y,S3[:,y]) "
   ]
  },
  {
   "cell_type": "code",
   "execution_count": 43,
   "metadata": {
    "collapsed": false
   },
   "outputs": [
    {
     "data": {
      "image/png": "[encoded data removed]",
      "text/plain": [
       "<matplotlib.figure.Figure at 0x2b72a1f22e50>"
      ]
     },
     "metadata": {},
     "output_type": "display_data"
    }
   ],
   "source": [
    "#S[hfacc[0,:,:]==0]=np.nan\n",
    "S00 = np.array(S0)\n",
    "S00[hfacc[0,:,:]==0]=np.nan\n",
    "fig, axes = plt.subplots(2,2)\n",
    "a0 = axes[0,0].contourf(S00)\n",
    "cbar = fig.colorbar(a0 , ax=axes[0,0])\n",
    "S1[hfacc[0,:,:]==0]=np.nan\n",
    "a1 = axes[0,1].contourf(S1)\n",
    "cbar = fig.colorbar(a1 , ax=axes[0,1])\n",
    "S2[hfacc[0,:,:]==0]=np.nan\n",
    "a2 = axes[1,0].contourf(S2)\n",
    "cbar = fig.colorbar(a2 , ax=axes[1,0])\n",
    "S3[hfacc[0,:,:]==0]=np.nan\n",
    "a3 = axes[1,1].contourf(S3-S0)\n",
    "cbar = fig.colorbar(a3 , ax=axes[1,1])\n",
    "\n",
    "fig.subplots_adjust(right=2.4,top=2.2)"
   ]
  },
  {
   "cell_type": "code",
   "execution_count": 6,
   "metadata": {
    "collapsed": false
   },
   "outputs": [],
   "source": [
    "def nangrid(field,res):\n",
    "    ### This script fills the field with nans in the right bit\n",
    "    if res == 18:\n",
    "        x=\"/scratch/general/am8e13/results18km/\"        \n",
    "        nx = 420\n",
    "        ny = 384 \n",
    "    elif res == 36:\n",
    "        x=\"/scratch/general/am8e13/results36km/\"\n",
    "        nx = 210\n",
    "        ny = 192\n",
    "    file2read = netcdf.NetCDFFile(x+\"grid.nc\",'r')\n",
    "    hfacc = file2read.variables['HFacC']\n",
    "    hfacc = hfacc[:]*1\n",
    "    \n",
    "    if len(field.shape) == 4 :\n",
    "        field[:,hfacc == 0] = np.nan\n",
    "    elif len(field.shape) == 3 :\n",
    "        field[hfacc == 0] = np.nan\n",
    "    elif len(field.shape) == 2 :\n",
    "        field[hfacc[0,:,:] == 0] = np.nan\n",
    "    \n",
    "    return field"
   ]
  },
  {
   "cell_type": "code",
   "execution_count": 7,
   "metadata": {
    "collapsed": true
   },
   "outputs": [],
   "source": [
    "x=\"/scratch/general/am8e13/results18km/\"        \n",
    "file2read = netcdf.NetCDFFile(x+\"grid.nc\",'r')\n",
    "hfacc = file2read.variables['HFacC']\n",
    "hfacc = hfacc[:]*1"
   ]
  },
  {
   "cell_type": "code",
   "execution_count": 8,
   "metadata": {
    "collapsed": true
   },
   "outputs": [],
   "source": [
    "## 1 D version of the advection equation"
   ]
  },
  {
   "cell_type": "code",
   "execution_count": 244,
   "metadata": {
    "collapsed": false
   },
   "outputs": [
    {
     "data": {
      "text/plain": [
       "<matplotlib.colorbar.Colorbar instance at 0x2b7388158c20>"
      ]
     },
     "execution_count": 244,
     "metadata": {},
     "output_type": "execute_result"
    },
    {
     "data": {
      "image/png": "[encoded data removed]",
      "text/plain": [
       "<matplotlib.figure.Figure at 0x2b73806349d0>"
      ]
     },
     "metadata": {},
     "output_type": "display_data"
    }
   ],
   "source": [
    "dt = 0.00001\n",
    "dx = 1\n",
    "\n",
    "def S0(x):\n",
    "    if x > 100\n",
    "S_1d = np.zeros(200)\n",
    "S_1d[40:60]=10\n",
    "S_1d[90:110]=10\n",
    "S_1d[140:160]=10\n",
    "V_1d = np.zeros_like(S_1d)\n",
    "for x in range(200):\n",
    "    V_1d[x]= (x - 200/2)*10\n",
    "\n",
    "V_1d[:] = -1000\n",
    "    \n",
    "id_1d = np.zeros((200, 200))\n",
    "for j in range(0,198,1):\n",
    "    id_1d[j+1,j] = dt/dx*V_1d[j+1]\n",
    "    id_1d[j,j] = -dt/dx*V_1d[j]\n",
    "id_1d[199,199]=-dt/dx*V_1d[j]\n",
    "\n",
    "\n",
    "id_2o_1d = np.zeros((200, 200))\n",
    "for j in range(1,198,1):\n",
    "    id_2o_1d[j+1,j] = -dt/(2*dx)*V_1d[j+1]\n",
    "    id_2o_1d[j-1,j] = dt/(2*dx)*V_1d[j-1]\n",
    "    \n",
    "id_2o_1d[0,0] = -dt/(2*dx)*V_1d[1]\n",
    "id_2o_1d[1,0] = -dt/(2*dx)*V_1d[1]\n",
    "id_2o_1d[197,198] = dt/(2*dx)*V_1d[197]\n",
    "id_2o_1d[198,199] = dt/(2*dx)*V_1d[198]\n",
    "id_2o_1d[199,198] = -dt/(2*dx)*V_1d[198]\n",
    "id_2o_1d[199,199] = dt/(2*dx)*V_1d[198]\n",
    "    \n",
    "#id_2o_1d[:,0] = id_2o_1d[:,1] #-dt/(2*dx)*V_1d[2]\n",
    "#id_2o_1d[0,:] = id_2o_1d[1,:] #-dt/(2*dx)*V_1d[2]\n",
    "#id_2o_1d[:,199] = id_2o_1d[:,198] #dt/(2*dx)*V_1d[j-1]\n",
    "#id_2o_1d[199,:] = id_2o_1d[198,:]\n",
    "\n",
    "diff = np.zeros_like(id_1d)\n",
    "err = 10\n",
    "for j in range(1,198,1):\n",
    "    diff[j+1,j] = dt/(2*dx)*err\n",
    "    diff[j-1,j] = dt/(2*dx)*err\n",
    "    #diff[j,j] = -dt/(dx)*err\n",
    "    \n",
    "# Timesteps\n",
    "ts = 10000\n",
    "Stime = np.zeros((200,ts))\n",
    "Stime[:,0]=S_1d\n",
    "for t in range(1,ts,1):\n",
    "    if t > ts/3:\n",
    "        jj = 1\n",
    "    else :\n",
    "        jj = 1\n",
    "        \n",
    "    adv = np.dot(jj*id_2o_1d,Stime[:,t-1])\n",
    "    adv[0] = 0\n",
    "    adv[1] = 0\n",
    "    adv[199] = 0\n",
    "    adv[198] = 0\n",
    "    Stime[:,t] = adv + Stime[:,t-1] #+ np.sum(diff,axis=1)\n",
    "    \n",
    "Stime_sol = np.zeros_like(Stime)\n",
    "for t in range(1,ts,1):\n",
    "    for x in range(len(V_1d)):\n",
    "        Stime_sol[x,t] = x*dx + V_1d[x]*t*dt\n",
    "        \n",
    "\n",
    "                   \n",
    "#plt.contourf(Stime)\n",
    "plt.imshow(Stime_sol,aspect='auto',vmin=-15,vmax=15)\n",
    "plt.colorbar()"
   ]
  },
  {
   "cell_type": "code",
   "execution_count": 227,
   "metadata": {
    "collapsed": false
   },
   "outputs": [
    {
     "ename": "ValueError",
     "evalue": "The truth value of an array with more than one element is ambiguous. Use a.any() or a.all()",
     "output_type": "error",
     "traceback": [
      "\u001b[1;31m---------------------------------------------------------------------------\u001b[0m",
      "\u001b[1;31mValueError\u001b[0m                                Traceback (most recent call last)",
      "\u001b[1;32m<ipython-input-227-07215dec987d>\u001b[0m in \u001b[0;36m<module>\u001b[1;34m()\u001b[0m\n\u001b[0;32m      2\u001b[0m \u001b[1;31m#plt.imshow(id_2o_1d)\u001b[0m\u001b[1;33m\u001b[0m\u001b[1;33m\u001b[0m\u001b[0m\n\u001b[0;32m      3\u001b[0m \u001b[1;31m#fig.subplots_adjust(right=2.4,top=2.8)\u001b[0m\u001b[1;33m\u001b[0m\u001b[1;33m\u001b[0m\u001b[0m\n\u001b[1;32m----> 4\u001b[1;33m \u001b[0mplt\u001b[0m\u001b[1;33m.\u001b[0m\u001b[0mshow\u001b[0m\u001b[1;33m(\u001b[0m\u001b[0mnp\u001b[0m\u001b[1;33m.\u001b[0m\u001b[0mdot\u001b[0m\u001b[1;33m(\u001b[0m\u001b[0mjj\u001b[0m\u001b[1;33m*\u001b[0m\u001b[0mid_2o_1d\u001b[0m\u001b[1;33m,\u001b[0m\u001b[0mStime\u001b[0m\u001b[1;33m[\u001b[0m\u001b[1;33m:\u001b[0m\u001b[1;33m,\u001b[0m\u001b[0mt\u001b[0m\u001b[1;33m-\u001b[0m\u001b[1;36m1\u001b[0m\u001b[1;33m]\u001b[0m\u001b[1;33m)\u001b[0m\u001b[1;33m)\u001b[0m\u001b[1;33m\u001b[0m\u001b[0m\n\u001b[0m",
      "\u001b[1;32m/noc/users/am8e13/anaconda/lib/python2.7/site-packages/matplotlib/pyplot.pyc\u001b[0m in \u001b[0;36mshow\u001b[1;34m(*args, **kw)\u001b[0m\n\u001b[0;32m    153\u001b[0m     \"\"\"\n\u001b[0;32m    154\u001b[0m     \u001b[1;32mglobal\u001b[0m \u001b[0m_show\u001b[0m\u001b[1;33m\u001b[0m\u001b[0m\n\u001b[1;32m--> 155\u001b[1;33m     \u001b[1;32mreturn\u001b[0m \u001b[0m_show\u001b[0m\u001b[1;33m(\u001b[0m\u001b[1;33m*\u001b[0m\u001b[0margs\u001b[0m\u001b[1;33m,\u001b[0m \u001b[1;33m**\u001b[0m\u001b[0mkw\u001b[0m\u001b[1;33m)\u001b[0m\u001b[1;33m\u001b[0m\u001b[0m\n\u001b[0m\u001b[0;32m    156\u001b[0m \u001b[1;33m\u001b[0m\u001b[0m\n\u001b[0;32m    157\u001b[0m \u001b[1;33m\u001b[0m\u001b[0m\n",
      "\u001b[1;32m/noc/users/am8e13/anaconda/lib/python2.7/site-packages/IPython/kernel/zmq/pylab/backend_inline.pyc\u001b[0m in \u001b[0;36mshow\u001b[1;34m(close)\u001b[0m\n\u001b[0;32m     35\u001b[0m         \u001b[1;31m# only call close('all') if any to close\u001b[0m\u001b[1;33m\u001b[0m\u001b[1;33m\u001b[0m\u001b[0m\n\u001b[0;32m     36\u001b[0m         \u001b[1;31m# close triggers gc.collect, which can be slow\u001b[0m\u001b[1;33m\u001b[0m\u001b[1;33m\u001b[0m\u001b[0m\n\u001b[1;32m---> 37\u001b[1;33m         \u001b[1;32mif\u001b[0m \u001b[0mclose\u001b[0m \u001b[1;32mand\u001b[0m \u001b[0mGcf\u001b[0m\u001b[1;33m.\u001b[0m\u001b[0mget_all_fig_managers\u001b[0m\u001b[1;33m(\u001b[0m\u001b[1;33m)\u001b[0m\u001b[1;33m:\u001b[0m\u001b[1;33m\u001b[0m\u001b[0m\n\u001b[0m\u001b[0;32m     38\u001b[0m             \u001b[0mmatplotlib\u001b[0m\u001b[1;33m.\u001b[0m\u001b[0mpyplot\u001b[0m\u001b[1;33m.\u001b[0m\u001b[0mclose\u001b[0m\u001b[1;33m(\u001b[0m\u001b[1;34m'all'\u001b[0m\u001b[1;33m)\u001b[0m\u001b[1;33m\u001b[0m\u001b[0m\n\u001b[0;32m     39\u001b[0m \u001b[1;33m\u001b[0m\u001b[0m\n",
      "\u001b[1;31mValueError\u001b[0m: The truth value of an array with more than one element is ambiguous. Use a.any() or a.all()"
     ]
    }
   ],
   "source": [
    "#fig,ax = plt.subplots(1,1)\n",
    "#plt.imshow(id_2o_1d)\n",
    "#fig.subplots_adjust(right=2.4,top=2.8)\n",
    "plt.show(np.dot(jj*id_2o_1d,Stime[:,t-1]))"
   ]
  },
  {
   "cell_type": "code",
   "execution_count": null,
   "metadata": {
    "collapsed": true
   },
   "outputs": [],
   "source": []
  }
 ],
 "metadata": {
  "kernelspec": {
   "display_name": "Python 2",
   "language": "python",
   "name": "python2"
  },
  "language_info": {
   "codemirror_mode": {
    "name": "ipython",
    "version": 2
   },
   "file_extension": ".py",
   "mimetype": "text/x-python",
   "name": "python",
   "nbconvert_exporter": "python",
   "pygments_lexer": "ipython2",
   "version": "2.7.10"
  }
 },
 "nbformat": 4,
 "nbformat_minor": 0
}
