{
 "cells": [
  {
   "cell_type": "code",
   "execution_count": 1,
   "metadata": {
    "collapsed": false
   },
   "outputs": [
    {
     "name": "stderr",
     "output_type": "stream",
     "text": [
      "Vendor:  Continuum Analytics, Inc.\n",
      "Package: mkl\n",
      "Message: trial mode expires in 30 days\n",
      ":0: FutureWarning: IPython widgets are experimental and may change in the future.\n"
     ]
    }
   ],
   "source": [
    "from scipy.io import netcdf, loadmat\n",
    "import numpy as np\n",
    "from pylab import clf, plot, show, floor, ceil, imshow\n",
    "import matplotlib\n",
    "import matplotlib.pyplot as plt\n",
    "%matplotlib inline\n",
    "#xlabel, ylabel, legend, savefig, colorbar, title, clim, pcolor, cm, contourf\n",
    "import os\n",
    "import csv\n",
    "import sys\n",
    "import glob\n",
    "import timeit\n",
    "from IPython.display import display, Math, Latex\n",
    "from python_functions import *\n",
    "sys.path.append('/noc/users/am8e13/Python/sfepy/')\n"
   ]
  },
  {
   "cell_type": "markdown",
   "metadata": {},
   "source": [
    "We want to solve the following equation:\n",
    "$$\n",
    "\\frac{dp}{dt} = \\nabla \\cdot \\left( \\mathbf{u} p \\right)\n",
    "$$\n",
    "where $p$ is the perturbation and $\\mathbf{u}$ is the gradient of the bathymety, $H$:\n",
    "$$\n",
    "\\mathbf{u} = (u_x, u_y)\n",
    "$$\n",
    "$$\n",
    "u_x = \\frac{\\partial H}{\\partial x}\\ ,\\ u_y = \\frac{\\partial H}{\\partial y} \n",
    "$$\n",
    "Useful link, reaction diffusion: http://ipython-books.github.io/featured-05/\n",
    "\n",
    "Another useful link, shallow water with theano : https://github.com/mrocklin/ShallowWater\n",
    "\n",
    "Theno diffusion operator: http://www.ericlwilkinson.com/blog/2015/1/11/numerical-relaxation-on-the-gpu-with-theano"
   ]
  },
  {
   "cell_type": "code",
   "execution_count": 2,
   "metadata": {
    "collapsed": true
   },
   "outputs": [],
   "source": [
    "from numpy import *\n",
    "from pylab import figure, imshow, title, colorbar\n",
    "\n",
    "box_size = 1.\n",
    "\n",
    "\n",
    "# Initial Conditions\n",
    "n = 100\n",
    "u = zeros((n,n)) # velocity in x direction\n",
    "v = zeros((n,n)) # velocity in y direction\n",
    "\n",
    "eta = ones((n,n)) # pressure deviation (like height)\n",
    "x,y = mgrid[:n,:n]\n",
    "droplet_x, droplet_y = 50, 50\n",
    "rr = (x-droplet_x)**2 + (y-droplet_y)**2\n",
    "eta[rr<10**2] = 1.1 # add a perturbation in pressure surface\n",
    "\n",
    "grid_spacing =  1.0*box_size / n\n",
    "g = 1.\n",
    "\n",
    "dt = grid_spacing / 100.\n",
    "\n",
    "def spatial_derivative(A, axis=0):\n",
    "    \"\"\"\n",
    "    Compute derivative of array A using balanced finite differences\n",
    "    Axis specifies direction of spatial derivative (d/dx or d/dy)\n",
    "    dA[i] =  A[i+1] - A[i-1]   / 2\n",
    "    ... or with grid spacing included ...\n",
    "    dA[i]/dx =  A[i+1] - A[i-1]   / 2dx\n",
    "    Used By:\n",
    "        d_dx\n",
    "        d_dy\n",
    "    \"\"\"\n",
    "    return (roll(A, -1, axis) - roll(A, 1, axis)) / (grid_spacing*2.)\n",
    "\n",
    "def d_dx(A):\n",
    "    return spatial_derivative(A,1)\n",
    "def d_dy(A):\n",
    "    return spatial_derivative(A,0)\n",
    "\n",
    "\n",
    "def d_dt(eta, u, v, g, b=0):\n",
    "    \"\"\"\n",
    "    http://en.wikipedia.org/wiki/Shallow_water_equations#Non-conservative_form\n",
    "    \"\"\"\n",
    "    for x in [eta, u, v]: # type check\n",
    "        assert isinstance(x, ndarray) and not isinstance(x, matrix)\n",
    "\n",
    "    du_dt = -g*d_dx(eta) - b*u\n",
    "    dv_dt = -g*d_dy(eta) - b*v\n",
    "\n",
    "    H = 0#eta.mean() - our definition of eta includes this term\n",
    "    deta_dt = -d_dx(u * (H+eta)) - d_dy(v * (H+eta))\n",
    "\n",
    "    return deta_dt, du_dt, dv_dt\n",
    "\n",
    "\n",
    "def evolveEuler(eta, u, v, g, dt=dt):\n",
    "    \"\"\"\n",
    "    Evolve state (eta, u, v, g) forward in time using simple Euler method\n",
    "    x_{n+1} = x_{n} +   dx/dt * d_t\n",
    "    Returns an generator / infinite list of all states in the evolution\n",
    "    >>> trajectory = evolveEuler(eta, u, v, g)\n",
    "    >>> eta, u, v, time = trajectory.next()\n",
    "    >>> eta, u, v, time = trajectory.next()\n",
    "    >>> imshow(eta)\n",
    "    \"\"\"\n",
    "    time = 0\n",
    "    yield eta, u, v, time # return initial conditions as first state in sequence\n",
    "\n",
    "    while(True):\n",
    "        deta_dt, du_dt, dv_dt = d_dt(eta, u, v, g)\n",
    "\n",
    "        eta = eta + deta_dt * dt\n",
    "        u = u + du_dt * dt\n",
    "        v = v + dv_dt * dt\n",
    "        time += dt\n",
    "\n",
    "        yield eta, u, v, time\n",
    "\n",
    "def demo(eta=eta, u=u, v=v, g=g, dt=dt, endTime=.3):\n",
    "    trajectory = evolveEuler(eta, u, v, g, dt)\n",
    "\n",
    "    # Figure with initial conditions\n",
    "    eta, u, v, time = trajectory.next()\n",
    "    figure(); title('Initial conditions')\n",
    "    imshow(eta); colorbar()\n",
    "\n",
    "    # Burn some time\n",
    "    time = 0\n",
    "    while(time < endTime):\n",
    "        _, _, _, time = trajectory.next()\n",
    "\n",
    "    # Figure after some time has passed\n",
    "    eta, u, v, time = trajectory.next()\n",
    "    figure(); title('time=%f'%time)\n",
    "    imshow(eta); colorbar()\n",
    "\n",
    "#=========================================\n",
    "# Unused but possibly relevant code\n",
    "#=========================================\n",
    "\n",
    "def d_dt_conservative(eta, u, v, g):\n",
    "    \"\"\"\n",
    "    http://en.wikipedia.org/wiki/Shallow_water_equations#Conservative_form\n",
    "    \"\"\"\n",
    "    for x in [eta, u, v]: # type check\n",
    "        assert isinstance(x, ndarray) and not isinstance(x, matrix)\n",
    "\n",
    "    deta_dt = -d_dx(eta*u) -d_dy(eta*v)\n",
    "    du_dt = (deta_dt*u - d_dx(eta*u**2 + 1./2*g*eta**2) - d_dy(eta*u*v)) / eta\n",
    "    dv_dt = (deta_dt*v - d_dx(eta*u*v) - d_dy(eta*v**2 + 1./2*g*eta**2)) / eta\n",
    "\n",
    "    return deta_dt, du_dt, dv_dt"
   ]
  },
  {
   "cell_type": "code",
   "execution_count": 8,
   "metadata": {
    "collapsed": false
   },
   "outputs": [],
   "source": [
    "def grid_read(res):\n",
    "    ''' use: grid = grid_read(res) '''\n",
    "    path = \"/scratch/general/am8e13/results\"+str(res)+\"km/grid.nc\"\n",
    "    file2read = netcdf.NetCDFFile(path,'r')\n",
    "    # Bathy is 1 on land and 0 over sea                                                                                                            \n",
    "    grid = {}\n",
    "    for var in ['HFacC','HFacW','HFacS','YC','XC','Z','Y','X','Depth']:\n",
    "        temp = file2read.variables[var]\n",
    "        grid[var] = temp[:]*1\n",
    "    file2read.close()\n",
    "    return grid\n",
    "grid = grid_read(36)"
   ]
  },
  {
   "cell_type": "code",
   "execution_count": 23,
   "metadata": {
    "collapsed": false
   },
   "outputs": [],
   "source": [
    "Depth = grid['Depth']\n",
    "X = grid['X']\n",
    "Y = grid['Y']\n",
    "hfacc = grid['HFacC']\n",
    "Depth1 = np.zeros_like(Depth)\n",
    "for xx in range(len(X)):\n",
    "    for yy in range(len(Y)):\n",
    "        Depth1[yy,xx] = (xx - len(X)/2)**2 + (yy - len(Y)/2)**2\n",
    "k=1\n",
    "S0 = S0 = np.zeros_like(Depth)\n",
    "S0[70*k:80*k,34*k:42*k] = 10"
   ]
  },
  {
   "cell_type": "code",
   "execution_count": 70,
   "metadata": {
    "collapsed": false
   },
   "outputs": [],
   "source": [
    "def plot_vel_roll(S0,depth,nt,dt,dx):\n",
    "\n",
    "    S1 = np.array(S0)\n",
    "    Sx2 = np.array(np.gradient(depth))[0,:,:]\n",
    "    Sy2 = np.array(np.gradient(depth))[1,:,:]\n",
    "    \n",
    "    Sx2 = ( Sx2 - np.mean(Sx2) ) / ( np.max(Sx2) - np.min(Sx2) )\n",
    "    Sy2 = ( Sy2 - np.mean(Sy2) ) / ( np.max(Sy2) - np.min(Sy2) )\n",
    "    \n",
    "    for i in range(0,nt):\n",
    "        S1 = S1 + dt*(np.roll(S1*Sx2, -1, axis=0) - np.roll(S1*Sx2, 1, axis=0)) / (dx*2.) \\\n",
    "                + dt*(np.roll(S1*Sy2, -1, axis=1) - np.roll(S1*Sy2, 1, axis=1)) / (dx*2.)\n",
    "            \n",
    "    S00 = np.array(S0)\n",
    "    vimin = 0 ; vimax = 10\n",
    "    fig, axes = plt.subplots(2,2)\n",
    "    a0 = axes[0,0].imshow(Sx2,origin=\"lower\")\n",
    "    cbar = fig.colorbar(a0 , ax=axes[0,0])\n",
    "    a1 = axes[0,1].imshow(Sy2,origin=\"lower\")    \n",
    "    cbar = fig.colorbar(a1 , ax=axes[0,1])\n",
    "    S00[hfacc[0,:,:]==0]=np.nan\n",
    "    a2 = axes[1,0].imshow(S00,vmin=vimin,vmax=vimax,origin=\"lower\")\n",
    "    cbar = fig.colorbar(a2 , ax=axes[1,0])\n",
    "    S1[hfacc[0,:,:]==0]=np.nan\n",
    "    a3 = axes[1,1].imshow(S1,vmin=vimin,vmax=vimax,origin=\"lower\")\n",
    "    cbar = fig.colorbar(a3 , ax=axes[1,1])\n",
    "    fig.subplots_adjust(right=2.4,top=2.4)   \n",
    "    return S1 "
   ]
  },
  {
   "cell_type": "code",
   "execution_count": null,
   "metadata": {
    "collapsed": false
   },
   "outputs": [],
   "source": [
    "Depth1 = np.zeros_like(Depth)\n",
    "for xx in range(len(X)):\n",
    "    for yy in range(len(Y)):\n",
    "        Depth1[yy,xx] = (xx - len(X)/2)**2 + (yy - len(Y)/2)**2\n",
    "\n",
    "a = plot_vel_roll(S0,Depth1,nt=1000000,dt=0.00001,dx=1)"
   ]
  },
  {
   "cell_type": "code",
   "execution_count": null,
   "metadata": {
    "collapsed": false
   },
   "outputs": [],
   "source": [
    "Depth1 = np.zeros_like(Depth)\n",
    "for xx in range(len(X)):\n",
    "    for yy in range(len(Y)):\n",
    "        Depth1[yy,xx] = (xx - len(X)/2)**3 + (yy - len(Y)/2)**3\n",
    "a = plot_vel_roll(S0,Depth1,nt=1000000,dt=0.00001,dx=1)"
   ]
  },
  {
   "cell_type": "code",
   "execution_count": null,
   "metadata": {
    "collapsed": false
   },
   "outputs": [],
   "source": [
    "Depth = grid['Depth']\n",
    "a = plot_vel_roll(S0,Depth,nt=1000000,dt=0.00001,dx=1)"
   ]
  },
  {
   "cell_type": "code",
   "execution_count": null,
   "metadata": {
    "collapsed": true
   },
   "outputs": [],
   "source": []
  }
 ],
 "metadata": {
  "kernelspec": {
   "display_name": "Python 2",
   "language": "python",
   "name": "python2"
  },
  "language_info": {
   "codemirror_mode": {
    "name": "ipython",
    "version": 2
   },
   "file_extension": ".py",
   "mimetype": "text/x-python",
   "name": "python",
   "nbconvert_exporter": "python",
   "pygments_lexer": "ipython2",
   "version": "2.7.10"
  }
 },
 "nbformat": 4,
 "nbformat_minor": 0
}
