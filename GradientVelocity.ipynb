{
 "cells": [
  {
   "cell_type": "code",
   "execution_count": 1,
   "metadata": {
    "collapsed": false
   },
   "outputs": [
    {
     "name": "stderr",
     "output_type": "stream",
     "text": [
      "Vendor:  Continuum Analytics, Inc.\n",
      "Package: mkl\n",
      "Message: trial mode expires in 30 days\n"
     ]
    }
   ],
   "source": [
    "from scipy.io import netcdf, loadmat\n",
    "import numpy as np\n",
    "from pylab import clf, plot, show, floor, ceil, imshow\n",
    "import matplotlib\n",
    "import matplotlib.pyplot as plt\n",
    "%matplotlib inline\n",
    "#xlabel, ylabel, legend, savefig, colorbar, title, clim, pcolor, cm, contourf\n",
    "import os\n",
    "import csv\n",
    "import sys\n",
    "import glob\n",
    "from IPython.display import display, Math, Latex\n",
    "from python_functions import *"
   ]
  },
  {
   "cell_type": "code",
   "execution_count": null,
   "metadata": {
    "collapsed": true
   },
   "outputs": [],
   "source": [
    "nx = 420\n",
    "ny = 384"
   ]
  },
  {
   "cell_type": "code",
   "execution_count": 97,
   "metadata": {
    "collapsed": false
   },
   "outputs": [],
   "source": [
    "dHdx, dHdy = BathyGrad(18,True)\n",
    "\n",
    "# Calculating matrix:\n",
    "#  (-1 0 1 . . . . . 0 0 0 )\n",
    "#  (0 -1 0 1 . . . . . . 0 )\n",
    "#  (0 0 -1 0 1 . . . 0 0 0 )\n",
    "#  .........\n",
    "#  (0 0 0 0 0 0 0 0 -1 0 1 )\n",
    "\n",
    "id_y = np.zeros([ny,ny])\n",
    "id_y[0,0:2] = [0,1]\n",
    "id_y[1,0:3] = [-1,0,1]\n",
    "id_y[ny-2,ny-3:ny] = [-1,0,1]\n",
    "id_y[ny-1,ny-1:ny] = -1\n",
    "for i in range(2,ny-2):\n",
    "    id_y[i,i-1:i+2] = [-1,0,1]\n",
    "    \n",
    "# Calculating matrix:\n",
    "#  (-1 0 0 . . . . . 0 0 0 )\n",
    "#  (0 -1 0 1 . . . . . . 0 )\n",
    "#  (1 0 -1 0 1 . . . 0 0 0 )\n",
    "#  (0 1 0  .....     0 0 0 )\n",
    "#  ( . . . . . . . . . )\n",
    "#  (0 0 1 0 0 0 0 0 0 0 1 )\n",
    "\n",
    "id_x = np.zeros([nx,nx])\n",
    "id_x[0:2,0] = [0,1]\n",
    "id_x[0:3,1] = [-1,0,1]\n",
    "id_x[nx-3:nx,nx-2] = [-1,0,1]\n",
    "id_x[nx-1,nx-3:nx-1] = [-1,0]\n",
    "for i in range(2,nx-2):\n",
    "    id_x[i-1:i+2,i] = [-1,0,1]"
   ]
  },
  {
   "cell_type": "code",
   "execution_count": 310,
   "metadata": {
    "collapsed": false
   },
   "outputs": [],
   "source": [
    "res = 18\n",
    "if res == 18:\n",
    "    file2read = netcdf.NetCDFFile(\"/scratch/general/am8e13/results18km/grid.nc\",'r')\n",
    "elif res == 36:\n",
    "    file2read = netcdf.NetCDFFile(\"/scratch/general/am8e13/results36km/grid.nc\",'r')\n",
    "#Depth = file2read.variables['Depth']\n",
    "#Depth = Depth[:]*1\n",
    "hfacc=file2read.variables['HFacC']\n",
    "hfacc=hfacc[:]*1\n",
    "dxF = file2read.variables['dxF']\n",
    "dxF = dxF[:]*1\n",
    "dyF = file2read.variables['dyF']\n",
    "dyF = dyF[:]*1\n",
    "X = file2read.variables['X']\n",
    "X = X[:]*1\n",
    "Y = file2read.variables['Y']\n",
    "Y = Y[:]*1\n",
    "Z = file2read.variables['Z']\n",
    "Z = Z[:]*1"
   ]
  },
  {
   "cell_type": "code",
   "execution_count": 311,
   "metadata": {
    "collapsed": false
   },
   "outputs": [
    {
     "data": {
      "text/plain": [
       "(array([[ 0.,  0.,  0., ...,  0.,  0.,  0.],\n",
       "        [ 0.,  0.,  0., ..., -0., -0.,  0.],\n",
       "        [ 0.,  0.,  0., ..., -0., -0.,  0.],\n",
       "        ..., \n",
       "        [ 0., -0., -0., ...,  0.,  0.,  0.],\n",
       "        [ 0., -0., -0., ...,  0.,  0.,  0.],\n",
       "        [ 0.,  0.,  0., ...,  0.,  0.,  0.]]),\n",
       " array([[ 0.,  0.,  0., ...,  0.,  0.,  0.],\n",
       "        [ 0.,  0.,  0., ...,  0.,  0.,  0.],\n",
       "        [ 0.,  0.,  0., ...,  0.,  0.,  0.],\n",
       "        ..., \n",
       "        [ 0., -0., -0., ..., -0., -0.,  0.],\n",
       "        [ 0., -0., -0., ..., -0., -0.,  0.],\n",
       "        [ 0.,  0.,  0., ...,  0.,  0.,  0.]]))"
      ]
     },
     "execution_count": 311,
     "metadata": {},
     "output_type": "execute_result"
    }
   ],
   "source": [
    "def grad_calc(Depth):\n",
    "    Sx = np.zeros_like(hfacc[0,:,:])\n",
    "    Sy = np.zeros_like(hfacc[0,:,:])\n",
    "    for x in range(len(X)-1)[1:]:\n",
    "        for y in range(len(Y)-1)[1:]:\n",
    "            if x == 0 and y == 0:\n",
    "                Sx[y,x] = -(Depth[y,1]-Depth[y,0])/(dxF[y,1]-dxF[y,0])\n",
    "                Sy[y,x] = -(Depth[1,x]-Depth[0,x])/(dyF[1,x]-dyF[1,x])\n",
    "            elif x == 0 and y == (len(Y)-1):\n",
    "                Sx[y,x] = -(Depth[y,x+1]-Depth[y,0])/(dxF[y,1]-dxF[y,0])\n",
    "                Sy[y,x] = -(Depth[(len(Y)-1),x]-Depth[y-1,x])/(dyF[(len(Y)-1),x]-dyF[y-1,x])\n",
    "            elif x == (len(X)-1) and y == 0:\n",
    "                Sx[y,x] = -(Depth[y,(len(X)-1)]-Depth[y,x-1])/(dxF[y,(len(X)-1)]-dxF[y,x-1])\n",
    "                Sy[y,x] = -(Depth[y+1,x]-Depth[0,x])/(dyF[y+1,x]-dyF[0,x])\n",
    "            elif x == (len(X)-1) and y == (len(Y)-1):\n",
    "                Sx[y,x] = -(Depth[y,(len(X)-1)]-Depth[y,x-1])/(dxF[y,(len(X)-1)]-dxF[y,x-1])\n",
    "                Sy[y,x] = -(Depth[y+1,x]-Depth[y-1,x])/(dyF[(len(Y)-1),x]-dyF[y-1,x])\n",
    "            elif x == 0:\n",
    "                Sx[y,x] = -(Depth[y,1]-Depth[y,0])/(dxF[y,1]-dxF[y,0])\n",
    "                Sy[y,x] = -(Depth[y+1,x]-Depth[y-1,x])/(dyF[y+1,x]-dyF[y-1,x])\n",
    "            elif x == (len(X)-1):\n",
    "                Sx[y,x] = -(Depth[y,(len(X)-1)]-Depth[y,x-1])/(dxF[y,(len(X)-1)]-dxF[y,x-1])\n",
    "                Sy[y,x] = -(Depth[y+1,x]-Depth[y-1,x])/(dyF[y+1,x]-dyF[y-1,x])\n",
    "            elif y == 0:\n",
    "                Sx[y,x] = -(Depth[y,x+1]-Depth[y,x-1])/(dxF[y,x+1]-dxF[y,x-1])\n",
    "                Sy[y,x] = -(Depth[1,x]-Depth[0,x])/(dxF[1,x]-dxF[0,x])\n",
    "            elif y == (len(Y)-1):\n",
    "                Sx[y,x] = -(Depth[y,x+1]-Depth[y,x-1])/(dxF[y,x+1]-dxF[y,x-1])\n",
    "                Sy[y,x] = -(Depth[(len(Y)-1),x]-Depth[y-1,x])/(dyF[(len(Y)-1),x]-dyF[y-1,x])\n",
    "            elif res == 36 and y == 69:\n",
    "                Sx[y,x] = -(Depth[y,x+1]-Depth[y,x-1])/(dxF[y,x+1]-dxF[y,x-1])\n",
    "                Sy[y,x] = -(Depth[y+1,x]-Depth[y-1,x])/(dyF[y+2,x]-dyF[y,x])\n",
    "            else:\n",
    "                Sx[y,x] = -(Depth[y,x+1]-Depth[y,x-1])/(dxF[y,x+1]-dxF[y,x-1])\n",
    "                Sy[y,x] = -(Depth[y+1,x]-Depth[y-1,x])/(dyF[y+1,x]-dyF[y-1,x])\n",
    "                \n",
    "    return Sx,Sy\n",
    "Sx,Sy = grad_calc(S0)"
   ]
  },
  {
   "cell_type": "code",
   "execution_count": 334,
   "metadata": {
    "collapsed": true
   },
   "outputs": [],
   "source": [
    "dt = 600\n",
    "dx = 36000\n",
    "dy = 36000"
   ]
  },
  {
   "cell_type": "code",
   "execution_count": 343,
   "metadata": {
    "collapsed": false
   },
   "outputs": [],
   "source": [
    "S0 = np.zeros_like(dHdx)\n",
    "S0[67*2:83*2,34*2:42*2] = 10"
   ]
  },
  {
   "cell_type": "code",
   "execution_count": 342,
   "metadata": {
    "collapsed": false
   },
   "outputs": [],
   "source": [
    "U = np.zeros_like(S0)\n",
    "U[:,:] = 10\n",
    "V = np.zeros_like(S0)\n",
    "V[:,:] = 0"
   ]
  },
  {
   "cell_type": "code",
   "execution_count": 305,
   "metadata": {
    "collapsed": false
   },
   "outputs": [],
   "source": [
    "S = np.array(S0)\n",
    "for i in range(0,200):\n",
    "    S = dt*S + dt*dHdy*id_x.dot(S.T).T /(2*dx)+ dt*dHdx*id_y.dot(S)/(2*dy)"
   ]
  },
  {
   "cell_type": "code",
   "execution_count": 307,
   "metadata": {
    "collapsed": false
   },
   "outputs": [],
   "source": [
    "S = np.array(S0)\n",
    "for i in range(0,200):\n",
    "    S = dt*S + dt*U*id_x.dot(S.T).T /(2*dx)+ dt*V*id_y.dot(S)/(2*dy)"
   ]
  },
  {
   "cell_type": "code",
   "execution_count": 351,
   "metadata": {
    "collapsed": false
   },
   "outputs": [],
   "source": [
    "S = np.array(S0)\n",
    "for i in range(0,30):\n",
    "    Sx,Sy = grad_calc(S)\n",
    "    S = dt*S + dt*U*Sx+ dt*V*Sy"
   ]
  },
  {
   "cell_type": "code",
   "execution_count": 352,
   "metadata": {
    "collapsed": false
   },
   "outputs": [
    {
     "data": {
      "image/png": "[encoded data removed]",
      "text/plain": [
       "<matplotlib.figure.Figure at 0x2b7ca0f2db10>"
      ]
     },
     "metadata": {},
     "output_type": "display_data"
    }
   ],
   "source": [
    "S[hfacc[0,:,:]==0]=np.nan\n",
    "S00 = np.array(S0)\n",
    "S00[hfacc[0,:,:]==0]=np.nan\n",
    "fig, axes = plt.subplots(1,3)\n",
    "a0 = axes[0].contourf(S00)\n",
    "cbar = fig.colorbar(a0 , ax=axes[0])\n",
    "a1 = axes[1].contourf(S)\n",
    "cbar = fig.colorbar(a1 , ax=axes[1])\n",
    "a2 = axes[2].contourf(S-S00)\n",
    "cbar = fig.colorbar(a2 , ax=axes[2])\n",
    "fig.subplots_adjust(right=2.4,top=1.2)"
   ]
  },
  {
   "cell_type": "code",
   "execution_count": 137,
   "metadata": {
    "collapsed": false
   },
   "outputs": [],
   "source": [
    "def nangrid(field,res):\n",
    "    ### This script fills the field with nans in the right bit\n",
    "    if res == 18:\n",
    "        x=\"/scratch/general/am8e13/results18km/\"        \n",
    "        nx = 420\n",
    "        ny = 384 \n",
    "    elif res == 36:\n",
    "        x=\"/scratch/general/am8e13/results36km/\"\n",
    "        nx = 210\n",
    "        ny = 192\n",
    "    file2read = netcdf.NetCDFFile(x+\"grid.nc\",'r')\n",
    "    hfacc = file2read.variables['HFacC']\n",
    "    hfacc = hfacc[:]*1\n",
    "    \n",
    "    if len(field.shape) == 4 :\n",
    "        field[:,hfacc == 0] = np.nan\n",
    "    elif len(field.shape) == 3 :\n",
    "        field[hfacc == 0] = np.nan\n",
    "    elif len(field.shape) == 2 :\n",
    "        field[hfacc[0,:,:] == 0] = np.nan\n",
    "    \n",
    "    return field"
   ]
  },
  {
   "cell_type": "code",
   "execution_count": 131,
   "metadata": {
    "collapsed": true
   },
   "outputs": [],
   "source": [
    "x=\"/scratch/general/am8e13/results18km/\"        \n",
    "file2read = netcdf.NetCDFFile(x+\"grid.nc\",'r')\n",
    "hfacc = file2read.variables['HFacC']\n",
    "hfacc = hfacc[:]*1"
   ]
  },
  {
   "cell_type": "code",
   "execution_count": null,
   "metadata": {
    "collapsed": true
   },
   "outputs": [],
   "source": []
  }
 ],
 "metadata": {
  "kernelspec": {
   "display_name": "Python 2",
   "language": "python",
   "name": "python2"
  },
  "language_info": {
   "codemirror_mode": {
    "name": "ipython",
    "version": 2
   },
   "file_extension": ".py",
   "mimetype": "text/x-python",
   "name": "python",
   "nbconvert_exporter": "python",
   "pygments_lexer": "ipython2",
   "version": "2.7.10"
  }
 },
 "nbformat": 4,
 "nbformat_minor": 0
}
