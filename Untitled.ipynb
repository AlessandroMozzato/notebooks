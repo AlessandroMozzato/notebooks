{
 "cells": [
  {
   "cell_type": "code",
   "execution_count": 1,
   "metadata": {
    "collapsed": false
   },
   "outputs": [
    {
     "name": "stderr",
     "output_type": "stream",
     "text": [
      "Vendor:  Continuum Analytics, Inc.\n",
      "Package: mkl\n",
      "Message: trial mode expires in 30 days\n"
     ]
    }
   ],
   "source": [
    "from scipy.io import netcdf\n",
    "import numpy as np\n",
    "from pylab import clf, plot, show, floor, ceil, imshow\n",
    "import matplotlib\n",
    "import matplotlib.pyplot as plt \n",
    "%matplotlib inline\n",
    "#xlabel, ylabel, legend, savefig, colorbar, title, clim, pcolor, cm, contourf\n",
    "import os\n",
    "import csv\n",
    "import sys\n",
    "import glob\n",
    "from netCDF4 import Dataset\n",
    "\n",
    "from IPython.display import display, Math, Latex, Image\n",
    "from mpl_toolkits.basemap import Basemap\n",
    "import mpl_toolkits\n",
    "\n",
    "sys.path.append('/noc/users/am8e13/PyNGL-1.4.0/lib/python2.7/site-packages/PyNGL/')\n",
    "import Ngl\n",
    "sys.path.append('/noc/users/am8e13/Python/')\n",
    "import komod\n",
    "sys.path.append('/noc/users/am8e13/Python/PyNIO-1.4.0/')\n",
    "import Nio\n",
    "\n",
    "from python_functions import *"
   ]
  },
  {
   "cell_type": "code",
   "execution_count": 2,
   "metadata": {
    "collapsed": true
   },
   "outputs": [],
   "source": [
    "# Readomg the Nemo and Noaa file\n",
    "Nemo25 = nemo()\n",
    "Nemo25.read_nemo('25')\n",
    "Noaa = noaa()\n",
    "Noaa.read_noaa()"
   ]
  },
  {
   "cell_type": "code",
   "execution_count": 3,
   "metadata": {
    "collapsed": false
   },
   "outputs": [
    {
     "name": "stderr",
     "output_type": "stream",
     "text": [
      "/noc/users/am8e13/anaconda/lib/python2.7/site-packages/scipy/io/netcdf.py:287: RuntimeWarning: Cannot close a netcdf_file opened with mmap=True, when netcdf_variables or arrays referring to its data still exist. All data arrays obtained from such files refer directly to data on disk, and must be copied before the file can be cleanly closed. (See netcdf_file docstring for more information on mmap.)\n",
      "  ), category=RuntimeWarning)\n"
     ]
    }
   ],
   "source": [
    "run36 = spinup()\n",
    "run36.readSpin('/scratch/general/am8e13/results36km_newspinup/spinup36km.nc')\n",
    "run18 = spinup()\n",
    "run18.readSpin('/scratch/general/am8e13/results18km_newspinup/spinup18km.nc')"
   ]
  },
  {
   "cell_type": "code",
   "execution_count": 22,
   "metadata": {
    "collapsed": true
   },
   "outputs": [],
   "source": [
    "class Obcs:\n",
    "    def __init__(self):\n",
    "\n",
    "        self.data = {'Ev' : [] , 'Wv' : [] , 'Nv' : [] , \\\n",
    "                     'Eu' : [] , 'Wu' : [] , 'Nu' : [] , \\\n",
    "                     'Et' : [] , 'Wt' : [] , 'Nt' : [] , \\\n",
    "                     'Es' : [] , 'Ws' : [] , 'Ns' : [] }\n",
    "        self.data_av = {'Ev' : [] , 'Wv' : [] , 'Nv' : [] , \\\n",
    "                     'Eu' : [] , 'Wu' : [] , 'Nu' : [] , \\\n",
    "                     'Et' : [] , 'Wt' : [] , 'Nt' : [] , \\\n",
    "                     'Es' : [] , 'Ws' : [] , 'Ns' : [] }\n",
    "        self.mean = {'Ev' : [] , 'Wv' : [] , 'Nv' : [] , \\\n",
    "                     'Eu' : [] , 'Wu' : [] , 'Nu' : [] , \\\n",
    "                     'Et' : [] , 'Wt' : [] , 'Nt' : [] , \\\n",
    "                     'Es' : [] , 'Ws' : [] , 'Ns' : [] }\n",
    "        \n",
    "    def ReadData(self,path,tdim,endingstr,res):\n",
    "        obcs_data = ['Ev' , 'Wv' , 'Nv' , 'Eu' , 'Wu' , 'Nu' , 'Et' , 'Wt' , 'Nt' , 'Es' , 'Ws' , 'Ns' ]\n",
    "        \n",
    "        if res == 18:\n",
    "            xdim = [420,1]\n",
    "            ydim = [384,1]\n",
    "            file_res = \"_arctic_420x384.\"\n",
    "            grid = '/scratch/general/am8e13/results18km/'\n",
    "            kk = 2\n",
    "        elif res == 36:\n",
    "            xdim = [210,1]\n",
    "            ydim = [192,1]\n",
    "            file_res = \"_arctic_210x192.\"\n",
    "            grid = '/scratch/general/am8e13/results36km/'\n",
    "            kk = 1\n",
    "        elif res == 9:\n",
    "            xdim = [840,1]\n",
    "            ydim = [768,1]\n",
    "            file_res = \"_arctic_840x768.\"\n",
    "            grid = '/scratch/general/am8e13/results9km/'\n",
    "            kk = 4\n",
    "        zdim = 50\n",
    "        \n",
    "        for var in obcs_data:\n",
    "            if var == 'Nu' or var == 'Nv' or var == 'Ns' or var == 'Nt':\n",
    "                xdim_i = 0\n",
    "                ydim_i = 1\n",
    "            elif var == 'Wu' or var == 'Wv' or var == 'Ws' or var == 'Wt' or \\\n",
    "                    var == 'Eu' or var == 'Ev' or var == 'Es' or var == 'Et':\n",
    "                xdim_i = 1\n",
    "                ydim_i = 0\n",
    "            \n",
    "            if var == 'Es' or var == 'Ns' or var == 'Ws':\n",
    "                stable = 'stable'\n",
    "                ending = ''\n",
    "            elif var == 'Et' or var == 'Nt' or var == 'Wt':\n",
    "                stable = 'stable'\n",
    "                ending = endingstr\n",
    "            else:\n",
    "                stable = 'bin'\n",
    "                ending = ''\n",
    "                \n",
    "            name = path+'/OB'+str(var)+file_res+str(stable)+'_mean'+str(ending)\n",
    "            data = komod.mitbin(name,xdim=xdim[xdim_i],ydim=ydim[ydim_i],zdim=50,tdim=tdim,datatype='float32')\n",
    "            data_av_temp = np.mean(np.mean(np.mean(data,axis=3),axis=2),1)    \n",
    "            self.data[var] = data #_av_temp\n",
    "            #self.data_av[var] = data_av_temp\n",
    "            data_climy_33_years = []\n",
    "            for year in range(10):\n",
    "                data_climy_33_years = np.concatenate([data_climy_33_years, data_av_temp])                \n",
    "            self.mean[var] = np.mean(self.data[var],axis = 0)\n",
    "            self.data_av[var] = data_climy_33_years \n",
    "        \n",
    "        file2read = netcdf.NetCDFFile(grid+'grid.nc','r')\n",
    "        bathy=file2read.variables['HFacC']\n",
    "        bathy=bathy[:]*1\n",
    "        \n",
    "        self.T = np.ndarray([50,192*kk,210*kk])\n",
    "        self.T[:,:,209*kk] = self.mean['Et'][:,0,:]\n",
    "        self.T[:,:,0] = self.mean['Wt'][:,0,:]\n",
    "        self.T[:,191*kk,:]= self.mean['Nt'][:,:,0]\n",
    "        self.T[bathy==0] = np.nan\n",
    "        self.S = np.ndarray([50,192*kk,210*kk])\n",
    "        self.S[:,:,209*kk] = self.mean['Es'][:,0,:]\n",
    "        self.S[:,:,0] = self.mean['Ws'][:,0,:]\n",
    "        self.S[:,191*kk,:]= self.mean['Ns'][:,:,0]\n",
    "        self.S[bathy==0] = np.nan"
   ]
  },
  {
   "cell_type": "code",
   "execution_count": 23,
   "metadata": {
    "collapsed": false
   },
   "outputs": [],
   "source": [
    "obcs = Obcs()\n",
    "obcs.ReadData('/hpcdata/scratch/am8e13/cs_36km_tutorial/obcsdata/newdownloaded/',12,'_tempmod2',36)"
   ]
  },
  {
   "cell_type": "code",
   "execution_count": null,
   "metadata": {
    "collapsed": true
   },
   "outputs": [],
   "source": [
    "def plot_obcs(data1,data2,data3,data4,data5,loc,vmin,vmax,row=1,col=5):\n",
    "    vmin = vmin\n",
    "    vmax = vmax\n",
    "    tempbounds = range(vmin,vmax,2)\n",
    "    if loc == 'N':\n",
    "        data1 = np.array(data1[:,191,:])\n",
    "        data2 = np.array(data2[:,191*2,:])\n",
    "        data3 = np.array(data3[:,191,:])\n",
    "        data4 = np.array(data4[:,191,:])\n",
    "        data5 = np.array(data5[:,191,:])\n",
    "    elif loc == 'E':\n",
    "        data1 = np.array(data1[:,:,209])\n",
    "        data2 = np.array(data2[:,:,209*2])\n",
    "        data3 = np.array(data3[:,:,209])\n",
    "        data4 = np.array(data4[:,:,209])\n",
    "        data5 = np.array(data5[:,:,209])\n",
    "    elif loc == 'W':\n",
    "        data1 = np.array(data1[:,:,0])\n",
    "        data2 = np.array(data2[:,:,0])\n",
    "        data3 = np.array(data3[:,:,0])\n",
    "        data4 = np.array(data4[:,:,0])\n",
    "        data5 = np.array(data5[:,:,0])\n",
    "        \n",
    "    cs = plt.contourf(data4,vmin=vmin,vmax=vmax,level=tempbounds,extend='both')\n",
    "    plt.colorbar(cs)\n",
    "    plt.close()\n",
    "\n",
    "    fig, ((ax1, ax2 , ax3 ,ax4 , ax5)) = plt.subplots(1,5)\n",
    "    ax1 = plt.subplot(1,5,1)\n",
    "    im1 = plt.contourf(data1,vmin=vmin,vmax=vmax,level=tempbounds,extend='both')\n",
    "    ax1.set_title('run 36km T')\n",
    "    ax1.title.set_fontsize('14')\n",
    "\n",
    "    ax2 = plt.subplot(1,5,2)\n",
    "    im2 = plt.contourf(data2,vmin=vmin,vmax=vmax,level=tempbounds,extend='both')\n",
    "    ax2.set_title('run 18km T')\n",
    "    ax2.title.set_fontsize('14')\n",
    "\n",
    "    ax3 = plt.subplot(1,5,3)\n",
    "    im3 = plt.contourf(data3,vmin=vmin,vmax=vmax,level=tempbounds,extend='both')\n",
    "    ax3.set_title('OBCS T')\n",
    "    ax3.title.set_fontsize('14')\n",
    "    \n",
    "    ax4 = plt.subplot(1,5,4)\n",
    "    im4 = plt.contourf(data4,vmin=vmin,vmax=vmax,level=tempbounds,extend='both')\n",
    "    ax4.set_title('WOA T')\n",
    "    ax4.title.set_fontsize('14')\n",
    "    \n",
    "    ax5 = plt.subplot(1,5,5)\n",
    "    im5 = plt.contourf(data5,vmin=vmin,vmax=vmax,level=tempbounds,extend='both')\n",
    "    ax5.set_title('PHC T')\n",
    "    ax5.title.set_fontsize('14')\n",
    "\n",
    "\n",
    "    cbar_ax = fig.add_axes([1.9, 0.4, 0.045, .6])\n",
    "    cbar = plt.colorbar(cs, cax=cbar_ax,)\n",
    "    cbar.ax.set_ylabel('C')\n",
    "\n",
    "    fig.subplots_adjust(right=1.7,top=1.)\n",
    "\n",
    "\n",
    "plot_obcs(run36.T,run18.T,obcs.T,woa.T,phc.T,loc='N',vmin=-1,vmax=18)"
   ]
  },
  {
   "cell_type": "code",
   "execution_count": null,
   "metadata": {
    "collapsed": true
   },
   "outputs": [],
   "source": [
    "plot_obcs(run36.T,run18.T,obcs.T,woa.T,phc.T,loc='E',vmin=-1,vmax=5)"
   ]
  },
  {
   "cell_type": "code",
   "execution_count": null,
   "metadata": {
    "collapsed": true
   },
   "outputs": [],
   "source": [
    "plot_obcs(run36.T,run18.T,obcs.T,woa.T,phc.T,loc='W',vmin=-1,vmax=18)"
   ]
  },
  {
   "cell_type": "code",
   "execution_count": null,
   "metadata": {
    "collapsed": true
   },
   "outputs": [],
   "source": [
    "plot_obcs(run36.S,run18.S,obcs.S,woa.S,phc.S,loc='N',vmin=28,vmax=36)"
   ]
  },
  {
   "cell_type": "code",
   "execution_count": null,
   "metadata": {
    "collapsed": true
   },
   "outputs": [],
   "source": [
    "plot_obcs(run36.S,run18.S,obcs.S,woa.S,phc.S,loc='W',vmin=28,vmax=36)"
   ]
  },
  {
   "cell_type": "code",
   "execution_count": null,
   "metadata": {
    "collapsed": true
   },
   "outputs": [],
   "source": [
    "plot_obcs(run36.S,run18.S,obcs.S,woa.S,phc.S,loc='E',vmin=28,vmax=36)"
   ]
  },
  {
   "cell_type": "code",
   "execution_count": null,
   "metadata": {
    "collapsed": true
   },
   "outputs": [],
   "source": []
  }
 ],
 "metadata": {
  "kernelspec": {
   "display_name": "Python 2",
   "language": "python",
   "name": "python2"
  },
  "language_info": {
   "codemirror_mode": {
    "name": "ipython",
    "version": 2
   },
   "file_extension": ".py",
   "mimetype": "text/x-python",
   "name": "python",
   "nbconvert_exporter": "python",
   "pygments_lexer": "ipython2",
   "version": "2.7.10"
  }
 },
 "nbformat": 4,
 "nbformat_minor": 0
}
