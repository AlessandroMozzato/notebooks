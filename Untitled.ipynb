{
 "cells": [
  {
   "cell_type": "code",
   "execution_count": 4,
   "metadata": {
    "collapsed": false
   },
   "outputs": [
    {
     "ename": "ImportError",
     "evalue": "No module named tensorflow",
     "output_type": "error",
     "traceback": [
      "\u001b[1;31m---------------------------------------------------------------------------\u001b[0m",
      "\u001b[1;31mImportError\u001b[0m                               Traceback (most recent call last)",
      "\u001b[1;32m<ipython-input-4-5fded1b75272>\u001b[0m in \u001b[0;36m<module>\u001b[1;34m()\u001b[0m\n\u001b[0;32m      1\u001b[0m \u001b[1;31m#Import libraries for simulation\u001b[0m\u001b[1;33m\u001b[0m\u001b[1;33m\u001b[0m\u001b[0m\n\u001b[0;32m      2\u001b[0m \u001b[1;32mimport\u001b[0m \u001b[0msys\u001b[0m\u001b[1;33m\u001b[0m\u001b[0m\n\u001b[1;32m----> 3\u001b[1;33m \u001b[1;32mimport\u001b[0m \u001b[0mtensorflow\u001b[0m \u001b[1;32mas\u001b[0m \u001b[0mtf\u001b[0m\u001b[1;33m\u001b[0m\u001b[0m\n\u001b[0m\u001b[0;32m      4\u001b[0m \u001b[1;32mimport\u001b[0m \u001b[0mnumpy\u001b[0m \u001b[1;32mas\u001b[0m \u001b[0mnp\u001b[0m\u001b[1;33m\u001b[0m\u001b[0m\n\u001b[0;32m      5\u001b[0m \u001b[1;33m\u001b[0m\u001b[0m\n",
      "\u001b[1;31mImportError\u001b[0m: No module named tensorflow"
     ]
    }
   ],
   "source": [
    "#Import libraries for simulation\n",
    "import sys\n",
    "import tensorflow as tf\n",
    "import numpy as np\n",
    "\n",
    "#Imports for visualization\n",
    "import PIL.Image\n",
    "from cStringIO import StringIO\n",
    "from IPython.display import clear_output, Image, display"
   ]
  },
  {
   "cell_type": "code",
   "execution_count": null,
   "metadata": {
    "collapsed": false
   },
   "outputs": [],
   "source": [
    "dic = {'bridge0': [snic(family=18, address='3a:c9:86:61:01:00', netmask=None, broadcast=None, ptp=None)], \n",
    "'lo0': [snic(family=2, address='127.0.0.1', netmask='255.0.0.0', broadcast=None, ptp=None), snic(family=30, address='::1', netmask='ffff:ffff:ffff:ffff:ffff:ffff:ffff:ffff', broadcast=None, ptp=None), snic(family=30, address='fe80::1%lo0', netmask='ffff:ffff:ffff:ffff::', broadcast=None, ptp=None)],\n",
    "'en0': [snic(family=18, address='38:c9:86:16:8c:c9', netmask=None, broadcast=None, ptp=None)],\n",
    "'en1': [snic(family=2, address='192.168.1.37', netmask='255.255.255.0', broadcast='192.168.1.255', ptp=None), snic(family=18, address='38:c9:86:3a:2a:7a', netmask=None, broadcast=None, ptp=None), snic(family=30, address='fe80::3acd:86ff:feea:2a7a%en1', netmask='ffff:ffff:ffff:ffff::', broadcast=None, ptp=None)],\n",
    "'en2': [snic(family=18, address='d2:00:1d:98:9b:d0', netmask=None, broadcast=None, ptp=None)],\n",
    "'p2p0': [snic(family=18, address='1a:c9:86:ea:2a:7b', netmask=None, broadcast=None, ptp=None)],\n",
    "'awdl0': [snic(family=18, address='66:f7:08:8a:1f:d3', netmask=None, broadcast=None, ptp=None), snic(family=30, address='fe80::64f7:8ff:fe8a:1fc3%awdl0', netmask='ffff:ffff:ffff:ffff::', broadcast=None, ptp=None)],\n",
    "'vboxnet0': [snic(family=2, address='192.168.99.1', netmask=None, broadcast='192.168.99.255', ptp=None), snic(family=18, address='0a:00:27:00:00:10', netmask=None, broadcast=None, ptp=None)],\n",
    "'fw0': [snic(family=18, address='08:74:02:ff:fe:d9:89:bx', netmask=None, broadcast=None, ptp=None)]}"
   ]
  },
  {
   "cell_type": "code",
   "execution_count": null,
   "metadata": {
    "collapsed": true
   },
   "outputs": [],
   "source": [
    "sess = tf.InteractiveSession()\n"
   ]
  },
  {
   "cell_type": "code",
   "execution_count": null,
   "metadata": {
    "collapsed": true
   },
   "outputs": [],
   "source": [
    "def make_kernel(a):\n",
    "  \"\"\"Transform a 2D array into a convolution kernel\"\"\"\n",
    "  a = np.asarray(a)\n",
    "  a = a.reshape(list(a.shape) + [1,1])\n",
    "  return tf.constant(a, dtype=1)\n",
    "\n",
    "def simple_conv(x, k):\n",
    "  \"\"\"A simplified 2D convolution operation\"\"\"\n",
    "  x = tf.expand_dims(tf.expand_dims(x, 0), -1)\n",
    "  y = tf.nn.depthwise_conv2d(x, k, [1, 1, 1, 1], padding='SAME')\n",
    "  return y[0, :, :, 0]\n",
    "\n",
    "def laplace(x):\n",
    "  \"\"\"Compute the 2D laplacian of an array\"\"\"\n",
    "  laplace_k = make_kernel([[0.5, 1.0, 0.5],\n",
    "                           [1.0, -6., 1.0],\n",
    "                           [0.5, 1.0, 0.5]])\n",
    "  return simple_conv(x, laplace_k)\n",
    "\n",
    "\n",
    "def make_kernel1(a):\n",
    "  \"\"\"Transform a 2D array into a convolution kernel\"\"\"\n",
    "  a = np.asarray(a)\n",
    "  a = a.reshape(list(a.shape) + [1,1])\n",
    "  return tf.constant(a, dtype=1)\n",
    "\n",
    "def simple_conv(x, k):\n",
    "  \"\"\"A simplified 2D convolution operation\"\"\"\n",
    "  x = tf.expand_dims(tf.expand_dims(x, 0), -1)\n",
    "  y = tf.nn.depthwise_conv2d(x, k, [1, 1, 1, 1], padding='SAME')\n",
    "  return y[0, :, :, 0]\n",
    "\n",
    "def advection(x):\n",
    "  \"\"\"Compute the 2D laplacian of an array\"\"\"\n",
    "  laplace_k = make_kernel([[0.0, 0., 0.0],\n",
    "                           [-2.0, 1., 2.0],\n",
    "                           [0.0, 0., 0.0]])\n",
    "  return simple_conv(x, laplace_k)"
   ]
  },
  {
   "cell_type": "code",
   "execution_count": null,
   "metadata": {
    "collapsed": true
   },
   "outputs": [],
   "source": [
    "N = 500"
   ]
  },
  {
   "cell_type": "code",
   "execution_count": null,
   "metadata": {
    "collapsed": true
   },
   "outputs": [],
   "source": [
    "# Initial Conditions -- some rain drops hit a pond\n",
    "\n",
    "# Set everything to zero\n",
    "u_init = np.zeros([N, N], dtype=np.float32)\n",
    "ut_init = np.zeros([N, N], dtype=np.float32)\n",
    "\n",
    "# Some rain drops hit a pond at random points\n",
    "#for n in range(40):\n",
    "#  a,b = np.random.randint(0, N, 2)\n",
    "#  u_init[a,b] = np.random.uniform()\n",
    "u_init[240:260,240:260] = 0.1\n",
    "DisplayArray(u_init, rng=[-0.1, 0.1])"
   ]
  },
  {
   "cell_type": "code",
   "execution_count": null,
   "metadata": {
    "collapsed": true
   },
   "outputs": [],
   "source": [
    "# Parameters:\n",
    "# eps -- time resolution\n",
    "# damping -- wave damping\n",
    "eps = tf.placeholder(tf.float32, shape=())\n",
    "damping = tf.placeholder(tf.float32, shape=())\n",
    "\n",
    "# Create variables for simulation state\n",
    "U  = tf.Variable(u_init)\n",
    "Ut = tf.Variable(ut_init)\n",
    "\n",
    "# Discretized PDE update rules\n",
    "U_ = U + eps * Ut\n",
    "#Ut_ = Ut + eps * (laplace(U) - damping * Ut)\n",
    "Ut_ = Ut + eps * (advection(U))\n",
    "\n",
    "# Operation to update the state\n",
    "step = tf.group(\n",
    "  U.assign(U_),\n",
    "  Ut.assign(Ut_))\n"
   ]
  },
  {
   "cell_type": "code",
   "execution_count": null,
   "metadata": {
    "collapsed": true
   },
   "outputs": [],
   "source": [
    "# Initialize state to initial conditions\n",
    "tf.initialize_all_variables().run()\n",
    "\n",
    "# Run 1000 steps of PDE\n",
    "for i in range(1000):\n",
    "  # Step simulation\n",
    "  step.run({eps: 0.03, damping: 0.04})\n",
    "  # Visualize every 50 steps\n",
    "  if i % 50 == 0:\n",
    "    clear_output()\n",
    "    DisplayArray(U.eval(), rng=[-0.2, 0.2])"
   ]
  },
  {
   "cell_type": "code",
   "execution_count": null,
   "metadata": {
    "collapsed": true
   },
   "outputs": [],
   "source": []
  }
 ],
 "metadata": {
  "kernelspec": {
   "display_name": "Python 2",
   "language": "python",
   "name": "python2"
  },
  "language_info": {
   "codemirror_mode": {
    "name": "ipython",
    "version": 2
   },
   "file_extension": ".py",
   "mimetype": "text/x-python",
   "name": "python",
   "nbconvert_exporter": "python",
   "pygments_lexer": "ipython2",
   "version": "2.7.10"
  }
 },
 "nbformat": 4,
 "nbformat_minor": 0
}
