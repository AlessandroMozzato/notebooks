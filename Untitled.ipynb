{
 "cells": [
  {
   "cell_type": "code",
   "execution_count": 2,
   "metadata": {
    "collapsed": false
   },
   "outputs": [
    {
     "name": "stderr",
     "output_type": "stream",
     "text": [
      "Vendor:  Continuum Analytics, Inc.\n",
      "Package: mkl\n",
      "Message: trial mode expires in 30 days\n"
     ]
    }
   ],
   "source": [
    "import numpy as np"
   ]
  },
  {
   "cell_type": "code",
   "execution_count": null,
   "metadata": {
    "collapsed": false
   },
   "outputs": [],
   "source": [
    "dic = {'bridge0': [snic(family=18, address='3a:c9:86:61:01:00', netmask=None, broadcast=None, ptp=None)], \n",
    "'lo0': [snic(family=2, address='127.0.0.1', netmask='255.0.0.0', broadcast=None, ptp=None), snic(family=30, address='::1', netmask='ffff:ffff:ffff:ffff:ffff:ffff:ffff:ffff', broadcast=None, ptp=None), snic(family=30, address='fe80::1%lo0', netmask='ffff:ffff:ffff:ffff::', broadcast=None, ptp=None)],\n",
    "'en0': [snic(family=18, address='38:c9:86:16:8c:c9', netmask=None, broadcast=None, ptp=None)],\n",
    "'en1': [snic(family=2, address='192.168.1.37', netmask='255.255.255.0', broadcast='192.168.1.255', ptp=None), snic(family=18, address='38:c9:86:3a:2a:7a', netmask=None, broadcast=None, ptp=None), snic(family=30, address='fe80::3acd:86ff:feea:2a7a%en1', netmask='ffff:ffff:ffff:ffff::', broadcast=None, ptp=None)],\n",
    "'en2': [snic(family=18, address='d2:00:1d:98:9b:d0', netmask=None, broadcast=None, ptp=None)],\n",
    "'p2p0': [snic(family=18, address='1a:c9:86:ea:2a:7b', netmask=None, broadcast=None, ptp=None)],\n",
    "'awdl0': [snic(family=18, address='66:f7:08:8a:1f:d3', netmask=None, broadcast=None, ptp=None), snic(family=30, address='fe80::64f7:8ff:fe8a:1fc3%awdl0', netmask='ffff:ffff:ffff:ffff::', broadcast=None, ptp=None)],\n",
    "'vboxnet0': [snic(family=2, address='192.168.99.1', netmask=None, broadcast='192.168.99.255', ptp=None), snic(family=18, address='0a:00:27:00:00:10', netmask=None, broadcast=None, ptp=None)],\n",
    "'fw0': [snic(family=18, address='08:74:02:ff:fe:d9:89:bx', netmask=None, broadcast=None, ptp=None)]}"
   ]
  },
  {
   "cell_type": "code",
   "execution_count": null,
   "metadata": {
    "collapsed": true
   },
   "outputs": [],
   "source": [
    "sess = tf.InteractiveSession()\n"
   ]
  },
  {
   "cell_type": "code",
   "execution_count": 20,
   "metadata": {
    "collapsed": false
   },
   "outputs": [
    {
     "name": "stdout",
     "output_type": "stream",
     "text": [
      "#! /usr/bin/env python                                                                                                              \n",
      "{u'neg': 0.5781385574121801, u'neutral': 0.5225935369314391, u'pos': 0.4218614425878199}\n",
      ">> neutral\n",
      "from scipy.io import netcdf\n",
      "{u'neg': 0.46590169116058566, u'neutral': 0.5400702235447876, u'pos': 0.5340983088394143}\n",
      ">> neutral\n",
      "from scipy.io import loadmat\n",
      "{u'neg': 0.46590169116058566, u'neutral': 0.5400702235447876, u'pos': 0.5340983088394143}\n",
      ">> neutral\n",
      "import numpy as np\n",
      "{u'neg': 0.45969369127185, u'neutral': 0.4742963798271225, u'pos': 0.54030630872815}\n",
      ">> pos\n",
      "from pylab import clf\n",
      "{u'neg': 0.46590169116058566, u'neutral': 0.5400702235447876, u'pos': 0.5340983088394143}\n",
      ">> neutral\n",
      "import matplotlib\n",
      "{u'neg': 0.474378031315541, u'neutral': 0.47513976495861004, u'pos': 0.525621968684459}\n",
      ">> pos\n",
      "import matplotlib.pyplot as plt\n",
      "{u'neg': 0.45969369127185, u'neutral': 0.4742963798271225, u'pos': 0.54030630872815}\n",
      ">> pos\n",
      "import os\n",
      "{u'neg': 0.474378031315541, u'neutral': 0.42998493494262685, u'pos': 0.525621968684459}\n",
      ">> pos\n",
      "import csv\n",
      "{u'neg': 0.474378031315541, u'neutral': 0.47513976495861004, u'pos': 0.525621968684459}\n",
      ">> pos\n",
      "import sys\n",
      "{u'neg': 0.474378031315541, u'neutral': 0.47513976495861004, u'pos': 0.525621968684459}\n",
      ">> pos\n",
      "import glob\n",
      "{u'neg': 0.5206599616057342, u'neutral': 0.47513976495861004, u'pos': 0.47934003839426575}\n",
      ">> neg\n",
      "def baro_stream(vel):\n",
      "{u'neg': 0.5820794340914054, u'neutral': 0.5950890614040548, u'pos': 0.4179205659085946}\n",
      ">> neutral\n",
      "    ### This function calculates the barotropic streamfunction for a nt nz ny nx array returning a nt ny nx array                  \n",
      "{u'neg': 0.6202414804929921, u'neutral': 0.8598924277446419, u'pos': 0.37975851950700795}\n",
      ">> neutral\n",
      "    ### The function works for both 18 and 36km and 9 km                                                                                    \n",
      "{u'neg': 0.32748739733298693, u'neutral': 0.7517073631552925, u'pos': 0.6725126026670131}\n",
      ">> neutral\n",
      "    if vel.shape[2] == 192:\n",
      "{u'neg': 0.4648977831168699, u'neutral': 0.4434882869047369, u'pos': 0.5351022168831301}\n",
      ">> pos\n",
      "        x=\"/scratch/general/am8e13/results36km\"\n",
      "{u'neg': 0.5219230120354683, u'neutral': 0.47044693217291284, u'pos': 0.47807698796453163}\n",
      ">> neg\n",
      "    elif vel.shape[2] == 384:\n",
      "{u'neg': 0.4895278963714914, u'neutral': 0.5392792066238967, u'pos': 0.5104721036285086}\n",
      ">> neutral\n",
      "        x=\"/scratch/general/am8e13/results18km\"\n",
      "{u'neg': 0.5219230120354683, u'neutral': 0.47044693217291284, u'pos': 0.47807698796453163}\n",
      ">> neg\n",
      "    elif vel.shape[2] == 768:\n",
      "{u'neg': 0.4895278963714914, u'neutral': 0.5392792066238967, u'pos': 0.5104721036285086}\n",
      ">> neutral\n",
      "        x=\"/scratch/general/am8e13/results9km\"\n",
      "{u'neg': 0.5219230120354683, u'neutral': 0.47044693217291284, u'pos': 0.47807698796453163}\n",
      ">> neg\n",
      "    \n"
     ]
    },
    {
     "ename": "ValueError",
     "evalue": "No JSON object could be decoded",
     "output_type": "error",
     "traceback": [
      "\u001b[1;31m---------------------------------------------------------------------------\u001b[0m",
      "\u001b[1;31mValueError\u001b[0m                                Traceback (most recent call last)",
      "\u001b[1;32m<ipython-input-20-4db156fc4651>\u001b[0m in \u001b[0;36m<module>\u001b[1;34m()\u001b[0m\n\u001b[0;32m     38\u001b[0m     \u001b[1;32mprint\u001b[0m \u001b[1;34m\">>\"\u001b[0m\u001b[1;33m,\u001b[0m \u001b[0mparsed_json\u001b[0m\u001b[1;33m[\u001b[0m\u001b[1;34m'label'\u001b[0m\u001b[1;33m]\u001b[0m\u001b[1;33m\u001b[0m\u001b[0m\n\u001b[0;32m     39\u001b[0m \u001b[1;33m\u001b[0m\u001b[0m\n\u001b[1;32m---> 40\u001b[1;33m \u001b[0mfunct2\u001b[0m\u001b[1;33m(\u001b[0m\u001b[1;33m)\u001b[0m\u001b[1;33m\u001b[0m\u001b[0m\n\u001b[0m",
      "\u001b[1;32m<ipython-input-20-4db156fc4651>\u001b[0m in \u001b[0;36mfunct2\u001b[1;34m()\u001b[0m\n\u001b[0;32m     22\u001b[0m                     \u001b[1;32mprint\u001b[0m \u001b[0msentence\u001b[0m\u001b[1;33m\u001b[0m\u001b[0m\n\u001b[0;32m     23\u001b[0m                     \u001b[0mkeyval\u001b[0m \u001b[1;33m=\u001b[0m \u001b[1;33m{\u001b[0m\u001b[1;34m\"text\"\u001b[0m\u001b[1;33m:\u001b[0m \u001b[0msentence\u001b[0m \u001b[1;33m}\u001b[0m\u001b[1;33m\u001b[0m\u001b[0m\n\u001b[1;32m---> 24\u001b[1;33m                     \u001b[0mdoSentimentAnalysisAndPrint\u001b[0m\u001b[1;33m(\u001b[0m\u001b[0mkeyval\u001b[0m\u001b[1;33m)\u001b[0m\u001b[1;33m\u001b[0m\u001b[0m\n\u001b[0m\u001b[0;32m     25\u001b[0m             \u001b[0mrownum\u001b[0m \u001b[1;33m+=\u001b[0m \u001b[1;36m1\u001b[0m\u001b[1;33m\u001b[0m\u001b[0m\n\u001b[0;32m     26\u001b[0m         \u001b[0mifile\u001b[0m\u001b[1;33m.\u001b[0m\u001b[0mclose\u001b[0m\u001b[1;33m(\u001b[0m\u001b[1;33m)\u001b[0m\u001b[1;33m\u001b[0m\u001b[0m\n",
      "\u001b[1;32m<ipython-input-20-4db156fc4651>\u001b[0m in \u001b[0;36mdoSentimentAnalysisAndPrint\u001b[1;34m(keyval)\u001b[0m\n\u001b[0;32m     33\u001b[0m \u001b[1;33m\u001b[0m\u001b[0m\n\u001b[0;32m     34\u001b[0m \u001b[1;33m\u001b[0m\u001b[0m\n\u001b[1;32m---> 35\u001b[1;33m     \u001b[0mparsed_json\u001b[0m \u001b[1;33m=\u001b[0m \u001b[0mjson\u001b[0m\u001b[1;33m.\u001b[0m\u001b[0mloads\u001b[0m\u001b[1;33m(\u001b[0m\u001b[0mjson_string\u001b[0m\u001b[1;33m)\u001b[0m\u001b[1;33m\u001b[0m\u001b[0m\n\u001b[0m\u001b[0;32m     36\u001b[0m \u001b[1;33m\u001b[0m\u001b[0m\n\u001b[0;32m     37\u001b[0m     \u001b[1;32mprint\u001b[0m\u001b[1;33m(\u001b[0m\u001b[0mparsed_json\u001b[0m\u001b[1;33m[\u001b[0m\u001b[1;34m'probability'\u001b[0m\u001b[1;33m]\u001b[0m\u001b[1;33m)\u001b[0m\u001b[1;33m\u001b[0m\u001b[0m\n",
      "\u001b[1;32m/noc/users/am8e13/anaconda/lib/python2.7/json/__init__.pyc\u001b[0m in \u001b[0;36mloads\u001b[1;34m(s, encoding, cls, object_hook, parse_float, parse_int, parse_constant, object_pairs_hook, **kw)\u001b[0m\n\u001b[0;32m    336\u001b[0m             \u001b[0mparse_int\u001b[0m \u001b[1;32mis\u001b[0m \u001b[0mNone\u001b[0m \u001b[1;32mand\u001b[0m \u001b[0mparse_float\u001b[0m \u001b[1;32mis\u001b[0m \u001b[0mNone\u001b[0m \u001b[1;32mand\u001b[0m\u001b[1;33m\u001b[0m\u001b[0m\n\u001b[0;32m    337\u001b[0m             parse_constant is None and object_pairs_hook is None and not kw):\n\u001b[1;32m--> 338\u001b[1;33m         \u001b[1;32mreturn\u001b[0m \u001b[0m_default_decoder\u001b[0m\u001b[1;33m.\u001b[0m\u001b[0mdecode\u001b[0m\u001b[1;33m(\u001b[0m\u001b[0ms\u001b[0m\u001b[1;33m)\u001b[0m\u001b[1;33m\u001b[0m\u001b[0m\n\u001b[0m\u001b[0;32m    339\u001b[0m     \u001b[1;32mif\u001b[0m \u001b[0mcls\u001b[0m \u001b[1;32mis\u001b[0m \u001b[0mNone\u001b[0m\u001b[1;33m:\u001b[0m\u001b[1;33m\u001b[0m\u001b[0m\n\u001b[0;32m    340\u001b[0m         \u001b[0mcls\u001b[0m \u001b[1;33m=\u001b[0m \u001b[0mJSONDecoder\u001b[0m\u001b[1;33m\u001b[0m\u001b[0m\n",
      "\u001b[1;32m/noc/users/am8e13/anaconda/lib/python2.7/json/decoder.pyc\u001b[0m in \u001b[0;36mdecode\u001b[1;34m(self, s, _w)\u001b[0m\n\u001b[0;32m    364\u001b[0m \u001b[1;33m\u001b[0m\u001b[0m\n\u001b[0;32m    365\u001b[0m         \"\"\"\n\u001b[1;32m--> 366\u001b[1;33m         \u001b[0mobj\u001b[0m\u001b[1;33m,\u001b[0m \u001b[0mend\u001b[0m \u001b[1;33m=\u001b[0m \u001b[0mself\u001b[0m\u001b[1;33m.\u001b[0m\u001b[0mraw_decode\u001b[0m\u001b[1;33m(\u001b[0m\u001b[0ms\u001b[0m\u001b[1;33m,\u001b[0m \u001b[0midx\u001b[0m\u001b[1;33m=\u001b[0m\u001b[0m_w\u001b[0m\u001b[1;33m(\u001b[0m\u001b[0ms\u001b[0m\u001b[1;33m,\u001b[0m \u001b[1;36m0\u001b[0m\u001b[1;33m)\u001b[0m\u001b[1;33m.\u001b[0m\u001b[0mend\u001b[0m\u001b[1;33m(\u001b[0m\u001b[1;33m)\u001b[0m\u001b[1;33m)\u001b[0m\u001b[1;33m\u001b[0m\u001b[0m\n\u001b[0m\u001b[0;32m    367\u001b[0m         \u001b[0mend\u001b[0m \u001b[1;33m=\u001b[0m \u001b[0m_w\u001b[0m\u001b[1;33m(\u001b[0m\u001b[0ms\u001b[0m\u001b[1;33m,\u001b[0m \u001b[0mend\u001b[0m\u001b[1;33m)\u001b[0m\u001b[1;33m.\u001b[0m\u001b[0mend\u001b[0m\u001b[1;33m(\u001b[0m\u001b[1;33m)\u001b[0m\u001b[1;33m\u001b[0m\u001b[0m\n\u001b[0;32m    368\u001b[0m         \u001b[1;32mif\u001b[0m \u001b[0mend\u001b[0m \u001b[1;33m!=\u001b[0m \u001b[0mlen\u001b[0m\u001b[1;33m(\u001b[0m\u001b[0ms\u001b[0m\u001b[1;33m)\u001b[0m\u001b[1;33m:\u001b[0m\u001b[1;33m\u001b[0m\u001b[0m\n",
      "\u001b[1;32m/noc/users/am8e13/anaconda/lib/python2.7/json/decoder.pyc\u001b[0m in \u001b[0;36mraw_decode\u001b[1;34m(self, s, idx)\u001b[0m\n\u001b[0;32m    382\u001b[0m             \u001b[0mobj\u001b[0m\u001b[1;33m,\u001b[0m \u001b[0mend\u001b[0m \u001b[1;33m=\u001b[0m \u001b[0mself\u001b[0m\u001b[1;33m.\u001b[0m\u001b[0mscan_once\u001b[0m\u001b[1;33m(\u001b[0m\u001b[0ms\u001b[0m\u001b[1;33m,\u001b[0m \u001b[0midx\u001b[0m\u001b[1;33m)\u001b[0m\u001b[1;33m\u001b[0m\u001b[0m\n\u001b[0;32m    383\u001b[0m         \u001b[1;32mexcept\u001b[0m \u001b[0mStopIteration\u001b[0m\u001b[1;33m:\u001b[0m\u001b[1;33m\u001b[0m\u001b[0m\n\u001b[1;32m--> 384\u001b[1;33m             \u001b[1;32mraise\u001b[0m \u001b[0mValueError\u001b[0m\u001b[1;33m(\u001b[0m\u001b[1;34m\"No JSON object could be decoded\"\u001b[0m\u001b[1;33m)\u001b[0m\u001b[1;33m\u001b[0m\u001b[0m\n\u001b[0m\u001b[0;32m    385\u001b[0m         \u001b[1;32mreturn\u001b[0m \u001b[0mobj\u001b[0m\u001b[1;33m,\u001b[0m \u001b[0mend\u001b[0m\u001b[1;33m\u001b[0m\u001b[0m\n",
      "\u001b[1;31mValueError\u001b[0m: No JSON object could be decoded"
     ]
    }
   ],
   "source": [
    "import csv\n",
    "import urllib\n",
    "\n",
    "import json\n",
    "\n",
    "\n",
    "\n",
    "def funct2():\n",
    "\n",
    "    list_files = ['barotropic.py','arctic_regions.py'] # list of your files\n",
    "\n",
    "    for el in list_files:\n",
    "        ifile  = open('/noc/users/am8e13/Python/python_functions/'+el, \"rb\")\n",
    "        reader = csv.reader(ifile)\n",
    "        rownum = 0\n",
    "        for row in reader:\n",
    "            if rownum == 1:\n",
    "                header = row\n",
    "            else:\n",
    "                if rownum < 100 and row != []:\n",
    "                    sentence = str(row[0])\n",
    "                    print sentence                    \n",
    "                    keyval = {\"text\": sentence }            \n",
    "                    doSentimentAnalysisAndPrint(keyval)\n",
    "            rownum += 1\n",
    "        ifile.close()\n",
    "\n",
    "def doSentimentAnalysisAndPrint(keyval):  \n",
    "    data = urllib.urlencode(keyval) \n",
    "    \n",
    "    u = urllib.urlopen(\"http://text-processing.com/api/sentiment/\", data)\n",
    "    json_string = u.read()   \n",
    "\n",
    "import csv\n",
    "import urllib\n",
    "\n",
    "import json\n",
    "\n",
    "\n",
    "\n",
    "def main():\n",
    "\n",
    "    list_files = [] # list of your files\n",
    "\n",
    "    for el in list_files:\n",
    "        ifile  = open('C:\\\\Users\\\\Riaz Ali\\\\Documents\\\\Python\\\\Assignment2\\\\'+el, \"rb\")\n",
    "        reader = csv.reader(ifile)\n",
    "        rownum = 0\n",
    "        for row in reader:\n",
    "            if rownum == 1:\n",
    "                header = row\n",
    "            else:\n",
    "\n",
    "                if rownum < 100:\n",
    "\n",
    "                    sentence = str(row[0])\n",
    "                    print sentence                    \n",
    "                    keyval = {\"text\": sentence }            \n",
    "                    doSentimentAnalysisAndPrint(keyval)\n",
    "\n",
    "            rownum += 1\n",
    "        ifile.close()\n",
    "\n",
    "def doSentimentAnalysisAndPrint(keyval):  \n",
    "    data = urllib.urlencode(keyval) \n",
    "    \n",
    "    u = urllib.urlopen(\"http://text-processing.com/api/sentiment/\", data)\n",
    "    json_string = u.read()   \n",
    "\n",
    "\n",
    "    parsed_json = json.loads(json_string)\n",
    "\n",
    "    print(parsed_json['probability'])\n",
    "    print \">>\", parsed_json['label']\n",
    "    parsed_json = json.loads(json_string)\n",
    "\n",
    "    print(parsed_json['probability'])\n",
    "    print \">>\", parsed_json['label']\n",
    "    \n",
    "funct2()"
   ]
  },
  {
   "cell_type": "code",
   "execution_count": 9,
   "metadata": {
    "collapsed": false
   },
   "outputs": [
    {
     "name": "stdout",
     "output_type": "stream",
     "text": [
      "[]\n"
     ]
    }
   ],
   "source": [
    "x = np.array([np.array([]),np.array([]),np.array([])])\n",
    "print(x)"
   ]
  },
  {
   "cell_type": "code",
   "execution_count": null,
   "metadata": {
    "collapsed": true
   },
   "outputs": [],
   "source": [
    "# Initial Conditions -- some rain drops hit a pond\n",
    "\n",
    "# Set everything to zero\n",
    "u_init = np.zeros([N, N], dtype=np.float32)\n",
    "ut_init = np.zeros([N, N], dtype=np.float32)\n",
    "\n",
    "# Some rain drops hit a pond at random points\n",
    "#for n in range(40):\n",
    "#  a,b = np.random.randint(0, N, 2)\n",
    "#  u_init[a,b] = np.random.uniform()\n",
    "u_init[240:260,240:260] = 0.1\n",
    "DisplayArray(u_init, rng=[-0.1, 0.1])"
   ]
  },
  {
   "cell_type": "code",
   "execution_count": null,
   "metadata": {
    "collapsed": true
   },
   "outputs": [],
   "source": [
    "# Parameters:\n",
    "# eps -- time resolution\n",
    "# damping -- wave damping\n",
    "eps = tf.placeholder(tf.float32, shape=())\n",
    "damping = tf.placeholder(tf.float32, shape=())\n",
    "\n",
    "# Create variables for simulation state\n",
    "U  = tf.Variable(u_init)\n",
    "Ut = tf.Variable(ut_init)\n",
    "\n",
    "# Discretized PDE update rules\n",
    "U_ = U + eps * Ut\n",
    "#Ut_ = Ut + eps * (laplace(U) - damping * Ut)\n",
    "Ut_ = Ut + eps * (advection(U))\n",
    "\n",
    "# Operation to update the state\n",
    "step = tf.group(\n",
    "  U.assign(U_),\n",
    "  Ut.assign(Ut_))\n"
   ]
  },
  {
   "cell_type": "code",
   "execution_count": null,
   "metadata": {
    "collapsed": true
   },
   "outputs": [],
   "source": [
    "# Initialize state to initial conditions\n",
    "tf.initialize_all_variables().run()\n",
    "\n",
    "# Run 1000 steps of PDE\n",
    "for i in range(1000):\n",
    "  # Step simulation\n",
    "  step.run({eps: 0.03, damping: 0.04})\n",
    "  # Visualize every 50 steps\n",
    "  if i % 50 == 0:\n",
    "    clear_output()\n",
    "    DisplayArray(U.eval(), rng=[-0.2, 0.2])"
   ]
  },
  {
   "cell_type": "code",
   "execution_count": null,
   "metadata": {
    "collapsed": true
   },
   "outputs": [],
   "source": []
  }
 ],
 "metadata": {
  "kernelspec": {
   "display_name": "Python 2",
   "language": "python",
   "name": "python2"
  },
  "language_info": {
   "codemirror_mode": {
    "name": "ipython",
    "version": 2
   },
   "file_extension": ".py",
   "mimetype": "text/x-python",
   "name": "python",
   "nbconvert_exporter": "python",
   "pygments_lexer": "ipython2",
   "version": "2.7.10"
  }
 },
 "nbformat": 4,
 "nbformat_minor": 0
}
