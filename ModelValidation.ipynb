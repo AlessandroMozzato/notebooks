{
 "cells": [
  {
   "cell_type": "markdown",
   "metadata": {},
   "source": [
    "This notebook is meant to study the spinup of the various model setup"
   ]
  },
  {
   "cell_type": "code",
   "execution_count": 1,
   "metadata": {
    "collapsed": false
   },
   "outputs": [
    {
     "name": "stderr",
     "output_type": "stream",
     "text": [
      "Vendor:  Continuum Analytics, Inc.\n",
      "Package: mkl\n",
      "Message: trial mode expires in 30 days\n",
      ":0: FutureWarning: IPython widgets are experimental and may change in the future.\n"
     ]
    }
   ],
   "source": [
    "from scipy.io import netcdf\n",
    "import numpy as np\n",
    "from pylab import clf, plot, show, floor, ceil, imshow\n",
    "import matplotlib\n",
    "import matplotlib.pyplot as plt \n",
    "%matplotlib inline\n",
    "#xlabel, ylabel, legend, savefig, colorbar, title, clim, pcolor, cm, contourf\n",
    "import os\n",
    "import csv\n",
    "import sys\n",
    "import glob\n",
    "from netCDF4 import Dataset\n",
    "\n",
    "from IPython.display import display, Math, Latex, Image\n",
    "from mpl_toolkits.basemap import Basemap\n",
    "import mpl_toolkits\n",
    "\n",
    "sys.path.append('/noc/users/am8e13/PyNGL-1.4.0/lib/python2.7/site-packages/PyNGL/')\n",
    "import Ngl\n",
    "sys.path.append('/noc/users/am8e13/Python/')\n",
    "import komod\n",
    "sys.path.append('/noc/users/am8e13/Python/PyNIO-1.4.0/')\n",
    "import Nio\n",
    "\n",
    "from python_functions import *\n",
    "import cmocean\n",
    "import random\n",
    "import calendar\n",
    "\n",
    "from IPython.html.widgets import interact, interactive\n",
    "from IPython.display import clear_output, display, HTML"
   ]
  },
  {
   "cell_type": "code",
   "execution_count": 2,
   "metadata": {
    "collapsed": false,
    "scrolled": true
   },
   "outputs": [
    {
     "name": "stderr",
     "output_type": "stream",
     "text": [
      "/noc/users/am8e13/anaconda/lib/python2.7/site-packages/scipy/io/netcdf.py:287: RuntimeWarning: Cannot close a netcdf_file opened with mmap=True, when netcdf_variables or arrays referring to its data still exist. All data arrays obtained from such files refer directly to data on disk, and must be copied before the file can be cleanly closed. (See netcdf_file docstring for more information on mmap.)\n",
      "  ), category=RuntimeWarning)\n",
      "/noc/users/am8e13/anaconda/lib/python2.7/site-packages/numpy/lib/nanfunctions.py:598: RuntimeWarning: Mean of empty slice\n",
      "  warnings.warn(\"Mean of empty slice\", RuntimeWarning)\n"
     ]
    },
    {
     "data": {
      "image/png": "[encoded data removed]",
      "text/plain": [
       "<matplotlib.figure.Figure at 0x2b9b9f1f7290>"
      ]
     },
     "metadata": {},
     "output_type": "display_data"
    }
   ],
   "source": [
    "# Reading the Noaa file\n",
    "woa = Woa()\n",
    "mix = mxld_dic()\n",
    "nsidc = read_seaicedata()"
   ]
  },
  {
   "cell_type": "code",
   "execution_count": null,
   "metadata": {
    "collapsed": true
   },
   "outputs": [],
   "source": [
    "def fluxesCalculation_allin(run,times):\n",
    "    kdic = {36:1,18:2,9:4}\n",
    "    kk = kdic[run.res]\n",
    "\n",
    "    file2read = netcdf.NetCDFFile('/scratch/general/am8e13/results'+str(run.res)+'km/grid.nc','r')\n",
    "    hfacc = file2read.variables['HFacC']\n",
    "    hfacc = hfacc[:]*1\n",
    "    drf = file2read.variables['drF']\n",
    "    drf = drf[:]*1\n",
    "    rA = file2read.variables['rA']\n",
    "    rA = rA[:]*1\n",
    "    dyF = file2read.variables['dyF']\n",
    "    dyF = dyF[:]*1\n",
    "    dxF = file2read.variables['dxF']\n",
    "    dxF = dxF[:]*1\n",
    "    dydx = np.zeros_like(hfacc)\n",
    "    for k in range(len(drf)):\n",
    "        dydx[k,:,:] = drf[k]*rA*hfacc[k,:,:]\n",
    "    Area_x = dydx/dxF\n",
    "    Area_y = dydx/dyF\n",
    "    Area_x[hfacc==0]=np.nan\n",
    "    Area_y[hfacc==0]=np.nan\n",
    "    \n",
    "    coords = {'Fram': [58,80,76,76], 'Fram1' : [55,85,78,78] , 'Fram2' : [60,83,72,72] , \\\n",
    "              'Denmark': [100,100,37,48] , 'Bering' : [80,89,178,178] , 'Davis' : [113,135,75,75] ,\\\n",
    "              'Davis1' : [135,135,52,73] , 'Davis2' : [113,135,75,75],\\\n",
    "             'Norwice' : [50,95,15,15], 'Norwice2' : [60,95,25,25],\n",
    "              'Scotice1' : [89,89,10,31], 'Scotice2' : [90,90,10,31], 'Scotice3' : [91,91,10,31],\n",
    "              'Scotice4' : [92,92,10,31],'Scotice5' : [93,93,10,31],'Scotice6' : [94,94,10,31],\n",
    "              'Scotice7' : [95,95,10,31],} \n",
    "    ax_d = {'Fram': 3, 'Fram1' : 3 , 'Fram2' : 3 , 'Denmark': 2 , 'Bering' : 3 , \\\n",
    "            'Davis' : 3 , 'Davis1' : 2 , 'Davis2' : 3, 'Norwice': 3, 'Norwice2' : 3,'Scotice':2,'Scotice1':2,\\\n",
    "            'Scotice2':2,'Scotice3':2}\n",
    "    vel = {'Fram': 'U', 'Fram1' : 'V' , 'Fram2' : 'V' , 'Denmark': 'U' , \\\n",
    "             'Bering' : 'V' , 'Davis' : 'U' , 'Davis1' : 'U' , 'Davis2' : 'U','Norwice':'V','Norwice2':'V',\\\n",
    "          'Scotice':'U','Scotice1':'U','Scotice2':'U','Scotice3':'U'}\n",
    "    \n",
    "    def coord_calc(coord):\n",
    "        if coord[0] == coord[1]:\n",
    "            coord[0] = coord[0]*kk\n",
    "            coord[1] = coord[0]+1\n",
    "            coord[2] = coord[2]*kk\n",
    "            coord[3] = coord[3]*kk\n",
    "        elif coord[2] == coord[3]:\n",
    "            coord[0] = coord[0]*kk\n",
    "            coord[1] = coord[1]*kk\n",
    "            coord[2] = coord[2]*kk\n",
    "            coord[3] = coord[2]+1\n",
    "        return coord\n",
    "\n",
    "    run.fluxes2 = {}\n",
    "    file2read = netcdf.NetCDFFile('/scratch/general/am8e13/results18km/grid.nc','r')\n",
    "    mask = file2read.variables['HFacC']\n",
    "    mask = mask[:]*1\n",
    "    mask = np.tile(mask,(len(times),1,1,1))\n",
    "    \n",
    "    for var in ['Fram','Fram1','Fram2','Denmark','Bering','Davis','Davis1','Davis2',\\\n",
    "                'Norwice','Norwice2','Scotice1','Scotice2','Scotice3','Scotice4','Scotice5','Scotice6','Scotice7']:\n",
    "        coord = coords[var]\n",
    "        coord = coord_calc(coord)\n",
    "        run.fluxes2[var] = {'Flux' : np.zeros_like(mask[:,:,coord[0]:coord[1],coord[2]:coord[3]]),\\\n",
    "                            'FluxSum' : np.zeros_like(mask[:,0,0,0]),\\\n",
    "                            'FluxInSum' : np.zeros_like(mask[:,0,0,0]),\\\n",
    "                            'FluxOutSum' : np.zeros_like(mask[:,0,0,0]),\\\n",
    "                            'FluxS' : np.zeros_like(mask[:,:,coord[0]:coord[1],coord[2]:coord[3]]),\\\n",
    "                            'FluxSumS' : np.zeros_like(mask[:,0,0,0]),\\\n",
    "                            'FluxT' : np.zeros_like(mask[:,:,coord[0]:coord[1],coord[2]:coord[3]]),\\\n",
    "                            'FluxSumT' : np.zeros_like(mask[:,0,0,0]),\\\n",
    "                            'FluxFW' : np.zeros_like(mask[:,:,coord[0]:coord[1],coord[2]:coord[3]]),\\\n",
    "                            'FluxSumFW' : np.zeros_like(mask[:,0,0,0]),\\\n",
    "                            'FluxFW1' : np.zeros_like(mask[:,:,coord[0]:coord[1],coord[2]:coord[3]]),\\\n",
    "                            'FluxSumFW1' : np.zeros_like(mask[:,0,0,0]),\\\n",
    "                            'FluxOverFlow' : np.zeros_like(mask[:,:,coord[0]:coord[1],coord[2]:coord[3]]),\\\n",
    "                            'FluxSumOverFlow' : np.zeros_like(mask[:,0,0,0]),\\\n",
    "                            'FluxTop' : [], 'FluxMid' : [] , 'FluxBot' : [], \\\n",
    "                            'FluxTopS' : [], 'FluxMidS' : [] , 'FluxBotS' : [], \\\n",
    "                            'FluxTopT' : [], 'FluxMidT' : [] , 'FluxBotT' : []}\n",
    "        \n",
    "    S0 = 34.8\n",
    "    rho0 = 1027.8\n",
    "\n",
    "    for t,tt in enumerate(times):\n",
    "        file2read = netcdf.NetCDFFile(run.path+'state.nc','r')\n",
    "        S = file2read.variables['S']\n",
    "        S = S[tt]*1\n",
    "        T = file2read.variables['Temp']\n",
    "        T = T[tt]*1\n",
    "        vels = {}\n",
    "        vels['U'] = file2read.variables['U']\n",
    "        vels['U'] = vels['U'][tt]*1\n",
    "        vels['V'] = file2read.variables['V']\n",
    "        vels['V'] = vels['V'][tt]*1\n",
    "        \n",
    "        days = file2read.variables['T']\n",
    "        days = days[tt]*1\n",
    "        \n",
    "        if t == 0:\n",
    "            years = [0]\n",
    "            days0 = days\n",
    "        else:\n",
    "            years.append((days - days0)/float(60*60*24*360)) \n",
    "            \n",
    "        tmp1 = np.ones_like(mask[:,:,:,:])\n",
    "        tmp1[:,S>S0] = 0\n",
    "        \n",
    "        tmp = np.ones_like(mask[:,:,:,:])\n",
    "        tmp[:,31:,:,:] = 0\n",
    "        \n",
    "        tmpof = np.zeros_like(mask[:,:,:,:])\n",
    "        tmpof[:,rhop(S,T)>rho0] = 1\n",
    "        \n",
    "        for var in ['Fram','Fram1','Fram2','Denmark','Bering','Davis','Davis1','Davis2',\\\n",
    "                    'Norwice','Norwice2','Scotice1','Scotice2','Scotice3','Scotice4','Scotice5','Scotice6','Scotice7']:\n",
    "            coord = coords[var]\n",
    "            coord = coord_calc(coord)\n",
    "\n",
    "            run.fluxes2[var]['Flux'][t,:,:] = (vels[vel[var]][:,coord[0]:coord[1],coord[2]:coord[3]]*\\\n",
    "                    Area_y[:,coord[0]:coord[1],coord[2]:coord[3]]/10**6)\n",
    "            run.fluxes2[var]['FluxSum'][t] = np.nansum(np.nansum(run.fluxes2[var]['Flux'][t,:,:]))\n",
    "            run.fluxes2[var]['FluxInSum'][t] = np.nansum(np.nansum(run.fluxes2[var]['Flux'][t,run.fluxes2[var]['Flux'][t,:,:]>0]))\n",
    "            run.fluxes2[var]['FluxOutSum'][t] = np.nansum(np.nansum(run.fluxes2[var]['Flux'][t,run.fluxes2[var]['Flux'][t,:,:]<0]))\n",
    "            run.fluxes2[var]['FluxT'][t,:,:] = np.tile(run.fluxes2[var]['Flux'][t,:,:]*\\\n",
    "                                                T[:,coord[0]:coord[1],coord[2]:coord[3]],(1,1,1,1))\n",
    "            run.fluxes2[var]['FluxSumT'][t] = np.nansum(np.nansum(run.fluxes2[var]['FluxT'][t,:,:]))\n",
    "            run.fluxes2[var]['FluxS'][t,:,:] = run.fluxes2[var]['Flux'][t,:,:]*\\\n",
    "                                                S[:,coord[0]:coord[1],coord[2]:coord[3]]\n",
    "            run.fluxes2[var]['FluxSumS'][t] = np.nansum(np.nansum(run.fluxes2[var]['FluxS'][t,:,:])) \n",
    "            run.fluxes2[var]['FluxFW'][t,:,:] = run.fluxes2[var]['Flux'][t,:,:]*\\\n",
    "                    (1 - S[:,coord[0]:coord[1],coord[2]:coord[3]]/S0)*tmp[t,:,coord[0]:coord[1],coord[2]:coord[3]]\n",
    "            run.fluxes2[var]['FluxSumFW'][t] = np.nansum(np.nansum(run.fluxes2[var]['FluxFW'][t,:,:]))                 \n",
    "            run.fluxes2[var]['FluxFW1'][t,:,:] = run.fluxes2[var]['Flux'][t,:,:]*\\\n",
    "                    (1 - S[:,coord[0]:coord[1],coord[2]:coord[3]]/S0)*tmp1[t,:,coord[0]:coord[1],coord[2]:coord[3]]\n",
    "            run.fluxes2[var]['FluxSumFW1'][t] = np.nansum(np.nansum(run.fluxes2[var]['FluxFW1'][t,:,:]))   \n",
    "            run.fluxes2[var]['FluxOverFlow'][t,:,:] = run.fluxes2[var]['Flux'][t,:,:]*tmpof[t,:,coord[0]:coord[1],coord[2]:coord[3]]\n",
    "            run.fluxes2[var]['FluxSumOverFlow'][t] = np.nansum(np.nansum(run.fluxes2[var]['FluxOverFlow'][t,:,:]))  \n",
    "            \n",
    "        if tt % 10 == 0:\n",
    "            print 'We are at iteration {}'.format(tt)\n",
    "    \n",
    "    for var in ['Fram','Fram1','Fram2','Denmark','Bering','Davis','Davis1','Davis2',\\\n",
    "                'Norwice','Norwice2','Scotice1','Scotice2','Scotice3','Scotice4','Scotice5','Scotice6','Scotice7']:\n",
    "        for flux in ['Flux','FluxT','FluxS','FluxFW','FluxFW1','FluxOverFlow']:\n",
    "            run.fluxes2[var][flux] = np.squeeze(run.fluxes2[var][flux],axis=ax_d[var])\n",
    "            \n",
    "    for flux in ['FluxSumFW1', 'FluxInSum', 'FluxOverFlow', 'FluxSumFW','FluxSum', 'FluxFW1',\n",
    "                 'Flux','FluxSumT','FluxS','FluxT','FluxFW','FluxOutSum','FluxSumOverFlow']:\n",
    "        run.fluxes2['Scotice_ave'][flux] = (run.fluxes2['Scotice1'][flux] + run.fluxes2['Scotice2'][flux] + \\\n",
    "                                            run.fluxes2['Scotice3'][flux] + run.fluxes2['Scotice4'][flux] + \\\n",
    "                                            run.fluxes2['Scotice5'][flux] + run.fluxes2['Scotice6'][flux] + \\\n",
    "                                            run.fluxes2['Scotice7'][flux])/7.\n",
    "    run.years = np.array(years)"
   ]
  },
  {
   "cell_type": "code",
   "execution_count": 9,
   "metadata": {
    "collapsed": false
   },
   "outputs": [
    {
     "name": "stdout",
     "output_type": "stream",
     "text": [
      "Read Monitor\n",
      "Read Seaice Monitor\n",
      "Read StDyn data\n",
      "Data read from /hpcdata/scratch/am8e13/cs_36km_tutorial/run_spinup_ERA/results/\n"
     ]
    }
   ],
   "source": [
    "# Read ERA data\n",
    "ERA_36 = RunRead()\n",
    "ERA_36.getPath('/hpcdata/scratch/am8e13/cs_36km_tutorial/run_spinup_ERA/results/')\n",
    "ERA_36.readMonitorData([0,777600,1555200,2332800,3110400,3888000,4665600,5443200])\n",
    "ERA_36.readMonitorSeaiceData([0,777600,1555200,2332800,3110400,3888000,4665600,5443200])\n",
    "ERA_36.readDynStData(7,[0,777600,1555200,2332800,3110400,3888000,4665600,5443200])\n",
    "ERA_36.readStateData(range(720-12,720,1))\n",
    "#ERA_36.baroCalc()\n",
    "#ERA_36.mxldepthread(range(12))\n",
    "#ERA_36.seaiceread(range(12))\n",
    "ERA_36.fluxCalc()\n",
    "ERA_36.title('ERA 36km','purple')"
   ]
  },
  {
   "cell_type": "code",
   "execution_count": 10,
   "metadata": {
    "collapsed": false
   },
   "outputs": [
    {
     "name": "stdout",
     "output_type": "stream",
     "text": [
      "Read Monitor\n",
      "Read Seaice Monitor\n",
      "Read StDyn data\n",
      "Data read from /hpcdata/scratch/am8e13/cs_36km_tutorial/run_spinup_CORE_runofffixed/results/\n"
     ]
    }
   ],
   "source": [
    "CORE_36 = RunRead()\n",
    "CORE_36.getPath('/hpcdata/scratch/am8e13/cs_36km_tutorial/run_spinup_CORE_runofffixed/results/')\n",
    "CORE_36.readMonitorData([0,777600,1555200,2332800,3110400,3888000,4665600,5443200])\n",
    "CORE_36.readMonitorSeaiceData([0,777600,1555200,2332800,3110400,3888000,4665600,5443200])\n",
    "CORE_36.readDynStData(7,[0,777600,1555200,2332800,3110400,3888000,4665600,5443200])\n",
    "CORE_36.readStateData(range(720-12,720,1))\n",
    "#CORE_36.baroCalc()\n",
    "#CORE_36.mxldepthread(range(12))\n",
    "#CORE_36.seaiceread(range(12))\n",
    "CORE_36.fluxCalc()\n",
    "CORE_36.title('CORE 36km','red')"
   ]
  },
  {
   "cell_type": "code",
   "execution_count": 12,
   "metadata": {
    "collapsed": false
   },
   "outputs": [
    {
     "name": "stdout",
     "output_type": "stream",
     "text": [
      "Read Monitor\n",
      "Read Seaice Monitor\n",
      "Read StDyn data\n",
      "Data read from /hpcdata/scratch/am8e13/arctic420x384/run_spinup_CORE/results/\n"
     ]
    }
   ],
   "source": [
    "CORE_18 = RunRead()\n",
    "CORE_18.getPath('/hpcdata/scratch/am8e13/arctic420x384/run_spinup_CORE/results/')\n",
    "CORE_18.readMonitorData([0,345600,691200,1036800,1382400,1728000,2073600,2419200,\\\n",
    "                                2764800,3110400,3456000,3801600,4147200,4492800,4838400])\n",
    "CORE_18.readMonitorSeaiceData([0,345600,691200,1036800,1382400,1728000,2073600,2419200,\\\n",
    "                                2764800,3110400,3456000,3801600,4147200,4492800,4838400])\n",
    "CORE_18.readDynStData(7,[0,345600,691200,1036800,1382400,1728000,2073600,2419200,\\\n",
    "                                2764800,3110400,3456000,3801600,4147200,4492800,4838400])\n",
    "CORE_18.readStateData(range(240-12,240,1))\n",
    "#CORE_18.baroCalc()\n",
    "CORE_18.fluxCalc()\n",
    "#CORE_18.mxldepthread(range(12))\n",
    "#CORE_18.seaiceread(range(12))\n",
    "CORE_18.title('CORE 18km','cyan')"
   ]
  },
  {
   "cell_type": "code",
   "execution_count": 13,
   "metadata": {
    "collapsed": false
   },
   "outputs": [
    {
     "name": "stdout",
     "output_type": "stream",
     "text": [
      "Read Monitor\n",
      "Read Seaice Monitor\n",
      "Read StDyn data\n",
      "Data read from /hpcdata/scratch/am8e13/run_template_9km/run_spinup_core_nogm/results/\n"
     ]
    },
    {
     "name": "stderr",
     "output_type": "stream",
     "text": [
      "negative salinity values! setting to nan\n"
     ]
    }
   ],
   "source": [
    "CORE_9_nogm = RunRead()\n",
    "CORE_9_nogm.getPath('/hpcdata/scratch/am8e13/run_template_9km/run_spinup_core_nogm/results/')\n",
    "CORE_9_nogm.readMonitorData([0,138240,276480,414720,552960,691200,829440,967680,1105920,1244160,1382400,1520640,\\\n",
    "                             1658880,1797120,1935360,2073600,2211840,2350080,2488320,2626560,2764800,2903040,3041280,\\\n",
    "                            3179520,3317760,3456000,3594240,3732480,3870720,4008960,4147200])\n",
    "CORE_9_nogm.readMonitorSeaiceData([0,138240,276480,414720,552960,691200,829440,967680,1105920,1244160,1382400,1520640,\\\n",
    "                             1658880,1797120,1935360,2073600,2211840,2350080,2488320,2626560,2764800,2903040,3041280,\\\n",
    "                            3179520,3317760,3456000,3594240,3732480,3870720,4008960,4147200])\n",
    "CORE_9_nogm.readDynStData(7,[0,138240,276480,414720,552960,691200,829440,967680,1105920,1244160,1382400,1520640,\\\n",
    "                             1658880,1797120,1935360,2073600,2211840,2350080,2488320,2626560,2764800,2903040,3041280,\\\n",
    "                            3179520,3317760,3456000,3594240,3732480,3870720,4008960,4147200])\n",
    "CORE_9_nogm.readStateData(range(48-12,48,1))\n",
    "#CORE_9_nogm.baroCalc()\n",
    "#CORE_9_nogm.mxldepthread(range(12))\n",
    "#CORE_9_nogm.seaiceread(range(12))\n",
    "CORE_9_nogm.fluxCalc()\n",
    "CORE_9_nogm.title('CORE 9km','green')"
   ]
  },
  {
   "cell_type": "code",
   "execution_count": 14,
   "metadata": {
    "collapsed": false
   },
   "outputs": [],
   "source": [
    "freshwater_content(ERA_36)\n",
    "freshwater_content(CORE_36)\n",
    "freshwater_content(CORE_18)\n",
    "freshwater_content(CORE_9_nogm)"
   ]
  },
  {
   "cell_type": "code",
   "execution_count": 15,
   "metadata": {
    "collapsed": false
   },
   "outputs": [
    {
     "name": "stderr",
     "output_type": "stream",
     "text": [
      "negative salinity values! setting to nan\n",
      "negative salinity values! setting to nan\n",
      "negative salinity values! setting to nan\n",
      "negative salinity values! setting to nan\n",
      "negative salinity values! setting to nan\n",
      "negative salinity values! setting to nan\n",
      "negative salinity values! setting to nan\n",
      "negative salinity values! setting to nan\n",
      "negative salinity values! setting to nan\n",
      "negative salinity values! setting to nan\n",
      "negative salinity values! setting to nan\n",
      "negative salinity values! setting to nan\n"
     ]
    }
   ],
   "source": [
    "density_calc(ERA_36)\n",
    "density_calc(CORE_36)\n",
    "density_calc(CORE_18)\n",
    "density_calc(CORE_9_nogm)"
   ]
  },
  {
   "cell_type": "code",
   "execution_count": 16,
   "metadata": {
    "collapsed": false
   },
   "outputs": [],
   "source": [
    "fluxesCalculation(ERA_36)\n",
    "fluxesCalculation(CORE_36)\n",
    "fluxesCalculation(CORE_18)\n",
    "fluxesCalculation(CORE_9_nogm)"
   ]
  },
  {
   "cell_type": "code",
   "execution_count": null,
   "metadata": {
    "collapsed": true
   },
   "outputs": [],
   "source": [
    "# Mixed layer depth evolution"
   ]
  },
  {
   "cell_type": "code",
   "execution_count": 22,
   "metadata": {
    "collapsed": false
   },
   "outputs": [
    {
     "name": "stdout",
     "output_type": "stream",
     "text": [
      "Read Monitor\n",
      "Read Seaice Monitor\n",
      "Read StDyn data\n",
      "Data read from /hpcdata/scratch/am8e13/cs_36km_tutorial/run_spinup_ERA/results/\n",
      "Read Mxldepth\n",
      "Read seaice\n"
     ]
    }
   ],
   "source": [
    "# Read ERA data\n",
    "ERA_36 = RunRead()\n",
    "ERA_36.getPath('/hpcdata/scratch/am8e13/cs_36km_tutorial/run_spinup_ERA/results/')\n",
    "ERA_36.readMonitorData([0,777600,1555200,2332800,3110400,3888000,4665600,5443200])\n",
    "ERA_36.readMonitorSeaiceData([0,777600,1555200,2332800,3110400,3888000,4665600,5443200])\n",
    "ERA_36.readDynStData(7,[0,777600,1555200,2332800,3110400,3888000,4665600,5443200])\n",
    "#ERA_36.readStateData(range(720-12,720,1))\n",
    "ERA_36.readStateData(range(1))\n",
    "#ERA_36.baroCalc()\n",
    "ERA_36.mxldepthread(range(720-48,720,1))\n",
    "ERA_36.seaiceread(range(720-48,720,1))\n",
    "#ERA_36.fluxCalc()\n",
    "ERA_36.title('ERA 36km','purple')"
   ]
  },
  {
   "cell_type": "code",
   "execution_count": 23,
   "metadata": {
    "collapsed": false
   },
   "outputs": [
    {
     "name": "stdout",
     "output_type": "stream",
     "text": [
      "Read Monitor\n",
      "Read Seaice Monitor\n",
      "Read StDyn data\n",
      "Data read from /hpcdata/scratch/am8e13/cs_36km_tutorial/run_spinup_CORE_runofffixed/results/\n",
      "Read Mxldepth\n",
      "Read seaice\n"
     ]
    }
   ],
   "source": [
    "CORE_36 = RunRead()\n",
    "CORE_36.getPath('/hpcdata/scratch/am8e13/cs_36km_tutorial/run_spinup_CORE_runofffixed/results/')\n",
    "CORE_36.readMonitorData([0,777600,1555200,2332800,3110400,3888000,4665600,5443200])\n",
    "CORE_36.readMonitorSeaiceData([0,777600,1555200,2332800,3110400,3888000,4665600,5443200])\n",
    "CORE_36.readDynStData(7,[0,777600,1555200,2332800,3110400,3888000,4665600,5443200])\n",
    "CORE_36.readStateData(range(1))\n",
    "#CORE_36.readStateData(range(720-12,720,1))\n",
    "#CORE_36.baroCalc()\n",
    "CORE_36.mxldepthread(range(720-48,720,1))\n",
    "CORE_36.seaiceread(range(720-48,720,1))\n",
    "#CORE_36.fluxCalc()\n",
    "CORE_36.title('CORE 36km','red')"
   ]
  },
  {
   "cell_type": "code",
   "execution_count": 24,
   "metadata": {
    "collapsed": false
   },
   "outputs": [
    {
     "name": "stdout",
     "output_type": "stream",
     "text": [
      "Read Monitor\n",
      "Read Seaice Monitor\n",
      "Read StDyn data\n",
      "Data read from /hpcdata/scratch/am8e13/arctic420x384/run_spinup_CORE/results/\n",
      "Read Mxldepth\n",
      "Read seaice\n"
     ]
    }
   ],
   "source": [
    "CORE_18 = RunRead()\n",
    "CORE_18.getPath('/hpcdata/scratch/am8e13/arctic420x384/run_spinup_CORE/results/')\n",
    "CORE_18.readMonitorData([0,345600,691200,1036800,1382400,1728000,2073600,2419200,\\\n",
    "                                2764800,3110400,3456000,3801600,4147200,4492800,4838400])\n",
    "CORE_18.readMonitorSeaiceData([0,345600,691200,1036800,1382400,1728000,2073600,2419200,\\\n",
    "                                2764800,3110400,3456000,3801600,4147200,4492800,4838400])\n",
    "CORE_18.readDynStData(7,[0,345600,691200,1036800,1382400,1728000,2073600,2419200,\\\n",
    "                                2764800,3110400,3456000,3801600,4147200,4492800,4838400])\n",
    "#CORE_18.readStateData(range(240-12,240,1))\n",
    "CORE_18.readStateData(range(1))\n",
    "#CORE_18.baroCalc()\n",
    "#CORE_18.fluxCalc()\n",
    "CORE_18.mxldepthread(range(240-48,240,1))\n",
    "CORE_18.seaiceread(range(240-48,240,1))\n",
    "CORE_18.title('CORE 18km','cyan')"
   ]
  },
  {
   "cell_type": "code",
   "execution_count": 25,
   "metadata": {
    "collapsed": false
   },
   "outputs": [
    {
     "name": "stdout",
     "output_type": "stream",
     "text": [
      "Read Monitor\n",
      "Read Seaice Monitor\n",
      "Read StDyn data\n",
      "Data read from /hpcdata/scratch/am8e13/run_template_9km/run_spinup_core_nogm/results/\n",
      "Read Mxldepth\n",
      "Read seaice\n"
     ]
    },
    {
     "name": "stderr",
     "output_type": "stream",
     "text": [
      "negative salinity values! setting to nan\n"
     ]
    }
   ],
   "source": [
    "CORE_9_nogm = RunRead()\n",
    "CORE_9_nogm.getPath('/hpcdata/scratch/am8e13/run_template_9km/run_spinup_core_nogm/results/')\n",
    "CORE_9_nogm.readMonitorData([0,138240,276480,414720,552960,691200,829440,967680,1105920,1244160,1382400,1520640,\\\n",
    "                             1658880,1797120,1935360,2073600,2211840,2350080,2488320,2626560,2764800,2903040,3041280,\\\n",
    "                            3179520,3317760,3456000,3594240,3732480,3870720,4008960,4147200])\n",
    "CORE_9_nogm.readMonitorSeaiceData([0,138240,276480,414720,552960,691200,829440,967680,1105920,1244160,1382400,1520640,\\\n",
    "                             1658880,1797120,1935360,2073600,2211840,2350080,2488320,2626560,2764800,2903040,3041280,\\\n",
    "                            3179520,3317760,3456000,3594240,3732480,3870720,4008960,4147200])\n",
    "CORE_9_nogm.readDynStData(7,[0,138240,276480,414720,552960,691200,829440,967680,1105920,1244160,1382400,1520640,\\\n",
    "                             1658880,1797120,1935360,2073600,2211840,2350080,2488320,2626560,2764800,2903040,3041280,\\\n",
    "                            3179520,3317760,3456000,3594240,3732480,3870720,4008960,4147200])\n",
    "#CORE_9_nogm.readStateData(range(48-12,48,1))\n",
    "CORE_9_nogm.readStateData(range(1))\n",
    "#CORE_9_nogm.baroCalc()\n",
    "CORE_9_nogm.mxldepthread(range(48-48,48,1))\n",
    "CORE_9_nogm.seaiceread(range(48-48,48,1))\n",
    "#CORE_9_nogm.fluxCalc()\n",
    "CORE_9_nogm.title('CORE 9km','green')"
   ]
  },
  {
   "cell_type": "code",
   "execution_count": null,
   "metadata": {
    "collapsed": true
   },
   "outputs": [],
   "source": [
    "def plot_dynSt_reg(monitor_list,var_list):\n",
    "    offset = {'leg' : {3 : 3.5 , 2 : 2.2} , 'top' : {3 : 2.4 , 2 : 1.8}  }\n",
    "    # this function is meant to plot monitor variables   \n",
    "    titles, unity, axistick = plot_dynSt_titles()\n",
    "    region = { 0 : 'Global' , 1 : 'Arctic' , 2 : 'Nordic Seas' , 3 : 'North Atl' }\n",
    "    col = len(region)\n",
    "    row = len(var_list)\n",
    "    fig, axes = plt.subplots(row,col,sharex=True,sharey='row')\n",
    "    ax_ind = 0\n",
    "    for var in var_list:\n",
    "        for reg in region:\n",
    "            for mon in monitor_list:\n",
    "                axes.flat[ax_ind].plot(monitor_list[mon].dataDyn['time_lv_years'],\\\n",
    "                                   monitor_list[mon].dataDyn[var][1:,reg,0],monitor_list[mon].color,alpha=0.2)\n",
    "                axes.flat[ax_ind].plot(monitor_list[mon].dataDyn['time_lv_years'][0:-12*3],\\\n",
    "                                   runningMeanFast(monitor_list[mon].dataDyn[var][1:,reg,0],12*3)[0:-12*3],\\\n",
    "                                   monitor_list[mon].color,label=monitor_list[mon].title)\n",
    "                axes.flat[ax_ind].set_title(titles[var]+' '+region[reg],fontsize=16)\n",
    "                if ax_ind % col == 0:\n",
    "                    axes.flat[ax_ind].set_ylabel(unity[var],fontsize=15)\n",
    "                if ax_ind > (col*2-1):\n",
    "                    axes.flat[ax_ind].set_xlabel('Years',fontsize=15)\n",
    "                axes.flat[ax_ind].axis(axistick[var])\n",
    "            ax_ind += 1\n",
    "    plt.setp([a.get_xticklabels() for a in axes.flat],fontsize=13)            \n",
    "    plt.setp([a.get_yticklabels() for a in axes.flat],fontsize=13)            \n",
    "    plt.setp([a.get_xticklabels() for a in axes[0, :]], visible=False)\n",
    "    plt.setp([a.get_yticklabels() for a in axes[:, 1]], visible=False)\n",
    "    plt.setp([a.get_yticklabels() for a in axes[:, 2]], visible=False)\n",
    "    plt.setp([a.get_yticklabels() for a in axes[:, 3]], visible=False)\n",
    "\n",
    "            \n",
    "    plt.legend(bbox_to_anchor=(-3.5 , offset['leg'][row], 2.8, .3), ncol=4, mode=\"expand\", borderaxespad=0.,fontsize=15)\n",
    "    fig.subplots_adjust(right=2.4,top=offset['top'][row])\n",
    "    #fig.savefig('/noc/users/am8e13/Figures/dynSt_'+str(var_list[1]),dpi=dpires, bbox_inches='tight')\n",
    "\n",
    "comp_diff = {1 : ERA_36, 2 : CORE_36 , 3 : CORE_18 , 4 : CORE_9_nogm }#, 5 : mixed_36}\n",
    "plot_dynSt_reg(comp_diff,['salt_mean','theta_mean'])"
   ]
  },
  {
   "cell_type": "code",
   "execution_count": null,
   "metadata": {
    "collapsed": true
   },
   "outputs": [],
   "source": []
  },
  {
   "cell_type": "code",
   "execution_count": 18,
   "metadata": {
    "collapsed": false
   },
   "outputs": [],
   "source": [
    "liq10,core2,obs = lit_data()"
   ]
  },
  {
   "cell_type": "code",
   "execution_count": null,
   "metadata": {
    "collapsed": false
   },
   "outputs": [],
   "source": [
    "liq10,core2,obs = lit_data();\n",
    "for var in ['Barents','Barents1','Barents2','Bering','Fram','Fram1','Fram2','Davis','Davis1']:\n",
    "    print var\n",
    "    print 'ERA_36',ERA_36.totalFluxes[var]\n",
    "    print 'COR_36',CORE_36.totalFluxes[var]\n",
    "    #print 'mix_36',mixed_36.totalFluxes[var]\n",
    "    print 'COR_18',CORE_18.totalFluxes[var]\n",
    "    #print 'COR_9 ',CORE_9.totalFluxes[var]\n",
    "    print 'COR9gm',CORE_9_nogm.totalFluxes[var]\n",
    "    print 'liq10 ',liq10.totalFluxes[var]\n",
    "    print 'Core2 ',core2.totalFluxes[var]\n",
    "    print 'obsv  ',obs.totalFluxes[var]"
   ]
  },
  {
   "cell_type": "code",
   "execution_count": null,
   "metadata": {
    "collapsed": true
   },
   "outputs": [],
   "source": [
    "# dpi resolution\n",
    "dpires = 300"
   ]
  },
  {
   "cell_type": "code",
   "execution_count": null,
   "metadata": {
    "collapsed": false,
    "scrolled": false
   },
   "outputs": [],
   "source": [
    "# the x locations for the groups\n",
    "      # the width of the bars\n",
    "comp_tot = {1 : ERA_36, 2 : CORE_36 , 3 : CORE_18 , 4 : CORE_9_nogm , 5 : liq10 , 6 : core2, 7 : obs }#, 7 : obs}\n",
    "def flux_bar(comp_hist,var):\n",
    "    width = 0.35 \n",
    "    fluxes = [ 'Outflow' ,'Total flow' , 'Inflow' ]\n",
    "    fig, axes = plt.subplots(ncols=len(fluxes),nrows=1,sharey=True)    \n",
    "    ax_ind = 0\n",
    "    for j in fluxes:#, 'HFlux' , 'FWFlux']:\n",
    "        menMean = []\n",
    "        xtick = []\n",
    "        cols = []\n",
    "        errStd = []\n",
    "        for data in comp_hist:\n",
    "            if var == 'Barents' and not((data == 5) or (data == 6) or (data == 7)):\n",
    "                i = -1\n",
    "            else:\n",
    "                i = 1\n",
    "            menMean.append(i*comp_hist[data].totalFluxes[var][j])\n",
    "            if (data == 7 or data == 6) and (j == 'Total flow'):\n",
    "                errStd.append(comp_hist[data].totalFluxes[var]['Error'])\n",
    "            else:\n",
    "                errStd.append(0)\n",
    "            N = len(menMean)\n",
    "            ind = np.arange(N)  \n",
    "            xtick.append(comp_hist[data].title)\n",
    "            cols.append(comp_hist[data].color)\n",
    "        rects1 = axes.flat[ax_ind].bar(ind, menMean, width = 0.20 , color=cols,yerr=errStd,ecolor='black',)\n",
    "        axes.flat[ax_ind].set_xticks(ind)\n",
    "        axes.flat[ax_ind].set_xticklabels(xtick,rotation=75)\n",
    "        axes.flat[ax_ind].set_title(j)\n",
    "        fig.suptitle(\"Flow through \"+var+\" Strait\",x=0.9,y=1.,fontsize=18)\n",
    "        ax_ind += 1\n",
    "    fig.subplots_adjust(right=1.7,top=0.8)\n",
    "    fig.savefig('/noc/users/am8e13/Figures/fluxes_'+var,dpi=dpires, bbox_inches='tight')\n",
    "    \n",
    "flux_bar(comp_tot,'Bering')   \n",
    "flux_bar(comp_tot,'Fram')   \n",
    "flux_bar(comp_tot,'Barents')   \n",
    "flux_bar(comp_tot,'Davis')   "
   ]
  },
  {
   "cell_type": "code",
   "execution_count": 35,
   "metadata": {
    "collapsed": false
   },
   "outputs": [],
   "source": [
    "comp_tot = {1 : ERA_36, 2 : CORE_36 , 3 : CORE_18 , 4 : CORE_9_nogm , 5 :  obs }\n",
    "\n",
    "def fill_DSO(comp):\n",
    "    rho0 = 1027.8\n",
    "    def overflow_mean(data):\n",
    "        if data.title == 'Observ':\n",
    "            data.totalFluxes['Denmark'] = {}\n",
    "            data.totalFluxes['Denmark']['Overflow'] = -3.4\n",
    "            data.totalFluxes['Denmark']['Total flow'] = 6\n",
    "        else:\n",
    "            kd = {36 : 1, 18 : 2 , 9 : 4}\n",
    "            kk = kd[data.res]\n",
    "            of = (data.fluxes2['Denmark']['Flux'])*(data.data['rhop'][:,:,100*kk,37*kk:48*kk]>rho0)\n",
    "            of = np.nansum(np.nansum(of,axis=2),axis=1)\n",
    "            of = np.nanmean(of)\n",
    "            data.totalFluxes['Denmark']['Overflow'] = of\n",
    "    for data in comp:\n",
    "        overflow_mean(comp[data])\n",
    "fill_DSO(comp_tot)"
   ]
  },
  {
   "cell_type": "code",
   "execution_count": 39,
   "metadata": {
    "collapsed": true
   },
   "outputs": [],
   "source": [
    "dpires = 300"
   ]
  },
  {
   "cell_type": "code",
   "execution_count": 40,
   "metadata": {
    "collapsed": false
   },
   "outputs": [
    {
     "data": {
      "image/png": "[encoded data removed]",
      "text/plain": [
       "<matplotlib.figure.Figure at 0x2b9bcf480b50>"
      ]
     },
     "metadata": {},
     "output_type": "display_data"
    }
   ],
   "source": [
    "comp_tot = {1 : ERA_36, 2 : CORE_36 , 3 : CORE_18 , 4 : CORE_9_nogm , }\n",
    "def flux_bar_den(comp_hist):\n",
    "    width = 0.35 \n",
    "    fluxes = [ 'Overflow']\n",
    "    fig, axes = plt.subplots(ncols=len(fluxes),nrows=1,sharey=True)    \n",
    "    ax_ind = 0\n",
    "    for j in fluxes:\n",
    "        menMean = []\n",
    "        xtick = []\n",
    "        cols = []\n",
    "        errStd = []\n",
    "        for data in comp_hist:\n",
    "            if j == 'Total flow':\n",
    "                menMean.append(-comp_hist[data].totalFluxes[var][j])\n",
    "            else:\n",
    "                menMean.append(comp_hist[data].totalFluxes[var][j])\n",
    "            xtick.append(comp_hist[data].title)\n",
    "            cols.append(comp_hist[data].color)\n",
    "        \n",
    "        N = len(menMean)\n",
    "        ind = np.arange(N)\n",
    "        rects1 = axes.flat[ax_ind].bar(ind, menMean, width = 0.20 , color=cols)\n",
    "        axes.flat[ax_ind].set_xticks(ind)\n",
    "        axes.flat[ax_ind].set_xticklabels(xtick,rotation=75)\n",
    "        axes.flat[ax_ind].set_title(j)\n",
    "        fig.suptitle(\"Flow through Iceland Scotland Ridge\",x=0.9,y=1.,fontsize=18)\n",
    "        ax_ind += 1\n",
    "    fig.subplots_adjust(right=1.7,top=0.8)\n",
    "    fig.savefig('/noc/users/am8e13/Figures/fluxes_scotice_obs',dpi=dpires, bbox_inches='tight')\n",
    "flux_bar_den(comp_tot)   "
   ]
  },
  {
   "cell_type": "code",
   "execution_count": 37,
   "metadata": {
    "collapsed": false
   },
   "outputs": [
    {
     "data": {
      "text/plain": [
       "<python_functions.runclass.RunRead instance at 0x2b9c13d1f368>"
      ]
     },
     "execution_count": 37,
     "metadata": {},
     "output_type": "execute_result"
    }
   ],
   "source": [
    "ERA_36\n"
   ]
  },
  {
   "cell_type": "code",
   "execution_count": 31,
   "metadata": {
    "collapsed": false
   },
   "outputs": [
    {
     "data": {
      "image/png": "[encoded data removed]",
      "text/plain": [
       "<matplotlib.figure.Figure at 0x2b9bcf9c5c50>"
      ]
     },
     "metadata": {},
     "output_type": "display_data"
    },
    {
     "data": {
      "image/png": "[encoded data removed]",
      "text/plain": [
       "<matplotlib.figure.Figure at 0x2b9bcf9c5c90>"
      ]
     },
     "metadata": {},
     "output_type": "display_data"
    },
    {
     "data": {
      "image/png": "[encoded data removed]",
      "text/plain": [
       "<matplotlib.figure.Figure at 0x2b9bcf9fe590>"
      ]
     },
     "metadata": {},
     "output_type": "display_data"
    }
   ],
   "source": [
    "def plot_overflow(run_pert,run_diff):\n",
    "    kdic = {36:1,18:2,9:4}\n",
    "    kk = kdic[run_pert.res]\n",
    "    fig,axes = plt.subplots(1,1)\n",
    "    for rho0 in [1027.8]:\n",
    "        for var in ['Flux']:            \n",
    "            #data = (run_pert.fluxes2['Denmark'][var])*(run_pert.data['rhop'][:,:,100*kk,37*kk:48*kk]>rho0)# - \\\n",
    "                    #(run_diff.fluxes2['Denmark'][var])*(run_diff.data['rhop'][:,:,100*kk,37*kk:48*kk]>rho0)\n",
    "            #datam = np.nansum(np.nansum(-data,axis=1),axis=1)\n",
    "            datam = run_pert.fluxes2['Denmark']['FluxSum']\n",
    "            plt.plot(run_pert.years-5,datam,alpha=0.4,color='b')\n",
    "            plt.plot(run_pert.years-5,runningMeanFast(datam,12)[0:],label=rho0,color='b')\n",
    "\n",
    "            datam = run_pert.fluxes2['Denmark']['FluxSumOverFlow']\n",
    "            plt.plot(run_pert.years-5,datam,alpha=0.4,color='r')\n",
    "            plt.plot(run_pert.years-5,runningMeanFast(datam,12)[0:],label=rho0,color='r')\n",
    "            \n",
    "            plt.axhline(y=0,color='black',linestyle='--',)\n",
    "            plt.title('Denmark overflow',fontsize=24)\n",
    "            plt.xlabel('Years',fontsize=20)\n",
    "            plt.ylabel('Sv',fontsize=20)\n",
    "    fig.subplots_adjust(right=1.8,top=1.8)\n",
    "plot_overflow(CORE_36,ERA_36)\n",
    "plot_overflow(CORE_18,ERA_36)\n",
    "plot_overflow(CORE_9_nogm,ERA_36)"
   ]
  },
  {
   "cell_type": "code",
   "execution_count": null,
   "metadata": {
    "collapsed": true
   },
   "outputs": [],
   "source": []
  },
  {
   "cell_type": "code",
   "execution_count": null,
   "metadata": {
    "collapsed": true
   },
   "outputs": [],
   "source": [
    "#comp_all = {0 : woa ,1 : ERA_36, 2 : CORE_36 , 3 : CORE_18 , 4 : CORE_9 , 5 : CORE_9_nogm}\n",
    "comp_all = {0 : woa ,1 : ERA_36, 2 : CORE_36 , 3 : CORE_18 , 4 : CORE_9_nogm}"
   ]
  },
  {
   "cell_type": "code",
   "execution_count": null,
   "metadata": {
    "collapsed": false
   },
   "outputs": [],
   "source": [
    "comp_diff = {1 : ERA_36, 2 : CORE_36 , 3 : CORE_18 , 4 : CORE_9_nogm}"
   ]
  },
  {
   "cell_type": "code",
   "execution_count": null,
   "metadata": {
    "collapsed": true
   },
   "outputs": [],
   "source": [
    "comp_36 = {0 : woa ,1 : ERA_36, 2 : CORE_36}"
   ]
  },
  {
   "cell_type": "code",
   "execution_count": null,
   "metadata": {
    "collapsed": true
   },
   "outputs": [],
   "source": [
    "#comp_all = {0 : woa ,1 : ERA_36, 2 : CORE_36 , 3 : CORE_18 , 4 : mixed_36}\n",
    "#comp_diff = {1 : ERA_36, 2 : CORE_36 , 3 : CORE_18 , 4 : mixed_36}"
   ]
  },
  {
   "cell_type": "code",
   "execution_count": null,
   "metadata": {
    "collapsed": true
   },
   "outputs": [],
   "source": [
    "#comp_core = {2 : CORE_36 , 3 : CORE_18 , 4 : CORE_9}"
   ]
  },
  {
   "cell_type": "code",
   "execution_count": null,
   "metadata": {
    "collapsed": false
   },
   "outputs": [],
   "source": [
    "def comp_plot(data, reg,npoints=15):\n",
    "    import matplotlib as mpl\n",
    "    # This function plots time evolution of temperature/salinity on a transect.                                                    \n",
    "    # Transect are: Fram Strait, Bering Strait ...     \n",
    "    km_ticks = {\"bering\" : [ 0 , 100 , 200 , 300] , \"fram\" : [0 , 150 , 300 , 450] , \"barents\" : [ 0 , 200 , 400 , 600] ,\n",
    "           \"davis\" : [0 , 100 , 200 , 300] , \"denmark\" : [0 , 100 , 200 , 300] , \"norwice\" : [0 , 100 , 200 , 300] ,\\\n",
    "                \"arctic1\" : [0 , 750 , 1500 , 2250], \"arctic2\" : [0,1000,2000,3000] ,\n",
    "            \"arctic3\" : [0 , 750 , 1500 , 2250] , \"arctic4\" : [0 , 2000 , 4000 , 6000],\"denmark\" : [0,100,200,300,400]}\n",
    "                                                                                                               \n",
    "    npl = len(data)                                                                                                                  \n",
    "    regions = {\"barents\" : [77,-20,79,10] , \"fram\" : [80,-13,79,10] , \"bering\" : [64,-169,67,-168] , \\\n",
    "               \"davis\" : [66,-61,66,-53] , \"denmark\" : [67, -32 , 65, -23], \"norwice\" : [65 , -14 , 61 ,5], \\\n",
    "               \"arctic1\" : [83,-28,74,136] , \"arctic2\" : [71,-139,75,53], \\\n",
    "               \"arctic3\" : [78,-115,76,111] , \"arctic4\" : [60,180,60,0],\\\n",
    "              \"denmark\" : [70,-25,67,-22]}\n",
    "    region = regions[reg]\n",
    "    \n",
    "    lat1 = region[0] ; lon1 = region[1] ; lat2 = region[2] ; lon2 = region[3] ;\n",
    "    fig, axes = plt.subplots(3,npl,sharex='col', sharey='row')\n",
    "    ind = 0\n",
    "\n",
    "    t_min = -2 ; t_max = 8 ; tempbounds = np.linspace(t_min,t_max,15) ; tempbounds1 = np.linspace(t_min,t_max,5)\n",
    "    if reg == 'bering':\n",
    "        s_min = 30 ; s_max = 33.5 ; saltbounds = np.linspace(s_min,s_max,15) ; saltbounds1 = np.linspace(s_min,s_max,5)\n",
    "        r_min = 26 ; r_max = 28 ; rhobounds = np.linspace(r_min,r_max,15) ; rhobounds1 = np.linspace(r_min,r_max,5)\n",
    "    else:\n",
    "        s_min = 33 ; s_max = 35.5 ; saltbounds = np.linspace(s_min,s_max,15) ; saltbounds1 = np.linspace(s_min,s_max,5)\n",
    "        r_min = 26 ; r_max = 29.5 ; rhobounds = np.linspace(r_min,r_max,15) ; rhobounds1 = np.linspace(r_min,r_max,5)\n",
    "\n",
    "    for run in data:\n",
    "        # plot temperature                                                                                                           \n",
    "        data_prof, x_kilometers, m_grid, n_grid  = \\\n",
    "        get_transect1(data[run].lat, data[run].lon, data[run].T , lat1, lon1, lat2, lon2,\\\n",
    "                                                                 npoints = npoints, pdif = 1, norep=False)\n",
    "        Z,z2 = lastnan(data_prof,data[run].depth)\n",
    "        if ind == 0:\n",
    "            imT = axes.flat[ind].contourf(x_kilometers,Z,data_prof[0:z2,:],vmin=t_min,vmax=t_max,levels = tempbounds,\\\n",
    "                    extend = 'both', cmap = cmocean.cm.temperature)\n",
    "        else:\n",
    "            axes.flat[ind].contourf(x_kilometers,Z,data_prof[0:z2,:],vmin=t_min,vmax=t_max,levels = tempbounds,\\\n",
    "                    extend = 'both', cmap = cmocean.cm.temperature)\n",
    "                                                                           \n",
    "        axes.flat[ind].set_title(\"Temp - \"+data[run].title,fontsize=16)\n",
    "        #axes.flat[ind].title.set_fontsize('16',fontsize=15)\n",
    "        if ind == 0:\n",
    "            axes.flat[ind].set_ylabel(r\"m\")\n",
    "\n",
    "        # plot salinity                                                                                                              \n",
    "        data_prof, x_kilometers, m_grid, n_grid  = \\\n",
    "        get_transect1(data[run].lat, data[run].lon, data[run].S , lat1, lon1, lat2, lon2,\\\n",
    "                                                                 npoints = npoints, pdif = 1, norep=False)\n",
    "        if ind == 0:\n",
    "            imS = axes.flat[ind+npl].contourf(x_kilometers,Z,data_prof[0:z2,:],vmin=s_min,vmax=s_max,levels = saltbounds,\\\n",
    "                    extend = 'both' , cmap = cmocean.cm.salt)\n",
    "        else:\n",
    "            axes.flat[ind+npl].contourf(x_kilometers,Z,data_prof[0:z2,:],vmin=s_min,vmax=s_max,levels = saltbounds,\\\n",
    "                    extend = 'both' , cmap = cmocean.cm.salt)\n",
    "        axes.flat[ind+npl].set_title(\"Sal - \"+data[run].title,fontsize=16)\n",
    "        #axes.flat[ind+npl].title.set_fontsize('16')\n",
    "        if ind == 0:\n",
    "            axes.flat[ind+npl].set_ylabel(r\"$m$\",fontsize=15)\n",
    "\n",
    "        # plot density                                                                                                               \n",
    "        data_prof, x_kilometers, m_grid, n_grid  = \\\n",
    "        get_transect1(data[run].lat, data[run].lon, data[run].rhop - 1000 , lat1, lon1, lat2, lon2,\\\n",
    "                                                                 npoints = npoints, pdif = 1, norep=False)\n",
    "        if ind == 0:\n",
    "            imrho = axes.flat[ind+npl*2].contourf(x_kilometers,Z,data_prof[0:z2,:],\\\n",
    "                    vmin=r_min,vmax=r_max,levels = rhobounds,\\\n",
    "                    extend = 'both',cmap = cmocean.cm.rho)\n",
    "        else:\n",
    "            axes.flat[ind+npl*2].contourf(x_kilometers,Z,data_prof[0:z2,:],\\\n",
    "                    vmin=r_min,vmax=r_max,levels = rhobounds,\\\n",
    "                    extend = 'both',cmap = cmocean.cm.rho)                                                                                          \n",
    "        axes.flat[ind+npl*2].set_title(\"Dens - \"+data[run].title,fontsize=16)\n",
    "        #axes.flat[ind+npl*2].title.set_fontsize('16')\n",
    "        if ind == 0:\n",
    "            axes.flat[ind+npl*2].set_ylabel(r'$m$',fontsize=15)\n",
    "        axes.flat[ind+npl*2].set_xlabel(r'$km$',fontsize=15)\n",
    "\n",
    "        # this is to plot ticks   \n",
    "        ax = axes.flat[ind+npl].get_xaxis()\n",
    "        ax.set_ticks(km_ticks[reg])                                                                                                            \n",
    "        ind = ind + 1\n",
    "\n",
    "    cbar_ax = fig.add_axes([2.15, 2.2, 0.045, 0.7])\n",
    "    cbar = plt.colorbar(imT, cax=cbar_ax,ticks=[-1,0,1,2,3,4,5,6,7])\n",
    "    cbar.ax.set_ylabel(r'$^{\\circ}C$')\n",
    "\n",
    "    cbar_ax2 = fig.add_axes([2.15, 1.2, 0.045, 0.7])\n",
    "    cbar2 = plt.colorbar(imS, cax=cbar_ax2,ticks=[30,31,32,33,34,35])\n",
    "    cbar2.ax.set_ylabel(r'$psu$')\n",
    "\n",
    "    cbar_ax3 = fig.add_axes([2.15, 0.2, 0.045, 0.7])\n",
    "    cbar3 = plt.colorbar(imrho, cax=cbar_ax3,ticks=[26.0,26.5,27.0,27.5,28.0,28.5,29,29.5])\n",
    "    cbar3.ax.set_ylabel(r'$kg/m^3$')\n",
    "    \n",
    "    fig.subplots_adjust(right=2.1,top=3.)\n",
    "    fig.savefig('/noc/users/am8e13/Figures/transect_'+reg,dpi=dpires, bbox_inches='tight')"
   ]
  },
  {
   "cell_type": "code",
   "execution_count": null,
   "metadata": {
    "collapsed": false
   },
   "outputs": [],
   "source": [
    "comp_plot(comp_all,\"denmark\")"
   ]
  },
  {
   "cell_type": "markdown",
   "metadata": {},
   "source": [
    "Bering Strait"
   ]
  },
  {
   "cell_type": "code",
   "execution_count": null,
   "metadata": {
    "collapsed": false,
    "scrolled": false
   },
   "outputs": [],
   "source": [
    "comp_plot(comp_all,\"bering\")"
   ]
  },
  {
   "cell_type": "markdown",
   "metadata": {},
   "source": [
    "Fram Strait"
   ]
  },
  {
   "cell_type": "code",
   "execution_count": null,
   "metadata": {
    "collapsed": false,
    "scrolled": false
   },
   "outputs": [],
   "source": [
    "comp_plot(comp_all,'fram')"
   ]
  },
  {
   "cell_type": "markdown",
   "metadata": {},
   "source": [
    "Barents Strait"
   ]
  },
  {
   "cell_type": "code",
   "execution_count": null,
   "metadata": {
    "collapsed": false
   },
   "outputs": [],
   "source": [
    "comp_plot(comp_all,\"barents\")"
   ]
  },
  {
   "cell_type": "markdown",
   "metadata": {},
   "source": [
    "Davis Strait"
   ]
  },
  {
   "cell_type": "code",
   "execution_count": null,
   "metadata": {
    "collapsed": false
   },
   "outputs": [],
   "source": [
    "comp_plot(comp_all,\"davis\")"
   ]
  },
  {
   "cell_type": "code",
   "execution_count": null,
   "metadata": {
    "collapsed": false
   },
   "outputs": [],
   "source": [
    "comp_plot(comp_all,\"arctic1\")"
   ]
  },
  {
   "cell_type": "code",
   "execution_count": null,
   "metadata": {
    "collapsed": false
   },
   "outputs": [],
   "source": [
    "comp_plot(comp_all,\"arctic2\")"
   ]
  },
  {
   "cell_type": "code",
   "execution_count": null,
   "metadata": {
    "collapsed": false
   },
   "outputs": [],
   "source": [
    "comp_plot(comp_all,\"arctic3\")"
   ]
  },
  {
   "cell_type": "code",
   "execution_count": null,
   "metadata": {
    "collapsed": false
   },
   "outputs": [],
   "source": [
    "comp_plot(comp_all,\"arctic4\")"
   ]
  },
  {
   "cell_type": "code",
   "execution_count": null,
   "metadata": {
    "collapsed": false
   },
   "outputs": [],
   "source": [
    "def comp_diff_plot(data,diff, reg,npoints=15):\n",
    "    import matplotlib as mpl\n",
    "    # This function plots time evolution of temperature/salinity on a transect. \n",
    "    # Transect are: Fram Strait, Bering Strait ...            \n",
    "    km_ticks = {\"bering\" : [ 0 , 100 , 200 , 300] , \"fram\" : [0 , 150 , 300 , 450] , \"barents\" : [ 0 , 200 , 400 , 600] ,\n",
    "           \"davis\" : [0 , 100 , 200 , 300] , \"arctic1\" : [0 , 750 , 1500 , 2250], \"arctic2\" : [0,1000,2000,3000] ,\n",
    "            \"arctic3\" : [0 , 750 , 1500 , 2250] , \"arctic4\" : [0 , 2000 , 4000 , 6000],\"denmark\" : [0,100,200,300,400]}\n",
    "    \n",
    "    npl = len(data)\n",
    "    regions = {\"barents\" : [77,-20,79,10] , \"fram\" : [80,-13,79,10] , \"bering\" : [64,-169,67,-168] , \\\n",
    "               \"davis\" : [66,-61,66,-53] , \"arctic1\" : [83,-28,74,136] , \"arctic2\" : [71,-139,75,53], \\\n",
    "               \"arctic3\" : [78,-115,76,111] , \"arctic4\" : [60,180,60,0],\"denmark\" : [70,-25,67,-22] }\n",
    "    region = regions[reg]\n",
    "\n",
    "    lat1 = region[0]\n",
    "    lon1 = region[1]\n",
    "    lat2 = region[2]\n",
    "    lon2 = region[3]\n",
    "    fig, axes = plt.subplots(3,npl,sharex='col', sharey='row')\n",
    "    ind = 0\n",
    "\n",
    "    t_min = -3 ; t_max = 3 ; tempbounds = np.linspace(t_min,t_max,15) ; tempbounds1 = np.linspace(t_min,t_max,5)\n",
    "    s_min = -2 ; s_max = 2 ; saltbounds = np.linspace(s_min,s_max,15) ; saltbounds1 = np.linspace(s_min,s_max,5)\n",
    "    r_min = -1 ; r_max = 1 ; rhobounds = np.linspace(r_min,r_max,15) ; rhobounds1 = np.linspace(r_min,r_max,5)\n",
    "\n",
    "    for run in data:\n",
    "        # plot temperature   \n",
    "        if data[run].res == 36:\n",
    "            diffT = np.array(diff.T)\n",
    "            diffS = np.array(diff.S)\n",
    "            diffrhop = np.array(diff.rhop)\n",
    "        elif data[run].res == 18:\n",
    "            diffT = np.array(diff.T18)\n",
    "            diffS = np.array(diff.S18)\n",
    "            diffrhop = np.array(diff.rhop18) \n",
    "        elif data[run].res == 9:\n",
    "            diffT = np.array(diff.T9)\n",
    "            diffS = np.array(diff.S9)\n",
    "            diffrhop = np.array(diff.rhop9) \n",
    "        \n",
    "        data_prof, x_kilometers, m_grid, n_grid  = \\\n",
    "        get_transect1(data[run].lat, data[run].lon, data[run].T - diffT , lat1, lon1, lat2, lon2,\\\n",
    "                                                                 npoints = npoints, pdif = 1, norep=False)\n",
    "        Z,z2 = lastnan(data_prof,data[run].depth)\n",
    "        if ind == 0:\n",
    "            imT = axes.flat[ind].contourf(x_kilometers,Z,data_prof[0:z2,:],vmin=t_min,vmax=t_max,levels = tempbounds,\\\n",
    "                    extend = 'both', cmap = cmocean.cm.freesurface)\n",
    "        else:\n",
    "            #print x_kilometers.shape,Z.shape,data_prof[0:z2,:].shape,run\n",
    "            axes.flat[ind].contourf(x_kilometers,Z,data_prof[0:z2,:],vmin=t_min,vmax=t_max,levels = tempbounds,\\\n",
    "                    extend = 'both', cmap = cmocean.cm.freesurface)\n",
    "        #axes.flat[ind].contour(x_kilometers,Z,data_prof[0:z2,:],colors='k',levels = tempbounds1,\\                                    \n",
    "        #            extend = 'both')                                                                                                 \n",
    "        axes.flat[ind].set_title(\"Temp - \"+data[run].title,fontsize=16)\n",
    "        axes.flat[ind].title.set_fontsize('16')\n",
    "        if ind == 0:\n",
    "            axes.flat[ind].set_ylabel(r'$m$',fontsize=15)\n",
    "\n",
    "        # plot salinity                                                                                                               \n",
    "        data_prof, x_kilometers, m_grid, n_grid  = \\\n",
    "        get_transect1(data[run].lat, data[run].lon, data[run].S - diffS, lat1, lon1, lat2, lon2,\\\n",
    "                                                                 npoints = npoints, pdif = 1, norep=False)\n",
    "        \n",
    "        if ind == 0:\n",
    "            imS = axes.flat[ind+npl].contourf(x_kilometers,Z,data_prof[0:z2,:],vmin=s_min,vmax=s_max,levels = saltbounds,\\\n",
    "                    extend = 'both' , cmap = cmocean.cm.freesurface)\n",
    "        else:\n",
    "            axes.flat[ind+npl].contourf(x_kilometers,Z,data_prof[0:z2,:],vmin=s_min,vmax=s_max,levels = saltbounds,\\\n",
    "                    extend = 'both' , cmap = cmocean.cm.freesurface)\n",
    "        #axes.flat[ind+npl].contour(x_kilometers,Z,data_prof[0:z2,:],colors='k',levels = saltbounds1,\\                                \n",
    "        #            extend = 'both')                                                                                                 \n",
    "        axes.flat[ind+npl].set_title(\"Sal - \"+data[run].title,fontsize=16)\n",
    "        axes.flat[ind+npl].title.set_fontsize('16')\n",
    "        if ind == 0:\n",
    "            axes.flat[ind+npl].set_ylabel(r'$m$',fontsize=15)\n",
    "\n",
    "        # plot density                                                                                                                \n",
    "        data_prof, x_kilometers, m_grid, n_grid  = \\\n",
    "        get_transect1(data[run].lat, data[run].lon, data[run].rhop - diffrhop , lat1, lon1, lat2, lon2,\\\n",
    "                                                                 npoints = npoints, pdif = 1, norep=False)\n",
    "        if ind == 0:\n",
    "            imrho = axes.flat[ind+npl*2].contourf(x_kilometers,Z,data_prof[0:z2,:],\\\n",
    "                    vmin=r_min,vmax=r_max,levels = rhobounds,\\\n",
    "                    extend = 'both',cmap = cmocean.cm.freesurface )\n",
    "        else:\n",
    "            axes.flat[ind+npl*2].contourf(x_kilometers,Z,data_prof[0:z2,:],\\\n",
    "                    vmin=r_min,vmax=r_max,levels = rhobounds,\\\n",
    "                    extend = 'both',cmap = cmocean.cm.freesurface)                                                                                        \n",
    "        axes.flat[ind+npl*2].set_title(\"Dens - \"+data[run].title,fontsize=16)\n",
    "        axes.flat[ind+npl*2].title.set_fontsize('16')\n",
    "        if ind == 0:\n",
    "            axes.flat[ind+npl*2].set_ylabel(r'$m$',fontsize=15)\n",
    "        axes.flat[ind+npl*2].set_xlabel(r'$km$',fontsize=15)  \n",
    "        # this is to plot ticks   \n",
    "        ax = axes.flat[ind+npl].get_xaxis()\n",
    "        ax.set_ticks(km_ticks[reg])                                                                                                                   \n",
    "        ind = ind + 1\n",
    "\n",
    "    cbar_ax = fig.add_axes([2.15, 2.3, 0.045, 0.7])\n",
    "    cbar = plt.colorbar(imT, cax=cbar_ax,ticks=[-2,-1.5,-1,-0.5,0,0.5,1,1.5,2])\n",
    "    cbar.ax.set_ylabel(r'$C$')\n",
    "\n",
    "    cbar_ax2 = fig.add_axes([2.15, 1.3, 0.045, 0.7])\n",
    "    cbar2 = plt.colorbar(imS, cax=cbar_ax2,ticks=[-2,-1.5,-1,-0.5,0,0.5,1,1.5,2])\n",
    "    cbar2.ax.set_ylabel(r'$psu$')\n",
    "\n",
    "    cbar_ax3 = fig.add_axes([2.15, 0.3, 0.045, 0.7])\n",
    "    cbar3 = plt.colorbar(imrho, cax=cbar_ax3,ticks=[-2,-1.5,-1,-0.5,0,0.5,1,1.5,2])\n",
    "    cbar3.ax.set_ylabel(r'$kg/m^3$')\n",
    "\n",
    "    fig.subplots_adjust(right=2.1,top=3.1)\n",
    "    fig.savefig('/noc/users/am8e13/Figures/transect_'+reg+'_diff',dpi=dpires, bbox_inches='tight')\n"
   ]
  },
  {
   "cell_type": "code",
   "execution_count": null,
   "metadata": {
    "collapsed": false
   },
   "outputs": [],
   "source": [
    "comp_diff_plot(comp_diff,woa,'denmark')"
   ]
  },
  {
   "cell_type": "code",
   "execution_count": null,
   "metadata": {
    "collapsed": false
   },
   "outputs": [],
   "source": [
    "comp_diff_plot(comp_diff,woa,'fram')"
   ]
  },
  {
   "cell_type": "code",
   "execution_count": null,
   "metadata": {
    "collapsed": false,
    "scrolled": false
   },
   "outputs": [],
   "source": [
    "comp_diff_plot(comp_diff,woa,'bering')"
   ]
  },
  {
   "cell_type": "code",
   "execution_count": null,
   "metadata": {
    "collapsed": false,
    "scrolled": false
   },
   "outputs": [],
   "source": [
    "comp_diff_plot(comp_diff,woa,'barents')"
   ]
  },
  {
   "cell_type": "code",
   "execution_count": null,
   "metadata": {
    "collapsed": false
   },
   "outputs": [],
   "source": [
    "comp_diff_plot(comp_diff,woa,'davis')"
   ]
  },
  {
   "cell_type": "code",
   "execution_count": null,
   "metadata": {
    "collapsed": false
   },
   "outputs": [],
   "source": [
    "comp_diff_plot(comp_diff,woa,'arctic1')"
   ]
  },
  {
   "cell_type": "code",
   "execution_count": null,
   "metadata": {
    "collapsed": false
   },
   "outputs": [],
   "source": [
    "comp_diff_plot(comp_diff,woa,'arctic2')"
   ]
  },
  {
   "cell_type": "code",
   "execution_count": null,
   "metadata": {
    "collapsed": false
   },
   "outputs": [],
   "source": [
    "comp_diff_plot(comp_diff,woa,'arctic3')"
   ]
  },
  {
   "cell_type": "code",
   "execution_count": null,
   "metadata": {
    "collapsed": false
   },
   "outputs": [],
   "source": [
    "comp_diff_plot(comp_diff,woa,'arctic4')"
   ]
  },
  {
   "cell_type": "markdown",
   "metadata": {},
   "source": [
    "# Model comparison"
   ]
  },
  {
   "cell_type": "code",
   "execution_count": null,
   "metadata": {
    "collapsed": false
   },
   "outputs": [],
   "source": [
    "# reading models\n",
    "class read_model():\n",
    "    def __init__(self,title):\n",
    "        self.title = title\n",
    "        file2read = netcdf.NetCDFFile('/scratch/general/am8e13/CORE_runs/'+title+'_regrid.nc','r')\n",
    "        tmp = file2read.variables['S36']\n",
    "        self.S36 = tmp[:]*1\n",
    "        tmp = file2read.variables['S18']\n",
    "        self.S18 = tmp[:]*1\n",
    "        tmp = file2read.variables['S9']\n",
    "        self.S9 = tmp[:]*1\n",
    "        tmp = file2read.variables['T36']\n",
    "        self.T36 = tmp[:]*1\n",
    "        tmp = file2read.variables['T18']\n",
    "        self.T18 = tmp[:]*1\n",
    "        tmp = file2read.variables['T9']\n",
    "        self.T9 = tmp[:]*1\n",
    "        self.T = self.T36\n",
    "        self.S = self.S36\n",
    "        grid = grid_read(36)\n",
    "        self.lat = grid['YC']\n",
    "        self.lon = grid['XC']\n",
    "        self.res = 36\n",
    "MOM = read_model('MOM')\n",
    "GEOMAR = read_model('GEOMAR')\n",
    "BERGEN = read_model('BERGEN')\n",
    "FSU = read_model('FSU')\n",
    "NCAR = read_model('NCAR')"
   ]
  },
  {
   "cell_type": "code",
   "execution_count": null,
   "metadata": {
    "collapsed": true
   },
   "outputs": [],
   "source": [
    "dpires = 300"
   ]
  },
  {
   "cell_type": "code",
   "execution_count": null,
   "metadata": {
    "collapsed": false
   },
   "outputs": [],
   "source": [
    "#comp_diff = {1 : ERA_36, 2 : CORE_36 , 3 : CORE_18 , 4 : CORE_9_nogm}\n",
    "comp_models = { 0: woa , 1 : BERGEN , 2 : NCAR , 3 : GEOMAR , 4 : MOM , \n",
    "                5 : ERA_36, 6 : CORE_36, 7 : CORE_18 , 8 : CORE_9_nogm}\n",
    "def basemap_temperature_diff(data_comp,met):\n",
    "    lat_ts=90.0 ; lat_0=90.0 ; lon_0=-45.0 ;\n",
    "    sgn=1\n",
    "    width=7000000. ; height=7000000.0 ;\n",
    "    vmin = -3 ; vmax = 3 ;\n",
    "    ind = 0\n",
    "    metd = { 5 : 0 , 200 : 16 , 400 : 21 }\n",
    "    mm = metd[met]\n",
    "    fig, axes = plt.subplots(3,3)\n",
    "    Td = {36 : woa.T , 18 : woa.T18 , 9 : woa.T9}\n",
    "    \n",
    "    for data in data_comp:\n",
    "        m = Basemap(ax=axes.flat[ind],width=width,height=height,resolution='l',\\\n",
    "                    projection='stere',lat_ts=lat_ts,lat_0=lat_0,lon_0=lon_0)\n",
    "        # the continents will be drawn on top.\n",
    "        m.drawmapboundary(fill_color='white')\n",
    "        # fill continents, set lake color same as ocean color.\n",
    "        m.fillcontinents(color='grey',lake_color='white')\n",
    "        x,y=m(data_comp[data].lon,data_comp[data].lat)\n",
    "        T = Td[data_comp[data].res]        \n",
    "        datam = data_comp[data].T[mm,:,:] - T[mm,:,:]\n",
    "        sitm = np.ma.masked_where(np.isnan(datam),datam)\n",
    "\n",
    "        CS=m.pcolormesh(x,y,sitm,cmap=cmocean.cm.freesurface,vmin=vmin,vmax=vmax)#,ps,cmap=cm.jet,extend='max')\n",
    "        m.drawparallels(np.arange(-80.,81.,15.))#,labels=[1,0,0,0])\n",
    "        m.drawmeridians(np.arange(-180.,181.,30.))#,labels=[0,0,1,1])\n",
    "        #m.drawcoastlines()\n",
    "        axes.flat[ind].set_title(data_comp[data].title,fontsize=16)\n",
    "        ind += 1\n",
    "    fig.suptitle(\"Temperature bias at \"+str(met)+\"m\",x=1.,y=2.0,fontsize=18)\n",
    "    cbar_ax = fig.add_axes([1.9, 0.3, 0.045, 1.4])\n",
    "    cbar = plt.colorbar(CS, cax=cbar_ax,)\n",
    "    cbar.ax.set_ylabel(r'$^{\\circ}C$')\n",
    "    plt.delaxes(axes.flat[0])\n",
    "    fig.subplots_adjust(right=1.7,top=1.8)\n",
    "    fig.savefig('/noc/users/am8e13/Figures/modelscomp_temp_'+str(met)+'_diff',dpi=dpires, bbox_inches='tight')\n",
    "\n",
    "#basemap_temperature_diff(comp_diff,woa,5)\n",
    "#basemap_temperature_diff(comp_diff,woa,200)\n",
    "basemap_temperature_diff(comp_models,400)"
   ]
  },
  {
   "cell_type": "code",
   "execution_count": null,
   "metadata": {
    "collapsed": false,
    "scrolled": false
   },
   "outputs": [],
   "source": [
    "comp_models = { 0: woa , 1 : BERGEN , 2 : NCAR , 3 : GEOMAR , 4 : MOM , \n",
    "                5 : ERA_36, 6 : CORE_36, 7 : CORE_18 , 8 : CORE_9_nogm}\n",
    "def basemap_models(data_comp,nzt,diff=False):\n",
    "    lat_ts=90.0\n",
    "    lat_0=90.0\n",
    "    lon_0=-45.0\n",
    "    sgn=1\n",
    "    width=7000000.\n",
    "    height=7000000.0\n",
    "    \n",
    "    if diff:\n",
    "        vmin = -3 ; vmax = 3 ; cmap = cmocean.cm.freesurface ;  difftit = '_diff'\n",
    "    else:\n",
    "        vmin = -3 ; vmax = 15 ; cmap = cmocean.cm.temperature ; difftit = ''\n",
    "    ind = 0\n",
    "    fig, axes = plt.subplots(3,3)\n",
    "    for data in data_comp:\n",
    "        m = Basemap(ax=axes.flat[ind],width=width,height=height,resolution='l',\\\n",
    "                    projection='stere',lat_ts=lat_ts,lat_0=lat_0,lon_0=lon_0)\n",
    "        # the continents will be drawn on top.\n",
    "        m.drawmapboundary(fill_color='white')\n",
    "        # fill continents, set lake color same as ocean color.\n",
    "        m.fillcontinents(color='grey',lake_color='white')\n",
    "        x,y=m(data_comp[data].lon,data_comp[data].lat)\n",
    "        Td = {36 : woa.T , 18 : woa.T18 , 9 : woa.T9}\n",
    "        if (diff) & (data_comp[data].title == 'Woa'):\n",
    "            T = Td[data_comp[data].res]\n",
    "            datam = data_comp[data].T[nzt,:,:] - T[nzt,:,:]\n",
    "        else:\n",
    "            datam = data_comp[data].T[nzt,:,:]\n",
    "        sitm = np.ma.masked_where(np.isnan(datam),datam)\n",
    "        CS=m.pcolormesh(x,y,sitm,cmap=cmap,vmin=vmin,vmax=vmax)\n",
    "        m.drawparallels(np.arange(-80.,81.,15.))\n",
    "        m.drawmeridians(np.arange(-180.,181.,30.))\n",
    "        axes.flat[ind].set_title(data_comp[data].title,fontsize=16)\n",
    "        ind += 1\n",
    "    fig.suptitle(\"Salinity in CORE intercomparison\",x=1.,y=2.2,fontsize=18)\n",
    "    cbar_ax = fig.add_axes([1.9, 0.4, 0.045, 1.4])\n",
    "    cbar = plt.colorbar(CS, cax=cbar_ax,)\n",
    "    cbar.ax.set_ylabel(r'psu')\n",
    "    if diff:\n",
    "        plt.delaxes(axes.flat[0])\n",
    "    fig.subplots_adjust(right=1.7,top=2.)\n",
    "    fig.savefig('/noc/users/am8e13/Figures/basemap_models_temp_'+str(nzt)+difftit,dpi=dpires, bbox_inches='tight')\n",
    "\n",
    "#basemap_models(comp_models,5,True)\n",
    "basemap_models(comp_models,21,True)\n",
    "\n",
    "#basemap_models(comp_models,5)\n",
    "#basemap_models(comp_models,15)\n",
    "#basemap_models(comp_models,5,True)\n",
    "#basemap_models(comp_models,15,True)"
   ]
  },
  {
   "cell_type": "code",
   "execution_count": 10,
   "metadata": {
    "collapsed": false
   },
   "outputs": [
    {
     "ename": "NameError",
     "evalue": "name 'BERGEN' is not defined",
     "output_type": "error",
     "traceback": [
      "\u001b[1;31m---------------------------------------------------------------------------\u001b[0m",
      "\u001b[1;31mNameError\u001b[0m                                 Traceback (most recent call last)",
      "\u001b[1;32m<ipython-input-10-393fa3bb1800>\u001b[0m in \u001b[0;36m<module>\u001b[1;34m()\u001b[0m\n\u001b[0;32m      1\u001b[0m \u001b[1;31m# here we want to make a talbe with comparison between models\u001b[0m\u001b[1;33m\u001b[0m\u001b[1;33m\u001b[0m\u001b[0m\n\u001b[1;32m----> 2\u001b[1;33m \u001b[0mdata_diff\u001b[0m \u001b[1;33m=\u001b[0m \u001b[1;33m{\u001b[0m \u001b[1;36m1\u001b[0m \u001b[1;33m:\u001b[0m \u001b[0mBERGEN\u001b[0m \u001b[1;33m,\u001b[0m \u001b[1;36m2\u001b[0m \u001b[1;33m:\u001b[0m \u001b[0mNCAR\u001b[0m \u001b[1;33m,\u001b[0m \u001b[1;36m3\u001b[0m \u001b[1;33m:\u001b[0m \u001b[0mGEOMAR\u001b[0m \u001b[1;33m,\u001b[0m \u001b[1;36m4\u001b[0m \u001b[1;33m:\u001b[0m \u001b[0mMOM\u001b[0m \u001b[1;33m,\u001b[0m \u001b[1;36m5\u001b[0m \u001b[1;33m:\u001b[0m \u001b[0mERA_36\u001b[0m\u001b[1;33m,\u001b[0m \u001b[1;36m6\u001b[0m \u001b[1;33m:\u001b[0m \u001b[0mCORE_36\u001b[0m\u001b[1;33m,\u001b[0m \u001b[1;36m7\u001b[0m \u001b[1;33m:\u001b[0m \u001b[0mCORE_18\u001b[0m \u001b[1;33m,\u001b[0m \u001b[1;36m8\u001b[0m \u001b[1;33m:\u001b[0m \u001b[0mCORE_9_nogm\u001b[0m\u001b[1;33m}\u001b[0m\u001b[1;33m\u001b[0m\u001b[0m\n\u001b[0m\u001b[0;32m      3\u001b[0m \u001b[1;32mdef\u001b[0m \u001b[0mtotal_max_min\u001b[0m\u001b[1;33m(\u001b[0m\u001b[0mdata_diff\u001b[0m\u001b[1;33m)\u001b[0m\u001b[1;33m:\u001b[0m\u001b[1;33m\u001b[0m\u001b[0m\n\u001b[0;32m      4\u001b[0m     \u001b[1;32mdef\u001b[0m \u001b[0mmaxmin_areas\u001b[0m\u001b[1;33m(\u001b[0m\u001b[0mdata\u001b[0m\u001b[1;33m)\u001b[0m\u001b[1;33m:\u001b[0m\u001b[1;33m\u001b[0m\u001b[0m\n\u001b[0;32m      5\u001b[0m         \u001b[0mgrid\u001b[0m \u001b[1;33m=\u001b[0m \u001b[0mgrid_read\u001b[0m\u001b[1;33m(\u001b[0m\u001b[0mdata\u001b[0m\u001b[1;33m.\u001b[0m\u001b[0mres\u001b[0m\u001b[1;33m)\u001b[0m\u001b[1;33m\u001b[0m\u001b[0m\n",
      "\u001b[1;31mNameError\u001b[0m: name 'BERGEN' is not defined"
     ]
    }
   ],
   "source": [
    "# here we want to make a talbe with comparison between models\n",
    "data_diff = { 1 : BERGEN , 2 : NCAR , 3 : GEOMAR , 4 : MOM , 5 : ERA_36, 6 : CORE_36, 7 : CORE_18 , 8 : CORE_9_nogm}\n",
    "def total_max_min(data_diff):\n",
    "    def maxmin_areas(data):\n",
    "        grid = grid_read(data.res)\n",
    "        mask1,mask2,mask3,mask4,mask5,mask6,mask7,mask8 = region_mask(data.res)\n",
    "        mask0 = np.ones_like(mask1)\n",
    "        areamasks = {0:mask0*grid['Area'], 1 : mask1*grid['Area'], 2 : mask2*grid['Area'] ,\\\n",
    "                     3 : mask3*grid['Area'], 4 : mask4*grid['Area'], 5 : mask5*grid['Area'],\\\n",
    "                     6 : mask6*grid['Area'], 7: mask7*grid['Area'], 8 : mask8*grid['Area']}\n",
    "        Sd = {36 : woa.S , 18 : woa.S18 , 9 : woa.S9}\n",
    "        Td = {36 : woa.T , 18 : woa.T18 , 9 : woa.T9}\n",
    "        S = Sd[data.res]\n",
    "        T = Td[data.res]\n",
    "        region_titles = reg_titles()\n",
    "        reg_d = {}\n",
    "        for mask,reg in zip([mask0,mask1,mask2,mask3],region_titles):\n",
    "            total = (data.S-S)\n",
    "            reg_d[region_titles[reg]+'_S'] = {# 'max' : np.nanmax(total*mask) , 'min' : np.nanmin(total*mask) ,\\\n",
    "                                             'mean' : np.nanmean(total*mask), 'total': np.nanmean(abs(total*mask))}\n",
    "            total = (data.T-T)\n",
    "            reg_d[region_titles[reg]+'_T'] = { #'max' : np.nanmax(total*mask) , 'min' : np.nanmin(total*mask) ,\\\n",
    "                                              'mean' : np.nanmean(total*mask), 'total': np.nanmean(abs(total*mask))}\n",
    "        return reg_d\n",
    "    reg_mod = {}\n",
    "    for data in data_diff:\n",
    "        reg_mod[data_diff[data].title] = maxmin_areas(data_diff[data])\n",
    "    return reg_mod\n",
    "reg = total_max_min(data_diff)"
   ]
  },
  {
   "cell_type": "code",
   "execution_count": 7,
   "metadata": {
    "collapsed": true
   },
   "outputs": [],
   "source": [
    "dpires = 300"
   ]
  },
  {
   "cell_type": "code",
   "execution_count": 9,
   "metadata": {
    "collapsed": false
   },
   "outputs": [
    {
     "ename": "TypeError",
     "evalue": "'int' object has no attribute '__getitem__'",
     "output_type": "error",
     "traceback": [
      "\u001b[1;31m---------------------------------------------------------------------------\u001b[0m",
      "\u001b[1;31mTypeError\u001b[0m                                 Traceback (most recent call last)",
      "\u001b[1;32m<ipython-input-9-6144c3bf6ebe>\u001b[0m in \u001b[0;36m<module>\u001b[1;34m()\u001b[0m\n\u001b[0;32m     32\u001b[0m     \u001b[0mfig\u001b[0m\u001b[1;33m.\u001b[0m\u001b[0msubplots_adjust\u001b[0m\u001b[1;33m(\u001b[0m\u001b[0mright\u001b[0m\u001b[1;33m=\u001b[0m\u001b[1;36m2.2\u001b[0m\u001b[1;33m,\u001b[0m\u001b[0mtop\u001b[0m\u001b[1;33m=\u001b[0m\u001b[1;36m1.4\u001b[0m\u001b[1;33m)\u001b[0m\u001b[1;33m\u001b[0m\u001b[0m\n\u001b[0;32m     33\u001b[0m     \u001b[0mfig\u001b[0m\u001b[1;33m.\u001b[0m\u001b[0msavefig\u001b[0m\u001b[1;33m(\u001b[0m\u001b[1;34m'/noc/users/am8e13/Figures/models_bias'\u001b[0m\u001b[1;33m,\u001b[0m\u001b[0mdpi\u001b[0m\u001b[1;33m=\u001b[0m\u001b[0mdpires\u001b[0m\u001b[1;33m,\u001b[0m \u001b[0mbbox_inches\u001b[0m\u001b[1;33m=\u001b[0m\u001b[1;34m'tight'\u001b[0m\u001b[1;33m)\u001b[0m\u001b[1;33m\u001b[0m\u001b[0m\n\u001b[1;32m---> 34\u001b[1;33m \u001b[0mtemp_bar\u001b[0m\u001b[1;33m(\u001b[0m\u001b[1;36m0\u001b[0m\u001b[1;33m)\u001b[0m\u001b[1;33m\u001b[0m\u001b[0m\n\u001b[0m",
      "\u001b[1;32m<ipython-input-9-6144c3bf6ebe>\u001b[0m in \u001b[0;36mtemp_bar\u001b[1;34m(reg)\u001b[0m\n\u001b[0;32m     17\u001b[0m                 \u001b[1;32melse\u001b[0m\u001b[1;33m:\u001b[0m\u001b[1;33m\u001b[0m\u001b[0m\n\u001b[0;32m     18\u001b[0m                     \u001b[1;31m#menMean.append(reg[j][region+var]['mean'])\u001b[0m\u001b[1;33m\u001b[0m\u001b[1;33m\u001b[0m\u001b[0m\n\u001b[1;32m---> 19\u001b[1;33m                     \u001b[0mmenMean\u001b[0m\u001b[1;33m.\u001b[0m\u001b[0mappend\u001b[0m\u001b[1;33m(\u001b[0m\u001b[0mreg\u001b[0m\u001b[1;33m[\u001b[0m\u001b[0mj\u001b[0m\u001b[1;33m]\u001b[0m\u001b[1;33m[\u001b[0m\u001b[0mregion\u001b[0m\u001b[1;33m+\u001b[0m\u001b[0mvar\u001b[0m\u001b[1;33m]\u001b[0m\u001b[1;33m[\u001b[0m\u001b[1;34m'total'\u001b[0m\u001b[1;33m]\u001b[0m\u001b[1;33m)\u001b[0m\u001b[1;33m\u001b[0m\u001b[0m\n\u001b[0m\u001b[0;32m     20\u001b[0m                 \u001b[0mxtick\u001b[0m\u001b[1;33m.\u001b[0m\u001b[0mappend\u001b[0m\u001b[1;33m(\u001b[0m\u001b[0mj\u001b[0m\u001b[1;33m)\u001b[0m\u001b[1;33m\u001b[0m\u001b[0m\n\u001b[0;32m     21\u001b[0m                 \u001b[0mcols\u001b[0m\u001b[1;33m.\u001b[0m\u001b[0mappend\u001b[0m\u001b[1;33m(\u001b[0m\u001b[0mcolors\u001b[0m\u001b[1;33m[\u001b[0m\u001b[0mj\u001b[0m\u001b[1;33m]\u001b[0m\u001b[1;33m)\u001b[0m\u001b[1;33m\u001b[0m\u001b[0m\n",
      "\u001b[1;31mTypeError\u001b[0m: 'int' object has no attribute '__getitem__'"
     ]
    },
    {
     "data": {
      "image/png": "[encoded data removed]",
      "text/plain": [
       "<matplotlib.figure.Figure at 0x2b4cf4016190>"
      ]
     },
     "metadata": {},
     "output_type": "display_data"
    }
   ],
   "source": [
    "# the x locations for the groups\n",
    "      # the width of the bars\n",
    "def temp_bar(reg):\n",
    "    width = 0.35 \n",
    "    regions = ['Full Domain','Arctic','Nord Seas','North Atl']\n",
    "    fig, axes = plt.subplots(ncols=len(regions),nrows=2,sharex=True,sharey='row')    \n",
    "    ax_ind = 0 \n",
    "    colors = {'ERA 36km' : 'red','CORE 36km' : 'green','CORE 18km' : 'orange','CORE 9km' : 'magenta', \\\n",
    "              'MOM' : 'blue','NCAR' : 'black','GEOMAR' : 'grey','BERGEN' : 'cyan'}\n",
    "    for var in ['_T','_S']: \n",
    "        for region in regions:\n",
    "            menMean = []\n",
    "            xtick = []\n",
    "            cols = []\n",
    "            for j in ['ERA 36km','CORE 36km','CORE 18km','CORE 9km','MOM','NCAR','GEOMAR','BERGEN']:\n",
    "                if (var == '_S') & (j == 'NCAR'):\n",
    "                    menMean.append(0)\n",
    "                else:\n",
    "                    #menMean.append(reg[j][region+var]['mean'])\n",
    "                    menMean.append(reg[j][region+var]['total'])\n",
    "                xtick.append(j)\n",
    "                cols.append(colors[j])\n",
    "            N = len(menMean)\n",
    "            ind = np.arange(N)\n",
    "            rects1 = axes.flat[ax_ind].bar(ind, menMean, width = 0.25 , color=cols)\n",
    "            axes.flat[ax_ind].set_xticks(ind)\n",
    "            axes.flat[ax_ind].set_xticklabels(xtick,rotation=75)\n",
    "            axes.flat[0].set_ylabel(r'Temperature / $^{\\circ}$C',fontsize=16)\n",
    "            axes.flat[4].set_ylabel(r'Salinity / psu',fontsize=16)\n",
    "            if var == '_T':\n",
    "                axes.flat[ax_ind].set_title(region)\n",
    "            ax_ind += 1\n",
    "    fig.subplots_adjust(right=2.2,top=1.4)\n",
    "    fig.savefig('/noc/users/am8e13/Figures/models_bias',dpi=dpires, bbox_inches='tight')\n",
    "temp_bar(reg)"
   ]
  },
  {
   "cell_type": "markdown",
   "metadata": {},
   "source": [
    "# Vertical Profiles"
   ]
  },
  {
   "cell_type": "code",
   "execution_count": null,
   "metadata": {
    "collapsed": false
   },
   "outputs": [],
   "source": [
    "comp_all = {0 : woa ,1 : ERA_36, 2 : CORE_36 , 3 : CORE_18 , 4 : CORE_9_nogm}"
   ]
  },
  {
   "cell_type": "code",
   "execution_count": null,
   "metadata": {
    "collapsed": false
   },
   "outputs": [],
   "source": [
    "def vert_prof(data_comp,loc):\n",
    "    fig,axes = plt.subplots(3,3)\n",
    "    for run in data_comp:\n",
    "        mask1,mask2,mask3,mask4,mask5,mask6,mask7,mask8 = region_mask(run.res)\n",
    "        mask0 = np.ones_like(mask1)\n",
    "        grid = grid_read(run.res)\n",
    "        areamasks = {0:mask0*grid['Area'], 1 : mask1*grid['Area'], 2 : mask2*grid['Area'] ,\\\n",
    "                     3 : mask3*grid['Area'], 4 : mask4*grid['Area'], 5 : mask5*grid['Area'],\\\n",
    "                     6 : mask6*grid['Area'], 7: mask7*grid['Area'], 8 : mask8*grid['Area']}\n",
    "        for j in range(5):\n",
    "            axes.flat[j].plot(run.Z,np.nansum(np.nansum(run.S,axis=2),axis=1))\n",
    "vert_prof(comp_all,loc=1)"
   ]
  },
  {
   "cell_type": "code",
   "execution_count": null,
   "metadata": {
    "collapsed": false
   },
   "outputs": [],
   "source": [
    "# read nsidc data\n",
    "class NSIDC_read():\n",
    "    def __init__(self):\n",
    "        self.lat = []\n",
    "        self.lon = []\n",
    "        self.seaice = {'SIarea' : []}\n",
    "        self.title = 'NSIDC'\n",
    "        \n",
    "        file2read = netcdf.NetCDFFile('/scratch/general/am8e13/seaice/NSIDC_seaice.nc','r')\n",
    "        tmp = file2read.variables['lat']\n",
    "        self.lat = tmp[:]*1\n",
    "        tmp = file2read.variables['lon']\n",
    "        self.lon = tmp[:]*1        \n",
    "        tmp = file2read.variables['SIarea']\n",
    "        self.seaice['SIarea'] = tmp[:]*1\n",
    "NSIDC = NSIDC_read()"
   ]
  },
  {
   "cell_type": "code",
   "execution_count": null,
   "metadata": {
    "collapsed": false
   },
   "outputs": [],
   "source": [
    "comp_seaice = {0 : NSIDC, 1 : ERA_36, 2 : CORE_36 , 3 : CORE_36 , 4 : CORE_18 , 5 : CORE_9_nogm}\n",
    "def basemap_seaice(data_comp):\n",
    "    lat_ts=90.0\n",
    "    lat_0=90.0\n",
    "    lon_0=-45.0\n",
    "    sgn=1\n",
    "    width=7000000.\n",
    "    height=7000000.0\n",
    "    \n",
    "    ind = 0\n",
    "    fig, axes = plt.subplots(2,3)\n",
    "    for data in data_comp:\n",
    "        m = Basemap(ax=axes.flat[ind],width=width,height=height,resolution='l',\\\n",
    "                    projection='stere',lat_ts=lat_ts,lat_0=lat_0,lon_0=lon_0)\n",
    "        # the continents will be drawn on top.\n",
    "        m.drawmapboundary(fill_color='blue')\n",
    "        # fill continents, set lake color same as ocean color.\n",
    "        m.fillcontinents(color='grey',lake_color='blue')\n",
    "        x,y=m(data_comp[data].lon,data_comp[data].lat)\n",
    "        #datam = np.nanmean(data_comp[data].seaice['SIarea'][:,:,:],axis=0)\n",
    "        if data_comp[data].title == 'NSIDC':\n",
    "            datam = np.nanmean(data_comp[data].seaice['SIarea'][8::12,:,:]*100,axis=0)\n",
    "        else:\n",
    "            datam = data_comp[data].seaice['SIarea'][8,:,:]*100\n",
    "        sitm = np.ma.masked_where(np.isnan(datam),datam)\n",
    "        CS=m.pcolormesh(x,y,sitm,cmap=matplotlib.cm.Blues_r)\n",
    "        if data_comp[data].title != 'NSIDC':\n",
    "            m.contour(x,y,datam,levels=[15],colors='yellow')\n",
    "        #if data_comp[data].title != 'NSIDC':\n",
    "        x,y=m(NSIDC.lon,NSIDC.lat)\n",
    "        m.contour(x,y,np.nanmean(NSIDC.seaice['SIarea'][8::12,:,:]*100,axis=0),levels=[15],colors='red')\n",
    "        m.drawparallels(np.arange(-80.,81.,15.))\n",
    "        m.drawmeridians(np.arange(-180.,181.,30.))\n",
    "        axes.flat[ind].set_title(data_comp[data].title,fontsize=16)\n",
    "        ind += 1\n",
    "    fig.suptitle(r\"September seaice coverage\",x=1.,y=2.2,fontsize=18)\n",
    "    cbar_ax = fig.add_axes([1.9, 0.4, 0.045, 1.4])\n",
    "    cbar = plt.colorbar(CS, cax=cbar_ax,)\n",
    "    cbar.ax.set_ylabel(r'$\\%$ coverage')\n",
    "    plt.delaxes(axes.flat[3])\n",
    "    fig.subplots_adjust(right=1.7,top=2.)\n",
    "    fig.savefig('/noc/users/am8e13/Figures/basemap_seaice',dpi=dpires, bbox_inches='tight')\n",
    "basemap_seaice(comp_seaice)"
   ]
  },
  {
   "cell_type": "code",
   "execution_count": null,
   "metadata": {
    "collapsed": false
   },
   "outputs": [],
   "source": [
    "comp_mxld = {0 : mix , 1 : ERA_36, 2 : CORE_36, 3 : CORE_36, 4 : CORE_18 , 5 : CORE_9_nogm }\n",
    "def basemap_mxldepth(data_comp):\n",
    "    lat_ts=90.0\n",
    "    lat_0=90.0\n",
    "    lon_0=-45.0\n",
    "    sgn=1\n",
    "    width=7000000.\n",
    "    height=7000000.0\n",
    "    vmin = 0\n",
    "    vmax = 400\n",
    "    ind = 0\n",
    "    fig, axes = plt.subplots(2,3)\n",
    "    for data in data_comp:\n",
    "        m = Basemap(ax=axes.flat[ind],width=width,height=height,resolution='h',\\\n",
    "                    projection='stere',lat_ts=lat_ts,lat_0=lat_0,lon_0=lon_0)\n",
    "        # the continents will be drawn on top.\n",
    "        m.drawmapboundary(fill_color='blue')\n",
    "        # fill continents, set lake color same as ocean color.\n",
    "        m.fillcontinents(color='grey',lake_color='navy')\n",
    "        x,y=m(data_comp[data].lon,data_comp[data].lat)\n",
    "        datam = data_comp[data].mxldepth[2,:,:]\n",
    "        sitm = np.ma.masked_where(np.isnan(datam),datam)\n",
    "        CS=m.pcolormesh(x,y,sitm,cmap=matplotlib.cm.jet,vmin=vmin,vmax=vmax,norm=matplotlib.colors.PowerNorm(gamma=9./10.))\n",
    "        m.drawparallels(np.arange(-80.,81.,15.))\n",
    "        m.drawmeridians(np.arange(-180.,181.,30.))\n",
    "        axes.flat[ind].set_title(data_comp[data].title,fontsize=16)\n",
    "        ind += 1\n",
    "    fig.suptitle(\"Mixed layer depth\",x=1.,y=2.2,fontsize=18)\n",
    "    cbar_ax = fig.add_axes([1.9, 0.4, 0.045, 1.4])\n",
    "    cbar = plt.colorbar(CS, cax=cbar_ax,)\n",
    "    cbar.ax.set_ylabel(r'$m$')\n",
    "    plt.delaxes(axes.flat[3])\n",
    "    fig.subplots_adjust(right=1.7,top=2.)\n",
    "    fig.savefig('/noc/users/am8e13/Figures/basemap_mxldepth',dpi=dpires, bbox_inches='tight')\n",
    "basemap_mxldepth(comp_mxld)"
   ]
  },
  {
   "cell_type": "code",
   "execution_count": null,
   "metadata": {
    "collapsed": false,
    "scrolled": false
   },
   "outputs": [],
   "source": [
    "def basemap_barot(data_comp):\n",
    "    lat_ts=90.0 ; lat_0=90.0 ; lon_0=-45.0\n",
    "    sgn=1\n",
    "    width=7000000. ; height=7000000.0\n",
    "    vmin = -15 ; vmax = 15 ; ind = 0 ; cmap = cmocean.cm.freesurface\n",
    "    fig, axes = plt.subplots(2,2)\n",
    "    for data in data_comp:\n",
    "        m = Basemap(ax=axes.flat[ind],width=width,height=height,resolution='h',\\\n",
    "                    projection='stere',lat_ts=lat_ts,lat_0=lat_0,lon_0=lon_0)\n",
    "        # the continents will be drawn on top.\n",
    "        m.drawmapboundary(fill_color='white')\n",
    "        # fill continents, set lake color same as ocean color.\n",
    "        m.fillcontinents(color='grey',lake_color='white')\n",
    "        x,y=m(data_comp[data].lon,data_comp[data].lat)\n",
    "        datam = data_comp[data].psi_ave[0:len(data_comp[data].Y),0:len(data_comp[data].X)]\n",
    "        sitm = np.ma.masked_where(np.isnan(datam),datam)\n",
    "        CS=m.pcolormesh(x,y,sitm,cmap=cmap,vmin=vmin,vmax=vmax)\n",
    "        m.drawparallels(np.arange(-80.,81.,15.))\n",
    "        m.drawmeridians(np.arange(-180.,181.,30.))\n",
    "        axes.flat[ind].set_title(data_comp[data].title,fontsize=16)\n",
    "        ind += 1\n",
    "    fig.suptitle(\"Barotropic streamfunction\",x=1.,y=2.2,fontsize=18)\n",
    "    cbar_ax = fig.add_axes([1.9, 0.4, 0.045, 1.4])\n",
    "    cbar = plt.colorbar(CS, cax=cbar_ax,)\n",
    "    cbar.ax.set_ylabel(r'$Sv$')\n",
    "    fig.subplots_adjust(right=1.7,top=2.)\n",
    "    fig.savefig('/noc/users/am8e13/Figures/basemap_barostream',dpi=dpires, bbox_inches='tight')\n",
    "    \n",
    "basemap_barot(comp_diff)"
   ]
  },
  {
   "cell_type": "code",
   "execution_count": null,
   "metadata": {
    "collapsed": false
   },
   "outputs": [],
   "source": [
    "def basemap_barot(data_comp):\n",
    "    lat_ts=90.0 ; lat_0=90.0 ; lon_0=-45.0\n",
    "    sgn=1\n",
    "    width=7000000. ; height=7000000.0\n",
    "    vmin = -15 ; vmax = 15 ; ind = 0 ; cmap = cmocean.cm.freesurface\n",
    "    fig, axes = plt.subplots(2,2)\n",
    "    for data in data_comp:\n",
    "        m = Basemap(ax=axes.flat[ind],width=width,height=height,resolution='h',\\\n",
    "                    projection='stere',lat_ts=lat_ts,lat_0=lat_0,lon_0=lon_0)\n",
    "        # the continents will be drawn on top.\n",
    "        m.drawmapboundary(fill_color='white')\n",
    "        # fill continents, set lake color same as ocean color.\n",
    "        m.fillcontinents(color='grey',lake_color='white')\n",
    "        x,y=m(data_comp[data].lon,data_comp[data].lat)\n",
    "        datam = data_comp[data].psi_ave[0:len(data_comp[data].Y),0:len(data_comp[data].X)]\n",
    "        sitm = np.ma.masked_where(np.isnan(datam),datam)\n",
    "        CS = m.pcolormesh(x,y,sitm,cmap=cmap,vmin=vmin,vmax=vmax,alpha=0.2)\n",
    "        CS1 = m.contour(x,y,sitm,colors='black',levels = [-5,-2.5,0,2.5,5])\n",
    "        plt.clabel(CS1, fmt='%2.1f', colors='black', fontsize=16)\n",
    "        m.drawparallels(np.arange(-80.,81.,15.))\n",
    "        m.drawmeridians(np.arange(-180.,181.,30.))\n",
    "        axes.flat[ind].set_title(data_comp[data].title,fontsize=16)\n",
    "        ind += 1\n",
    "    fig.suptitle(\"Barotropic streamfunction\",x=1.,y=2.2,fontsize=18)\n",
    "    cbar_ax = fig.add_axes([1.9, 0.4, 0.045, 1.4])\n",
    "    cbar = plt.colorbar(CS, cax=cbar_ax,)\n",
    "    cbar.ax.set_ylabel(r'$Sv$')\n",
    "    fig.subplots_adjust(right=1.7,top=2.)\n",
    "    fig.savefig('/noc/users/am8e13/Figures/basemap_cont_barostream',dpi=dpires, bbox_inches='tight')\n",
    "    \n",
    "basemap_barot(comp_diff)"
   ]
  },
  {
   "cell_type": "code",
   "execution_count": null,
   "metadata": {
    "collapsed": false,
    "scrolled": false
   },
   "outputs": [],
   "source": [
    "def basemap_arrows(data_comp,region):\n",
    "    nzd = {'upper' : range(0,23,1), 'lower' : range(23,30,1)}\n",
    "    nztitle = {'upper' : 'at the top 200m', 'lower' : 'between 200-500m'}\n",
    "    nz = nzd[region]\n",
    "    lat_ts=90.0 ; lat_0=90.0 ; lon_0=-45.0\n",
    "    sgn=1\n",
    "    width=3000000. ; height=3000000.0\n",
    "    vmin = 0 ; vmax = 0.1 ; ind = 0 ; cmap = matplotlib.cm.jet\n",
    "    fig, axes = plt.subplots(2,2)\n",
    "    for data in data_comp:\n",
    "        m = Basemap(ax=axes.flat[ind],width=width,height=height,resolution='h',\\\n",
    "                    projection='stere',lat_ts=lat_ts,lat_0=lat_0,lon_0=lon_0)\n",
    "        # the continents will be drawn on top.\n",
    "        m.drawmapboundary(fill_color='white')\n",
    "        # fill continents, set lake color same as ocean color.\n",
    "        m.fillcontinents(color='grey',lake_color='white')\n",
    "        x,y=m(data_comp[data].lon,data_comp[data].lat)\n",
    "        datam = np.sqrt(np.nanmean(data_comp[data].U[nz,0:len(data_comp[data].Y),0:len(data_comp[data].X)],axis=0)**2 + \n",
    "                np.nanmean(data_comp[data].V[nz,0:len(data_comp[data].Y),0:len(data_comp[data].X)],axis=0)**2 )\n",
    "        sitm = np.ma.masked_where(np.isnan(datam),datam)  \n",
    "        alphad = {36 : 0.2 , 18 : 0.1 , 9 : 0.05}\n",
    "        CS=m.pcolormesh(x,y,sitm,cmap=cmap,vmin=vmin,vmax=vmax,alpha=alphad[data_comp[data].res],\n",
    "                       norm=matplotlib.colors.PowerNorm(gamma=1./3.))        \n",
    "        nx = len(data_comp[data].X)\n",
    "        ny = len(data_comp[data].Y)\n",
    "        datares = { 36 : 1 , 18 : 2 , 9 : 4}\n",
    "        nq = 2*datares[data_comp[data].res]\n",
    "        m.quiver(x[::nq,::nq],y[::nq,::nq],np.nanmean(data_comp[data].V[nz,0:ny:nq,0:nx:nq],axis=0),\\\n",
    "                 np.nanmean(data_comp[data].U[nz,0:ny:nq,0:nx:nq],axis=0),units='width')\n",
    "        m.drawparallels(np.arange(-80.,81.,15.))\n",
    "        m.drawmeridians(np.arange(-180.,181.,30.))\n",
    "        axes.flat[ind].set_title(data_comp[data].title,fontsize=16)\n",
    "        ind += 1\n",
    "    fig.suptitle(\"Velocities \"+nztitle[region],x=1.,y=2.2,fontsize=18)\n",
    "    cbar_ax = fig.add_axes([1.9, 0.4, 0.045, 1.4])\n",
    "    cbar = plt.colorbar(CS, cax=cbar_ax,)\n",
    "    cbar.ax.set_ylabel(r'$m/s$')\n",
    "    fig.subplots_adjust(right=1.7,top=2.)\n",
    "    \n",
    "basemap_arrows(comp_diff,'upper')\n",
    "basemap_arrows(comp_diff,'lower')"
   ]
  },
  {
   "cell_type": "code",
   "execution_count": null,
   "metadata": {
    "collapsed": false,
    "scrolled": false
   },
   "outputs": [],
   "source": [
    "comp_all = {0 : woa , 1 : ERA_36, 2 : CORE_36, 3 : CORE_36, 4 : CORE_18 , 5 : CORE_9_nogm }\n",
    "def basemap_temperature(data_comp,met):\n",
    "    lat_ts=90.0 ; lat_0=90.0 ; lon_0=-45.0 ;\n",
    "    sgn=1\n",
    "    width=7000000. ; height=7000000.0 ;\n",
    "    vmin = -1 ; vmax = 15 ;\n",
    "    ind = 0\n",
    "    metd = { 5 : 0 , 200 : 16 , 400 : 21 }\n",
    "    mm = metd[met]\n",
    "\n",
    "    fig, axes = plt.subplots(2,3)\n",
    "    for data in data_comp:\n",
    "        m = Basemap(ax=axes.flat[ind],width=width,height=height,resolution='h',\\\n",
    "                    projection='stere',lat_ts=lat_ts,lat_0=lat_0,lon_0=lon_0)\n",
    "        # the continents will be drawn on top.\n",
    "        m.drawmapboundary(fill_color='white')\n",
    "        # fill continents, set lake color same as ocean color.\n",
    "        m.fillcontinents(color='grey',lake_color='navy')\n",
    "        x,y=m(data_comp[data].lon,data_comp[data].lat)\n",
    "        datam = data_comp[data].T[mm,:,:]\n",
    "        sitm = np.ma.masked_where(np.isnan(datam),datam)\n",
    "\n",
    "        CS=m.pcolormesh(x,y,sitm,cmap=cmocean.cm.temp,vmin=vmin,vmax=vmax)#,ps,cmap=cm.jet,extend='max')\n",
    "        m.drawparallels(np.arange(-80.,81.,15.))#,labels=[1,0,0,0])\n",
    "        m.drawmeridians(np.arange(-180.,181.,30.))#,labels=[0,0,1,1])\n",
    "        #m.drawcoastlines()\n",
    "        axes.flat[ind].set_title(data_comp[data].title,fontsize=16)\n",
    "        ind += 1\n",
    "    fig.suptitle(\"Temperature at \"+str(met)+\"m\",x=1.,y=2.0,fontsize=18)\n",
    "    cbar_ax = fig.add_axes([1.9, 0.3, 0.045, 1.4])\n",
    "    cbar = plt.colorbar(CS, cax=cbar_ax,)\n",
    "    cbar.ax.set_ylabel(r'$^{\\circ}C$')\n",
    "    plt.delaxes(axes.flat[3])\n",
    "    fig.subplots_adjust(right=1.7,top=1.8)\n",
    "    fig.savefig('/noc/users/am8e13/Figures/basemap_temp_'+str(met),dpi=dpires, bbox_inches='tight')\n",
    "\n",
    "basemap_temperature(comp_all,5)\n",
    "basemap_temperature(comp_all,200)\n",
    "basemap_temperature(comp_all,400)"
   ]
  },
  {
   "cell_type": "code",
   "execution_count": null,
   "metadata": {
    "collapsed": false
   },
   "outputs": [],
   "source": [
    "comp_diff = {1 : ERA_36, 2 : CORE_36 , 3 : CORE_18 , 4 : CORE_9_nogm}\n",
    "def basemap_temperature_diff(data_comp,diff,met):\n",
    "    lat_ts=90.0 ; lat_0=90.0 ; lon_0=-45.0 ;\n",
    "    sgn=1\n",
    "    width=7000000. ; height=7000000.0 ;\n",
    "    vmin = -3 ; vmax = 3 ;\n",
    "    ind = 0\n",
    "    metd = { 5 : 0 , 200 : 16 , 400 : 21 }\n",
    "    mm = metd[met]\n",
    "    \n",
    "\n",
    "    fig, axes = plt.subplots(2,2)\n",
    "    for data in data_comp:\n",
    "        if data_comp[data].res == 36:\n",
    "            diffT = np.array(diff.T)\n",
    "        elif data_comp[data].res == 18:\n",
    "            diffT = np.array(diff.T18)\n",
    "        elif data_comp[data].res == 9:\n",
    "            diffT = np.array(diff.T9)\n",
    "            \n",
    "        m = Basemap(ax=axes.flat[ind],width=width,height=height,resolution='l',\\\n",
    "                    projection='stere',lat_ts=lat_ts,lat_0=lat_0,lon_0=lon_0)\n",
    "        # the continents will be drawn on top.\n",
    "        m.drawmapboundary(fill_color='white')\n",
    "        # fill continents, set lake color same as ocean color.\n",
    "        m.fillcontinents(color='grey',lake_color='white')\n",
    "        x,y=m(data_comp[data].lon,data_comp[data].lat)\n",
    "        datam = data_comp[data].T[mm,:,:] - diffT[mm,:,:]\n",
    "        sitm = np.ma.masked_where(np.isnan(datam),datam)\n",
    "\n",
    "        CS=m.pcolormesh(x,y,sitm,cmap=cmocean.cm.freesurface,vmin=vmin,vmax=vmax)#,ps,cmap=cm.jet,extend='max')\n",
    "        m.drawparallels(np.arange(-80.,81.,15.))#,labels=[1,0,0,0])\n",
    "        m.drawmeridians(np.arange(-180.,181.,30.))#,labels=[0,0,1,1])\n",
    "        #m.drawcoastlines()\n",
    "        axes.flat[ind].set_title(data_comp[data].title,fontsize=16)\n",
    "        ind += 1\n",
    "    fig.suptitle(\"Temperature bias at \"+str(met)+\"m\",x=1.,y=2.0,fontsize=18)\n",
    "    cbar_ax = fig.add_axes([1.9, 0.3, 0.045, 1.4])\n",
    "    cbar = plt.colorbar(CS, cax=cbar_ax,)\n",
    "    cbar.ax.set_ylabel(r'$^{\\circ}C$')\n",
    "    fig.subplots_adjust(right=1.7,top=1.8)\n",
    "    fig.savefig('/noc/users/am8e13/Figures/basemap_temp_'+str(met)+'_diff',dpi=dpires, bbox_inches='tight')\n",
    "\n",
    "basemap_temperature_diff(comp_diff,woa,5)\n",
    "basemap_temperature_diff(comp_diff,woa,200)\n",
    "basemap_temperature_diff(comp_diff,woa,400)"
   ]
  },
  {
   "cell_type": "code",
   "execution_count": null,
   "metadata": {
    "collapsed": false
   },
   "outputs": [],
   "source": [
    "#comp_all = {0 : woa , 1 : ERA_36, 2 : CORE_36, 3 : CORE_36, 4 : CORE_18 , 5 : CORE_9_nogm }\n",
    "comp_all = {0 : woa , 1 : ERA_36, 2 : CORE_36, 3 : CORE_36, 4 : CORE_18 , 5 : mixed_36 }\n",
    "def basemap_salinity(data_comp,met):\n",
    "    lat_ts=90.0 ; lat_0=90.0 ; lon_0=-45.0 ;\n",
    "    sgn=1\n",
    "    width=7000000. ; height=7000000.0 ;\n",
    "    vmin = 32 ; vmax = 36 ;\n",
    "    ind = 0\n",
    "    metd = { 5 : 0 , 200 : 16 , 400 : 21 }\n",
    "    mm = metd[met]\n",
    "    \n",
    "    fig, axes = plt.subplots(2,3)\n",
    "    for data in data_comp:\n",
    "        m = Basemap(ax=axes.flat[ind],width=width,height=height,resolution='h',\\\n",
    "                    projection='stere',lat_ts=lat_ts,lat_0=lat_0,lon_0=lon_0)\n",
    "        # the continents will be drawn on top.\n",
    "        m.drawmapboundary(fill_color='white')\n",
    "        # fill continents, set lake color same as ocean color.\n",
    "        m.fillcontinents(color='grey',lake_color='navy')\n",
    "        x,y=m(data_comp[data].lon,data_comp[data].lat)\n",
    "        datam = data_comp[data].S[mm,:,:]\n",
    "        sitm = np.ma.masked_where(np.isnan(datam),datam)\n",
    "        CS=m.pcolormesh(x,y,sitm,cmap=cmocean.cm.salt,vmin=vmin,vmax=vmax)\n",
    "        m.drawparallels(np.arange(-80.,81.,15.))\n",
    "        m.drawmeridians(np.arange(-180.,181.,30.))\n",
    "        #m.drawcoastlines()\n",
    "        axes.flat[ind].set_title(data_comp[data].title,fontsize=16)\n",
    "        ind += 1\n",
    "    fig.suptitle(\"Salinity at \"+str(met)+\"m\",x=1.,y=2.,fontsize=18)\n",
    "    cbar_ax = fig.add_axes([1.9, 0.3, 0.045, 1.4])\n",
    "    cbar = plt.colorbar(CS, cax=cbar_ax,)\n",
    "    cbar.ax.set_ylabel(r'$psu$')\n",
    "    plt.delaxes(axes.flat[3])\n",
    "    fig.subplots_adjust(right=1.7,top=1.8)\n",
    "    fig.savefig('/noc/users/am8e13/Figures/basemap_salt_'+str(met),dpi=dpires, bbox_inches='tight')\n",
    "\n",
    "    \n",
    "basemap_salinity(comp_all,5)\n",
    "basemap_salinity(comp_all,200)\n",
    "basemap_salinity(comp_all,400)"
   ]
  },
  {
   "cell_type": "code",
   "execution_count": null,
   "metadata": {
    "collapsed": false
   },
   "outputs": [],
   "source": [
    "def basemap_salinity_diff(data_comp,diff,met):\n",
    "    lat_ts=90.0 ; lat_0=90.0 ; lon_0=-45.0 ;\n",
    "    sgn=1\n",
    "    width=7000000. ; height=7000000.0 ;\n",
    "    vmin = -3 ; vmax = 3 ;\n",
    "    ind = 0\n",
    "    metd = { 5 : 0 , 200 : 16 , 400 : 21 }\n",
    "    mm = metd[met]\n",
    "    \n",
    "\n",
    "    fig, axes = plt.subplots(2,2)\n",
    "    for data in data_comp:\n",
    "        if data_comp[data].res == 36:\n",
    "            diffS = np.array(diff.S)\n",
    "        elif data_comp[data].res == 18:\n",
    "            diffS = np.array(diff.S18)\n",
    "        elif data_comp[data].res == 9:\n",
    "            diffS = np.array(diff.S9)\n",
    "            \n",
    "        m = Basemap(ax=axes.flat[ind],width=width,height=height,resolution='l',\\\n",
    "                    projection='stere',lat_ts=lat_ts,lat_0=lat_0,lon_0=lon_0)\n",
    "        # the continents will be drawn on top.\n",
    "        m.drawmapboundary(fill_color='white')\n",
    "        # fill continents, set lake color same as ocean color.\n",
    "        m.fillcontinents(color='grey',lake_color='white')\n",
    "        x,y=m(data_comp[data].lon,data_comp[data].lat)\n",
    "        datam = data_comp[data].S[mm,:,:] - diffS[mm,:,:]\n",
    "        sitm = np.ma.masked_where(np.isnan(datam),datam)\n",
    "\n",
    "        CS=m.pcolormesh(x,y,sitm,cmap=cmocean.cm.freesurface,vmin=vmin,vmax=vmax)#,ps,cmap=cm.jet,extend='max')\n",
    "        m.drawparallels(np.arange(-80.,81.,15.))#,labels=[1,0,0,0])\n",
    "        m.drawmeridians(np.arange(-180.,181.,30.))#,labels=[0,0,1,1])\n",
    "        #m.drawcoastlines()\n",
    "        axes.flat[ind].set_title(data_comp[data].title,fontsize=16)\n",
    "        ind += 1\n",
    "    fig.suptitle(\"Salinity bias at \"+str(met)+\"m\",x=1.,y=2.0,fontsize=18)\n",
    "    cbar_ax = fig.add_axes([1.9, 0.3, 0.045, 1.4])\n",
    "    cbar = plt.colorbar(CS, cax=cbar_ax,)\n",
    "    cbar.ax.set_ylabel(r'$^{\\circ}psu$')\n",
    "    fig.subplots_adjust(right=1.7,top=1.8)\n",
    "    fig.savefig('/noc/users/am8e13/Figures/basemap_salt_'+str(met)+'_diff',dpi=dpires, bbox_inches='tight')\n",
    "\n",
    "basemap_salinity_diff(comp_diff,woa,5)\n",
    "basemap_salinity_diff(comp_diff,woa,200)\n",
    "basemap_salinity_diff(comp_diff,woa,400)"
   ]
  },
  {
   "cell_type": "markdown",
   "metadata": {
    "collapsed": true
   },
   "source": [
    "## Monitor diagnostics\n",
    "\n",
    "In this session we use monitor diagnostic to study the model spinup"
   ]
  },
  {
   "cell_type": "code",
   "execution_count": null,
   "metadata": {
    "collapsed": false
   },
   "outputs": [],
   "source": [
    "def runningMeanFast(x, N):\n",
    "    return np.convolve(x, np.ones((N,))/N)[(N-1):]\n",
    "\n",
    "def plot_dynSt_titles():\n",
    "    titles = {'theta_mean' : 'Temperature Mean', 'theta_min' : 'Temperature Min',\\\n",
    "              'theta_max' :  'Temperature Max', 'eta_mean' : 'ETA mean', 'eta_max' : 'ETA max',\\\n",
    "              'eta_min' : 'ETA min', 'salt_mean' : 'Salinity Mean' , 'salt_max' : 'Salinity Max',\\\n",
    "              'salt_min' : 'Salinity Min' , 'sss_mean': 'SSS mean' ,'sss_max' : 'SSS max',\\\n",
    "              'sss_min' : 'SSS min', 'sst_mean' : 'SST mean', 'sst_max' : 'SST max' ,'sst_min' : 'SST min',\\\n",
    "              'vvel_mean' : 'V mean', 'vvel_max' : 'V max' , 'vvel_min' : 'V min', 'uvel_mean' : 'U mean',\\\n",
    "              'uvel_max' : 'U max', 'uvel_min' : 'U min', 'ke_mean' : 'Kinetic mean', 'ke_max' : 'Kinetic max',\\\n",
    "              'ke_vol' : 'Kinetic volume', 'seaice_area_max' : 'Seaice area max',\\\n",
    "              'seaice_area_min' : 'Seaice area min', 'seaice_area_mean' : 'Seaice area mean', \\\n",
    "              'seaice_heff_max' : 'Seaice thickness max', 'seaice_heff_min' : 'Seaicea thickness max', \\\n",
    "              'seaice_heff_mean' : 'Seaice thickness mean', 'time_seconds' : 'Time seconds' , \\\n",
    "                'time_years' : 'Time years'}\n",
    "    unity = {'theta_mean' : r'$^{\\circ}C$', 'theta_min' : r'$^{\\circ}C$', 'theta_max' :  r'$^{\\circ}C$', \\\n",
    "                 'eta_mean' : r'$m$', 'eta_max' : r'$m$', 'eta_min' : r'$m$', 'salt_mean' : r'$psu$' , \\\n",
    "                 'salt_max' : r'$psu$' , 'salt_min' : r'$psu$' , 'sss_mean': r'$psu$' , \\\n",
    "                 'sss_max' : r'$psu$', 'sss_min' : r'$psu$', 'sst_mean' : r'$^{\\circ}C$', \\\n",
    "                 'sst_max' : r'$^{\\circ}C$' , 'sst_min' : r'$^{\\circ}C$', 'vvel_mean' : r'$m/s$', \\\n",
    "                 'vvel_max' : r'$m/s$' , 'vvel_min' : r'$m/s$', 'uvel_mean' : r'$m/s$', 'uvel_max' : r'$m/s$', \\\n",
    "                 'uvel_min' : r'$m/s$', 'ke_mean' : r'$m^2/s^2$', \\\n",
    "                 'ke_max' : r'$m^2/s^2$', 'ke_vol' : r'$m^2/s^2$', 'seaice_area_max' : '%', \\\n",
    "                 'seaice_area_min' : '%', 'seaice_area_mean' : '%', \\\n",
    "                 'seaice_heff_max' :  r'$m$', 'seaice_heff_min' :  r'$m$', \\\n",
    "                 'seaice_heff_mean' :  r'$m$', 'time_seconds' : 's' , \\\n",
    "                 'time_years' : 'Years'}\n",
    "    axistick = {'theta_mean' : [0,500,-1,6], 'theta_min' : [0,500,-1,6], 'theta_max' :  [0,500,-1,6], \\\n",
    "                 'eta_mean' : r'$m$', 'eta_max' : r'$m$', 'eta_min' : r'$m$', 'salt_mean' : [0,500,34.6,35.5] , \\\n",
    "                 'salt_max' : [0,500,34.6,35.5] , 'salt_min' : [0,500,34.6,35.5] , 'sss_mean': [0,500,34.6,35.5] , \\\n",
    "                 'sss_max' : [0,500,34.6,35.5], 'sss_min' : [0,500,34.6,35.5], 'sst_mean' : [0,500,-1,6], \\\n",
    "                 'sst_max' : [0,500,-1,6] , 'sst_min' : [0,500,-1,6], 'vvel_mean' : [0,500,-0.002,0.002] , \\\n",
    "                 'vvel_max' : [0,500,-0.001,0.001] , 'vvel_min' : [0,500,-0.001,0.001] , \\\n",
    "                 'uvel_mean' : [0,500,-0.002,0.002] ,'uvel_max' : [0,500,-0.001,0.001] , \\\n",
    "                 'uvel_min' : [0,500,-0.001,0.001] , 'ke_mean' : [0,500,0,0.01], \\\n",
    "                 'ke_max' : [0,500,0,0.005], 'ke_vol' : [0,500,0,0.005], 'seaice_area_max' : '%', \\\n",
    "                 'seaice_area_min' : '%', 'seaice_area_mean' : '%', \\\n",
    "                 'seaice_heff_max' :  r'$m$', 'seaice_heff_min' :  r'$m$', \\\n",
    "                 'seaice_heff_mean' :  r'$m$', 'time_seconds' : 's' , \\\n",
    "                 'time_years' : 'Years'}\n",
    "    return titles, unity, axistick\n",
    "\n",
    "def plot_dynSt(monitor_list,var_list,reg,row=2):\n",
    "    # this function is meant to plot monitor variables   \n",
    "    titles, unity, axistick = plot_dynSt_titles()\n",
    "    col = len(var_list)/2\n",
    "    region = { 0 : 'Global' , 1 : 'Arctic' , 2 : 'Nordic Seas' , 3 : 'North Atl' }\n",
    "    \n",
    "    fig, axes = plt.subplots(row,col)\n",
    "    ax_ind = 0\n",
    "    for var in var_list:\n",
    "        for mon in monitor_list:\n",
    "            axes.flat[ax_ind].plot(monitor_list[mon].dataDyn['time_lv_years'],\\\n",
    "                                   monitor_list[mon].dataDyn[var][1:,reg,0],monitor_list[mon].color,alpha=0.2)\n",
    "            axes.flat[ax_ind].plot(monitor_list[mon].dataDyn['time_lv_years'][0:-12*3],\\\n",
    "                                   runningMeanFast(monitor_list[mon].dataDyn[var][1:,reg,0],12*3)[0:-12*3],\\\n",
    "                                   monitor_list[mon].color,label=monitor_list[mon].title)\n",
    "            axes.flat[ax_ind].set_title(titles[var]+' '+region[reg])\n",
    "            axes.flat[ax_ind].set_ylabel(unity[var])\n",
    "        ax_ind += 1\n",
    "    plt.legend(bbox_to_anchor=(-2.2+(3-col), 2.1, 2.5 + col - 3, .3), ncol=4, mode=\"expand\", borderaxespad=0.)\n",
    "    fig.subplots_adjust(right=2.4,top=2.4)\n",
    "\n",
    "def plot_dynSt_reg(monitor_list,var_list):\n",
    "    offset = {'leg' : {3 : 3.5 , 2 : 2.2} , 'top' : {3 : 2.4 , 2 : 1.8}  }\n",
    "    # this function is meant to plot monitor variables   \n",
    "    titles, unity, axistick = plot_dynSt_titles()\n",
    "    region = { 0 : 'Global' , 1 : 'Arctic' , 2 : 'Nordic Seas' , 3 : 'North Atl' }\n",
    "    col = len(region)\n",
    "    row = len(var_list)\n",
    "    fig, axes = plt.subplots(row,col,sharex=True,sharey='row')\n",
    "    ax_ind = 0\n",
    "    for var in var_list:\n",
    "        for reg in region:\n",
    "            for mon in monitor_list:\n",
    "                axes.flat[ax_ind].plot(monitor_list[mon].dataDyn['time_lv_years'],\\\n",
    "                                   monitor_list[mon].dataDyn[var][1:,reg,0],monitor_list[mon].color,alpha=0.2)\n",
    "                axes.flat[ax_ind].plot(monitor_list[mon].dataDyn['time_lv_years'][0:-12*3],\\\n",
    "                                   runningMeanFast(monitor_list[mon].dataDyn[var][1:,reg,0],12*3)[0:-12*3],\\\n",
    "                                   monitor_list[mon].color,label=monitor_list[mon].title)\n",
    "                axes.flat[ax_ind].set_title(titles[var]+' '+region[reg],fontsize=16)\n",
    "                if ax_ind % col == 0:\n",
    "                    axes.flat[ax_ind].set_ylabel(unity[var],fontsize=15)\n",
    "                if ax_ind > (col*2-1):\n",
    "                    axes.flat[ax_ind].set_xlabel('Years',fontsize=15)\n",
    "                axes.flat[ax_ind].axis(axistick[var])\n",
    "            ax_ind += 1\n",
    "    plt.setp([a.get_xticklabels() for a in axes.flat],fontsize=13)            \n",
    "    plt.setp([a.get_yticklabels() for a in axes.flat],fontsize=13)            \n",
    "    plt.setp([a.get_xticklabels() for a in axes[0, :]], visible=False)\n",
    "    plt.setp([a.get_yticklabels() for a in axes[:, 1]], visible=False)\n",
    "    plt.setp([a.get_yticklabels() for a in axes[:, 2]], visible=False)\n",
    "    plt.setp([a.get_yticklabels() for a in axes[:, 3]], visible=False)\n",
    "\n",
    "            \n",
    "    plt.legend(bbox_to_anchor=(-3.5 , offset['leg'][row], 2.8, .3), ncol=4, mode=\"expand\", borderaxespad=0.,fontsize=15)\n",
    "    fig.subplots_adjust(right=2.4,top=offset['top'][row])\n",
    "    #fig.savefig('/noc/users/am8e13/Figures/dynSt_'+str(var_list[1]),dpi=dpires, bbox_inches='tight')\n",
    "\n",
    "comp_diff = {1 : ERA_36, 2 : CORE_36 , 3 : CORE_18 , 4 : CORE_9_nogm }#, 5 : mixed_36}\n",
    "plot_dynSt_reg(comp_diff,['salt_mean','theta_mean'])\n",
    "plot_dynSt_reg(comp_diff,['uvel_mean','vvel_mean','ke_mean'])\n",
    "plot_dynSt_reg(comp_diff,['salt_mean','theta_mean','ke_mean'])"
   ]
  },
  {
   "cell_type": "code",
   "execution_count": null,
   "metadata": {
    "collapsed": true
   },
   "outputs": [],
   "source": []
  }
 ],
 "metadata": {
  "kernelspec": {
   "display_name": "Python 2",
   "language": "python",
   "name": "python2"
  },
  "language_info": {
   "codemirror_mode": {
    "name": "ipython",
    "version": 2
   },
   "file_extension": ".py",
   "mimetype": "text/x-python",
   "name": "python",
   "nbconvert_exporter": "python",
   "pygments_lexer": "ipython2",
   "version": "2.7.11"
  }
 },
 "nbformat": 4,
 "nbformat_minor": 0
}
