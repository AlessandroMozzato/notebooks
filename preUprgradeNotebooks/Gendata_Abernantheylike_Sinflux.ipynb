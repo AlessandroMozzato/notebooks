{
 "metadata": {
  "name": "Gendata_Abernantheylike_Sinflux",
  "signature": "sha256:e9f1af000974e7e1d4c4d2461d0e19410160c45922e867bdbf661067c5b6c47d"
 },
 "nbformat": 3,
 "nbformat_minor": 0,
 "worksheets": [
  {
   "cells": [
    {
     "cell_type": "heading",
     "level": 1,
     "metadata": {},
     "source": [
      "Generate model inputs"
     ]
    },
    {
     "cell_type": "heading",
     "level": 2,
     "metadata": {},
     "source": [
      "This will set up the forcing for Abernathey Style Forcing\n"
     ]
    },
    {
     "cell_type": "code",
     "collapsed": false,
     "input": [
      "from scipy.io import netcdf\n",
      "import numpy as np\n",
      "import matplotlib.pyplot as plt\n",
      "import os\n",
      "import csv\n",
      "import sys\n",
      "import math\n",
      "from pylab import *\n",
      "from IPython.display import display, Math, Latex\n",
      "#from numba import jit\n",
      "import glob"
     ],
     "language": "python",
     "metadata": {},
     "outputs": [],
     "prompt_number": 652
    },
    {
     "cell_type": "markdown",
     "metadata": {},
     "source": [
      "When writing in python it is very important to note reverse dimensions!!\n",
      "MITgcm assumes column major order (as does matlab) Python, uses row major order.\n",
      "Mosty it's fine just to write straight to binary, but to absolutely specific of the format for MITgcm the WriteFile fuction (taken from the MITgcm csv gendata.py):"
     ]
    },
    {
     "cell_type": "code",
     "collapsed": false,
     "input": [
      "# Use writeFile to write files in the correct format!\n",
      "sys.path.append('/noc/users/am8e13/Python/python_functions/')\n",
      "from Writebin import *"
     ],
     "language": "python",
     "metadata": {},
     "outputs": [],
     "prompt_number": 653
    },
    {
     "cell_type": "heading",
     "level": 2,
     "metadata": {},
     "source": [
      "Decide parameters:"
     ]
    },
    {
     "cell_type": "raw",
     "metadata": {},
     "source": [
      "Resolution \n",
      "Depth\n",
      "Domain\n",
      "Boundary Condition\n",
      "Topography\n",
      "Forcing"
     ]
    },
    {
     "cell_type": "code",
     "collapsed": false,
     "input": [
      "Topo=\"Flat\" #Please Choose ridge, slope or flat\n",
      "Wind=\"Standard\" # Sine bell 0.2N/m$^2$\n",
      "Heat=\"Arctic\" # Please Choose Abernathey or nonetQ or Arctic\n",
      "BC=\"Sponge\" # Please Choose Sponge or Diffusion\n",
      "Name=\"run_qSin\" # Give Experiment Name"
     ],
     "language": "python",
     "metadata": {},
     "outputs": [],
     "prompt_number": 654
    },
    {
     "cell_type": "code",
     "collapsed": false,
     "input": [
      "# Adjust accordingly\n",
      "Res=25000\n",
      "Ly=2000e3\n",
      "Lx=1000e3 #Full domain = 4000km otherwise 1000km\n",
      "H=2985 # Diffusion = 3800m, Sponge = 2985m\n",
      "nz=30 # Diffusion = 24 level, Sponge= 30 levels"
     ],
     "language": "python",
     "metadata": {},
     "outputs": [],
     "prompt_number": 655
    },
    {
     "cell_type": "code",
     "collapsed": false,
     "input": [
      "x=\"/noc/users/am8e13/MITgcm/mysimulations/Abernanthey/\"+Name+\"/\" \n",
      "os.chdir(x)"
     ],
     "language": "python",
     "metadata": {},
     "outputs": [],
     "prompt_number": 656
    },
    {
     "cell_type": "heading",
     "level": 2,
     "metadata": {},
     "source": [
      "Set up grid:"
     ]
    },
    {
     "cell_type": "code",
     "collapsed": false,
     "input": [
      "#Dimensions\n",
      "nx=np.round(Lx/Res)\n",
      "ny=np.round(Ly/Res)\n",
      "dx=np.ones(nx)*Res\n",
      "dy=np.ones(ny)*Res\n",
      "#Write binary output\n",
      "writeFile('delY',dy)\n",
      "writeFile('delX',dx)\n",
      "# Create c-grid with grid points in dead center\n",
      "x=(np.cumsum(dx)-dx/2)-Lx/2\n",
      "y=(np.cumsum(dy)-dy/2)-Ly/2\n",
      "[Y, X]=np.meshgrid(y,x) "
     ],
     "language": "python",
     "metadata": {},
     "outputs": [],
     "prompt_number": 657
    },
    {
     "cell_type": "heading",
     "level": 2,
     "metadata": {},
     "source": [
      "Now Create topography:"
     ]
    },
    {
     "cell_type": "markdown",
     "metadata": {},
     "source": [
      "Start with flat, then add slope and ridges"
     ]
    },
    {
     "cell_type": "code",
     "collapsed": false,
     "input": [
      "h= -H*np.ones((nx,ny)) # Flat bottom\n",
      "if Topo==\"ridge\":#2500 and 2000 for full depth\n",
      "         h= h+(1500 + 300*np.sin(10*pi*Y/Ly) + 400*np.sin(8*pi*Y/Ly)+ 300*sin(25*pi*Y/Ly) )*(1/np.cosh(((X)-0.2*Y+3e5)/1.2e5))\n",
      "         h= h+((1000 + 600*np.sin(11*pi*Y/Ly) + 300*np.sin(7*pi*Y/Ly)+ 500*sin(21*pi*Y/Ly) )*(1/np.cosh(((X)+0.1*Y+1.5e6)/1.2e5)))\n",
      "if Topo==\"slope\" or Topo==\"ridge\":\n",
      "    for i in range(int(nx)):\n",
      "      slope= np.transpose(H*(np.divide((Y[i,0:round(0.2*ny)]-Y[i,0]),(Y[i,0]-Y[i,round(0.2*ny)]))))\n",
      "      h2=h[:,0:round(0.2*ny)]\n",
      "      h[:,0:round(0.2*ny)]=np.maximum(slope,h2)\n",
      "# Close both ends\n",
      "h[:,ny-1]=0\n",
      "h[nx-1,:]=0\n",
      "# Write to binary\n",
      "writeFile('topog',np.transpose(h))"
     ],
     "language": "python",
     "metadata": {},
     "outputs": [],
     "prompt_number": 658
    },
    {
     "cell_type": "code",
     "collapsed": false,
     "input": [
      "if Topo==\"Flat\" or Topo==\"slope\":\n",
      "    plt.plot(y/1000,h[nx/2,:])\n",
      "    plt.title('Topography')\n",
      "    plt.ylabel('Depth (m)')\n",
      "    plt.xlabel('Y (km)')\n",
      "if Topo=='ridge':\n",
      "    plt.contourf(x/1000,y/1000,np.transpose(h),30)\n",
      "    cb=plt.colorbar()\n",
      "    plt.title('Topography')\n",
      "    plt.ylabel('Y (km)')\n",
      "    plt.xlabel('X (km)')\n",
      "    cb.set_label('Depth (m)')\n",
      "    "
     ],
     "language": "python",
     "metadata": {},
     "outputs": [
      {
       "output_type": "display_data",
       "png": "[encoded data removed]"
      }
     ],
     "prompt_number": 659
    },
    {
     "cell_type": "heading",
     "level": 2,
     "metadata": {},
     "source": [
      "Surface Heat Forcing"
     ]
    },
    {
     "cell_type": "markdown",
     "metadata": {},
     "source": [
      "Now for the surface heat forcing:\n",
      "Must have bouyancy gain in the south and bouyancy loss over maximum wind sress to allow overturning\n",
      "\n",
      "\n",
      "$Q=-Q_{0}\\,cos(\\frac{3\\pi y}{Ly})\\quad \\quad \\quad \\quad y \\le \\frac{5Ly}{6}$"
     ]
    },
    {
     "cell_type": "code",
     "collapsed": false,
     "input": [
      "#MITgcm opposite way round\n",
      "Q=10*(np.sin(Y*(3*pi/Ly)+pi))\n",
      "Q[:,0:(np.round(ny/6))]=0\n",
      "#for i in range(0,int(ny/2)):\n",
      "#    Qtemp=Q[:,i];\n",
      "#    Q[:,i]=Q[:,ny-1-i]\n",
      "#    Q[:,ny-1-i]=Qtemp\n",
      "if Heat==\"nonetQ\":\n",
      "   Q=np.zeros(np.shape(Q))\n",
      "   for j in range(0,int(ny/10)):\n",
      "       Q[:,j]=-10*(np.sin(Y[:,j]*(5*pi/(Ly))))\n",
      "   for j in range(int(ny/10),int((3*ny/6))):\n",
      "       Q[:,j]=10*(np.sin(Y[:,j]*(3*pi/(6*Ly))))\n",
      "   for j in range(int(3*ny/6),int(25*ny/36)):\n",
      "       Q[:,j]=10*(np.sin(Y[:,j]*(5*pi/(Ly))))\n",
      "       Q[:,ny-(np.round(ny/6)):ny]=0\n",
      "elif Heat==\"Arctic\":\n",
      "   #Q=np.zeros(np.shape(Q)\n",
      "   Q=10*(np.sin(Y*(pi/Ly)+pi))\n",
      "else :\n",
      "  Q=10*(np.sin(Y*(3*pi/Ly)+pi))\n",
      "  Q[:,0:(np.round(ny/6))]=0\n",
      "    #Q=Q+(-sum(Q)/(ny*nx)\n",
      "# Write to binary\n",
      "writeFile('Qsurface',np.transpose(Q))\n",
      "# netcdf check\n",
      "f=netcdf.netcdf_file('Qsurface.nc','w')\n",
      "f.createDimension('X',nx)\n",
      "f.createDimension('Y',ny)\n",
      "Q2=f.createVariable('Q','float',('X','Y'))\n",
      "Q2[:]=Q\n",
      "f.close()"
     ],
     "language": "python",
     "metadata": {},
     "outputs": [],
     "prompt_number": 660
    },
    {
     "cell_type": "code",
     "collapsed": false,
     "input": [
      "sum(Q)"
     ],
     "language": "python",
     "metadata": {},
     "outputs": [
      {
       "output_type": "pyout",
       "prompt_number": 661,
       "text": [
        "2.2897239659869228e-12"
       ]
      }
     ],
     "prompt_number": 661
    },
    {
     "cell_type": "code",
     "collapsed": false,
     "input": [
      "plt.plot(y/1000,Q[10,:])\n",
      "plt.title('Surface Heat Flux $W/m^2$')\n",
      "plt.ylabel('Heat Flux ($W/m^2$)')\n",
      "plt.xlabel('Meridional Distance (m)')"
     ],
     "language": "python",
     "metadata": {},
     "outputs": [
      {
       "output_type": "pyout",
       "prompt_number": 662,
       "text": [
        "<matplotlib.text.Text at 0x2aef1deb8390>"
       ]
      },
      {
       "output_type": "display_data",
       "png": "[encoded data removed]"
      }
     ],
     "prompt_number": 662
    },
    {
     "cell_type": "heading",
     "level": 2,
     "metadata": {},
     "source": [
      "Windstress"
     ]
    },
    {
     "cell_type": "markdown",
     "metadata": {},
     "source": [
      "Plus the Windress with $\\tau_o$ set to $0.2Nm^-2$\n",
      "\n",
      "$\\tau_s(y)=\\tau_0 sin(\\frac{\\pi y}{Ly})$"
     ]
    },
    {
     "cell_type": "code",
     "collapsed": false,
     "input": [
      "tau=0.2*((np.sin((Y+Ly/2)*(pi/Ly)))) #Y is centred at 0 so put that back!\n",
      "if BC=='Diffusion':\n",
      "    Taunew = tau + 1e-3 * (np.random.random((nx,ny)) - 0.5)\n",
      "    tau=Taunew\n",
      "# Write to binary\n",
      "writeFile('Wind',np.transpose(tau))\n",
      "# netcdf check\n",
      "f=netcdf.netcdf_file('Wind.nc','w')\n",
      "f.createDimension('Xp1',nx+1)\n",
      "f.createDimension('Y',ny)\n",
      "tau3=np.zeros((ny,nx+1))\n",
      "tau3[:,1:]=np.transpose(tau)\n",
      "tau2=f.createVariable('tau','double',('Xp1','Y'))\n",
      "tau2[:]=np.transpose(tau3)\n",
      "f.close()"
     ],
     "language": "python",
     "metadata": {},
     "outputs": [],
     "prompt_number": 663
    },
    {
     "cell_type": "code",
     "collapsed": false,
     "input": [
      "plt.plot(y/1000,tau[10,:])\n",
      "plt.title('Surface Wind Stress $N/m^2$')\n",
      "plt.ylabel('$\\tau$ ($N/m^2$)')\n",
      "plt.xlabel('Meridional Distance (m)')"
     ],
     "language": "python",
     "metadata": {},
     "outputs": [
      {
       "output_type": "pyout",
       "prompt_number": 664,
       "text": [
        "<matplotlib.text.Text at 0x2aef1d7ff3d0>"
       ]
      },
      {
       "output_type": "display_data",
       "png": "[encoded data removed]"
      }
     ],
     "prompt_number": 664
    },
    {
     "cell_type": "heading",
     "level": 2,
     "metadata": {},
     "source": [
      "Generate Sponge"
     ]
    },
    {
     "cell_type": "raw",
     "metadata": {},
     "source": [
      "Now creat a Sponge mask and a reference profile to relax to:"
     ]
    },
    {
     "cell_type": "code",
     "collapsed": false,
     "input": [
      "#Parameters\n",
      "N=1e3 # Natural stratification\n",
      "deltaT=8\n",
      "Tref=np.zeros(nz)\n",
      "#Create depth array:\n",
      "a=5,22.5,60\n",
      "b=np.linspace(135,2535,25)\n",
      "c=2685,2885\n",
      "z=np.concatenate([a,b,c])"
     ],
     "language": "python",
     "metadata": {},
     "outputs": [],
     "prompt_number": 665
    },
    {
     "cell_type": "markdown",
     "metadata": {},
     "source": [
      "\\begin{equation} T^*(z)=\\Delta T\\frac{(e^{z/h}-e^{-H/h})}{1-e^{-H/h}} \\end{equation}"
     ]
    },
    {
     "cell_type": "code",
     "collapsed": false,
     "input": [
      "Tref = deltaT*(exp(-z/N)-exp(-H/N))/(1-exp(-H/N))"
     ],
     "language": "python",
     "metadata": {},
     "outputs": [],
     "prompt_number": 666
    },
    {
     "cell_type": "code",
     "collapsed": false,
     "input": [
      "plt.plot(Tref,z)\n",
      "plt.gca().invert_yaxis()\n",
      "plt.title('Temperature Profile')\n",
      "plt.ylabel('Depth (m)')\n",
      "plt.xlabel('Temperature $^oC$')"
     ],
     "language": "python",
     "metadata": {},
     "outputs": [
      {
       "output_type": "pyout",
       "prompt_number": 667,
       "text": [
        "<matplotlib.text.Text at 0x2aef1dec42d0>"
       ]
      },
      {
       "output_type": "display_data",
       "png": "[encoded data removed]"
      }
     ],
     "prompt_number": 667
    },
    {
     "cell_type": "code",
     "collapsed": false,
     "input": [
      "#Make a 3D array of it\n",
      "T=np.ones((nz,ny,nx))\n",
      "Temp_field=np.zeros(np.shape(T))\n",
      "for i in range(int(nx)):\n",
      "    for j in range(int(ny)):\n",
      "        Temp_field[:,j,i]=np.multiply(Tref,T[:,j,i])"
     ],
     "language": "python",
     "metadata": {},
     "outputs": [],
     "prompt_number": 668
    },
    {
     "cell_type": "code",
     "collapsed": false,
     "input": [
      "Tnew = transpose(tile(Temp_field.mean(axis=2),(nx,1,1)),[1,2,0])\n",
      "Tnew[:,-1] = Tnew[:,-2]\n",
      "#Maybe add more \n",
      "if BC=='Diffusion':\n",
      "    Tnew = Tnew + 1e-3 * (np.random.random((nz,ny,nx)) - 0.5)\n",
      "else:\n",
      "    Tnew = Tnew + 1e-3 * (np.random.random((nz,ny,nx)) - 0.5)"
     ],
     "language": "python",
     "metadata": {},
     "outputs": [],
     "prompt_number": 669
    },
    {
     "cell_type": "code",
     "collapsed": false,
     "input": [
      "# Write to binary\n",
      "writeFile('T_Sponge',Temp_field)\n",
      "writeFile('T.init',Tnew)\n",
      "# netcdf check\n",
      "f=netcdf.netcdf_file('TSponge.nc','w')\n",
      "f.createDimension('X',nx)\n",
      "f.createDimension('Y',ny)\n",
      "f.createDimension('Z',nz)\n",
      "Temp=f.createVariable('Temp','double',('Z','Y','X'))\n",
      "Temp[:]=Temp_field\n",
      "f.close()"
     ],
     "language": "python",
     "metadata": {},
     "outputs": [],
     "prompt_number": 670
    },
    {
     "cell_type": "code",
     "collapsed": false,
     "input": [
      "#Make 3D mask\n",
      "#Must vary between 0 (no Relaxation) and 1 (full relaxtion)\n",
      "#I have gone for a parabolic decay in x and linear decay in z (from playing around)\n",
      "msk=np.zeros(np.shape(T))\n",
      "for k in range(0,len(z)):\n",
      "    for i in range(len(x)):  \n",
      "               msk[k,0:10,i]=-((np.divide((Y[i,0:10]-Y[i,10]),(Y[i,10]-Y[i,0]))))#*(z[k]/H) \n",
      "# Write to binary\n",
      "writeFile('T.msk',msk)\n",
      "# netcdf check\n",
      "f=netcdf.netcdf_file('Mask.nc','w')\n",
      "f.createDimension('X',nx)\n",
      "f.createDimension('Y',ny)\n",
      "f.createDimension('Z',nz)\n",
      "Mask=f.createVariable('Mask','double',('Z','Y','X'))\n",
      "Mask[:]=(msk)\n",
      "f.close()"
     ],
     "language": "python",
     "metadata": {},
     "outputs": [],
     "prompt_number": 671
    },
    {
     "cell_type": "code",
     "collapsed": false,
     "input": [
      "plt.contourf(y/1000,z,msk[:,:,20],24,cm=cm.Spectral)\n",
      "cbar = plt.colorbar()\n",
      "plt.gca().invert_yaxis()\n",
      "plt.title('Mask Matrix')\n",
      "plt.ylabel('Depth (m)')\n",
      "plt.xlabel('Meridional Distance (km)')"
     ],
     "language": "python",
     "metadata": {},
     "outputs": [
      {
       "output_type": "pyout",
       "prompt_number": 672,
       "text": [
        "<matplotlib.text.Text at 0x2aef1debb310>"
       ]
      },
      {
       "output_type": "display_data",
       "png": "[encoded data removed]"
      }
     ],
     "prompt_number": 672
    },
    {
     "cell_type": "code",
     "collapsed": false,
     "input": [],
     "language": "python",
     "metadata": {},
     "outputs": []
    },
    {
     "cell_type": "code",
     "collapsed": false,
     "input": [],
     "language": "python",
     "metadata": {},
     "outputs": []
    }
   ],
   "metadata": {}
  }
 ]
}