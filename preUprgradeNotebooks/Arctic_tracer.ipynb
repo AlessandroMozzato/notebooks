{
 "metadata": {
  "name": "",
  "signature": "sha256:b9f8d94c670f8c70d5658c94bbb2ec84cc848fe292bef2398e7041144f08b8a0"
 },
 "nbformat": 3,
 "nbformat_minor": 0,
 "worksheets": [
  {
   "cells": [
    {
     "cell_type": "code",
     "collapsed": false,
     "input": [
      "from scipy.io import netcdf\n",
      "import numpy as np\n",
      "from pylab import clf, plot, show, floor, ceil, imshow\n",
      "import matplotlib.pyplot as plt \n",
      "#xlabel, ylabel, legend, savefig, colorbar, title, clim, pcolor, cm, contourf\n",
      "import os\n",
      "import csv\n",
      "import sys\n",
      "import glob\n",
      "from IPython.display import display, Math, Latex\n",
      "#sys.path.append('/noc/users/am8e13/Python/python_functions/')\n",
      "#from Variable_button import *"
     ],
     "language": "python",
     "metadata": {},
     "outputs": [],
     "prompt_number": 1
    },
    {
     "cell_type": "code",
     "collapsed": false,
     "input": [
      "Comp=\"/scratch/general/am8e13/\"\n",
      "#os.chdir(\"/scratch/general/am8e13/cs_36km_tutorial/run/tracer_test_0001/\")\n",
      "os.chdir(\"/scratch/general/am8e13/\")\n",
      "#OP=\"run_gmredi_long/mnc_test_0001/\"\n",
      "#Years=\"0-20\"\n",
      "#x=\"/noc/users/am8e13/MITgcm/\"+Comp+\"/\"+OP\n",
      "#lists=glob.glob(x+'*.nc')\n",
      "#os.chdir(x)"
     ],
     "language": "python",
     "metadata": {},
     "outputs": [],
     "prompt_number": 2
    },
    {
     "cell_type": "code",
     "collapsed": false,
     "input": [
      "x=\"/scratch/general/am8e13/cs_36km_tutorial/run/tracer_test_0004/\"\n",
      "os.chdir(x)\n",
      "file2read = netcdf.NetCDFFile(\"ptracers.0000000000.t001.nc\",'r')\n",
      "Y=file2read.variables['Y']\n",
      "Y=Y[:]\n",
      "tr1=file2read.variables['tr1']\n",
      "tr1=tr1[:]\n",
      "Z=file2read.variables['Z']\n",
      "Z=Z[:]\n",
      "X=file2read.variables['X']\n",
      "X=X[:]\n",
      "I=file2read.variables['iter']\n",
      "I=I[:]\n",
      "days=file2read.variables['T']\n",
      "days=days[:]\n",
      "file2read = netcdf.NetCDFFile(\"state.0000000000.t001.nc\",'r')\n",
      "Temp=file2read.variables['Temp']\n",
      "Temp=Temp[:]\n",
      "file2read = netcdf.NetCDFFile(\"grid.t001.nc\",'r')\n",
      "Depth=file2read.variables['Depth']\n",
      "Depth=Depth[:]\n",
      "bathy=file2read.variables['HFacC']\n",
      "bathy=bathy[:]\n",
      "\n",
      "tr1.shape"
     ],
     "language": "python",
     "metadata": {},
     "outputs": [
      {
       "ename": "OSError",
       "evalue": "[Errno 2] No such file or directory: '/scratch/general/am8e13/cs_36km_tutorial/run/tracer_test_0004/'",
       "output_type": "pyerr",
       "traceback": [
        "\u001b[1;31m---------------------------------------------------------------------------\u001b[0m\n\u001b[1;31mOSError\u001b[0m                                   Traceback (most recent call last)",
        "\u001b[1;32m<ipython-input-3-bb90fcb71970>\u001b[0m in \u001b[0;36m<module>\u001b[1;34m()\u001b[0m\n\u001b[0;32m      1\u001b[0m \u001b[0mx\u001b[0m\u001b[1;33m=\u001b[0m\u001b[1;34m\"/scratch/general/am8e13/cs_36km_tutorial/run/tracer_test_0004/\"\u001b[0m\u001b[1;33m\u001b[0m\u001b[0m\n\u001b[1;32m----> 2\u001b[1;33m \u001b[0mos\u001b[0m\u001b[1;33m.\u001b[0m\u001b[0mchdir\u001b[0m\u001b[1;33m(\u001b[0m\u001b[0mx\u001b[0m\u001b[1;33m)\u001b[0m\u001b[1;33m\u001b[0m\u001b[0m\n\u001b[0m\u001b[0;32m      3\u001b[0m \u001b[0mfile2read\u001b[0m \u001b[1;33m=\u001b[0m \u001b[0mnetcdf\u001b[0m\u001b[1;33m.\u001b[0m\u001b[0mNetCDFFile\u001b[0m\u001b[1;33m(\u001b[0m\u001b[1;34m\"ptracers.0000000000.t001.nc\"\u001b[0m\u001b[1;33m,\u001b[0m\u001b[1;34m'r'\u001b[0m\u001b[1;33m)\u001b[0m\u001b[1;33m\u001b[0m\u001b[0m\n\u001b[0;32m      4\u001b[0m \u001b[0mY\u001b[0m\u001b[1;33m=\u001b[0m\u001b[0mfile2read\u001b[0m\u001b[1;33m.\u001b[0m\u001b[0mvariables\u001b[0m\u001b[1;33m[\u001b[0m\u001b[1;34m'Y'\u001b[0m\u001b[1;33m]\u001b[0m\u001b[1;33m\u001b[0m\u001b[0m\n\u001b[0;32m      5\u001b[0m \u001b[0mY\u001b[0m\u001b[1;33m=\u001b[0m\u001b[0mY\u001b[0m\u001b[1;33m[\u001b[0m\u001b[1;33m:\u001b[0m\u001b[1;33m]\u001b[0m\u001b[1;33m\u001b[0m\u001b[0m\n",
        "\u001b[1;31mOSError\u001b[0m: [Errno 2] No such file or directory: '/scratch/general/am8e13/cs_36km_tutorial/run/tracer_test_0004/'"
       ]
      }
     ],
     "prompt_number": 3
    },
    {
     "cell_type": "code",
     "collapsed": false,
     "input": [
      "dx=36000\n",
      "t = 60*60*24 #seconds in a day"
     ],
     "language": "python",
     "metadata": {},
     "outputs": []
    },
    {
     "cell_type": "code",
     "collapsed": false,
     "input": [
      "#average zonally\n",
      "\n",
      "#average temporally\n",
      "Temp_top = np.mean(Temp[:,:,:,:],axis = 1)\n",
      "Temp_zon = np.sum(Temp,axis = 3)\n",
      "Temp_mer = np.sum(Temp,axis = 2)\n",
      "tr1_top = np.sum(tr1[:,:,:,:],axis = 1)\n",
      "tr1_zon = np.sum(tr1,axis = 3)\n",
      "tr1_mer = np.sum(tr1,axis = 2)"
     ],
     "language": "python",
     "metadata": {},
     "outputs": []
    },
    {
     "cell_type": "code",
     "collapsed": false,
     "input": [
      "# plot for the initial tracer condition\n",
      "#fig = plt.figure(figsize=(30.841, 70.195), dpi=100)\n",
      "fig, axes = plt.subplots(nrows=1, ncols=3)\n",
      "fig1 = plt.subplot(1,3,1)\n",
      "fig1.contourf(X,Y,np.mean(tr1[0,:,:,:],axis = 0) + bathy[1,:,:],100)\n",
      "fig1.set_title(\"Depth Average\")\n",
      "fig2 = plt.subplot(1,3,2)\n",
      "fig2.contourf(X,Z,np.mean(tr1[0,:,:,:],axis = 1) + bathy[:,75,:],100)\n",
      "fig2.set_title(\"Meridional Average\")\n",
      "fig3 = plt.subplot(1,3,3)\n",
      "fig3.contourf(Y,Z,np.mean(tr1[0,:,:,:],axis = 2) + bathy[:,:,37],100)\n",
      "fig3.set_title(\"Zonal Average\")\n",
      "    \n",
      "fig.subplots_adjust(right=1.6,top=0.7)\n",
      "#cbar_ax = fig.add_axes([3.7, 0.35, 0.05, 0.7])\n",
      "#fig.colorbar(im, cax=cbar_ax)\n",
      "x=\"/noc/users/am8e13/Figures\"\n",
      "os.chdir(x)\n",
      "plt.savefig('tracer_position.eps', bbox_inches='tight', dpi=100)\n",
      "#plt.show()"
     ],
     "language": "python",
     "metadata": {},
     "outputs": []
    },
    {
     "cell_type": "code",
     "collapsed": false,
     "input": [
      "#fig = plt.figure(figsize=(30.841, 70.195), dpi=100)\n",
      "fig, axes = plt.subplots(nrows=2, ncols=3)\n",
      "i=0\n",
      "for ax in axes.flat:\n",
      "    i=i+1\n",
      "    im = ax.contourf(X,Y,tr1_top[i*2,:,:] + bathy[1,:,:]*20,100)\n",
      "    ax.set_title(\"\"+str(days[(i*2)]/t)+\"days\")\n",
      "\n",
      "fig.subplots_adjust(right=1.6,top=1.5)\n",
      "cbar_ax = fig.add_axes([1.7, 0.35, 0.05, 0.7])\n",
      "fig.colorbar(im, cax=cbar_ax)\n",
      "#topog_ax = fig.add_axes([1.9, 0.35, 0.5, 0.7])\n",
      "#im = topog_ax.contourf(X,Y,bathy[1,:,:],10)\n",
      "x=\"/noc/users/am8e13/Figures\"\n",
      "os.chdir(x)\n",
      "plt.savefig('tracer_top.eps', bbox_inches='tight', dpi=100)\n",
      "#plt.show()"
     ],
     "language": "python",
     "metadata": {},
     "outputs": []
    },
    {
     "cell_type": "code",
     "collapsed": false,
     "input": [
      "#fig = plt.figure(figsize=(30.841, 70.195), dpi=100)\n",
      "fig, axes = plt.subplots(nrows=2, ncols=3)\n",
      "i=0\n",
      "for ax in axes.flat:\n",
      "    i=i+1\n",
      "    im = ax.contourf(X,Z,tr1_mer[i*2,:,:] + bathy[:,75,:]*80,100)\n",
      "    ax.set_title(\"\"+str(days[(i*2)]/t)+\"days\")\n",
      "\n",
      "fig.subplots_adjust(right=1.6,top=1.5)\n",
      "cbar_ax = fig.add_axes([1.7, 0.35, 0.05, 0.7])\n",
      "fig.colorbar(im, cax=cbar_ax)\n",
      "#topog_ax = fig.add_axes([1.9, 0.35, 0.5, 0.7])\n",
      "#im = topog_ax.contourf(X,Y,bathy[1,:,:],10)\n",
      "x=\"/noc/users/am8e13/Figures\"\n",
      "os.chdir(x)\n",
      "plt.savefig('tracer_mer.eps', bbox_inches='tight', dpi=100)\n",
      "#plt.show()"
     ],
     "language": "python",
     "metadata": {},
     "outputs": []
    },
    {
     "cell_type": "code",
     "collapsed": false,
     "input": [
      "#fig = plt.figure(figsize=(30.841, 70.195), dpi=100)\n",
      "fig, axes = plt.subplots(nrows=2, ncols=3)\n",
      "i=0\n",
      "for ax in axes.flat:\n",
      "    i=i+1\n",
      "    im = ax.contourf(Y,Z,tr1_zon[i*2,:,:] + bathy[:,:,37]*80,100)\n",
      "    ax.set_title(\"\"+str(days[(i*2)]/t)+\"days\")\n",
      "\n",
      "fig.subplots_adjust(right=1.6,top=1.5)\n",
      "cbar_ax = fig.add_axes([1.7, 0.35, 0.05, 0.7])\n",
      "fig.colorbar(im, cax=cbar_ax)\n",
      "#topog_ax = fig.add_axes([1.9, 0.35, 0.5, 0.7])\n",
      "#im = topog_ax.contourf(X,Y,bathy[1,:,:],10)\n",
      "x=\"/noc/users/am8e13/Figures\"\n",
      "os.chdir(x)\n",
      "plt.savefig('tracer_zon.eps', bbox_inches='tight', dpi=100)\n",
      "#plt.show()"
     ],
     "language": "python",
     "metadata": {},
     "outputs": []
    },
    {
     "cell_type": "code",
     "collapsed": false,
     "input": [
      "#plt.contourf(y,Zp,Psi,50,cmap=cm.seismic) #Use b2r colourmap                                       \n",
      "#clim(-(np.nanmax(Psi)),np.nanmax(Psi)) # Put 0 to white \n",
      "\n",
      "for i in range(1,9):\n",
      "        subplot(1,8,i)\n",
      "        contourf(X,Y,Temp_top[(i-1)*7,:,:],100) #Use b2r colourmap\n",
      "        title(\"\"+str(days[(i-1)*7]/t)+\"days\")\n",
      "        subplots_adjust(right=5)\n",
      "        colorbar()\n",
      "\n",
      "#x=\"/noc/users/am8e13/MITgcm/\"+Comp+\"/Figures\"\n",
      "#os.chdir(x)\n",
      "\n",
      "#fig = gcf()\n",
      "#fig.set_size_inches(7.5,3.5)\n",
      "#plt.savefig(\"top_temp_\"+OP+\".png\",dpi=100)"
     ],
     "language": "python",
     "metadata": {},
     "outputs": []
    },
    {
     "cell_type": "code",
     "collapsed": false,
     "input": [
      "#plt.contourf(y,Zp,Psi,50,cmap=cm.seismic) #Use b2r colourmap                                       \n",
      "#clim(-(np.nanmax(Psi)),np.nanmax(Psi)) # Put 0 to white \n",
      "\n",
      "for i in range(1,9):\n",
      "        subplot(1,8,i)\n",
      "        contourf(X,Z,Temp_mer[(i-1)*7,:,:],100) #Use b2r colourmap\n",
      "        title(\"\"+str(days[(i-1)*7]/t)+\"days\")\n",
      "        subplots_adjust(right=5)\n",
      "        colorbar()\n",
      "\n",
      "#x=\"/noc/users/am8e13/MITgcm/\"+Comp+\"/Figures\"\n",
      "#os.chdir(x)\n",
      "\n",
      "#fig = gcf()\n",
      "#fig.set_size_inches(7.5,3.5)\n",
      "#plt.savefig(\"top_temp_\"+OP+\".png\",dpi=100)"
     ],
     "language": "python",
     "metadata": {},
     "outputs": []
    },
    {
     "cell_type": "code",
     "collapsed": false,
     "input": [
      "#plt.contourf(y,Zp,Psi,50,cmap=cm.seismic) #Use b2r colourmap                                       \n",
      "#clim(-(np.nanmax(Psi)),np.nanmax(Psi)) # Put 0 to white \n",
      "\n",
      "for i in range(1,9):\n",
      "        subplot(1,8,i)\n",
      "        contourf(Y,Z,Temp_zon[(i-1)*7,:,:],100) #Use b2r colourmap\n",
      "        title(\"\"+str(days[(i-1)*7]/t)+\"days\")\n",
      "        subplots_adjust(right=5)\n",
      "        colorbar()\n",
      "\n",
      "#x=\"/noc/users/am8e13/MITgcm/\"+Comp+\"/Figures\"\n",
      "#os.chdir(x)\n",
      "\n",
      "#fig = gcf()\n",
      "#fig.set_size_inches(7.5,3.5)\n",
      "#plt.savefig(\"top_temp_\"+OP+\".png\",dpi=100)"
     ],
     "language": "python",
     "metadata": {},
     "outputs": []
    },
    {
     "cell_type": "code",
     "collapsed": false,
     "input": [],
     "language": "python",
     "metadata": {},
     "outputs": []
    }
   ],
   "metadata": {}
  }
 ]
}