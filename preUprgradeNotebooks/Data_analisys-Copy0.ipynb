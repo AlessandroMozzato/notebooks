{
 "metadata": {
  "name": "",
  "signature": "sha256:20621e354cd5dc5af1a7dd5cfc8986455be9f6963bf77b9ff7de0c806a0255cd"
 },
 "nbformat": 3,
 "nbformat_minor": 0,
 "worksheets": [
  {
   "cells": [
    {
     "cell_type": "code",
     "collapsed": false,
     "input": [
      "#! /usr/bin/env python                                                                  \n",
      "#This script takes two arguments:                                                        \n",
      "#                                1) The computer Nautilus, Iridis4 or Mobylus                        \n",
      "#                                2) The folder name in the msm file structure                        \n",
      "#It will then calculate the MOC and draw a picture for all files in that folder         \n",
      "#and save the figures in ~/Figures/Folder.                                              \n",
      "#For many years please use MOC_parallel                                                  \n",
      "#For spinup timeseriec please use the Spin up diagnostics notebook.                      \n",
      "###################################################################                      \n",
      "###################################################################                      \n",
      "#--Import modules--# "
     ],
     "language": "python",
     "metadata": {},
     "outputs": [],
     "prompt_number": 5
    },
    {
     "cell_type": "code",
     "collapsed": false,
     "input": [
      "from scipy.io import netcdf\n",
      "import numpy as np\n",
      "from pylab import clf, show, floor, ceil, imshow, get_current_fig_manager\n",
      "from matplotlib.pyplot import xlabel, ylabel, legend, savefig, colorbar, title, clim, pcolor, cm, contourf, plot, subplot, tight_layout, subplots_adjust\n",
      "import os\n",
      "import csv\n",
      "import sys\n",
      "import glob\n",
      "from IPython.display import display, Math, Latex\n",
      "#sys.path.append('/noc/users/am8e13/Python/python_functions/')\n",
      "#from Variable_button import *"
     ],
     "language": "python",
     "metadata": {},
     "outputs": [],
     "prompt_number": 6
    },
    {
     "cell_type": "code",
     "collapsed": false,
     "input": [
      "Comp=\"mysimulations/Big_box\"\n",
      "OP=\"run_adv77\"\n",
      "run=\"/mnc_test_0001/\"\n",
      "Years=\"0-20\"\n",
      "#x=\"/noc/users/am8e13/MITgcm/\"+Comp+\"/\"+OP+run\n",
      "x = \"/scratch/general/am8e13/Big_box_100km/run1\"\n",
      "lists=glob.glob(x+'*.nc')\n",
      "os.chdir(x)"
     ],
     "language": "python",
     "metadata": {},
     "outputs": [],
     "prompt_number": 7
    },
    {
     "cell_type": "code",
     "collapsed": false,
     "input": [
      "#x=\"/noc/users/am8e13/MITgcm/\"+Comp+\"/\"+OP+run\n",
      "x = \"/scratch/general/am8e13/Big_box_100km/run1\"\n",
      "os.chdir(x)\n",
      "file2read = netcdf.NetCDFFile(\"state.0000000000.t001.nc\",'r')\n",
      "Y=file2read.variables['Y']\n",
      "Y=Y[:]\n",
      "Temp=file2read.variables['Temp']\n",
      "Temp=Temp[:]\n",
      "Z=file2read.variables['Z']\n",
      "Z=Z[:]\n",
      "X=file2read.variables['X']\n",
      "X=X[:]\n",
      "I=file2read.variables['iter']\n",
      "I=I[:]\n",
      "days=file2read.variables['T']\n",
      "days=days[:]\n",
      "Temp.shape"
     ],
     "language": "python",
     "metadata": {},
     "outputs": [
      {
       "ename": "IOError",
       "evalue": "[Errno 2] No such file or directory: 'state.0000000000.t001.nc'",
       "output_type": "pyerr",
       "traceback": [
        "\u001b[1;31m---------------------------------------------------------------------------\u001b[0m\n\u001b[1;31mIOError\u001b[0m                                   Traceback (most recent call last)",
        "\u001b[1;32m<ipython-input-9-931241617641>\u001b[0m in \u001b[0;36m<module>\u001b[1;34m()\u001b[0m\n\u001b[0;32m      2\u001b[0m \u001b[0mx\u001b[0m \u001b[1;33m=\u001b[0m \u001b[1;34m\"/scratch/general/am8e13/Big_box_100km/run1\"\u001b[0m\u001b[1;33m\u001b[0m\u001b[0m\n\u001b[0;32m      3\u001b[0m \u001b[0mos\u001b[0m\u001b[1;33m.\u001b[0m\u001b[0mchdir\u001b[0m\u001b[1;33m(\u001b[0m\u001b[0mx\u001b[0m\u001b[1;33m)\u001b[0m\u001b[1;33m\u001b[0m\u001b[0m\n\u001b[1;32m----> 4\u001b[1;33m \u001b[0mfile2read\u001b[0m \u001b[1;33m=\u001b[0m \u001b[0mnetcdf\u001b[0m\u001b[1;33m.\u001b[0m\u001b[0mNetCDFFile\u001b[0m\u001b[1;33m(\u001b[0m\u001b[1;34m\"state.0000000000.t001.nc\"\u001b[0m\u001b[1;33m,\u001b[0m\u001b[1;34m'r'\u001b[0m\u001b[1;33m)\u001b[0m\u001b[1;33m\u001b[0m\u001b[0m\n\u001b[0m\u001b[0;32m      5\u001b[0m \u001b[0mY\u001b[0m\u001b[1;33m=\u001b[0m\u001b[0mfile2read\u001b[0m\u001b[1;33m.\u001b[0m\u001b[0mvariables\u001b[0m\u001b[1;33m[\u001b[0m\u001b[1;34m'Y'\u001b[0m\u001b[1;33m]\u001b[0m\u001b[1;33m\u001b[0m\u001b[0m\n\u001b[0;32m      6\u001b[0m \u001b[0mY\u001b[0m\u001b[1;33m=\u001b[0m\u001b[0mY\u001b[0m\u001b[1;33m[\u001b[0m\u001b[1;33m:\u001b[0m\u001b[1;33m]\u001b[0m\u001b[1;33m\u001b[0m\u001b[0m\n",
        "\u001b[1;32m/noc/users/am8e13/anaconda/lib/python2.7/site-packages/scipy/io/netcdf.pyc\u001b[0m in \u001b[0;36m__init__\u001b[1;34m(self, filename, mode, mmap, version)\u001b[0m\n\u001b[0;32m    195\u001b[0m         \u001b[1;32melse\u001b[0m\u001b[1;33m:\u001b[0m  \u001b[1;31m# maybe it's a string\u001b[0m\u001b[1;33m\u001b[0m\u001b[0m\n\u001b[0;32m    196\u001b[0m             \u001b[0mself\u001b[0m\u001b[1;33m.\u001b[0m\u001b[0mfilename\u001b[0m \u001b[1;33m=\u001b[0m \u001b[0mfilename\u001b[0m\u001b[1;33m\u001b[0m\u001b[0m\n\u001b[1;32m--> 197\u001b[1;33m             \u001b[0mself\u001b[0m\u001b[1;33m.\u001b[0m\u001b[0mfp\u001b[0m \u001b[1;33m=\u001b[0m \u001b[0mopen\u001b[0m\u001b[1;33m(\u001b[0m\u001b[0mself\u001b[0m\u001b[1;33m.\u001b[0m\u001b[0mfilename\u001b[0m\u001b[1;33m,\u001b[0m \u001b[1;34m'%sb'\u001b[0m \u001b[1;33m%\u001b[0m \u001b[0mmode\u001b[0m\u001b[1;33m)\u001b[0m\u001b[1;33m\u001b[0m\u001b[0m\n\u001b[0m\u001b[0;32m    198\u001b[0m             \u001b[1;32mif\u001b[0m \u001b[0mmmap\u001b[0m \u001b[1;32mis\u001b[0m \u001b[0mNone\u001b[0m\u001b[1;33m:\u001b[0m\u001b[1;33m\u001b[0m\u001b[0m\n\u001b[0;32m    199\u001b[0m                 \u001b[0mmmap\u001b[0m \u001b[1;33m=\u001b[0m \u001b[0mTrue\u001b[0m\u001b[1;33m\u001b[0m\u001b[0m\n",
        "\u001b[1;31mIOError\u001b[0m: [Errno 2] No such file or directory: 'state.0000000000.t001.nc'"
       ]
      }
     ],
     "prompt_number": 9
    },
    {
     "cell_type": "code",
     "collapsed": false,
     "input": [
      "dx=25000\n",
      "t = 60*60*24 #seconds in a day"
     ],
     "language": "python",
     "metadata": {},
     "outputs": []
    },
    {
     "cell_type": "code",
     "collapsed": false,
     "input": [
      "#average zonally\n",
      "\n",
      "#average temporally\n",
      "Temp_top = np.mean(Temp[:,:,:,:], axis = 1)\n",
      "Temp_zon = np.mean(Temp,axis = 3)\n",
      "Temp_mer = np.mean(Temp,axis = 2)\n"
     ],
     "language": "python",
     "metadata": {},
     "outputs": []
    },
    {
     "cell_type": "code",
     "collapsed": false,
     "input": [
      "#plt.contourf(y,Zp,Psi,50,cmap=cm.seismic) #Use b2r colourmap                                       \n",
      "#clim(-(np.nanmax(Psi)),np.nanmax(Psi)) # Put 0 to white \n",
      "\n",
      "for i in range(1,8):\n",
      "        subplot(1,7,i)\n",
      "        contourf(X/1000,Y/1000,Temp_top[i*12,:,:],100) #Use b2r colourmap\n",
      "        title(\"\"+str(days[i*12]/t)+\"days\")\n",
      "        subplots_adjust(right=2.3)\n",
      "colorbar()\n",
      "\n",
      "#x=\"/noc/users/am8e13/Figures\"\n",
      "#os.chdir(x)\n",
      "#plt.savefig(\"top_temp_\"+OP+\".eps\", bbox_inches='tight',dpi=100)"
     ],
     "language": "python",
     "metadata": {},
     "outputs": []
    },
    {
     "cell_type": "code",
     "collapsed": false,
     "input": [
      "contourf(Y/1000,Z,Temp_zon[113,:,:],10) #Use b2r colourmap\n",
      "title(\"\"+str(days[113]/t)+\"days\")\n",
      "subplots_adjust(right=1.6)\n",
      "colorbar()\n",
      "#x=\"/noc/users/am8e13/Figures\"\n",
      "#os.chdir(x)\n",
      "#plt.savefig(\"stratif_\"+OP+\".eps\", bbox_inches='tight',dpi=100)"
     ],
     "language": "python",
     "metadata": {},
     "outputs": []
    },
    {
     "cell_type": "code",
     "collapsed": false,
     "input": [
      "for i in range(1,4):\n",
      "        subplot(3,1,i)\n",
      "        contourf(Y/1000,Z,Temp_zon[i*18,:,:],10) #Use b2r colourmap\n",
      "        title(\"\"+str(days[i*18]/t)+\"days\")\n",
      "        subplots_adjust(right=2,top=2.1)\n",
      "        colorbar()\n",
      "x=\"/noc/users/am8e13/Figures\"\n",
      "os.chdir(x)\n",
      "#fig = gcf()\n",
      "#fig.set_size_inches(9.5,9.\n",
      "#plt.savefig(\"vertical_temp_\"+OP+\".eps\", bbox_inches='tight',dpi=100)"
     ],
     "language": "python",
     "metadata": {},
     "outputs": []
    },
    {
     "cell_type": "code",
     "collapsed": false,
     "input": [
      "for i in range(1,10):\n",
      "        subplot(3,3,i)\n",
      "        contourf(Y/1000,Z[0:15],Temp_zon[i + 45,0:15,:]- Temp_zon[i + 44,0:15,:],10) #Use b2r colourmap\n",
      "        title(\"\"+str(I[i]/t)+\"y\")\n",
      "        colorbar()\n",
      "        subplots_adjust(right=2.5,top=3)"
     ],
     "language": "python",
     "metadata": {},
     "outputs": []
    },
    {
     "cell_type": "code",
     "collapsed": false,
     "input": [],
     "language": "python",
     "metadata": {},
     "outputs": []
    }
   ],
   "metadata": {}
  }
 ]
}