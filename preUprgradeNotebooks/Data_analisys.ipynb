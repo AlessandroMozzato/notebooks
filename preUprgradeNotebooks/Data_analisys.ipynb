{
 "metadata": {
  "name": "",
  "signature": "sha256:a1a7066b19e82b198c5089518c305d24cb02013e7a0eef7927ba44b87ff542fa"
 },
 "nbformat": 3,
 "nbformat_minor": 0,
 "worksheets": [
  {
   "cells": [
    {
     "cell_type": "code",
     "collapsed": false,
     "input": [
      "#! /usr/bin/env python                                                                  \n",
      "#This script takes two arguments:                                                        \n",
      "#                                1) The computer Nautilus, Iridis4 or Mobylus                        \n",
      "#                                2) The folder name in the msm file structure                        \n",
      "#It will then calculate the MOC and draw a picture for all files in that folder         \n",
      "#and save the figures in ~/Figures/Folder.                                              \n",
      "#For many years please use MOC_parallel                                                  \n",
      "#For spinup timeseriec please use the Spin up diagnostics notebook.                      \n",
      "###################################################################                      \n",
      "###################################################################                      \n",
      "#--Import modules--# "
     ],
     "language": "python",
     "metadata": {},
     "outputs": [],
     "prompt_number": 13
    },
    {
     "cell_type": "code",
     "collapsed": false,
     "input": [
      "from scipy.io import netcdf\n",
      "import numpy as np\n",
      "from pylab import clf, show, floor, ceil, imshow\n",
      "from matplotlib.pyplot import xlabel, ylabel, legend, savefig, colorbar, title, clim, pcolor, cm, contourf, plot\n",
      "import os\n",
      "import csv\n",
      "import sys\n",
      "import glob\n",
      "from IPython.display import display, Math, Latex\n",
      "#sys.path.append('/noc/users/am8e13/Python/python_functions/')\n",
      "#from Variable_button import *"
     ],
     "language": "python",
     "metadata": {},
     "outputs": [],
     "prompt_number": 14
    },
    {
     "cell_type": "code",
     "collapsed": false,
     "input": [
      "Comp=\"mysimulations/Abernanthey\"\n",
      "OP=\"run_monthly/mnc_test_0002/\"\n",
      "Years=\"0-20\"\n",
      "x=\"/noc/users/am8e13/MITgcm/\"+Comp+\"/\"+OP\n",
      "lists=glob.glob(x+'*.nc')\n",
      "os.chdir(x)"
     ],
     "language": "python",
     "metadata": {},
     "outputs": [],
     "prompt_number": 15
    },
    {
     "cell_type": "code",
     "collapsed": false,
     "input": [
      "x=\"/noc/users/am8e13/MITgcm/\"+Comp+\"/\"+OP\n",
      "os.chdir(x)\n",
      "file2read = netcdf.NetCDFFile(\"state.0000000000.t001.nc\",'r')\n",
      "Y=file2read.variables['Y']\n",
      "Y=Y[:]\n",
      "Temp=file2read.variables['Temp']\n",
      "Temp=Temp[:]\n",
      "Z=file2read.variables['Z']\n",
      "Z=Z[:]\n",
      "I=file2read.variables['iter']\n",
      "I=I[:]\n",
      "Temp.shape"
     ],
     "language": "python",
     "metadata": {},
     "outputs": [
      {
       "metadata": {},
       "output_type": "pyout",
       "prompt_number": 16,
       "text": [
        "(101, 30, 80, 40)"
       ]
      }
     ],
     "prompt_number": 16
    },
    {
     "cell_type": "code",
     "collapsed": false,
     "input": [
      "if Comp=='Nautilus':\n",
      "          dx = 6666.66677\n",
      "          t=69120\n",
      "else: \n",
      "    dx=25000\n",
      "    t=86400\n"
     ],
     "language": "python",
     "metadata": {},
     "outputs": [],
     "prompt_number": 17
    },
    {
     "cell_type": "code",
     "collapsed": false,
     "input": [
      "#average zonally\n",
      "\n",
      "#average temporally\n",
      "Temp = np.mean(Temp[:,0:1,:,:], axis = 1)\n"
     ],
     "language": "python",
     "metadata": {},
     "outputs": [],
     "prompt_number": 18
    },
    {
     "cell_type": "code",
     "collapsed": false,
     "input": [
      "#plt.contourf(y,Zp,Psi,50,cmap=cm.seismic) #Use b2r colourmap                                       \n",
      "#clim(-(np.nanmax(Psi)),np.nanmax(Psi)) # Put 0 to white                                        \n",
      "contourf(X/1000,Y/1000,Temp[20,:,:],100) #Use b2r colourmap\n",
      "cbar = colorbar()\n",
      "title(\"Temperature zonally integrated\")\n",
      "xlabel('Distance (km)')\n",
      "ylabel('Density')\n",
      "cbar.ax.set_ylabel('Temp ($oC$)')\n",
      "#x=\"/noc/users/am8e13/MITgcm/\"+Comp+\"/\"+OP\n",
      "#os.chdir(x)\n",
      "#y=\"MOC\"+str(I[len(I)-1]/t)+\".png\"\n",
      "#savefig(y)\n",
      "# clf()"
     ],
     "language": "python",
     "metadata": {},
     "outputs": [
      {
       "output_type": "stream",
       "stream": "stderr",
       "text": [
        "Exception AttributeError: \"'netcdf_file' object has no attribute 'fp'\" in <bound method netcdf_file.close of <scipy.io.netcdf.netcdf_file object at 0x2b87406f8d50>> ignored\n"
       ]
      },
      {
       "ename": "NameError",
       "evalue": "name 'X' is not defined",
       "output_type": "pyerr",
       "traceback": [
        "\u001b[1;31m---------------------------------------------------------------------------\u001b[0m\n\u001b[1;31mNameError\u001b[0m                                 Traceback (most recent call last)",
        "\u001b[1;32m<ipython-input-19-c6a7b3c3557b>\u001b[0m in \u001b[0;36m<module>\u001b[1;34m()\u001b[0m\n\u001b[0;32m      1\u001b[0m \u001b[1;31m#plt.contourf(y,Zp,Psi,50,cmap=cm.seismic) #Use b2r colourmap\u001b[0m\u001b[1;33m\u001b[0m\u001b[1;33m\u001b[0m\u001b[0m\n\u001b[0;32m      2\u001b[0m \u001b[1;31m#clim(-(np.nanmax(Psi)),np.nanmax(Psi)) # Put 0 to white\u001b[0m\u001b[1;33m\u001b[0m\u001b[1;33m\u001b[0m\u001b[0m\n\u001b[1;32m----> 3\u001b[1;33m \u001b[0mcontourf\u001b[0m\u001b[1;33m(\u001b[0m\u001b[0mX\u001b[0m\u001b[1;33m/\u001b[0m\u001b[1;36m1000\u001b[0m\u001b[1;33m,\u001b[0m\u001b[0mY\u001b[0m\u001b[1;33m/\u001b[0m\u001b[1;36m1000\u001b[0m\u001b[1;33m,\u001b[0m\u001b[0mTemp\u001b[0m\u001b[1;33m[\u001b[0m\u001b[1;36m20\u001b[0m\u001b[1;33m,\u001b[0m\u001b[1;33m:\u001b[0m\u001b[1;33m,\u001b[0m\u001b[1;33m:\u001b[0m\u001b[1;33m]\u001b[0m\u001b[1;33m,\u001b[0m\u001b[1;36m100\u001b[0m\u001b[1;33m)\u001b[0m \u001b[1;31m#Use b2r colourmap\u001b[0m\u001b[1;33m\u001b[0m\u001b[0m\n\u001b[0m\u001b[0;32m      4\u001b[0m \u001b[0mcbar\u001b[0m \u001b[1;33m=\u001b[0m \u001b[0mcolorbar\u001b[0m\u001b[1;33m(\u001b[0m\u001b[1;33m)\u001b[0m\u001b[1;33m\u001b[0m\u001b[0m\n\u001b[0;32m      5\u001b[0m \u001b[0mtitle\u001b[0m\u001b[1;33m(\u001b[0m\u001b[1;34m\"Temperature zonally integrated\"\u001b[0m\u001b[1;33m)\u001b[0m\u001b[1;33m\u001b[0m\u001b[0m\n",
        "\u001b[1;31mNameError\u001b[0m: name 'X' is not defined"
       ]
      }
     ],
     "prompt_number": 19
    },
    {
     "cell_type": "code",
     "collapsed": false,
     "input": [],
     "language": "python",
     "metadata": {},
     "outputs": []
    }
   ],
   "metadata": {}
  }
 ]
}