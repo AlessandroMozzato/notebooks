{
 "metadata": {
  "name": "MOC_Abelikeflux",
  "signature": "sha256:70d5fb9b21136a617df2b9deea126cc894f69ecaa1ed5a24be91b9e5c80d34d2"
 },
 "nbformat": 3,
 "nbformat_minor": 0,
 "worksheets": [
  {
   "cells": [
    {
     "cell_type": "heading",
     "level": 1,
     "metadata": {},
     "source": [
      "MOC"
     ]
    },
    {
     "cell_type": "raw",
     "metadata": {},
     "source": [
      "#! /usr/bin/env python                                                                  \n",
      "#This script takes two arguments:                                                        \n",
      "#                                1) The computer Nautilus, Iridis4 or Mobylus                        \n",
      "#                                2) The folder name in the msm file structure                        \n",
      "#It will then calculate the MOC and draw a picture for all files in that folder         \n",
      "#and save the figures in ~/Figures/Folder.                                              \n",
      "#For many years please use MOC_parallel                                                  \n",
      "#For spinup timeseriec please use the Spin up diagnostics notebook.                      \n",
      "###################################################################                      \n",
      "###################################################################                      \n",
      "#--Import modules--# "
     ]
    },
    {
     "cell_type": "code",
     "collapsed": false,
     "input": [
      "from scipy.io import netcdf\n",
      "import numpy as np\n",
      "from pylab import clf, plot, show, floor, ceil, imshow\n",
      "from matplotlib.pyplot import xlabel, ylabel, legend, savefig, colorbar, title, clim, pcolor, cm, contourf\n",
      "import os\n",
      "import csv\n",
      "import sys\n",
      "import glob\n",
      "from IPython.display import display, Math, Latex\n",
      "#sys.path.append('/noc/users/am8e13/Python/python_functions/')\n",
      "#from Variable_button import *"
     ],
     "language": "python",
     "metadata": {},
     "outputs": [],
     "prompt_number": 8
    },
    {
     "cell_type": "raw",
     "metadata": {},
     "source": [
      "#--Take terminal inputs--#                                                              \n",
      "Comp = sys.argv[1]\n",
      "OP = sys.argv[2]\n",
      "#--Set folder structure--#                                                              \n",
      "x=\"/noc/users/am8e13/MITgcm/verification/cartesian_new/run/mnc_test_0006/\"\n",
      "lists=glob.glob(x+'*.nc')\n",
      "os.chdir(x)\n",
      "#--Main For loop--#                                                                      \n",
      "#For every .nc file in the folder                                                        \n",
      "#Read in netcdf variables                                                                \n",
      "#Decide resolution                                                                      \n",
      "#Find grid info                                                                          \n",
      "#Calculate the streamfunction                                                            \n",
      "#Draw a picture and save it                                                              \n",
      "for file in lists:\n"
     ]
    },
    {
     "cell_type": "code",
     "collapsed": false,
     "input": [
      "Comp=\"mysimulations/Abernanthey\"\n",
      "OP=\"run_qAbelike/mnc_test_0001/\"\n",
      "Years=\"0-20\"\n",
      "x=\"/noc/users/am8e13/MITgcm/\"+Comp+\"/\"+OP\n",
      "lists=glob.glob(x+'*.nc')\n",
      "os.chdir(x)"
     ],
     "language": "python",
     "metadata": {},
     "outputs": [],
     "prompt_number": 9
    },
    {
     "cell_type": "code",
     "collapsed": false,
     "input": [
      "x=\"/noc/users/am8e13/MITgcm/\"+Comp+\"/\"+OP\n",
      "os.chdir(x)\n",
      "file2read = netcdf.NetCDFFile(\"state.0000000000.t001.nc\",'r')\n",
      "Y=file2read.variables['Yp1']\n",
      "Y=Y[:]\n",
      "V=file2read.variables['V']\n",
      "V=V[:]\n",
      "Z=file2read.variables['Z']\n",
      "Z=Z[:]\n",
      "I=file2read.variables['iter']\n",
      "I=I[:]\n",
      "V.shape"
     ],
     "language": "python",
     "metadata": {},
     "outputs": [
      {
       "output_type": "pyout",
       "prompt_number": 10,
       "text": [
        "(48, 30, 81, 40)"
       ]
      }
     ],
     "prompt_number": 10
    },
    {
     "cell_type": "code",
     "collapsed": false,
     "input": [
      "if Comp=='Nautilus':\n",
      "          dx = 6666.66677\n",
      "          t=69120\n",
      "else: \n",
      "    dx=25000\n",
      "    t=31536000/600\n"
     ],
     "language": "python",
     "metadata": {},
     "outputs": [],
     "prompt_number": 11
    },
    {
     "cell_type": "code",
     "collapsed": false,
     "input": [
      "display(Latex(r'The meridional overturning streamfunction, $\\overline{\\psi}$, is calculated as as follows:'))\n",
      "display(Math(r'\\overline{\\psi} = \\int_{x_e}^{x_w}\\int_{-H}^{0} \\overline{v}\\, dzdx'))"
     ],
     "language": "python",
     "metadata": {},
     "outputs": [
      {
       "latex": [
        "The meridional overturning streamfunction, $\\overline{\\psi}$, is calculated as as follows:"
       ],
       "output_type": "display_data",
       "text": [
        "<IPython.core.display.Latex at 0x2b31ec2e6c50>"
       ]
      },
      {
       "latex": [
        "$$\\overline{\\psi} = \\int_{x_e}^{x_w}\\int_{-H}^{0} \\overline{v}\\, dzdx$$"
       ],
       "output_type": "display_data",
       "text": [
        "<IPython.core.display.Math at 0x2b31ec2e6a10>"
       ]
      }
     ],
     "prompt_number": 12
    },
    {
     "cell_type": "code",
     "collapsed": false,
     "input": [
      "#Vtave=np.mean(V,axis = 0)\n",
      "Vtave=np.array(V[46,:,:,:])\n",
      "grd=\"/noc/users/am8e13/MITgcm/\"+Comp+\"/\"+OP\n",
      "os.chdir(grd)\n",
      "file2=netcdf.netcdf_file('grid.t001.nc','r')\n",
      "Zp1=file2.variables['Zp1']\n",
      "Zp=Zp1[:]\n",
      "Vtave[Vtave==0]=np.nan\n",
      "Vzone=np.nansum(Vtave*dx,axis = 2)\n",
      "dz=Zp[0:len(Zp)-1]-Zp[1:len(Zp)]\n",
      "psi = np.zeros((len(Zp),len(Y)))\n",
      "for j in range(len(Y)):\n",
      "    for k in range(0,len(Zp)-1):\n",
      "        psi[k,j] = psi[k-1,j] + dz[k]*Vzone[k,j]\n",
      "y =Y/1000\n",
      "Psi=psi/10**6 #Convert to Sv "
     ],
     "language": "python",
     "metadata": {},
     "outputs": [],
     "prompt_number": 13
    },
    {
     "cell_type": "raw",
     "metadata": {},
     "source": [
      "Now plot it with a nice format."
     ]
    },
    {
     "cell_type": "code",
     "collapsed": false,
     "input": [
      "contourf(y,Zp,Psi,50,cmap=cm.seismic) #Use b2r colourmap                                       \n",
      "clim(-(np.nanmax(Psi)),np.nanmax(Psi)) # Put 0 to white                                        \n",
      "cbar = colorbar()\n",
      "title(\"MOC year \"+str(I[len(I)-1]/t))\n",
      "xlabel('Distance (km)')\n",
      "ylabel('Depth')\n",
      "cbar.ax.set_ylabel('Psi (sv)')\n",
      "x=\"/noc/users/am8e13/MITgcm/\"+Comp+\"/\"+OP\n",
      "os.chdir(x)\n",
      "#y=\"MOC\"+str(I[len(I)-1]/t)+\".png\"\n",
      "#savefig(y)\n",
      "# clf()\n"
     ],
     "language": "python",
     "metadata": {},
     "outputs": [
      {
       "output_type": "display_data",
       "png": "[encoded data removed]"
      }
     ],
     "prompt_number": 14
    },
    {
     "cell_type": "code",
     "collapsed": false,
     "input": [],
     "language": "python",
     "metadata": {},
     "outputs": [],
     "prompt_number": 14
    },
    {
     "cell_type": "code",
     "collapsed": false,
     "input": [],
     "language": "python",
     "metadata": {},
     "outputs": [],
     "prompt_number": 14
    }
   ],
   "metadata": {}
  }
 ]
}