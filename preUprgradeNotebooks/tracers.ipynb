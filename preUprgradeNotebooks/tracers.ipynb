{
 "metadata": {
  "name": "tracers"
 },
 "nbformat": 3,
 "nbformat_minor": 0,
 "worksheets": [
  {
   "cells": [
    {
     "cell_type": "code",
     "collapsed": false,
     "input": [
      "from pylab import *\n",
      "\n",
      "c = channel.ChannelSetup(data_dir, grid_dir)\n",
      "\n",
      "Nx,Ny,Nz = 210, 192, 50\n",
      "Lx,Ly,H = 40, 40, 3000\n",
      "\n",
      "\n",
      "\n",
      "y,z = meshgrid(c.yc, c.zc)\n",
      "\n",
      "tracers = [ y, z,\n",
      "    cos(pi*y/Ly) * cos(pi*z/H), sin(pi*y/Ly) * sin(pi*z/H),\n",
      "    sin(pi*y/Ly) * sin(2 *pi*z/H), cos(2*pi*y/Ly) * cos(pi*z/H) ]\n",
      "\n",
      "\n",
      "# write tracers                                                                                                                   \n",
      "tp = '>f8'\n",
      "for n in range(len(tracers)):\n",
      "    fname = 'tracers/tr%02d.bin' % (n+1)\n",
      "    transpose( tile(tracers[n], (Nx,1,1)), (1,2,0)\n",
      "             ).astype(tp).tofile(fname)\n",
      "\n"
     ],
     "language": "python",
     "metadata": {},
     "outputs": []
    }
   ],
   "metadata": {}
  }
 ]
}