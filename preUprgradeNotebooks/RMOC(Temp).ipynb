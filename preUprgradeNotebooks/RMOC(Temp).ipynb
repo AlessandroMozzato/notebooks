{
 "metadata": {
  "name": "",
  "signature": "sha256:590b140937448ba5ebc8137d1e1df37a8b445ff1bf9dc019ed0d7a58ee728ea8"
 },
 "nbformat": 3,
 "nbformat_minor": 0,
 "worksheets": [
  {
   "cells": [
    {
     "cell_type": "raw",
     "metadata": {},
     "source": [
      "#! /usr/bin/env ipython and then chmod the file\n",
      "#This script takes two arguments:                                           #                                1) The computer Nautilus, Iridis4 or \n",
      "#                                   Mobilis                        \n",
      "#                                2) The folder name in the msm file     \n",
      "#                                   structure                        \n",
      "#It will then calculate the RMOC in temperature layers and draw a picture for all files in that folder.                                               #and save the figures in ~/Figures/Folder.            \n",
      "#For many years please use RMOCT_parallel\n",
      "#For spinup timeseries please use the Spin up diagnostics notebook.          \n",
      "###################################################################         ###################################################################          #--Import modules--# "
     ]
    },
    {
     "cell_type": "code",
     "collapsed": false,
     "input": [
      "from scipy.io import netcdf\n",
      "import numpy as np\n",
      "import matplotlib.pyplot as plt\n",
      "import os\n",
      "import csv\n",
      "import glob\n",
      "import sys"
     ],
     "language": "python",
     "metadata": {},
     "outputs": [],
     "prompt_number": 1
    },
    {
     "cell_type": "raw",
     "metadata": {},
     "source": [
      "#--Take terminal inputs--#                                                 \n",
      "Comp = sys.argv[1]\n",
      "OP = sys.argv[2]\n",
      "#--Set folder structure--#                                                 yr=0\n",
      "x=\"/noc/msm/scratch/students/hb1g13/\"+Comp+\"/\"+OP+\"/Psi_temp/\"\n",
      "lists=glob.glob(x+'*.nc')\n",
      "os.chdir(x)\n",
      "#--Main For loop--#                                                          #For every .nc file in the folder                                           #Read in netcdf variables                                                    #Decide resolution and time step                                            #Find grid info                                                 \n",
      "#Calculate the streamfunction                                                \n",
      "#Draw a picture and save it                                                 \n",
      "for file in lists:"
     ]
    },
    {
     "cell_type": "code",
     "collapsed": false,
     "input": [
      "Comp=\"Mobilis\"\n",
      "OP=\"Diffusion\"\n",
      "yr=\"10-20\""
     ],
     "language": "python",
     "metadata": {},
     "outputs": [],
     "prompt_number": 2
    },
    {
     "cell_type": "code",
     "collapsed": false,
     "input": [
      "x=\"/noc/msm/scratch/students/hb1g13/\"+Comp+\"/\"+OP+\"/Psi_temp/\" \n",
      "os.chdir(x)"
     ],
     "language": "python",
     "metadata": {},
     "outputs": [],
     "prompt_number": 3
    },
    {
     "cell_type": "raw",
     "metadata": {},
     "source": [
      "os.getcwd() will show cwd"
     ]
    },
    {
     "cell_type": "code",
     "collapsed": false,
     "input": [
      "file = netcdf.NetCDFFile(yr+\"Psi.nc\",'r')"
     ],
     "language": "python",
     "metadata": {},
     "outputs": [],
     "prompt_number": 4
    },
    {
     "cell_type": "code",
     "collapsed": false,
     "input": [
      "lvrho=file.variables['LaVH1TH']\n",
      "lvrho=lvrho[:]\n",
      "Y=file.variables['Yp1']\n",
      "Y=Y[:]\n",
      "time=file.variables['T']\n",
      "ti=time[:]\n",
      "dx=Y[1]-Y[0]"
     ],
     "language": "python",
     "metadata": {},
     "outputs": [],
     "prompt_number": 5
    },
    {
     "cell_type": "code",
     "collapsed": false,
     "input": [
      "VT=np.nansum(lvrho*dx,axis=3)\n",
      "VTdz=np.zeros(np.shape(VT))"
     ],
     "language": "python",
     "metadata": {},
     "outputs": [],
     "prompt_number": 6
    },
    {
     "cell_type": "code",
     "collapsed": false,
     "input": [
      "VTdz=np.cumsum(VT[:,:,:],axis=1)"
     ],
     "language": "python",
     "metadata": {},
     "outputs": [],
     "prompt_number": 7
    },
    {
     "cell_type": "code",
     "collapsed": false,
     "input": [
      "psi=np.nanmean(VTdz[:,:,:],axis=0)/10**6\n",
      "#psi=VTdz[1,:,:]/10**6\n",
      "y=Y/1000"
     ],
     "language": "python",
     "metadata": {},
     "outputs": [],
     "prompt_number": 8
    },
    {
     "cell_type": "code",
     "collapsed": false,
     "input": [
      "Rho = np.genfromtxt('./Temp', delimiter = ',') "
     ],
     "language": "python",
     "metadata": {},
     "outputs": [],
     "prompt_number": 9
    },
    {
     "cell_type": "code",
     "collapsed": false,
     "input": [
      "nolayers=len(psi[:,1])\n",
      "Rho=Rho[0:nolayers]"
     ],
     "language": "python",
     "metadata": {},
     "outputs": [],
     "prompt_number": 10
    },
    {
     "cell_type": "code",
     "collapsed": false,
     "input": [
      "start=int(np.divide(ti[0],(86400*360)))\n",
      "end=int(np.divide(ti[-1],(86400*360)))"
     ],
     "language": "python",
     "metadata": {},
     "outputs": [],
     "prompt_number": 11
    },
    {
     "cell_type": "code",
     "collapsed": false,
     "input": [
      "plt.contourf(y,Rho,-psi,100,cmap=plt.cm.seismic)\n",
      "clim(-(np.nanmax(abs(psi))),np.nanmax(abs(psi)))\n",
      "cbar = plt.colorbar()\n",
      "plt.title(\"RMOC for years \"+str(start)+\"-\"+str(end)+\" \")\n",
      "plt.xlabel('Distance (km)')\n",
      "plt.ylabel('Temperature $^o$C')\n",
      "cbar.ax.set_ylabel(\"$\\psi \\,\\, (sv)$\")\n",
      "plt.text(1500, 4, r\"AAIW\", fontsize=17, color=\"white\")\n",
      "plt.text(1500, 1.5, r\"NADW\", fontsize=16, color=\"white\")\n",
      "plt.text(1500, 0, r\"AABW\", fontsize=16, color=\"white\")\n",
      "x=\"/noc/users/hb1g13/Figures/\"+Comp+\"/\"+OP\n",
      "os.chdir(x)\n",
      "plt.savefig(\"Psires\"+str(start)+\"-\"+str(end)+\"(annotated).png\")\n",
      "savefig(\"RMOC.png\")"
     ],
     "language": "python",
     "metadata": {},
     "outputs": [
      {
       "metadata": {},
       "output_type": "display_data",
       "png": "[encoded data removed]",
       "text": [
        "<matplotlib.figure.Figure at 0x23a9050>"
       ]
      }
     ],
     "prompt_number": 12
    },
    {
     "cell_type": "code",
     "collapsed": false,
     "input": [],
     "language": "python",
     "metadata": {},
     "outputs": [],
     "prompt_number": 12
    },
    {
     "cell_type": "code",
     "collapsed": false,
     "input": [],
     "language": "python",
     "metadata": {},
     "outputs": [],
     "prompt_number": 12
    }
   ],
   "metadata": {}
  }
 ]
}