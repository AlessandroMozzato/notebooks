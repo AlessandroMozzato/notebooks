{
 "cells": [
  {
   "cell_type": "code",
   "execution_count": 1,
   "metadata": {
    "collapsed": false
   },
   "outputs": [
    {
     "name": "stderr",
     "output_type": "stream",
     "text": [
      "Vendor:  Continuum Analytics, Inc.\n",
      "Package: mkl\n",
      "Message: trial mode expires in 30 days\n"
     ]
    }
   ],
   "source": [
    "from scipy.io import netcdf, loadmat\n",
    "import numpy as np\n",
    "from pylab import clf, plot, show, floor, ceil, imshow\n",
    "import matplotlib\n",
    "import matplotlib.pyplot as plt\n",
    "%matplotlib inline\n",
    "#xlabel, ylabel, legend, savefig, colorbar, title, clim, pcolor, cm, contourf\n",
    "import os\n",
    "import csv\n",
    "import sys\n",
    "import glob\n",
    "from IPython.display import display, Math, Latex\n",
    "from python_functions import *"
   ]
  },
  {
   "cell_type": "code",
   "execution_count": 6,
   "metadata": {
    "collapsed": false
   },
   "outputs": [],
   "source": [
    "# Calculation of potential vorticity"
   ]
  },
  {
   "cell_type": "code",
   "execution_count": 10,
   "metadata": {
    "collapsed": true
   },
   "outputs": [],
   "source": [
    "data_ERA_tempmod0 = StateRead()\n",
    "data_ERA_tempmod0.readData(\"/hpcdata/scratch/am8e13/cs_36km_tutorial/run_tempcorrobcs/results/\",range(10))\n",
    "data_ERA_tempmod0.baroCalc()\n",
    "data_ERA_tempmod0.topoCalc()\n",
    "data_ERA_tempmod0.title('ERA run with Obs*0.5')"
   ]
  },
  {
   "cell_type": "markdown",
   "metadata": {},
   "source": [
    "Potential vorticity is defined as follow:\n",
    "$$\n",
    "\\xi = \\frac{\\delta v}{\\delta x} - \\frac{\\delta u}{\\delta y}\n",
    "$$"
   ]
  },
  {
   "cell_type": "code",
   "execution_count": 18,
   "metadata": {
    "collapsed": true
   },
   "outputs": [],
   "source": [
    "def PotentialVorticity(U,V,res):\n",
    "    ### This function calculates the gradient of the bathymetry\n",
    "    if res == 18:\n",
    "        file2read = netcdf.NetCDFFile(\"/scratch/general/am8e13/results18km/grid.nc\",'r')\n",
    "    elif res == 36:\n",
    "        file2read = netcdf.NetCDFFile(\"/scratch/general/am8e13/results36km/grid.nc\",'r')\n",
    "    dxF = file2read.variables['dxF']\n",
    "    dxF = dxF[:]*1\n",
    "    dyF = file2read.variables['dyF']\n",
    "    dyF = dyF[:]*1\n",
    "    X = file2read.variables['X']\n",
    "    X = X[:]*1\n",
    "    Y = file2read.variables['Y']\n",
    "    Y = Y[:]*1\n",
    "    Z = file2read.variables['Z']\n",
    "    Z = Z[:]*1\n",
    "    \n",
    "    dy = len(Y)\n",
    "    dx = len(X)\n",
    "    dz = len(Z)\n",
    "    \n",
    "    U = U[:,:,0:dy,0:dx]\n",
    "    V = V[:,:,0:dy,0:dx]\n",
    "    \n",
    "\n",
    "\n",
    "    dvdx = np.zeros_like(U)\n",
    "    dudy = np.zeros_like(U)\n",
    "    \n",
    "    for x in range(dx-1)[1:]:\n",
    "        for y in range(dy-1)[1:]:\n",
    "            if x == 0 and y == 0:\n",
    "                dvdx[:,:,y,x] = -(V[:,:,y,1]-V[:,:,y,0])/(dxF[y,1]-dxF[y,0])\n",
    "                dudy[:,:,y,x] = -(U[:,:,1,x]-U[:,:,0,x])/(dyF[1,x]-dyF[1,x])\n",
    "            elif x == 0 and y == (len(Y)-1):\n",
    "                dvdx[:,:,y,x] = -(V[:,:,y,x+1]-V[:,:,y,0])/(dxF[y,1]-dxF[y,0])\n",
    "                dudy[:,:,y,x] = -(U[:,:,(len(Y)-1),x]-U[:,:,y-1,x])/(dyF[(len(Y)-1),x]-dyF[y-1,x])\n",
    "            elif x == (len(X)-1) and y == 0:\n",
    "                dvdx[:,:,y,x] = -(V[:,:,y,(len(X)-1)]-V[:,:,y,x-1])/(dxF[y,(len(X)-1)]-dxF[y,x-1])\n",
    "                dudy[:,:,y,x] = -(U[:,:,y+1,x]-U[:,:,0,x])/(dyF[y+1,x]-dyF[0,x])\n",
    "            elif x == (len(X)-1) and y == (len(Y)-1):\n",
    "                dvdx[:,:,y,x] = -(V[:,:,y,(len(X)-1)]-V[:,:,y,x-1])/(dxF[y,(len(X)-1)]-dxF[y,x-1])\n",
    "                dudy[:,:,y,x] = -(U[:,:,y+1,x]-U[:,:,y-1,x])/(dyF[(len(Y)-1),x]-dyF[y-1,x])\n",
    "            elif x == 0:\n",
    "                dvdx[:,:,y,x] = -(V[:,:,y,1]-V[:,:,y,0])/(dxF[y,1]-dxF[y,0])\n",
    "                dudy[:,:,y,x] = -(U[:,:,y+1,x]-U[:,:,y-1,x])/(dyF[y+1,x]-dyF[y-1,x])\n",
    "            elif x == (len(X)-1):\n",
    "                dvdx[:,:,y,x] = -(V[:,:,y,(len(X)-1)]-V[:,:,y,x-1])/(dxF[y,(len(X)-1)]-dxF[y,x-1])\n",
    "                dudy[:,:,y,x] = -(U[:,:,y+1,x]-U[:,:,y-1,x])/(dyF[y+1,x]-dyF[y-1,x])\n",
    "            elif y == 0:\n",
    "                dvdx[:,:,y,x] = -(V[:,:,y,x+1]-V[:,:,y,x-1])/(dxF[y,x+1]-dxF[y,x-1])\n",
    "                dudy[:,:,y,x] = -(U[:,:,1,x]-U[:,:,0,x])/(dxF[1,x]-dxF[0,x])\n",
    "            elif y == (len(Y)-1):\n",
    "                dvdx[:,:,y,x] = -(V[:,:,y,x+1]-V[:,:,y,x-1])/(dxF[y,x+1]-dxF[y,x-1])\n",
    "                dudy[:,:,y,x] = -(U[:,:,(len(Y)-1),x]-U[:,:,y-1,x])/(dyF[(len(Y)-1),x]-dyF[y-1,x])\n",
    "            elif res == 36 and y == 69:\n",
    "                dvdx[:,:,y,x] = -(V[:,:,y,x+1]-V[:,:,y,x-1])/(dxF[y,x+1]-dxF[y,x-1])\n",
    "                dudy[:,:,y,x] = -(U[:,:,y+1,x]-U[:,:,y-1,x])/(dyF[y+2,x]-dyF[y,x])\n",
    "            else:\n",
    "                dvdx[:,:,y,x] = -(V[:,:,y,x+1]-V[:,:,y,x-1])/(dxF[y,x+1]-dxF[y,x-1])\n",
    "                dudy[:,:,y,x] = -(U[:,:,y+1,x]-U[:,:,y-1,x])/(dyF[y+1,x]-dyF[y-1,x])\n",
    "                \n",
    "    return dvdx, dudy\n"
   ]
  },
  {
   "cell_type": "code",
   "execution_count": 19,
   "metadata": {
    "collapsed": false
   },
   "outputs": [],
   "source": [
    "dvdx,dudy = PotentialVorticity(data_ERA_tempmod0.data['U'],data_ERA_tempmod0.data['V'],36)\n"
   ]
  },
  {
   "cell_type": "code",
   "execution_count": 22,
   "metadata": {
    "collapsed": false
   },
   "outputs": [
    {
     "data": {
      "text/plain": [
       "<matplotlib.colorbar.Colorbar instance at 0x2b4db4808128>"
      ]
     },
     "execution_count": 22,
     "metadata": {},
     "output_type": "execute_result"
    },
    {
     "data": {
      "image/png": "[encoded data removed]",
      "text/plain": [
       "<matplotlib.figure.Figure at 0x2b4db4c4b550>"
      ]
     },
     "metadata": {},
     "output_type": "display_data"
    }
   ],
   "source": [
    "plt.contourf(dvdx[0,0,:,:]-dudy[0,0,:,:],vmin=-0.001,vmax=0.001)\n",
    "plt.colorbar()"
   ]
  },
  {
   "cell_type": "code",
   "execution_count": null,
   "metadata": {
    "collapsed": true
   },
   "outputs": [],
   "source": []
  }
 ],
 "metadata": {
  "kernelspec": {
   "display_name": "Python 2",
   "language": "python",
   "name": "python2"
  },
  "language_info": {
   "codemirror_mode": {
    "name": "ipython",
    "version": 2
   },
   "file_extension": ".py",
   "mimetype": "text/x-python",
   "name": "python",
   "nbconvert_exporter": "python",
   "pygments_lexer": "ipython2",
   "version": "2.7.10"
  }
 },
 "nbformat": 4,
 "nbformat_minor": 0
}
