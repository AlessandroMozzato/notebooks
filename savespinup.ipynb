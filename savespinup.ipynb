{
 "cells": [
  {
   "cell_type": "code",
   "execution_count": 1,
   "metadata": {
    "collapsed": false
   },
   "outputs": [
    {
     "name": "stderr",
     "output_type": "stream",
     "text": [
      "Vendor:  Continuum Analytics, Inc.\n",
      "Package: mkl\n",
      "Message: trial mode expires in 30 days\n"
     ]
    }
   ],
   "source": [
    "from scipy.io import netcdf\n",
    "import numpy as np\n",
    "from pylab import clf, plot, show, floor, ceil, imshow\n",
    "import matplotlib\n",
    "import matplotlib.pyplot as plt \n",
    "%matplotlib inline\n",
    "#xlabel, ylabel, legend, savefig, colorbar, title, clim, pcolor, cm, contourf\n",
    "import os\n",
    "import csv\n",
    "import sys\n",
    "import glob\n",
    "from netCDF4 import Dataset\n",
    "\n",
    "from IPython.display import display, Math, Latex, Image\n",
    "from mpl_toolkits.basemap import Basemap\n",
    "import mpl_toolkits\n",
    "\n",
    "sys.path.append('/noc/users/am8e13/PyNGL-1.4.0/lib/python2.7/site-packages/PyNGL/')\n",
    "import Ngl\n",
    "sys.path.append('/noc/users/am8e13/Python/')\n",
    "import komod\n",
    "sys.path.append('/noc/users/am8e13/Python/PyNIO-1.4.0/')\n",
    "import Nio\n",
    "\n",
    "from python_functions import *"
   ]
  },
  {
   "cell_type": "code",
   "execution_count": 65,
   "metadata": {
    "collapsed": false
   },
   "outputs": [],
   "source": [
    "# Reading the Means for \n",
    "run36 = StateRead()\n",
    "run36.readData('/scratch/general/am8e13/results36km_newspinup/',range(2))\n",
    "run36.getMeans(range(720),['Temp','S'])"
   ]
  },
  {
   "cell_type": "code",
   "execution_count": 9,
   "metadata": {
    "collapsed": false
   },
   "outputs": [],
   "source": [
    "# Reading the Means for \n",
    "run18 = StateRead()\n",
    "run18.readData('/scratch/general/am8e13/results18km_newspinup/',range(2))\n",
    "run18.getMeans(range(320),['Temp','S'])"
   ]
  },
  {
   "cell_type": "code",
   "execution_count": 38,
   "metadata": {
    "collapsed": false
   },
   "outputs": [],
   "source": [
    "file2read = netcdf.NetCDFFile(\"/scratch/general/am8e13/results18km_newspinup/SEAICE.nc\",'r')\n",
    "ice18 = np.ndarray([384,420])\n",
    "for i in range(216):\n",
    "    tmp=file2read.variables['SIarea']\n",
    "    ice18=ice18 + tmp[i,:,:]/float(216)\n",
    "    #print np.nanmax(ice18)"
   ]
  },
  {
   "cell_type": "code",
   "execution_count": 61,
   "metadata": {
    "collapsed": false
   },
   "outputs": [],
   "source": [
    "file2read = netcdf.NetCDFFile(\"/scratch/general/am8e13/results36km_newspinup/SEAICE.nc\",'r')\n",
    "ice36 = np.ndarray([192,210])\n",
    "for i in range(480):\n",
    "    tmp=file2read.variables['SIarea']\n",
    "    ice36=ice36 + tmp[i,:,:]/float(480)\n",
    "    #print np.nanmax(ice36)\n"
   ]
  },
  {
   "cell_type": "code",
   "execution_count": 47,
   "metadata": {
    "collapsed": false
   },
   "outputs": [],
   "source": [
    "file2read = netcdf.NetCDFFile(\"/scratch/general/am8e13/results36km_newspinup/state3110400.nc\",'r')\n",
    "TT = np.ndarray([50,192,210])\n",
    "for i in range(0,720,1):\n",
    "    tmp=file2read.variables['Temp']\n",
    "    TT=TT + tmp[i,:,:,:]/float(720)"
   ]
  },
  {
   "cell_type": "code",
   "execution_count": 55,
   "metadata": {
    "collapsed": true
   },
   "outputs": [],
   "source": [
    "file2read = netcdf.NetCDFFile(\"/scratch/general/am8e13/results36km_newspinup/state.nc\",'r')\n",
    "TTi = np.ndarray([50,192,210])\n",
    "for i in range(0,720,1):\n",
    "    tmp=file2read.variables['Temp']\n",
    "    TTi=TTi + tmp[i,:,:,:]/float(720)"
   ]
  },
  {
   "cell_type": "code",
   "execution_count": 26,
   "metadata": {
    "collapsed": false
   },
   "outputs": [],
   "source": [
    "nx = 420\n",
    "ny = 384\n",
    "nz = 50\n",
    "\n",
    "f=netcdf.netcdf_file('/scratch/general/am8e13/results18km_newspinup/spinup18km.nc','w')\n",
    "f.createDimension('X',nx)\n",
    "f.createDimension('Y',ny)\n",
    "f.createDimension('Z',nz)\n",
    "T=f.createVariable('T','float',('Z','Y','X'))\n",
    "T[:]=run18.mean['Temp']\n",
    "S=f.createVariable('S','float',('Z','Y','X'))\n",
    "S[:]=run18.mean['S']\n",
    "lat=f.createVariable('lat','float',('Y','X'))\n",
    "lat[:]=run18.lat\n",
    "lon=f.createVariable('lon','float',('Y','X'))\n",
    "lon[:]=run18.lon\n",
    "depth=f.createVariable('depth','float',('Z'))\n",
    "depth[:]=run18.depth\n",
    "bathy=f.createVariable('bathy','float',('Z','Y','X'))\n",
    "bathy[:]=run18.hfacc\n",
    "ice = f.createVariable('ice','float',('Y','X'))\n",
    "ice[:]=ice18\n",
    "f.close()"
   ]
  },
  {
   "cell_type": "code",
   "execution_count": 64,
   "metadata": {
    "collapsed": false
   },
   "outputs": [],
   "source": [
    "nx = 210\n",
    "ny = 192\n",
    "nz = 50\n",
    "\n",
    "f=netcdf.netcdf_file('/scratch/general/am8e13/results36km_newspinup/spinup36km.nc','w')\n",
    "f.createDimension('X',nx)\n",
    "f.createDimension('Y',ny)\n",
    "f.createDimension('Z',nz)\n",
    "T=f.createVariable('T','float',('Z','Y','X'))\n",
    "T[:]=run36.mean['Temp']\n",
    "S=f.createVariable('S','float',('Z','Y','X'))\n",
    "S[:]=run36.mean['S']\n",
    "lat=f.createVariable('lat','float',('Y','X'))\n",
    "lat[:]=run36.lat\n",
    "lon=f.createVariable('lon','float',('Y','X'))\n",
    "lon[:]=run36.lon\n",
    "depth=f.createVariable('depth','float',('Z'))\n",
    "depth[:]=run36.depth\n",
    "bathy=f.createVariable('bathy','float',('Z','Y','X'))\n",
    "bathy[:]=run36.hfacc\n",
    "ice = f.createVariable('ice','float',('Y','X'))\n",
    "ice[:]=ice36\n",
    "f.close()"
   ]
  },
  {
   "cell_type": "code",
   "execution_count": null,
   "metadata": {
    "collapsed": true
   },
   "outputs": [],
   "source": [
    "!"
   ]
  }
 ],
 "metadata": {
  "kernelspec": {
   "display_name": "Python 2",
   "language": "python",
   "name": "python2"
  },
  "language_info": {
   "codemirror_mode": {
    "name": "ipython",
    "version": 2
   },
   "file_extension": ".py",
   "mimetype": "text/x-python",
   "name": "python",
   "nbconvert_exporter": "python",
   "pygments_lexer": "ipython2",
   "version": "2.7.10"
  }
 },
 "nbformat": 4,
 "nbformat_minor": 0
}
