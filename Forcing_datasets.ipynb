{
 "cells": [
  {
   "cell_type": "markdown",
   "metadata": {},
   "source": [
    "# Forcing fields\n",
    "\n",
    "This notebooks serves to show the different forced fields used by the models. In particular ERA40/JRA25 and the averaged versions together with the CORE2 forcing"
   ]
  },
  {
   "cell_type": "code",
   "execution_count": 1,
   "metadata": {
    "collapsed": false
   },
   "outputs": [
    {
     "name": "stderr",
     "output_type": "stream",
     "text": [
      "Vendor:  Continuum Analytics, Inc.\n",
      "Package: mkl\n",
      "Message: trial mode expires in 30 days\n",
      ":0: FutureWarning: IPython widgets are experimental and may change in the future.\n"
     ]
    }
   ],
   "source": [
    "from scipy.io import netcdf\n",
    "import numpy as np\n",
    "from pylab import clf, plot, show, floor, ceil, imshow\n",
    "import matplotlib\n",
    "import matplotlib.pyplot as plt \n",
    "%matplotlib inline\n",
    "#xlabel, ylabel, legend, savefig, colorbar, title, clim, pcolor, cm, contourf\n",
    "import os\n",
    "import csv\n",
    "import sys\n",
    "import glob\n",
    "from netCDF4 import Dataset\n",
    "\n",
    "from IPython.display import display, Math, Latex, Image\n",
    "from mpl_toolkits.basemap import Basemap\n",
    "import mpl_toolkits\n",
    "\n",
    "sys.path.append('/noc/users/am8e13/PyNGL-1.4.0/lib/python2.7/site-packages/PyNGL/')\n",
    "import Ngl\n",
    "sys.path.append('/noc/users/am8e13/Python/')\n",
    "import komod\n",
    "sys.path.append('/noc/users/am8e13/Python/PyNIO-1.4.0/')\n",
    "import Nio\n",
    "\n",
    "from python_functions import *\n",
    "import cmocean\n",
    "import random\n",
    "import calendar\n",
    "\n",
    "from IPython.html.widgets import interact, interactive\n",
    "from IPython.display import clear_output, display, HTML"
   ]
  },
  {
   "cell_type": "code",
   "execution_count": 2,
   "metadata": {
    "collapsed": false
   },
   "outputs": [
    {
     "name": "stdout",
     "output_type": "stream",
     "text": [
      "read cube78_\n",
      "read ERA40g_\n",
      "read jra25_\n",
      "read CORE2\n"
     ]
    }
   ],
   "source": [
    "NCEP = read_forcing('/scratch/general/am8e13/NCEP_data/','cube78_',1992,16)   \n",
    "ERA = read_forcing('/scratch/general/am8e13/forcing/ERA_data/','ERA40g_',1979,23)\n",
    "JRA = read_forcing('/scratch/general/am8e13/forcing/JRA_data/','jra25_',1979,24)\n",
    "CORE2,time_core = read_core('/scratch/general/am8e13/forcing/CORE2_data/')\n",
    "titles, unity = dataset_unity()"
   ]
  },
  {
   "cell_type": "code",
   "execution_count": null,
   "metadata": {
    "collapsed": true
   },
   "outputs": [],
   "source": [
    "fig, axes = plt.subplots(4,2)\n",
    "yp =1\n",
    "ax_ind = 0\n",
    "ord_var = ['v10m','u10m','dsw','dlw','tmp2m_degC','spfh2m','rain','rain']\n",
    "time = np.array(range(len(ERA['data']['v10m'])))/360.\n",
    "\n",
    "for var in ord_var:\n",
    "    if var == 'rain' or var == 'rain_new33':\n",
    "        axes.flat[ax_ind].set_xlabel('Years')\n",
    "    if var == 'rain_ne3':\n",
    "        var='Et'\n",
    "    else:        \n",
    "        #axes.flat[ax_ind].plot(time[0:360*yp],ERA['data'][var][0:360*yp],'black')\n",
    "        #axes.flat[ax_ind].plot(time[0:360*yp],JRA['data'][var][0:360*yp],'blue')\n",
    "        #axes.flat[ax_ind].plot(time[0:360*yp],NCEP['data'][var][0:360*yp],'green')\n",
    "        axes.flat[ax_ind].plot(time[0:360*yp],ERA['data_ave'][var][0:360*yp],'red')\n",
    "        axes.flat[ax_ind].plot(time[0:360*yp],JRA['data_ave'][var][0:360*yp],'purple')\n",
    "        axes.flat[ax_ind].plot(time[0:360*yp],NCEP['data_ave'][var][0:360*yp],'orange')\n",
    "        axes.flat[ax_ind].plot(time_core[var],CORE2['data_ave'][var],'black')\n",
    "        axes.flat[ax_ind].set_title(titles[var])\n",
    "        axes.flat[ax_ind].set_ylabel(unity[var])\n",
    "        ax_ind +=  1\n",
    "    #yp = 4\n",
    "\n",
    "print 'ERA in black with average in red'\n",
    "print 'JRA in blue with average in yellow'\n",
    "print 'NCEP in green with average in orange'\n",
    "fig.subplots_adjust(right=2.1,top=2.4)"
   ]
  },
  {
   "cell_type": "code",
   "execution_count": null,
   "metadata": {
    "collapsed": true
   },
   "outputs": [],
   "source": [
    "fig, axes = plt.subplots(2,3)\n",
    "yp =1\n",
    "ax_ind = 0\n",
    "ord_var = ['v10m','u10m','dsw','dlw','tmp2m_degC','rain']\n",
    "time = np.array(range(len(ERA['data']['v10m'])))/360.\n",
    "\n",
    "for var in ord_var:\n",
    "    if var == 'rain' or var == 'rain_new33':\n",
    "        axes.flat[ax_ind].set_xlabel('Years')\n",
    "    if var == 'rain_ne3':\n",
    "        var='Et'\n",
    "    else:        \n",
    "        axes.flat[ax_ind].plot(time[0:360*yp],ERA['data'][var][0:360*yp],'blue')\n",
    "        #axes.flat[ax_ind].plot(time[0:360*yp],JRA['data'][var][0:360*yp],'blue')\n",
    "        #axes.flat[ax_ind].plot(time[0:360*yp],NCEP['data'][var][0:360*yp],'green')\n",
    "        axes.flat[ax_ind].plot(time[0:360*yp],ERA['data_ave'][var][0:360*yp],'red')\n",
    "        #axes.flat[ax_ind].plot(time[0:360*yp],JRA['data_ave'][var][0:360*yp],'purple')\n",
    "        #axes.flat[ax_ind].plot(time[0:360*yp],NCEP['data_ave'][var][0:360*yp],'orange')\n",
    "        axes.flat[ax_ind].plot(time_core[var],CORE2['data_ave'][var],'black')\n",
    "        axes.flat[ax_ind].set_title(titles[var])\n",
    "        axes.flat[ax_ind].set_ylabel(unity[var])\n",
    "        ax_ind +=  1\n",
    "    #yp = 4\n",
    "\n",
    "print 'ERA in grey with average in red'\n",
    "print 'JRA in blue with average in yellow'\n",
    "print 'NCEP in green with average in orange'\n",
    "fig.subplots_adjust(right=2.4,top=2.1)"
   ]
  },
  {
   "cell_type": "code",
   "execution_count": null,
   "metadata": {
    "collapsed": true
   },
   "outputs": [],
   "source": []
  }
 ],
 "metadata": {
  "kernelspec": {
   "display_name": "Python 2",
   "language": "python",
   "name": "python2"
  },
  "language_info": {
   "codemirror_mode": {
    "name": "ipython",
    "version": 2
   },
   "file_extension": ".py",
   "mimetype": "text/x-python",
   "name": "python",
   "nbconvert_exporter": "python",
   "pygments_lexer": "ipython2",
   "version": "2.7.10"
  }
 },
 "nbformat": 4,
 "nbformat_minor": 0
}
